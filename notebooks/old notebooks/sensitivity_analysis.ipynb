{
 "cells": [
  {
   "cell_type": "markdown",
   "metadata": {
    "collapsed": true,
    "pycharm": {
     "name": "#%% md\n"
    }
   },
   "source": [
    "# How do the DMA results vary with the parameter settings\n",
    "In the following I will do a grid search over the parameters"
   ]
  },
  {
   "cell_type": "code",
   "execution_count": 5,
   "outputs": [
    {
     "name": "stdout",
     "output_type": "stream",
     "text": [
      "The autoreload extension is already loaded. To reload it, use:\n",
      "  %reload_ext autoreload\n"
     ]
    }
   ],
   "source": [
    "import numpy as np\n",
    "%load_ext autoreload\n",
    "%autoreload 2\n",
    "\n",
    "import os\n",
    "from pathlib import Path\n",
    "import pickle\n",
    "import pandas as pd\n",
    "import itertools\n",
    "import random\n",
    "import plotly.express as px\n",
    "\n",
    "from src.data import import_data\n",
    "from src.data.data_class import Data\n",
    "from src.models.preliminaries import Settings\n",
    "from src.models.dma import DMA"
   ],
   "metadata": {
    "collapsed": false,
    "pycharm": {
     "name": "#%%\n"
    }
   }
  },
  {
   "cell_type": "markdown",
   "source": [
    "## Specify Settings"
   ],
   "metadata": {
    "collapsed": false,
    "pycharm": {
     "name": "#%% md\n"
    }
   }
  },
  {
   "cell_type": "code",
   "execution_count": 6,
   "outputs": [],
   "source": [
    "params = Settings() # initialize Settings\n",
    "# adjust settings\n",
    "params.use_y = ['CPI']  # use as y\n",
    "params.use_x = ['unemp',    # or employment\n",
    "                'cons_private',\n",
    "                'invest_private_housing',\n",
    "                'GDP',\n",
    "                'prod_ind', # or prod_constr\n",
    "                'interest_rate_short',\n",
    "                'interest_rate_long',\n",
    "                'dax',\n",
    "                'M1',\n",
    "                'infl_exp_current_year',    # or infl_exp_next_year, infl_exp_2_year_ahead\n",
    "                'trade_exp',\n",
    "                'CPI_house_energy',  # or PCI_energy_ or HICP_energy\n",
    "                'supply_index_global',  # or 'supply_index_eu'\n",
    "                # 'cons_gov',\n",
    "                'business_conf_manufacturing'\n",
    "                ]  # indep vars\n",
    "# params.tcodesX = [1, 1, 5, 1, 1, 1, 1, 5, 5, 1, 5, 5, 1]\n",
    "params.tcodey = 1\n",
    "params.first_sample_ends = '2012-12-31'\n",
    "params.restricted_vars = ['intercept', 'CPI']\n",
    "params.forgetting_method = 2\n",
    "params.expert_opinion = 2\n",
    "params.h_fore = 4\n",
    "params.prior_theta = 1\n",
    "params.plag = 2\n",
    "params.hlag = 2"
   ],
   "metadata": {
    "collapsed": false,
    "pycharm": {
     "name": "#%%\n"
    }
   }
  },
  {
   "cell_type": "code",
   "execution_count": 7,
   "outputs": [],
   "source": [
    "# path where processed data is stored\n",
    "data_path = os.path.join(Path().cwd().parent, 'data', 'processed')\n",
    "# get seasonally adjusted data\n",
    "with open(os.path.join(data_path, 'df_sa.pkl'), 'rb') as f:\n",
    "    df = pickle.load(f) # load raw data"
   ],
   "metadata": {
    "collapsed": false,
    "pycharm": {
     "name": "#%%\n"
    }
   }
  },
  {
   "cell_type": "code",
   "execution_count": 8,
   "outputs": [],
   "source": [
    "# get transformations for variables\n",
    "selection = pd.read_csv(os.path.join(data_path, 'selected_data.csv'))\n",
    "tcodesX = []\n",
    "for v in params.use_x:\n",
    "    v_ind = np.where(selection['var code'] == v)[0][0]\n",
    "    v_tcode = selection['trans_code'][v_ind]\n",
    "    tcodesX.append(v_tcode)\n",
    "    # print(f'{v} has tcode {v_tcode}')\n",
    "params.tcodesX = tcodesX"
   ],
   "metadata": {
    "collapsed": false,
    "pycharm": {
     "name": "#%%\n"
    }
   }
  },
  {
   "cell_type": "code",
   "execution_count": 9,
   "outputs": [],
   "source": [
    "data = Data(df, params)"
   ],
   "metadata": {
    "collapsed": false,
    "pycharm": {
     "name": "#%%\n"
    }
   }
  },
  {
   "cell_type": "markdown",
   "source": [
    "## run grid search"
   ],
   "metadata": {
    "collapsed": false,
    "pycharm": {
     "name": "#%% md\n"
    }
   }
  },
  {
   "cell_type": "code",
   "execution_count": 10,
   "outputs": [
    {
     "data": {
      "text/plain": "array([[0.93, 0.93],\n       [0.95, 0.93],\n       [0.97, 0.93],\n       [0.99, 0.93],\n       [0.93, 0.95],\n       [0.95, 0.95],\n       [0.97, 0.95],\n       [0.99, 0.95],\n       [0.93, 0.97],\n       [0.95, 0.97],\n       [0.97, 0.97],\n       [0.99, 0.97],\n       [0.93, 0.99],\n       [0.95, 0.99],\n       [0.97, 0.99],\n       [0.99, 0.99]])"
     },
     "execution_count": 10,
     "metadata": {},
     "output_type": "execute_result"
    }
   ],
   "source": [
    "alpha_range = np.arange(0.93, 0.991, 0.02)\n",
    "lambdaa_range = np.arange(0.93, 0.991, 0.02)\n",
    "grid = np.transpose([np.tile(alpha_range, len(lambdaa_range)), np.repeat(lambdaa_range, len(alpha_range))])\n",
    "grid"
   ],
   "metadata": {
    "collapsed": false,
    "pycharm": {
     "name": "#%%\n"
    }
   }
  },
  {
   "cell_type": "code",
   "execution_count": 11,
   "outputs": [
    {
     "name": "stdout",
     "output_type": "stream",
     "text": [
      "run dma for alpha = 0.93 and lambda = 0.93\n"
     ]
    },
    {
     "ename": "MemoryError",
     "evalue": "",
     "output_type": "error",
     "traceback": [
      "\u001B[1;31m---------------------------------------------------------------------------\u001B[0m",
      "\u001B[1;31mMemoryError\u001B[0m                               Traceback (most recent call last)",
      "\u001B[1;32m~\\AppData\\Local\\Temp/ipykernel_13608/1101637996.py\u001B[0m in \u001B[0;36m<module>\u001B[1;34m\u001B[0m\n\u001B[0;32m      8\u001B[0m     \u001B[0mparams\u001B[0m\u001B[1;33m.\u001B[0m\u001B[0mlamda\u001B[0m \u001B[1;33m=\u001B[0m \u001B[0ml\u001B[0m\u001B[1;33m\u001B[0m\u001B[1;33m\u001B[0m\u001B[0m\n\u001B[0;32m      9\u001B[0m     \u001B[0mdma\u001B[0m \u001B[1;33m=\u001B[0m \u001B[0mDMA\u001B[0m\u001B[1;33m(\u001B[0m\u001B[0mparams\u001B[0m\u001B[1;33m,\u001B[0m \u001B[0mdata\u001B[0m\u001B[1;33m)\u001B[0m\u001B[1;33m\u001B[0m\u001B[1;33m\u001B[0m\u001B[0m\n\u001B[1;32m---> 10\u001B[1;33m     \u001B[0mdma\u001B[0m\u001B[1;33m.\u001B[0m\u001B[0mrun_dma\u001B[0m\u001B[1;33m(\u001B[0m\u001B[1;33m)\u001B[0m\u001B[1;33m\u001B[0m\u001B[1;33m\u001B[0m\u001B[0m\n\u001B[0m\u001B[0;32m     11\u001B[0m     \u001B[0mdma\u001B[0m\u001B[1;33m.\u001B[0m\u001B[0mforecast_statistics\u001B[0m\u001B[1;33m(\u001B[0m\u001B[0mplot_fe\u001B[0m\u001B[1;33m=\u001B[0m\u001B[1;32mFalse\u001B[0m\u001B[1;33m,\u001B[0m \u001B[0mplot_y_fe\u001B[0m\u001B[1;33m=\u001B[0m\u001B[1;32mFalse\u001B[0m\u001B[1;33m,\u001B[0m \u001B[0mprint_stats\u001B[0m\u001B[1;33m=\u001B[0m\u001B[1;32mFalse\u001B[0m\u001B[1;33m)\u001B[0m\u001B[1;33m\u001B[0m\u001B[1;33m\u001B[0m\u001B[0m\n\u001B[0;32m     12\u001B[0m     \u001B[0mstats_temp\u001B[0m \u001B[1;33m=\u001B[0m \u001B[1;33m[\u001B[0m\u001B[0ma\u001B[0m\u001B[1;33m,\u001B[0m \u001B[0ml\u001B[0m\u001B[1;33m,\u001B[0m \u001B[0mdma\u001B[0m\u001B[1;33m.\u001B[0m\u001B[0mMAFE_DMA\u001B[0m\u001B[1;33m,\u001B[0m \u001B[0mdma\u001B[0m\u001B[1;33m.\u001B[0m\u001B[0mMSFE_DMA\u001B[0m\u001B[1;33m,\u001B[0m \u001B[0mdma\u001B[0m\u001B[1;33m.\u001B[0m\u001B[0mBIAS_DMA\u001B[0m\u001B[1;33m,\u001B[0m \u001B[0mdma\u001B[0m\u001B[1;33m.\u001B[0m\u001B[0mMAFE_DMS\u001B[0m\u001B[1;33m,\u001B[0m \u001B[0mdma\u001B[0m\u001B[1;33m.\u001B[0m\u001B[0mMSFE_DMS\u001B[0m\u001B[1;33m,\u001B[0m \u001B[0mdma\u001B[0m\u001B[1;33m.\u001B[0m\u001B[0mBIAS_DMS\u001B[0m\u001B[1;33m]\u001B[0m\u001B[1;33m\u001B[0m\u001B[1;33m\u001B[0m\u001B[0m\n",
      "\u001B[1;32m~\\Google Drive\\Uni\\Master\\Financial Econometrics Seminar\\DMA-Application-FinEcon\\src\\models\\dma.py\u001B[0m in \u001B[0;36mrun_dma\u001B[1;34m(self)\u001B[0m\n\u001B[0;32m    592\u001B[0m     \u001B[1;32mdef\u001B[0m \u001B[0mrun_dma\u001B[0m\u001B[1;33m(\u001B[0m\u001B[0mself\u001B[0m\u001B[1;33m)\u001B[0m\u001B[1;33m:\u001B[0m\u001B[1;33m\u001B[0m\u001B[1;33m\u001B[0m\u001B[0m\n\u001B[0;32m    593\u001B[0m         \u001B[0mself\u001B[0m\u001B[1;33m.\u001B[0m\u001B[0mX\u001B[0m\u001B[1;33m,\u001B[0m \u001B[0mself\u001B[0m\u001B[1;33m.\u001B[0m\u001B[0mrestricted_vars\u001B[0m \u001B[1;33m=\u001B[0m \u001B[0mself\u001B[0m\u001B[1;33m.\u001B[0m\u001B[0mupdate_restricted\u001B[0m\u001B[1;33m(\u001B[0m\u001B[1;33m)\u001B[0m  \u001B[1;31m# update restricted vars so they are at the beginning\u001B[0m\u001B[1;33m\u001B[0m\u001B[1;33m\u001B[0m\u001B[0m\n\u001B[1;32m--> 594\u001B[1;33m         \u001B[0mself\u001B[0m\u001B[1;33m.\u001B[0m\u001B[0mmodels\u001B[0m\u001B[1;33m,\u001B[0m \u001B[0mself\u001B[0m\u001B[1;33m.\u001B[0m\u001B[0mK\u001B[0m \u001B[1;33m=\u001B[0m \u001B[0mself\u001B[0m\u001B[1;33m.\u001B[0m\u001B[0mmodel_index\u001B[0m\u001B[1;33m(\u001B[0m\u001B[1;33m)\u001B[0m  \u001B[1;31m# add model indices and number of potential models\u001B[0m\u001B[1;33m\u001B[0m\u001B[1;33m\u001B[0m\u001B[0m\n\u001B[0m\u001B[0;32m    595\u001B[0m         \u001B[0mself\u001B[0m\u001B[1;33m.\u001B[0m\u001B[0mset_priors\u001B[0m\u001B[1;33m(\u001B[0m\u001B[1;33m)\u001B[0m\u001B[1;33m\u001B[0m\u001B[1;33m\u001B[0m\u001B[0m\n\u001B[0;32m    596\u001B[0m         \u001B[0mself\u001B[0m\u001B[1;33m.\u001B[0m\u001B[0mrun_dma_estimation\u001B[0m\u001B[1;33m(\u001B[0m\u001B[1;33m)\u001B[0m\u001B[1;33m\u001B[0m\u001B[1;33m\u001B[0m\u001B[0m\n",
      "\u001B[1;32m~\\Google Drive\\Uni\\Master\\Financial Econometrics Seminar\\DMA-Application-FinEcon\\src\\models\\dma.py\u001B[0m in \u001B[0;36mmodel_index\u001B[1;34m(self)\u001B[0m\n\u001B[0;32m     71\u001B[0m         \u001B[0mN\u001B[0m \u001B[1;33m=\u001B[0m \u001B[0mself\u001B[0m\u001B[1;33m.\u001B[0m\u001B[0mX\u001B[0m\u001B[1;33m.\u001B[0m\u001B[0mshape\u001B[0m\u001B[1;33m[\u001B[0m\u001B[1;36m1\u001B[0m\u001B[1;33m]\u001B[0m \u001B[1;33m-\u001B[0m \u001B[0mn_restricted\u001B[0m\u001B[1;33m\u001B[0m\u001B[1;33m\u001B[0m\u001B[0m\n\u001B[0;32m     72\u001B[0m         \u001B[1;31m# store all possible combinations in a list\u001B[0m\u001B[1;33m\u001B[0m\u001B[1;33m\u001B[0m\u001B[1;33m\u001B[0m\u001B[0m\n\u001B[1;32m---> 73\u001B[1;33m         \u001B[0mcomb\u001B[0m \u001B[1;33m=\u001B[0m \u001B[1;33m[\u001B[0m\u001B[0mlist\u001B[0m\u001B[1;33m(\u001B[0m\u001B[0mitertools\u001B[0m\u001B[1;33m.\u001B[0m\u001B[0mcombinations\u001B[0m\u001B[1;33m(\u001B[0m\u001B[0mrange\u001B[0m\u001B[1;33m(\u001B[0m\u001B[0mN\u001B[0m\u001B[1;33m)\u001B[0m\u001B[1;33m,\u001B[0m \u001B[0mi\u001B[0m\u001B[1;33m+\u001B[0m\u001B[1;36m1\u001B[0m\u001B[1;33m)\u001B[0m\u001B[1;33m)\u001B[0m \u001B[1;32mfor\u001B[0m \u001B[0mi\u001B[0m \u001B[1;32min\u001B[0m \u001B[0mrange\u001B[0m\u001B[1;33m(\u001B[0m\u001B[0mN\u001B[0m\u001B[1;33m)\u001B[0m\u001B[1;33m]\u001B[0m\u001B[1;33m\u001B[0m\u001B[1;33m\u001B[0m\u001B[0m\n\u001B[0m\u001B[0;32m     74\u001B[0m         \u001B[0mcomb\u001B[0m \u001B[1;33m=\u001B[0m \u001B[0mlist\u001B[0m\u001B[1;33m(\u001B[0m\u001B[0mitertools\u001B[0m\u001B[1;33m.\u001B[0m\u001B[0mchain\u001B[0m\u001B[1;33m(\u001B[0m\u001B[1;33m*\u001B[0m\u001B[0mcomb\u001B[0m\u001B[1;33m)\u001B[0m\u001B[1;33m)\u001B[0m \u001B[1;31m# flatten list\u001B[0m\u001B[1;33m\u001B[0m\u001B[1;33m\u001B[0m\u001B[0m\n\u001B[0;32m     75\u001B[0m         \u001B[1;31m# comb = [list(comb[i]) for i in range(len(comb))] # transform tuples in lists\u001B[0m\u001B[1;33m\u001B[0m\u001B[1;33m\u001B[0m\u001B[1;33m\u001B[0m\u001B[0m\n",
      "\u001B[1;32m~\\Google Drive\\Uni\\Master\\Financial Econometrics Seminar\\DMA-Application-FinEcon\\src\\models\\dma.py\u001B[0m in \u001B[0;36m<listcomp>\u001B[1;34m(.0)\u001B[0m\n\u001B[0;32m     71\u001B[0m         \u001B[0mN\u001B[0m \u001B[1;33m=\u001B[0m \u001B[0mself\u001B[0m\u001B[1;33m.\u001B[0m\u001B[0mX\u001B[0m\u001B[1;33m.\u001B[0m\u001B[0mshape\u001B[0m\u001B[1;33m[\u001B[0m\u001B[1;36m1\u001B[0m\u001B[1;33m]\u001B[0m \u001B[1;33m-\u001B[0m \u001B[0mn_restricted\u001B[0m\u001B[1;33m\u001B[0m\u001B[1;33m\u001B[0m\u001B[0m\n\u001B[0;32m     72\u001B[0m         \u001B[1;31m# store all possible combinations in a list\u001B[0m\u001B[1;33m\u001B[0m\u001B[1;33m\u001B[0m\u001B[1;33m\u001B[0m\u001B[0m\n\u001B[1;32m---> 73\u001B[1;33m         \u001B[0mcomb\u001B[0m \u001B[1;33m=\u001B[0m \u001B[1;33m[\u001B[0m\u001B[0mlist\u001B[0m\u001B[1;33m(\u001B[0m\u001B[0mitertools\u001B[0m\u001B[1;33m.\u001B[0m\u001B[0mcombinations\u001B[0m\u001B[1;33m(\u001B[0m\u001B[0mrange\u001B[0m\u001B[1;33m(\u001B[0m\u001B[0mN\u001B[0m\u001B[1;33m)\u001B[0m\u001B[1;33m,\u001B[0m \u001B[0mi\u001B[0m\u001B[1;33m+\u001B[0m\u001B[1;36m1\u001B[0m\u001B[1;33m)\u001B[0m\u001B[1;33m)\u001B[0m \u001B[1;32mfor\u001B[0m \u001B[0mi\u001B[0m \u001B[1;32min\u001B[0m \u001B[0mrange\u001B[0m\u001B[1;33m(\u001B[0m\u001B[0mN\u001B[0m\u001B[1;33m)\u001B[0m\u001B[1;33m]\u001B[0m\u001B[1;33m\u001B[0m\u001B[1;33m\u001B[0m\u001B[0m\n\u001B[0m\u001B[0;32m     74\u001B[0m         \u001B[0mcomb\u001B[0m \u001B[1;33m=\u001B[0m \u001B[0mlist\u001B[0m\u001B[1;33m(\u001B[0m\u001B[0mitertools\u001B[0m\u001B[1;33m.\u001B[0m\u001B[0mchain\u001B[0m\u001B[1;33m(\u001B[0m\u001B[1;33m*\u001B[0m\u001B[0mcomb\u001B[0m\u001B[1;33m)\u001B[0m\u001B[1;33m)\u001B[0m \u001B[1;31m# flatten list\u001B[0m\u001B[1;33m\u001B[0m\u001B[1;33m\u001B[0m\u001B[0m\n\u001B[0;32m     75\u001B[0m         \u001B[1;31m# comb = [list(comb[i]) for i in range(len(comb))] # transform tuples in lists\u001B[0m\u001B[1;33m\u001B[0m\u001B[1;33m\u001B[0m\u001B[1;33m\u001B[0m\u001B[0m\n",
      "\u001B[1;31mMemoryError\u001B[0m: "
     ]
    }
   ],
   "source": [
    "stats = ['alpha', 'lambda', 'MAFE_DMA', 'MSFE_DMA', 'BIAS_DMA', 'MAFE_DMS', 'MSFE_DMS', 'BIAS_DMS']\n",
    "pd_stats = pd.DataFrame(columns=stats)\n",
    "for g in grid:\n",
    "    a = g[0]\n",
    "    l = g[1]\n",
    "    print(f'run dma for alpha = {a} and lambda = {l}')\n",
    "    params.alpha = a\n",
    "    params.lamda = l\n",
    "    dma = DMA(params, data)\n",
    "    dma.run_dma()\n",
    "    dma.forecast_statistics(plot_fe=False, plot_y_fe=False, print_stats=False)\n",
    "    stats_temp = [a, l, dma.MAFE_DMA, dma.MSFE_DMA, dma.BIAS_DMA, dma.MAFE_DMS, dma.MSFE_DMS, dma.BIAS_DMS]\n",
    "    pd_stats.loc[str(g)] = stats_temp\n",
    "pd_stats"
   ],
   "metadata": {
    "collapsed": false,
    "pycharm": {
     "name": "#%%\n"
    }
   }
  },
  {
   "cell_type": "code",
   "execution_count": null,
   "outputs": [],
   "source": [],
   "metadata": {
    "collapsed": false,
    "pycharm": {
     "name": "#%%\n"
    }
   }
  },
  {
   "cell_type": "code",
   "execution_count": null,
   "outputs": [],
   "source": [],
   "metadata": {
    "collapsed": false,
    "pycharm": {
     "name": "#%%\n"
    }
   }
  },
  {
   "cell_type": "markdown",
   "source": [
    "## also try out for different forecast horizons"
   ],
   "metadata": {
    "collapsed": false,
    "pycharm": {
     "name": "#%% md\n"
    }
   }
  },
  {
   "cell_type": "code",
   "execution_count": null,
   "outputs": [],
   "source": [
    "def grid_search_a_l(params, data):\n",
    "    stats = ['alpha', 'lambda', 'MAFE_DMA', 'MSFE_DMA', 'BIAS_DMA', 'MAFE_DMS', 'MSFE_DMS', 'BIAS_DMS']\n",
    "    pd_stats = pd.DataFrame(columns=stats)\n",
    "    for g in grid:\n",
    "        a = g[0]\n",
    "        l = g[1]\n",
    "        print(f'run dma for alpha = {a} and lambda = {l}')\n",
    "        params.alpha = a\n",
    "        params.lamda = l\n",
    "        dma = DMA(params, data)\n",
    "        dma.run_dma()\n",
    "        dma.forecast_statistics(plot_fe=False, plot_y_fe=False)\n",
    "        stats_temp = [a, l, dma.MAFE_DMA, dma.MSFE_DMA, dma.BIAS_DMA, dma.MAFE_DMS, dma.MSFE_DMS, dma.BIAS_DMS]\n",
    "        pd_stats.loc[str(g)] = stats_temp\n",
    "    return pd_stats"
   ],
   "metadata": {
    "collapsed": false,
    "pycharm": {
     "name": "#%%\n"
    }
   }
  },
  {
   "cell_type": "code",
   "execution_count": null,
   "outputs": [],
   "source": [
    "params.h_fore = 1\n",
    "pd_stats_1 = grid_search_a_l(params, data)\n",
    "params.h_fore = 4\n",
    "pd_stats_1 = grid_search_a_l(params, data)\n",
    "params.h_fore = 8\n",
    "pd_stats_1 = grid_search_a_l(params, data)"
   ],
   "metadata": {
    "collapsed": false,
    "pycharm": {
     "name": "#%%\n"
    }
   }
  }
 ],
 "metadata": {
  "kernelspec": {
   "display_name": "Python 3",
   "language": "python",
   "name": "python3"
  },
  "language_info": {
   "codemirror_mode": {
    "name": "ipython",
    "version": 2
   },
   "file_extension": ".py",
   "mimetype": "text/x-python",
   "name": "python",
   "nbconvert_exporter": "python",
   "pygments_lexer": "ipython2",
   "version": "2.7.6"
  }
 },
 "nbformat": 4,
 "nbformat_minor": 0
}