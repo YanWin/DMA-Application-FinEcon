{
 "cells": [
  {
   "cell_type": "markdown",
   "metadata": {
    "collapsed": true,
    "pycharm": {
     "name": "#%% md\n"
    }
   },
   "source": [
    "# Dynamic Model Averaging (DMA) Replication of Koop and Korobilis (2012)\n",
    "This Notebooks replicates the analysis from Koop, G. and Korobilis, D. (2012). “Forecasting Inflation Using Dynamic Model Averaging”, International Economic Review, 53, pp. 867-886.  It uses the data inlcuded in the Matlab code available at Korobilis' website (https://sites.google.com/site/dimitriskorobilis/matlab/dma)."
   ]
  },
  {
   "cell_type": "code",
   "execution_count": 29,
   "outputs": [
    {
     "name": "stdout",
     "output_type": "stream",
     "text": [
      "The autoreload extension is already loaded. To reload it, use:\n",
      "  %reload_ext autoreload\n"
     ]
    }
   ],
   "source": [
    "%load_ext autoreload\n",
    "%autoreload 2\n",
    "\n",
    "import os\n",
    "from pathlib import Path\n",
    "import pickle\n",
    "\n",
    "from src.data import import_data\n",
    "from src.data.data_class import Data\n",
    "from src.models.preliminaries import Settings\n",
    "from src.models.dma import DMA\n"
   ],
   "metadata": {
    "collapsed": false,
    "pycharm": {
     "name": "#%%\n"
    }
   }
  },
  {
   "cell_type": "markdown",
   "source": [
    "## Preliminaries\n",
    "Specify options for the DMA. For instance, which variables to include and how to transform them."
   ],
   "metadata": {
    "collapsed": false,
    "pycharm": {
     "name": "#%% md\n"
    }
   }
  },
  {
   "cell_type": "code",
   "execution_count": 26,
   "outputs": [
    {
     "name": "stdout",
     "output_type": "stream",
     "text": [
      "The following preliminary settings are specified:\n",
      "intercept : 1\n",
      "plag : 1\n",
      "hlag : 0\n",
      "use_x : ['M1', 'USD_EUR', 'OILP', 'STOCKPRICES']\n",
      "use_y : ['HICP_SA']\n",
      "tcodesX : [5, 1, 1, 1]\n",
      "tcodey : 5\n",
      "miss_treatment : 2\n",
      "lamda : 0.99\n",
      "alpha : 0.9\n",
      "kappa : 0.95\n",
      "forgetting_method : 2\n",
      "prior_theta : 1\n",
      "initial_V_0 : 2\n",
      "restricted_vars : ['intercept', 'HICP_SA']\n",
      "initial_DMA_weights : 1\n",
      "expert_opinion : 2\n",
      "h_fore : 2\n",
      "first_sample_ends : 1990.Q4\n"
     ]
    }
   ],
   "source": [
    "params = Settings() # initialize Settings\n",
    "# adjust settings\n",
    "params.use_y = ['HICP_SA']  # use as y\n",
    "params.use_x = ['M1', 'USD_EUR', 'OILP', 'STOCKPRICES']  # indep vars\n",
    "params.tcodesX = [5, 1, 1, 1]\n",
    "params.tcodey = 5\n",
    "params.first_sample_ends = '1990.Q4'\n",
    "params.restricted_vars = ['intercept', 'HICP_SA']\n",
    "params.forgetting_method = 2\n",
    "params.expert_opinion = 2\n",
    "params.h_fore = 2\n",
    "params.prior_theta = 1\n",
    "params.miss_treatment = 2\n",
    "\n",
    "# params.print_setting_options() # print explanation to settings\n",
    "params.print_settings() # print settings"
   ],
   "metadata": {
    "collapsed": false,
    "pycharm": {
     "name": "#%%\n"
    }
   }
  },
  {
   "cell_type": "markdown",
   "source": [
    "## Prepare data\n",
    "Load the data and transform as specified above."
   ],
   "metadata": {
    "collapsed": false,
    "pycharm": {
     "name": "#%% md\n"
    }
   }
  },
  {
   "cell_type": "code",
   "execution_count": 35,
   "outputs": [
    {
     "data": {
      "text/plain": "          HICP_SA            M1            M2        M3_OUT      M3_OUTPS  \\\ncount  123.000000  1.220000e+02  1.220000e+02  1.220000e+02  1.220000e+02   \nmean    80.251870  1.881622e+06  3.837154e+06  4.375175e+06  4.284545e+06   \nstd     18.832716  1.173273e+06  2.021400e+06  2.400648e+06  2.268884e+06   \nmin     41.490000  5.289964e+05  1.197078e+06  1.220359e+06  1.220359e+06   \n25%     64.480000  9.487199e+05  2.192542e+06  2.331581e+06  2.331581e+06   \n50%     83.030000  1.434392e+06  3.351930e+06  3.896734e+06  3.896734e+06   \n75%     95.350000  2.599661e+06  5.004649e+06  5.859241e+06  5.639098e+06   \nmax    110.530000  4.704607e+06  8.352488e+06  9.476498e+06  9.075909e+06   \n\n                LPS  D4PSTARPSCGL  D4PSTARCGL   D4DIV_TV  D4M3DEPHH  ...  \\\ncount  1.220000e+02    118.000000  118.000000  75.000000  75.000000  ...   \nmean   4.838569e+06      0.039621    0.040987   6.465649   5.223127  ...   \nstd    2.933337e+06      0.027796    0.027129   2.398202   2.192826  ...   \nmin    1.239393e+06     -0.022522   -0.021367   1.147300   1.136172  ...   \n25%    2.314101e+06      0.017952    0.019107   4.576921   3.263218  ...   \n50%    3.958509e+06      0.036379    0.040805   6.856229   5.928227  ...   \n75%    6.770669e+06      0.055393    0.055942   8.082897   6.883072  ...   \nmax    1.092816e+07      0.121687    0.119538  11.286172   9.043782  ...   \n\n          USD_EUR  R_EFF_EXCH        OILP     WPRM_EE        WPRM  \\\ncount  123.000000   71.000000  123.000000  123.000000  123.000000   \nmean     1.147154  102.125070  113.248049  102.455041   95.318699   \nstd      0.185532    7.869879   75.509877   21.052107   37.905110   \nmin      0.680000   83.860000   41.870000   73.170000   50.230000   \n25%      1.035000   98.400000   63.585000   89.170000   63.865000   \n50%      1.180000  103.980000   93.300000   96.400000   84.100000   \n75%      1.270000  108.500000  123.365000  110.680000  111.685000   \nmax      1.560000  112.950000  427.200000  182.630000  223.100000   \n\n       STOCKPRICES    STOCK_PE    DIVYIELD  STOCKPRICES_EUR     UNEMPL  \ncount   123.000000  123.000000  123.000000       123.000000  62.000000  \nmean    845.436098   14.566341    3.084715       711.202927   9.081129  \nstd     602.075932    3.702359    0.930436       485.967143   1.014490  \nmin     107.640000    7.170000    1.510000        93.640000   7.240000  \n25%     391.715000   12.640000    2.545000       352.955000   8.255000  \n50%     670.550000   14.020000    2.840000       525.140000   8.970000  \n75%    1276.395000   16.255000    3.465000      1110.555000   9.990000  \nmax    2501.760000   25.940000    6.460000      1788.990000  10.670000  \n\n[8 rows x 23 columns]",
      "text/html": "<div>\n<style scoped>\n    .dataframe tbody tr th:only-of-type {\n        vertical-align: middle;\n    }\n\n    .dataframe tbody tr th {\n        vertical-align: top;\n    }\n\n    .dataframe thead th {\n        text-align: right;\n    }\n</style>\n<table border=\"1\" class=\"dataframe\">\n  <thead>\n    <tr style=\"text-align: right;\">\n      <th></th>\n      <th>HICP_SA</th>\n      <th>M1</th>\n      <th>M2</th>\n      <th>M3_OUT</th>\n      <th>M3_OUTPS</th>\n      <th>LPS</th>\n      <th>D4PSTARPSCGL</th>\n      <th>D4PSTARCGL</th>\n      <th>D4DIV_TV</th>\n      <th>D4M3DEPHH</th>\n      <th>...</th>\n      <th>USD_EUR</th>\n      <th>R_EFF_EXCH</th>\n      <th>OILP</th>\n      <th>WPRM_EE</th>\n      <th>WPRM</th>\n      <th>STOCKPRICES</th>\n      <th>STOCK_PE</th>\n      <th>DIVYIELD</th>\n      <th>STOCKPRICES_EUR</th>\n      <th>UNEMPL</th>\n    </tr>\n  </thead>\n  <tbody>\n    <tr>\n      <th>count</th>\n      <td>123.000000</td>\n      <td>1.220000e+02</td>\n      <td>1.220000e+02</td>\n      <td>1.220000e+02</td>\n      <td>1.220000e+02</td>\n      <td>1.220000e+02</td>\n      <td>118.000000</td>\n      <td>118.000000</td>\n      <td>75.000000</td>\n      <td>75.000000</td>\n      <td>...</td>\n      <td>123.000000</td>\n      <td>71.000000</td>\n      <td>123.000000</td>\n      <td>123.000000</td>\n      <td>123.000000</td>\n      <td>123.000000</td>\n      <td>123.000000</td>\n      <td>123.000000</td>\n      <td>123.000000</td>\n      <td>62.000000</td>\n    </tr>\n    <tr>\n      <th>mean</th>\n      <td>80.251870</td>\n      <td>1.881622e+06</td>\n      <td>3.837154e+06</td>\n      <td>4.375175e+06</td>\n      <td>4.284545e+06</td>\n      <td>4.838569e+06</td>\n      <td>0.039621</td>\n      <td>0.040987</td>\n      <td>6.465649</td>\n      <td>5.223127</td>\n      <td>...</td>\n      <td>1.147154</td>\n      <td>102.125070</td>\n      <td>113.248049</td>\n      <td>102.455041</td>\n      <td>95.318699</td>\n      <td>845.436098</td>\n      <td>14.566341</td>\n      <td>3.084715</td>\n      <td>711.202927</td>\n      <td>9.081129</td>\n    </tr>\n    <tr>\n      <th>std</th>\n      <td>18.832716</td>\n      <td>1.173273e+06</td>\n      <td>2.021400e+06</td>\n      <td>2.400648e+06</td>\n      <td>2.268884e+06</td>\n      <td>2.933337e+06</td>\n      <td>0.027796</td>\n      <td>0.027129</td>\n      <td>2.398202</td>\n      <td>2.192826</td>\n      <td>...</td>\n      <td>0.185532</td>\n      <td>7.869879</td>\n      <td>75.509877</td>\n      <td>21.052107</td>\n      <td>37.905110</td>\n      <td>602.075932</td>\n      <td>3.702359</td>\n      <td>0.930436</td>\n      <td>485.967143</td>\n      <td>1.014490</td>\n    </tr>\n    <tr>\n      <th>min</th>\n      <td>41.490000</td>\n      <td>5.289964e+05</td>\n      <td>1.197078e+06</td>\n      <td>1.220359e+06</td>\n      <td>1.220359e+06</td>\n      <td>1.239393e+06</td>\n      <td>-0.022522</td>\n      <td>-0.021367</td>\n      <td>1.147300</td>\n      <td>1.136172</td>\n      <td>...</td>\n      <td>0.680000</td>\n      <td>83.860000</td>\n      <td>41.870000</td>\n      <td>73.170000</td>\n      <td>50.230000</td>\n      <td>107.640000</td>\n      <td>7.170000</td>\n      <td>1.510000</td>\n      <td>93.640000</td>\n      <td>7.240000</td>\n    </tr>\n    <tr>\n      <th>25%</th>\n      <td>64.480000</td>\n      <td>9.487199e+05</td>\n      <td>2.192542e+06</td>\n      <td>2.331581e+06</td>\n      <td>2.331581e+06</td>\n      <td>2.314101e+06</td>\n      <td>0.017952</td>\n      <td>0.019107</td>\n      <td>4.576921</td>\n      <td>3.263218</td>\n      <td>...</td>\n      <td>1.035000</td>\n      <td>98.400000</td>\n      <td>63.585000</td>\n      <td>89.170000</td>\n      <td>63.865000</td>\n      <td>391.715000</td>\n      <td>12.640000</td>\n      <td>2.545000</td>\n      <td>352.955000</td>\n      <td>8.255000</td>\n    </tr>\n    <tr>\n      <th>50%</th>\n      <td>83.030000</td>\n      <td>1.434392e+06</td>\n      <td>3.351930e+06</td>\n      <td>3.896734e+06</td>\n      <td>3.896734e+06</td>\n      <td>3.958509e+06</td>\n      <td>0.036379</td>\n      <td>0.040805</td>\n      <td>6.856229</td>\n      <td>5.928227</td>\n      <td>...</td>\n      <td>1.180000</td>\n      <td>103.980000</td>\n      <td>93.300000</td>\n      <td>96.400000</td>\n      <td>84.100000</td>\n      <td>670.550000</td>\n      <td>14.020000</td>\n      <td>2.840000</td>\n      <td>525.140000</td>\n      <td>8.970000</td>\n    </tr>\n    <tr>\n      <th>75%</th>\n      <td>95.350000</td>\n      <td>2.599661e+06</td>\n      <td>5.004649e+06</td>\n      <td>5.859241e+06</td>\n      <td>5.639098e+06</td>\n      <td>6.770669e+06</td>\n      <td>0.055393</td>\n      <td>0.055942</td>\n      <td>8.082897</td>\n      <td>6.883072</td>\n      <td>...</td>\n      <td>1.270000</td>\n      <td>108.500000</td>\n      <td>123.365000</td>\n      <td>110.680000</td>\n      <td>111.685000</td>\n      <td>1276.395000</td>\n      <td>16.255000</td>\n      <td>3.465000</td>\n      <td>1110.555000</td>\n      <td>9.990000</td>\n    </tr>\n    <tr>\n      <th>max</th>\n      <td>110.530000</td>\n      <td>4.704607e+06</td>\n      <td>8.352488e+06</td>\n      <td>9.476498e+06</td>\n      <td>9.075909e+06</td>\n      <td>1.092816e+07</td>\n      <td>0.121687</td>\n      <td>0.119538</td>\n      <td>11.286172</td>\n      <td>9.043782</td>\n      <td>...</td>\n      <td>1.560000</td>\n      <td>112.950000</td>\n      <td>427.200000</td>\n      <td>182.630000</td>\n      <td>223.100000</td>\n      <td>2501.760000</td>\n      <td>25.940000</td>\n      <td>6.460000</td>\n      <td>1788.990000</td>\n      <td>10.670000</td>\n    </tr>\n  </tbody>\n</table>\n<p>8 rows × 23 columns</p>\n</div>"
     },
     "execution_count": 35,
     "metadata": {},
     "output_type": "execute_result"
    }
   ],
   "source": [
    "df = import_data.load_dma_ecb() # load full dataset\n",
    "df.describe()"
   ],
   "metadata": {
    "collapsed": false,
    "pycharm": {
     "name": "#%%\n"
    }
   }
  },
  {
   "cell_type": "code",
   "execution_count": 30,
   "outputs": [
    {
     "data": {
      "text/plain": "       intercept     HICP_SA  HICP_SA_t-1          M1     USD_EUR        OILP  \\\ncount      121.0  121.000000   121.000000  121.000000  121.000000  121.000000   \nmean         1.0    0.031596     0.032271    0.072242    1.142975  112.923223   \nstd          0.0    0.022937     0.023622    0.033211    0.184150   76.093428   \nmin          1.0   -0.022796    -0.022796   -0.009693    0.680000   41.870000   \n25%          1.0    0.017598     0.017676    0.052766    1.030000   63.470000   \n50%          1.0    0.025780     0.026429    0.071277    1.170000   92.800000   \n75%          1.0    0.039025     0.039061    0.095588    1.270000  120.530000   \nmax          1.0    0.105961     0.105961    0.214528    1.560000  427.200000   \n\n       STOCKPRICES  \ncount   121.000000  \nmean    856.849008  \nstd     600.382807  \nmin     107.640000  \n25%     418.280000  \n50%     680.830000  \n75%    1283.400000  \nmax    2501.760000  ",
      "text/html": "<div>\n<style scoped>\n    .dataframe tbody tr th:only-of-type {\n        vertical-align: middle;\n    }\n\n    .dataframe tbody tr th {\n        vertical-align: top;\n    }\n\n    .dataframe thead th {\n        text-align: right;\n    }\n</style>\n<table border=\"1\" class=\"dataframe\">\n  <thead>\n    <tr style=\"text-align: right;\">\n      <th></th>\n      <th>intercept</th>\n      <th>HICP_SA</th>\n      <th>HICP_SA_t-1</th>\n      <th>M1</th>\n      <th>USD_EUR</th>\n      <th>OILP</th>\n      <th>STOCKPRICES</th>\n    </tr>\n  </thead>\n  <tbody>\n    <tr>\n      <th>count</th>\n      <td>121.0</td>\n      <td>121.000000</td>\n      <td>121.000000</td>\n      <td>121.000000</td>\n      <td>121.000000</td>\n      <td>121.000000</td>\n      <td>121.000000</td>\n    </tr>\n    <tr>\n      <th>mean</th>\n      <td>1.0</td>\n      <td>0.031596</td>\n      <td>0.032271</td>\n      <td>0.072242</td>\n      <td>1.142975</td>\n      <td>112.923223</td>\n      <td>856.849008</td>\n    </tr>\n    <tr>\n      <th>std</th>\n      <td>0.0</td>\n      <td>0.022937</td>\n      <td>0.023622</td>\n      <td>0.033211</td>\n      <td>0.184150</td>\n      <td>76.093428</td>\n      <td>600.382807</td>\n    </tr>\n    <tr>\n      <th>min</th>\n      <td>1.0</td>\n      <td>-0.022796</td>\n      <td>-0.022796</td>\n      <td>-0.009693</td>\n      <td>0.680000</td>\n      <td>41.870000</td>\n      <td>107.640000</td>\n    </tr>\n    <tr>\n      <th>25%</th>\n      <td>1.0</td>\n      <td>0.017598</td>\n      <td>0.017676</td>\n      <td>0.052766</td>\n      <td>1.030000</td>\n      <td>63.470000</td>\n      <td>418.280000</td>\n    </tr>\n    <tr>\n      <th>50%</th>\n      <td>1.0</td>\n      <td>0.025780</td>\n      <td>0.026429</td>\n      <td>0.071277</td>\n      <td>1.170000</td>\n      <td>92.800000</td>\n      <td>680.830000</td>\n    </tr>\n    <tr>\n      <th>75%</th>\n      <td>1.0</td>\n      <td>0.039025</td>\n      <td>0.039061</td>\n      <td>0.095588</td>\n      <td>1.270000</td>\n      <td>120.530000</td>\n      <td>1283.400000</td>\n    </tr>\n    <tr>\n      <th>max</th>\n      <td>1.0</td>\n      <td>0.105961</td>\n      <td>0.105961</td>\n      <td>0.214528</td>\n      <td>1.560000</td>\n      <td>427.200000</td>\n      <td>2501.760000</td>\n    </tr>\n  </tbody>\n</table>\n</div>"
     },
     "execution_count": 30,
     "metadata": {},
     "output_type": "execute_result"
    }
   ],
   "source": [
    "data = Data(df, params)\n",
    "data.X.describe()"
   ],
   "metadata": {
    "collapsed": false,
    "pycharm": {
     "name": "#%%\n"
    }
   }
  },
  {
   "cell_type": "markdown",
   "source": [
    "## Run DMA"
   ],
   "metadata": {
    "collapsed": false,
    "pycharm": {
     "name": "#%% md\n"
    }
   }
  },
  {
   "cell_type": "code",
   "execution_count": 33,
   "outputs": [
    {
     "name": "stderr",
     "output_type": "stream",
     "text": [
      "100%|██████████| 119/119 [00:00<00:00, 542.92it/s]"
     ]
    },
    {
     "name": "stdout",
     "output_type": "stream",
     "text": [
      "DMA finished\n"
     ]
    },
    {
     "name": "stderr",
     "output_type": "stream",
     "text": [
      "\n"
     ]
    }
   ],
   "source": [
    "dma = DMA(params, data)\n",
    "dma.run_dma()"
   ],
   "metadata": {
    "collapsed": false,
    "pycharm": {
     "name": "#%%\n"
    }
   }
  },
  {
   "cell_type": "markdown",
   "source": [
    "## Analysis"
   ],
   "metadata": {
    "collapsed": false,
    "pycharm": {
     "name": "#%% md\n"
    }
   }
  },
  {
   "cell_type": "code",
   "execution_count": 51,
   "outputs": [
    {
     "name": "stdout",
     "output_type": "stream",
     "text": [
      "         MAFE      MSFE      BIAS\n",
      "DMA  0.001801  0.000008  0.000629\n",
      "DMS  0.001666  0.000011  0.000542\n"
     ]
    }
   ],
   "source": [
    "dma.forecast_statistics()"
   ],
   "metadata": {
    "collapsed": false,
    "pycharm": {
     "name": "#%%\n"
    }
   }
  },
  {
   "cell_type": "code",
   "execution_count": 43,
   "outputs": [
    {
     "name": "stdout",
     "output_type": "stream",
     "text": [
      "         MAFE      MSFE      BIAS\n",
      "DMA  0.172208  0.000770  0.053089\n",
      "DMS  0.149576  0.000875  0.035311\n"
     ]
    }
   ],
   "source": [
    "dma.plot_inclusion_prob(seperate_plots=False, renderer='plotly_mimetype')"
   ],
   "metadata": {
    "collapsed": false,
    "pycharm": {
     "name": "#%%\n"
    }
   }
  },
  {
   "cell_type": "code",
   "execution_count": null,
   "outputs": [],
   "source": [
    "dma.calc_E_size(out='plot')"
   ],
   "metadata": {
    "collapsed": false,
    "pycharm": {
     "name": "#%%\n"
    }
   }
  }
 ],
 "metadata": {
  "kernelspec": {
   "display_name": "Python 3",
   "language": "python",
   "name": "python3"
  },
  "language_info": {
   "codemirror_mode": {
    "name": "ipython",
    "version": 2
   },
   "file_extension": ".py",
   "mimetype": "text/x-python",
   "name": "python",
   "nbconvert_exporter": "python",
   "pygments_lexer": "ipython2",
   "version": "2.7.6"
  }
 },
 "nbformat": 4,
 "nbformat_minor": 0
}