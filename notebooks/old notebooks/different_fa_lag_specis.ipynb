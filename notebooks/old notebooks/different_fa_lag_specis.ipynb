{
 "cells": [
  {
   "cell_type": "code",
   "execution_count": 83,
   "metadata": {
    "collapsed": true
   },
   "outputs": [
    {
     "name": "stdout",
     "output_type": "stream",
     "text": [
      "The autoreload extension is already loaded. To reload it, use:\n",
      "  %reload_ext autoreload\n"
     ]
    }
   ],
   "source": [
    "%load_ext autoreload\n",
    "%autoreload 2\n",
    "\n",
    "import os\n",
    "from pathlib import Path\n",
    "import pickle\n",
    "import pandas as pd\n",
    "import numpy as np\n",
    "import itertools\n",
    "import random\n",
    "import plotly\n",
    "import plotly.express as px\n",
    "import scipy.stats as stats\n",
    "import matplotlib.pyplot as plt\n",
    "from factor_analyzer.factor_analyzer import FactorAnalyzer\n",
    "from statsmodels.regression.linear_model import OLS\n",
    "\n",
    "from src.data import import_data\n",
    "from src.data.data_class import Data\n",
    "from src.models.preliminaries import Settings\n",
    "from src.models.dma import DMA\n",
    "from src.models.tvp import TVP\n",
    "from src.models import dm_test\n",
    "\n",
    "\n",
    "from helper_scripts import variable_groups\n",
    "\n",
    "from statsmodels.tsa import seasonal"
   ]
  },
  {
   "cell_type": "code",
   "execution_count": 65,
   "outputs": [
    {
     "data": {
      "text/plain": "var code  CPI_house_energy  PCI_energy_  HICP_energy  HICP_excl_energy  \\\ncount           123.000000   108.000000   104.000000        108.000000   \nmean             86.044251    87.012686    84.341505         92.755311   \nstd              14.225694    20.686686    20.142079          8.294870   \nmin              54.290421    54.877066    50.172049         79.809765   \n25%              73.991181    66.273204    65.311428         85.461263   \n50%              86.943304    93.195680    90.987561         91.996135   \n75%              99.834497   103.481214   101.972046         99.628004   \nmax             109.463789   148.621775   115.784535        109.938300   \n\nvar code         CPI  deflator_GDP       unemp  employment         GDP  \\\ncount     123.000000    123.000000  123.000000  122.000000  123.000000   \nmean        0.004721      0.004284   -0.003422    0.001091    0.002326   \nstd         0.004461      0.004434    0.033366    0.004588    0.011852   \nmin        -0.006218     -0.004797   -0.096044   -0.010906   -0.078606   \n25%         0.002036      0.001382   -0.023105   -0.001753   -0.000176   \n50%         0.004041      0.003839   -0.006730    0.000564    0.003102   \n75%         0.006383      0.005843    0.019722    0.003528    0.005931   \nmax         0.019812      0.021539    0.101676    0.016532    0.047462   \n\nvar code  cons_private  ...  interest_rate_long          M3          M1  \\\ncount       123.000000  ...          123.000000  123.000000  123.000000   \nmean          0.001503  ...            3.463803   73.059570   65.051820   \nstd           0.012954  ...            2.511013   32.274109   43.145580   \nmin          -0.092427  ...           -0.604967   28.239989   16.992672   \n25%          -0.001626  ...            1.381471   41.848292   27.878798   \n50%           0.002517  ...            3.829682   70.994604   56.696744   \n75%           0.005418  ...            5.147533   93.580208   87.016878   \nmax           0.050932  ...            8.387854  145.809700  178.189434   \n\nvar code  business_conf_manufacturing  business_conf_construct  \\\ncount                      123.000000               123.000000   \nmean                        -6.727642               -21.869919   \nstd                         13.369695                20.970658   \nmin                        -42.200000               -55.700000   \n25%                        -15.400000               -42.450000   \n50%                         -6.100000               -23.000000   \n75%                          0.800000                -7.150000   \nmax                         25.600000                20.900000   \n\nvar code  business_conf_service  business_conf_retail  cons_conf_tendency  \\\ncount                107.000000            123.000000          123.000000   \nmean                  16.915888            -15.618699           99.946968   \nstd                   15.694436             10.782244            1.088837   \nmin                  -22.000000            -41.200000           96.952924   \n25%                    9.850000            -24.200000           99.334636   \n50%                   16.500000            -17.800000           99.964845   \n75%                   22.550000             -6.400000          100.702736   \nmax                   50.100000             13.500000          102.119658   \n\nvar code  business_situation  residential_permits  \ncount             123.000000           111.000000  \nmean               99.928214         29339.023758  \nstd                 1.342361         12214.439550  \nmin                95.408918         12903.224314  \n25%                99.292014         20146.329471  \n50%                99.990484         25712.133386  \n75%               100.968382         37431.426816  \nmax               102.336481         64217.291026  \n\n[8 rows x 41 columns]",
      "text/html": "<div>\n<style scoped>\n    .dataframe tbody tr th:only-of-type {\n        vertical-align: middle;\n    }\n\n    .dataframe tbody tr th {\n        vertical-align: top;\n    }\n\n    .dataframe thead th {\n        text-align: right;\n    }\n</style>\n<table border=\"1\" class=\"dataframe\">\n  <thead>\n    <tr style=\"text-align: right;\">\n      <th>var code</th>\n      <th>CPI_house_energy</th>\n      <th>PCI_energy_</th>\n      <th>HICP_energy</th>\n      <th>HICP_excl_energy</th>\n      <th>CPI</th>\n      <th>deflator_GDP</th>\n      <th>unemp</th>\n      <th>employment</th>\n      <th>GDP</th>\n      <th>cons_private</th>\n      <th>...</th>\n      <th>interest_rate_long</th>\n      <th>M3</th>\n      <th>M1</th>\n      <th>business_conf_manufacturing</th>\n      <th>business_conf_construct</th>\n      <th>business_conf_service</th>\n      <th>business_conf_retail</th>\n      <th>cons_conf_tendency</th>\n      <th>business_situation</th>\n      <th>residential_permits</th>\n    </tr>\n  </thead>\n  <tbody>\n    <tr>\n      <th>count</th>\n      <td>123.000000</td>\n      <td>108.000000</td>\n      <td>104.000000</td>\n      <td>108.000000</td>\n      <td>123.000000</td>\n      <td>123.000000</td>\n      <td>123.000000</td>\n      <td>122.000000</td>\n      <td>123.000000</td>\n      <td>123.000000</td>\n      <td>...</td>\n      <td>123.000000</td>\n      <td>123.000000</td>\n      <td>123.000000</td>\n      <td>123.000000</td>\n      <td>123.000000</td>\n      <td>107.000000</td>\n      <td>123.000000</td>\n      <td>123.000000</td>\n      <td>123.000000</td>\n      <td>111.000000</td>\n    </tr>\n    <tr>\n      <th>mean</th>\n      <td>86.044251</td>\n      <td>87.012686</td>\n      <td>84.341505</td>\n      <td>92.755311</td>\n      <td>0.004721</td>\n      <td>0.004284</td>\n      <td>-0.003422</td>\n      <td>0.001091</td>\n      <td>0.002326</td>\n      <td>0.001503</td>\n      <td>...</td>\n      <td>3.463803</td>\n      <td>73.059570</td>\n      <td>65.051820</td>\n      <td>-6.727642</td>\n      <td>-21.869919</td>\n      <td>16.915888</td>\n      <td>-15.618699</td>\n      <td>99.946968</td>\n      <td>99.928214</td>\n      <td>29339.023758</td>\n    </tr>\n    <tr>\n      <th>std</th>\n      <td>14.225694</td>\n      <td>20.686686</td>\n      <td>20.142079</td>\n      <td>8.294870</td>\n      <td>0.004461</td>\n      <td>0.004434</td>\n      <td>0.033366</td>\n      <td>0.004588</td>\n      <td>0.011852</td>\n      <td>0.012954</td>\n      <td>...</td>\n      <td>2.511013</td>\n      <td>32.274109</td>\n      <td>43.145580</td>\n      <td>13.369695</td>\n      <td>20.970658</td>\n      <td>15.694436</td>\n      <td>10.782244</td>\n      <td>1.088837</td>\n      <td>1.342361</td>\n      <td>12214.439550</td>\n    </tr>\n    <tr>\n      <th>min</th>\n      <td>54.290421</td>\n      <td>54.877066</td>\n      <td>50.172049</td>\n      <td>79.809765</td>\n      <td>-0.006218</td>\n      <td>-0.004797</td>\n      <td>-0.096044</td>\n      <td>-0.010906</td>\n      <td>-0.078606</td>\n      <td>-0.092427</td>\n      <td>...</td>\n      <td>-0.604967</td>\n      <td>28.239989</td>\n      <td>16.992672</td>\n      <td>-42.200000</td>\n      <td>-55.700000</td>\n      <td>-22.000000</td>\n      <td>-41.200000</td>\n      <td>96.952924</td>\n      <td>95.408918</td>\n      <td>12903.224314</td>\n    </tr>\n    <tr>\n      <th>25%</th>\n      <td>73.991181</td>\n      <td>66.273204</td>\n      <td>65.311428</td>\n      <td>85.461263</td>\n      <td>0.002036</td>\n      <td>0.001382</td>\n      <td>-0.023105</td>\n      <td>-0.001753</td>\n      <td>-0.000176</td>\n      <td>-0.001626</td>\n      <td>...</td>\n      <td>1.381471</td>\n      <td>41.848292</td>\n      <td>27.878798</td>\n      <td>-15.400000</td>\n      <td>-42.450000</td>\n      <td>9.850000</td>\n      <td>-24.200000</td>\n      <td>99.334636</td>\n      <td>99.292014</td>\n      <td>20146.329471</td>\n    </tr>\n    <tr>\n      <th>50%</th>\n      <td>86.943304</td>\n      <td>93.195680</td>\n      <td>90.987561</td>\n      <td>91.996135</td>\n      <td>0.004041</td>\n      <td>0.003839</td>\n      <td>-0.006730</td>\n      <td>0.000564</td>\n      <td>0.003102</td>\n      <td>0.002517</td>\n      <td>...</td>\n      <td>3.829682</td>\n      <td>70.994604</td>\n      <td>56.696744</td>\n      <td>-6.100000</td>\n      <td>-23.000000</td>\n      <td>16.500000</td>\n      <td>-17.800000</td>\n      <td>99.964845</td>\n      <td>99.990484</td>\n      <td>25712.133386</td>\n    </tr>\n    <tr>\n      <th>75%</th>\n      <td>99.834497</td>\n      <td>103.481214</td>\n      <td>101.972046</td>\n      <td>99.628004</td>\n      <td>0.006383</td>\n      <td>0.005843</td>\n      <td>0.019722</td>\n      <td>0.003528</td>\n      <td>0.005931</td>\n      <td>0.005418</td>\n      <td>...</td>\n      <td>5.147533</td>\n      <td>93.580208</td>\n      <td>87.016878</td>\n      <td>0.800000</td>\n      <td>-7.150000</td>\n      <td>22.550000</td>\n      <td>-6.400000</td>\n      <td>100.702736</td>\n      <td>100.968382</td>\n      <td>37431.426816</td>\n    </tr>\n    <tr>\n      <th>max</th>\n      <td>109.463789</td>\n      <td>148.621775</td>\n      <td>115.784535</td>\n      <td>109.938300</td>\n      <td>0.019812</td>\n      <td>0.021539</td>\n      <td>0.101676</td>\n      <td>0.016532</td>\n      <td>0.047462</td>\n      <td>0.050932</td>\n      <td>...</td>\n      <td>8.387854</td>\n      <td>145.809700</td>\n      <td>178.189434</td>\n      <td>25.600000</td>\n      <td>20.900000</td>\n      <td>50.100000</td>\n      <td>13.500000</td>\n      <td>102.119658</td>\n      <td>102.336481</td>\n      <td>64217.291026</td>\n    </tr>\n  </tbody>\n</table>\n<p>8 rows × 41 columns</p>\n</div>"
     },
     "execution_count": 65,
     "metadata": {},
     "output_type": "execute_result"
    }
   ],
   "source": [
    "data_path = os.path.join(Path().cwd().parent, 'data', 'processed')\n",
    "# load seasonally adjusted dataset\n",
    "with open(os.path.join(data_path, 'df_sa.pkl'), 'rb') as f:\n",
    "    df_sa = pickle.load(f) # load raw data\n",
    "# \"selected_data.csv\" contains information about variables names, abbreviations and the required type of transformation\n",
    "selection = pd.read_csv(os.path.join(data_path, 'selected_data.csv'))\n",
    "df_sa.describe()"
   ],
   "metadata": {
    "collapsed": false,
    "pycharm": {
     "name": "#%%\n"
    }
   }
  },
  {
   "cell_type": "code",
   "execution_count": 66,
   "outputs": [],
   "source": [
    "# load data with all variables and\n",
    "params = Settings()                                 # init settings\n",
    "params.h_fore = 1\n",
    "params.miss_treatment = 3                           # no treatment for missing variables\n",
    "params.plag = 4                                     # lag inflation to include later\n",
    "params.use_x = selection['var code'].to_list()      # specify to use all variables\n",
    "params.tcodesX = params.get_tcodesX(selection)      # get transformation codes\n",
    "params.restricted_vars = ['intercept', 'CPI']       # these variables are in all models\n",
    "params.first_sample_ends = '2004-12-31'             # start of calculation of statistics\n",
    "# params.print_setting_options()                    # if parameter options should be shown\n",
    "data = Data(df_sa, params)                          # creates an instance of the Data class that contains the transformed data\n",
    "df_intercept_CPI = data.X.iloc[:,:(params.plag+params.intercept+1)] # the intercept and annualized CPI+lags are ordered at the beginning of the df - save df to attach it again later\n",
    "df_sa_trans = data.X.iloc[:,(params.plag+params.intercept+1):]      # remove the vars\n",
    "\n",
    "%run helper_scripts/variable_groups                 # get variable groups"
   ],
   "metadata": {
    "collapsed": false,
    "pycharm": {
     "name": "#%%\n"
    }
   }
  },
  {
   "cell_type": "code",
   "execution_count": 67,
   "outputs": [],
   "source": [
    "# specify settings for DMA\n",
    "params.use_y = ['CPI']"
   ],
   "metadata": {
    "collapsed": false,
    "pycharm": {
     "name": "#%%\n"
    }
   }
  },
  {
   "cell_type": "markdown",
   "source": [
    "# DMA on differnt lag n_factor combinations"
   ],
   "metadata": {
    "collapsed": false,
    "pycharm": {
     "name": "#%% md\n"
    }
   }
  },
  {
   "cell_type": "code",
   "execution_count": 68,
   "outputs": [],
   "source": [
    "fa_lags_1 = 0\n",
    "# Instantiate factor analysis object\n",
    "df_fa = df_sa_trans.drop(infl_vars, axis=1)\n",
    "n_factors = 16\n",
    "fa = FactorAnalyzer(n_factors=n_factors, rotation='oblimax')    # quartimax for orthogonal rotation, oblimax for oblique\n",
    "fa.fit(df_fa)\n",
    "ev, v = fa.get_eigenvalues()\n",
    "\n",
    "df_factors = pd.DataFrame(fa.transform(df_fa.fillna(0)), index = df_fa.index)\n",
    "# rename columns\n",
    "factor_cols = ['Factor_'+str(i) for i in list(df_factors.columns)]\n",
    "df_factors.columns = factor_cols\n",
    "\n",
    "df_fa_post_0_lags = pd.concat((df_intercept_CPI, df_factors), axis=1)\n"
   ],
   "metadata": {
    "collapsed": false,
    "pycharm": {
     "name": "#%%\n"
    }
   }
  },
  {
   "cell_type": "code",
   "execution_count": 69,
   "outputs": [],
   "source": [
    "fa_lags_2 = 1\n",
    "# Instantiate factor analysis object\n",
    "df_fa = df_sa_trans.drop(infl_vars, axis=1)\n",
    "n_factors = 8\n",
    "fa = FactorAnalyzer(n_factors=n_factors, rotation='quartimax')    # quartimax for orthogonal rotation, oblimax for oblique\n",
    "fa.fit(df_fa)\n",
    "ev, v = fa.get_eigenvalues()\n",
    "df_factors = pd.DataFrame(fa.transform(df_fa.fillna(0)), index = df_fa.index)\n",
    "# rename columns\n",
    "factor_cols = ['Factor_'+str(i) for i in list(df_factors.columns)]\n",
    "df_factors.columns = factor_cols\n",
    "df_factors_with_lag = pd.concat((df_factors, df_factors.shift(1)), axis=1)\n",
    "factor_cols_lag1 = [i+'_t-1' for i in factor_cols]\n",
    "df_factors_with_lag.columns = factor_cols+factor_cols_lag1\n",
    "df_fa_post_1_lag = pd.concat((df_intercept_CPI, df_factors_with_lag), axis=1)\n",
    "df_fa_post_1_lag = df_fa_post_1_lag.iloc[fa_lags_2:, :]"
   ],
   "metadata": {
    "collapsed": false,
    "pycharm": {
     "name": "#%%\n"
    }
   }
  },
  {
   "cell_type": "code",
   "execution_count": 70,
   "outputs": [],
   "source": [
    "\n",
    "fa_lags_2 = 3\n",
    "# Instantiate factor analysis object\n",
    "df_fa = df_sa_trans.drop(infl_vars, axis=1)\n",
    "n_factors = 4\n",
    "fa = FactorAnalyzer(n_factors=n_factors, rotation='oblimax')    # quartimax for orthogonal rotation, oblimax for oblique\n",
    "fa.fit(df_fa)\n",
    "ev, v = fa.get_eigenvalues()\n",
    "\n",
    "df_factors = pd.DataFrame(fa.transform(df_fa.fillna(0)), index = df_fa.index)\n",
    "# rename columns\n",
    "factor_cols = ['Factor_'+str(i) for i in list(df_factors.columns)]\n",
    "df_factors.columns = factor_cols\n",
    "\n",
    "df_factors_with_lag = pd.concat((df_factors, df_factors.shift(1), df_factors.shift(2), df_factors.shift(3)), axis=1)\n",
    "factor_cols_lag1 = [i+'_t-1' for i in factor_cols]\n",
    "factor_cols_lag2 = [i+'_t-2' for i in factor_cols]\n",
    "factor_cols_lag3 = [i+'_t-3' for i in factor_cols]\n",
    "df_factors_with_lag.columns = factor_cols+factor_cols_lag1+factor_cols_lag2+factor_cols_lag3\n",
    "df_fa_post_3_lags = pd.concat((df_intercept_CPI, df_factors_with_lag), axis=1)\n",
    "df_fa_post_3_lags = df_fa_post_3_lags.iloc[fa_lags_2:, :]"
   ],
   "metadata": {
    "collapsed": false,
    "pycharm": {
     "name": "#%%\n"
    }
   }
  },
  {
   "cell_type": "code",
   "execution_count": 71,
   "outputs": [],
   "source": [
    "def DMA_steps(params, data, alpha, lamda, save, name, output_path):\n",
    "    params.alpha = alpha\n",
    "    params.lamda = lamda\n",
    "    print(f'(alpha, lambda) = ({alpha}, {lamda})')\n",
    "    dma = DMA(params, data)\n",
    "    dma.run_dma()\n",
    "    dma.forecast_statistics(unit='percent', plot_fe=False, plot_y_fe=False, print_stats=False)\n",
    "    stats_temp = [params.alpha, params.lamda,\n",
    "                     dma.MAFE_DMA, dma.MSFE_DMA, dma.BIAS_DMA,\n",
    "                     dma.MAFE_DMS, dma.MSFE_DMS, dma.BIAS_DMS]\n",
    "    if save:\n",
    "        with open(os.path.join(output_path, name+'.pkl'), 'wb') as f:\n",
    "                pickle.dump(dma, f)\n",
    "    return dma, stats_temp\n",
    "def get_stats(dma):\n",
    "    dma.forecast_statistics(unit='percent', plot_fe=False, plot_y_fe=False, print_stats=False)\n",
    "    stats_temp = [params.alpha, params.lamda,\n",
    "                     dma.MAFE_DMA, dma.MSFE_DMA, dma.BIAS_DMA,\n",
    "                     dma.MAFE_DMS, dma.MSFE_DMS, dma.BIAS_DMS]\n",
    "    return stats_temp"
   ],
   "metadata": {
    "collapsed": false,
    "pycharm": {
     "name": "#%%\n"
    }
   }
  },
  {
   "cell_type": "code",
   "execution_count": 72,
   "outputs": [],
   "source": [
    "stats_fe = ['alpha', 'lambda', 'MAFE_DMA', 'MSFE_DMA', 'BIAS_DMA', 'MAFE_DMS', 'MSFE_DMS', 'BIAS_DMS']"
   ],
   "metadata": {
    "collapsed": false,
    "pycharm": {
     "name": "#%%\n"
    }
   }
  },
  {
   "cell_type": "code",
   "execution_count": 73,
   "outputs": [],
   "source": [
    "params.h_fore = 4\n",
    "\n",
    "data_fa_h4_0_lags = Data(df_sa, params)\n",
    "data_fa_h4_0_lags.X = df_fa_post_0_lags\n",
    "data_fa_h4_0_lags.T = data_fa_h4_0_lags.X.shape[0]\n",
    "data_fa_h4_0_lags.N = data_fa_h4_0_lags.X.shape[1]\n",
    "\n",
    "data_fa_h4_1_lags = Data(df_sa, params)\n",
    "data_fa_h4_1_lags.X = df_fa_post_1_lag\n",
    "data_fa_h4_1_lags.T = data_fa_h4_1_lags.X.shape[0]\n",
    "data_fa_h4_1_lags.N = data_fa_h4_1_lags.X.shape[1]\n",
    "data_fa_h4_1_lags.y_dep = data_fa_h4_1_lags.y_dep[fa_lags_1+1:]    # adjust for lagging\n",
    "\n",
    "data_fa_h4_3_lags = Data(df_sa, params)\n",
    "data_fa_h4_3_lags.X = df_fa_post_3_lags\n",
    "data_fa_h4_3_lags.T = data_fa_h4_3_lags.X.shape[0]\n",
    "data_fa_h4_3_lags.N = data_fa_h4_3_lags.X.shape[1]\n",
    "data_fa_h4_3_lags.y_dep = data_fa_h4_3_lags.y_dep[fa_lags_2:]    # adjust for lagging"
   ],
   "metadata": {
    "collapsed": false,
    "pycharm": {
     "name": "#%%\n"
    }
   }
  },
  {
   "cell_type": "code",
   "execution_count": 75,
   "outputs": [
    {
     "data": {
      "text/plain": "                                         MAFE      MSFE      BIAS\nDMA F.A., h=4, 0 lags, (0.99, 0.99)  0.458809  0.663330  0.003420\nDMA F.A., h=4, 1 lags, (0.99, 0.99)  0.462855  0.669115  0.001993\nDMA F.A., h=4, 4 lags, (0.99, 0.99)  0.474190  0.696883  0.008257\nDMS F.A., h=4, 0 lags, (0.99, 0.99)  0.457256  0.662490  0.002561\nDMS F.A., h=4, 1 lags, (0.99, 0.99)  0.463090  0.666844  0.005739\nDMS F.A., h=4, 4 lags, (0.99, 0.99)  0.474825  0.682639  0.012590",
      "text/html": "<div>\n<style scoped>\n    .dataframe tbody tr th:only-of-type {\n        vertical-align: middle;\n    }\n\n    .dataframe tbody tr th {\n        vertical-align: top;\n    }\n\n    .dataframe thead th {\n        text-align: right;\n    }\n</style>\n<table border=\"1\" class=\"dataframe\">\n  <thead>\n    <tr style=\"text-align: right;\">\n      <th></th>\n      <th>MAFE</th>\n      <th>MSFE</th>\n      <th>BIAS</th>\n    </tr>\n  </thead>\n  <tbody>\n    <tr>\n      <th>DMA F.A., h=4, 0 lags, (0.99, 0.99)</th>\n      <td>0.458809</td>\n      <td>0.663330</td>\n      <td>0.003420</td>\n    </tr>\n    <tr>\n      <th>DMA F.A., h=4, 1 lags, (0.99, 0.99)</th>\n      <td>0.462855</td>\n      <td>0.669115</td>\n      <td>0.001993</td>\n    </tr>\n    <tr>\n      <th>DMA F.A., h=4, 4 lags, (0.99, 0.99)</th>\n      <td>0.474190</td>\n      <td>0.696883</td>\n      <td>0.008257</td>\n    </tr>\n    <tr>\n      <th>DMS F.A., h=4, 0 lags, (0.99, 0.99)</th>\n      <td>0.457256</td>\n      <td>0.662490</td>\n      <td>0.002561</td>\n    </tr>\n    <tr>\n      <th>DMS F.A., h=4, 1 lags, (0.99, 0.99)</th>\n      <td>0.463090</td>\n      <td>0.666844</td>\n      <td>0.005739</td>\n    </tr>\n    <tr>\n      <th>DMS F.A., h=4, 4 lags, (0.99, 0.99)</th>\n      <td>0.474825</td>\n      <td>0.682639</td>\n      <td>0.012590</td>\n    </tr>\n  </tbody>\n</table>\n</div>"
     },
     "execution_count": 75,
     "metadata": {},
     "output_type": "execute_result"
    }
   ],
   "source": [
    "stats2 = ['MAFE', 'MSFE', 'BIAS']\n",
    "stats_pd_diff_lags_h4 = pd.DataFrame.from_dict(data={'DMA F.A., h=4, 0 lags, (0.99, 0.99)': stats_fa_h1_0_lags[2:5],\n",
    "                                            'DMA F.A., h=4, 1 lags, (0.99, 0.99)': stats_fa_h1_1_lags[2:5],\n",
    "                                               'DMA F.A., h=4, 4 lags, (0.99, 0.99)': stats_fa_h1_3_lags[2:5],\n",
    "                                               'DMS F.A., h=4, 0 lags, (0.99, 0.99)': stats_fa_h1_0_lags[5:],\n",
    "                                            'DMS F.A., h=4, 1 lags, (0.99, 0.99)': stats_fa_h1_1_lags[5:],\n",
    "                                               'DMS F.A., h=4, 4 lags, (0.99, 0.99)': stats_fa_h1_3_lags[5:]},\n",
    "                                orient='index',\n",
    "                                columns=stats2)\n",
    "stats_pd_diff_lags_h4*[100, 100**2, 100]"
   ],
   "metadata": {
    "collapsed": false,
    "pycharm": {
     "name": "#%%\n"
    }
   }
  },
  {
   "cell_type": "code",
   "execution_count": 76,
   "outputs": [
    {
     "name": "stdout",
     "output_type": "stream",
     "text": [
      "\\begin{tabular}{lrrr}\n",
      "\\toprule\n",
      "{} &      MAFE &      MSFE &      BIAS \\\\\n",
      "\\midrule\n",
      "DMA F.A., h=4, 0 lags, (0.99, 0.99) &  0.458809 &  0.663330 &  0.003420 \\\\\n",
      "DMA F.A., h=4, 1 lags, (0.99, 0.99) &  0.462855 &  0.669115 &  0.001993 \\\\\n",
      "DMA F.A., h=4, 4 lags, (0.99, 0.99) &  0.474190 &  0.696883 &  0.008257 \\\\\n",
      "DMS F.A., h=4, 0 lags, (0.99, 0.99) &  0.457256 &  0.662490 &  0.002561 \\\\\n",
      "DMS F.A., h=4, 1 lags, (0.99, 0.99) &  0.463090 &  0.666844 &  0.005739 \\\\\n",
      "DMS F.A., h=4, 4 lags, (0.99, 0.99) &  0.474825 &  0.682639 &  0.012590 \\\\\n",
      "\\bottomrule\n",
      "\\end{tabular}\n",
      "\n"
     ]
    }
   ],
   "source": [
    "print((stats_pd_diff_lags_h4*[100, 100**2, 100]).to_latex())"
   ],
   "metadata": {
    "collapsed": false,
    "pycharm": {
     "name": "#%%\n"
    }
   }
  },
  {
   "cell_type": "code",
   "execution_count": 77,
   "outputs": [],
   "source": [
    "dm_stats_h4 = stats_pd_diff_lags_h4.copy()\n",
    "actual_vals = (dma_fa_h1_0_lags.y_dep[dma_fa_h1_0_lags.first_sample_ends:]).tolist()\n",
    "prediction_dma_0_lags = (dma_fa_h1_0_lags.y_t_DMA[dma_fa_h1_0_lags.first_sample_ends:]).tolist()\n",
    "prediction_dma_1_lags = dma_fa_h1_1_lags.y_t_DMA[dma_fa_h1_0_lags.first_sample_ends:].tolist()\n",
    "prediction_dma_3_lags = dma_fa_h1_3_lags.y_t_DMA[dma_fa_h1_0_lags.first_sample_ends:].tolist()\n",
    "prediction_dms_0_lags = (dma_fa_h1_0_lags.y_t_DMS[dma_fa_h1_0_lags.first_sample_ends:]).tolist()\n",
    "prediction_dms_1_lags = dma_fa_h1_1_lags.y_t_DMS[dma_fa_h1_0_lags.first_sample_ends:].tolist()\n",
    "prediction_dms_3_lags = dma_fa_h1_3_lags.y_t_DMS[dma_fa_h1_0_lags.first_sample_ends:].tolist()\n",
    "\n",
    "\n",
    "pred_dict = {'prediction_dma_0_lags ': prediction_dma_0_lags ,\n",
    "             'prediction_dma_1_lags ': prediction_dma_1_lags ,\n",
    "             'prediction_dma_3_lags ': prediction_dma_3_lags ,\n",
    "             'prediction_dms_0_lags': prediction_dms_0_lags,\n",
    "             'prediction_dms_1_lags': prediction_dms_1_lags,\n",
    "             'prediction_dms_3_lags': prediction_dms_3_lags}\n",
    "\n",
    "dm_stats_h4.index = ['prediction_dma_0_lags', 'prediction_dma_1_lags', 'prediction_dma_3_lags',\n",
    "                     'prediction_dms_0_lags', 'prediction_dms_1_lags', 'prediction_dms_3_lags']"
   ],
   "metadata": {
    "collapsed": false,
    "pycharm": {
     "name": "#%%\n"
    }
   }
  },
  {
   "cell_type": "code",
   "execution_count": 78,
   "outputs": [
    {
     "name": "stdout",
     "output_type": "stream",
     "text": [
      "prediction_dma_0_lags \n",
      "prediction_dma_1_lags \n",
      "prediction_dma_3_lags \n",
      "prediction_dms_0_lags\n",
      "prediction_dms_1_lags\n",
      "prediction_dms_3_lags\n"
     ]
    },
    {
     "data": {
      "text/plain": "                           MAFE      MSFE\nprediction_dma_0_lags  0.070740  0.751303\nprediction_dma_1_lags  0.883443  0.871728\nprediction_dma_3_lags  0.730108  0.223686\nprediction_dms_0_lags  1.000000  1.000000\nprediction_dms_1_lags  0.886024  0.839864\nprediction_dms_3_lags  0.644572  0.897286",
      "text/html": "<div>\n<style scoped>\n    .dataframe tbody tr th:only-of-type {\n        vertical-align: middle;\n    }\n\n    .dataframe tbody tr th {\n        vertical-align: top;\n    }\n\n    .dataframe thead th {\n        text-align: right;\n    }\n</style>\n<table border=\"1\" class=\"dataframe\">\n  <thead>\n    <tr style=\"text-align: right;\">\n      <th></th>\n      <th>MAFE</th>\n      <th>MSFE</th>\n    </tr>\n  </thead>\n  <tbody>\n    <tr>\n      <th>prediction_dma_0_lags</th>\n      <td>0.070740</td>\n      <td>0.751303</td>\n    </tr>\n    <tr>\n      <th>prediction_dma_1_lags</th>\n      <td>0.883443</td>\n      <td>0.871728</td>\n    </tr>\n    <tr>\n      <th>prediction_dma_3_lags</th>\n      <td>0.730108</td>\n      <td>0.223686</td>\n    </tr>\n    <tr>\n      <th>prediction_dms_0_lags</th>\n      <td>1.000000</td>\n      <td>1.000000</td>\n    </tr>\n    <tr>\n      <th>prediction_dms_1_lags</th>\n      <td>0.886024</td>\n      <td>0.839864</td>\n    </tr>\n    <tr>\n      <th>prediction_dms_3_lags</th>\n      <td>0.644572</td>\n      <td>0.897286</td>\n    </tr>\n  </tbody>\n</table>\n</div>"
     },
     "execution_count": 78,
     "metadata": {},
     "output_type": "execute_result"
    }
   ],
   "source": [
    "MAD_res_MAFE = []\n",
    "MAD_res_MSE = []\n",
    "for pred in pred_dict.keys():\n",
    "    print(pred)\n",
    "    if pred == 'prediction_dms_0_lags':\n",
    "        MAD_res_MAFE.append(1)\n",
    "        MAD_res_MSE.append(1)\n",
    "    else:\n",
    "        MAD_res_MAFE.append(dm_test.dm_test(actual_vals, pred_dict[pred], prediction_dms_0_lags, crit='MAD', h=1,power=1)[1])\n",
    "        MAD_res_MSE.append(dm_test.dm_test(actual_vals, pred_dict[pred], prediction_dms_0_lags, crit='MSE', h=1,power=1)[1])\n",
    "dm_stats_h4.MAFE = MAD_res_MAFE\n",
    "dm_stats_h4.MSFE = MAD_res_MSE\n",
    "dm_stats_h4[['MAFE', 'MSFE']]"
   ],
   "metadata": {
    "collapsed": false,
    "pycharm": {
     "name": "#%%\n"
    }
   }
  },
  {
   "cell_type": "markdown",
   "source": [
    "# regression of inflation on all factors"
   ],
   "metadata": {
    "collapsed": false,
    "pycharm": {
     "name": "#%% md\n"
    }
   }
  },
  {
   "cell_type": "code",
   "execution_count": 125,
   "outputs": [],
   "source": [
    "# Instantiate factor analysis object\n",
    "df_fa = df_sa_trans.drop(infl_vars, axis=1)\n",
    "n_factors = df_fa.shape[1]\n",
    "fa = FactorAnalyzer(n_factors=n_factors, rotation='oblimax')    # quartimax for orthogonal rotation, oblimax for oblique\n",
    "fa.fit(df_fa)\n",
    "ev, v = fa.get_eigenvalues()\n",
    "df_factors = pd.DataFrame(fa.transform(df_fa.fillna(0)), index = df_fa.index)"
   ],
   "metadata": {
    "collapsed": false,
    "pycharm": {
     "name": "#%%\n"
    }
   }
  },
  {
   "cell_type": "code",
   "execution_count": 126,
   "outputs": [
    {
     "data": {
      "text/plain": "0     0.079837\n1     0.153182\n2     0.077178\n3     0.427711\n4     0.137743\n5     0.186377\n6     0.210837\n7     0.107773\n8     0.142989\n9     0.130320\n10    0.143593\n11    0.196600\n12    0.051937\n13    0.005309\n14    0.202288\n15    0.197264\n16    0.106508\n17    0.206782\n18    0.000032\n19    0.047204\n20    0.000222\n21    0.203266\n22    0.209117\n23    0.143053\n24    0.183812\n25    0.202385\n26    0.203188\n27    0.177442\n28    0.150588\n29    0.147802\n30    0.211602\n31    0.162739\n32    0.167927\n33    0.204440\n34    0.000000\ndtype: float64"
     },
     "execution_count": 126,
     "metadata": {},
     "output_type": "execute_result"
    }
   ],
   "source": [
    "#pd_factor_rsqaured = pd.DataFrame(columns=df_factors.columns)\n",
    "rsquared = {}\n",
    "for name, values in df_factors.iteritems():\n",
    "    df_temp = pd.concat((df_sa.CPI, values), axis=1).dropna()\n",
    "    model = OLS(endog=df_temp.iloc[:,0], exog=values).fit()\n",
    "    rsquared[name] = model.rsquared\n",
    "pd.Series(rsquared, index=df_factors.columns)"
   ],
   "metadata": {
    "collapsed": false,
    "pycharm": {
     "name": "#%%\n"
    }
   }
  },
  {
   "cell_type": "code",
   "execution_count": 127,
   "outputs": [
    {
     "name": "stdout",
     "output_type": "stream",
     "text": [
      "\\begin{tabular}{lr}\n",
      "\\toprule\n",
      "{} &     0 \\\\\n",
      "\\midrule\n",
      "0  &  0.08 \\\\\n",
      "1  &  0.15 \\\\\n",
      "2  &  0.08 \\\\\n",
      "3  &  0.43 \\\\\n",
      "4  &  0.14 \\\\\n",
      "5  &  0.19 \\\\\n",
      "6  &  0.21 \\\\\n",
      "7  &  0.11 \\\\\n",
      "8  &  0.14 \\\\\n",
      "9  &  0.13 \\\\\n",
      "10 &  0.14 \\\\\n",
      "11 &  0.20 \\\\\n",
      "12 &  0.05 \\\\\n",
      "13 &  0.01 \\\\\n",
      "14 &  0.20 \\\\\n",
      "15 &  0.20 \\\\\n",
      "16 &  0.11 \\\\\n",
      "17 &  0.21 \\\\\n",
      "18 &  0.00 \\\\\n",
      "19 &  0.05 \\\\\n",
      "20 &  0.00 \\\\\n",
      "21 &  0.20 \\\\\n",
      "22 &  0.21 \\\\\n",
      "23 &  0.14 \\\\\n",
      "24 &  0.18 \\\\\n",
      "25 &  0.20 \\\\\n",
      "26 &  0.20 \\\\\n",
      "27 &  0.18 \\\\\n",
      "28 &  0.15 \\\\\n",
      "29 &  0.15 \\\\\n",
      "30 &  0.21 \\\\\n",
      "31 &  0.16 \\\\\n",
      "32 &  0.17 \\\\\n",
      "33 &  0.20 \\\\\n",
      "34 &  0.00 \\\\\n",
      "\\bottomrule\n",
      "\\end{tabular}\n",
      "\n"
     ]
    }
   ],
   "source": [
    "print(pd.Series(rsquared, index=df_factors.columns).round(2).to_latex())"
   ],
   "metadata": {
    "collapsed": false,
    "pycharm": {
     "name": "#%%\n"
    }
   }
  },
  {
   "cell_type": "code",
   "execution_count": 128,
   "outputs": [
    {
     "name": "stdout",
     "output_type": "stream",
     "text": [
      "3\n",
      "29\n",
      "28\n",
      "27\n",
      "26\n",
      "25\n",
      "24\n",
      "23\n"
     ]
    },
    {
     "data": {
      "text/plain": "[3, 29, 28, 27, 26, 25, 24, 23]"
     },
     "execution_count": 128,
     "metadata": {},
     "output_type": "execute_result"
    }
   ],
   "source": [
    "factors_R2 = pd.Series(rsquared, index=df_factors.columns)\n",
    "factors_best = []\n",
    "factors_R2_temp = factors_R2.copy()\n",
    "for i in range(8):\n",
    "    ind = np.argmax(factors_R2_temp)\n",
    "    print(ind)\n",
    "    factors_best.append(ind)\n",
    "    factors_R2_temp.pop(ind)\n",
    "factors_best"
   ],
   "metadata": {
    "collapsed": false,
    "pycharm": {
     "name": "#%%\n"
    }
   }
  },
  {
   "cell_type": "code",
   "execution_count": 129,
   "outputs": [
    {
     "data": {
      "text/plain": "                  3         29         28         27        26         25  \\\n1992-09-30  0.396782 -5.486120  -9.249700   8.201383 -6.859323  13.981377   \n1992-12-31 -0.677819 -6.879979  -9.952047   7.905579 -8.232080  12.211616   \n1993-03-31  2.251620 -6.257700  -9.490395  10.273047 -8.534841  12.959092   \n1993-06-30  0.710671 -6.667990  -9.866440   8.837110 -9.042858  12.472832   \n1993-09-30 -0.039773 -6.613172 -10.059440   8.913000 -7.968029  12.634875   \n...              ...       ...        ...        ...       ...        ...   \n2020-12-31  0.571343  1.078664  -0.783378   0.676372 -1.069453  -0.537131   \n2021-03-31  3.558612 -0.537293   0.246248  -1.231944 -0.073097   0.132849   \n2021-06-30  0.400706  0.027273   0.016209   0.030827  0.148216   0.872987   \n2021-09-30  3.695218 -0.122740  -0.559278  -0.491034 -0.291802  -0.120722   \n2021-12-31  2.751617  0.031142  -0.722889   0.677484  0.729506  -1.059267   \n\n                  24        23  \n1992-09-30  5.254151 -3.338757  \n1992-12-31  5.175147 -4.983818  \n1993-03-31  4.285806 -4.420032  \n1993-06-30  5.610175 -4.604277  \n1993-09-30  3.692065 -5.749499  \n...              ...       ...  \n2020-12-31  0.092678 -0.464718  \n2021-03-31 -0.496888  0.861555  \n2021-06-30  0.544007  0.250484  \n2021-09-30 -0.116066  0.422172  \n2021-12-31 -1.466951  0.372885  \n\n[118 rows x 8 columns]",
      "text/html": "<div>\n<style scoped>\n    .dataframe tbody tr th:only-of-type {\n        vertical-align: middle;\n    }\n\n    .dataframe tbody tr th {\n        vertical-align: top;\n    }\n\n    .dataframe thead th {\n        text-align: right;\n    }\n</style>\n<table border=\"1\" class=\"dataframe\">\n  <thead>\n    <tr style=\"text-align: right;\">\n      <th></th>\n      <th>3</th>\n      <th>29</th>\n      <th>28</th>\n      <th>27</th>\n      <th>26</th>\n      <th>25</th>\n      <th>24</th>\n      <th>23</th>\n    </tr>\n  </thead>\n  <tbody>\n    <tr>\n      <th>1992-09-30</th>\n      <td>0.396782</td>\n      <td>-5.486120</td>\n      <td>-9.249700</td>\n      <td>8.201383</td>\n      <td>-6.859323</td>\n      <td>13.981377</td>\n      <td>5.254151</td>\n      <td>-3.338757</td>\n    </tr>\n    <tr>\n      <th>1992-12-31</th>\n      <td>-0.677819</td>\n      <td>-6.879979</td>\n      <td>-9.952047</td>\n      <td>7.905579</td>\n      <td>-8.232080</td>\n      <td>12.211616</td>\n      <td>5.175147</td>\n      <td>-4.983818</td>\n    </tr>\n    <tr>\n      <th>1993-03-31</th>\n      <td>2.251620</td>\n      <td>-6.257700</td>\n      <td>-9.490395</td>\n      <td>10.273047</td>\n      <td>-8.534841</td>\n      <td>12.959092</td>\n      <td>4.285806</td>\n      <td>-4.420032</td>\n    </tr>\n    <tr>\n      <th>1993-06-30</th>\n      <td>0.710671</td>\n      <td>-6.667990</td>\n      <td>-9.866440</td>\n      <td>8.837110</td>\n      <td>-9.042858</td>\n      <td>12.472832</td>\n      <td>5.610175</td>\n      <td>-4.604277</td>\n    </tr>\n    <tr>\n      <th>1993-09-30</th>\n      <td>-0.039773</td>\n      <td>-6.613172</td>\n      <td>-10.059440</td>\n      <td>8.913000</td>\n      <td>-7.968029</td>\n      <td>12.634875</td>\n      <td>3.692065</td>\n      <td>-5.749499</td>\n    </tr>\n    <tr>\n      <th>...</th>\n      <td>...</td>\n      <td>...</td>\n      <td>...</td>\n      <td>...</td>\n      <td>...</td>\n      <td>...</td>\n      <td>...</td>\n      <td>...</td>\n    </tr>\n    <tr>\n      <th>2020-12-31</th>\n      <td>0.571343</td>\n      <td>1.078664</td>\n      <td>-0.783378</td>\n      <td>0.676372</td>\n      <td>-1.069453</td>\n      <td>-0.537131</td>\n      <td>0.092678</td>\n      <td>-0.464718</td>\n    </tr>\n    <tr>\n      <th>2021-03-31</th>\n      <td>3.558612</td>\n      <td>-0.537293</td>\n      <td>0.246248</td>\n      <td>-1.231944</td>\n      <td>-0.073097</td>\n      <td>0.132849</td>\n      <td>-0.496888</td>\n      <td>0.861555</td>\n    </tr>\n    <tr>\n      <th>2021-06-30</th>\n      <td>0.400706</td>\n      <td>0.027273</td>\n      <td>0.016209</td>\n      <td>0.030827</td>\n      <td>0.148216</td>\n      <td>0.872987</td>\n      <td>0.544007</td>\n      <td>0.250484</td>\n    </tr>\n    <tr>\n      <th>2021-09-30</th>\n      <td>3.695218</td>\n      <td>-0.122740</td>\n      <td>-0.559278</td>\n      <td>-0.491034</td>\n      <td>-0.291802</td>\n      <td>-0.120722</td>\n      <td>-0.116066</td>\n      <td>0.422172</td>\n    </tr>\n    <tr>\n      <th>2021-12-31</th>\n      <td>2.751617</td>\n      <td>0.031142</td>\n      <td>-0.722889</td>\n      <td>0.677484</td>\n      <td>0.729506</td>\n      <td>-1.059267</td>\n      <td>-1.466951</td>\n      <td>0.372885</td>\n    </tr>\n  </tbody>\n</table>\n<p>118 rows × 8 columns</p>\n</div>"
     },
     "execution_count": 129,
     "metadata": {},
     "output_type": "execute_result"
    }
   ],
   "source": [
    "df_factors_best = df_factors.iloc[:,factors_best]\n",
    "df_factors = df_factors_best\n",
    "df_factors"
   ],
   "metadata": {
    "collapsed": false,
    "pycharm": {
     "name": "#%%\n"
    }
   }
  },
  {
   "cell_type": "code",
   "execution_count": 130,
   "outputs": [],
   "source": [
    "# rename columns\n",
    "factor_cols = ['Factor_'+str(i) for i in list(df_factors.columns)]\n",
    "df_factors.columns = factor_cols\n",
    "df_factors_with_lag = pd.concat((df_factors, df_factors.shift(1)), axis=1)\n",
    "factor_cols_lag1 = [i+'_t-1' for i in factor_cols]\n",
    "df_factors_with_lag.columns = factor_cols+factor_cols_lag1\n",
    "df_fa_post_best = pd.concat((df_intercept_CPI, df_factors_with_lag), axis=1)\n",
    "df_fa_post_best = df_fa_post_best.iloc[fa_lags_1+1:, :]"
   ],
   "metadata": {
    "collapsed": false,
    "pycharm": {
     "name": "#%%\n"
    }
   }
  },
  {
   "cell_type": "code",
   "execution_count": 131,
   "outputs": [],
   "source": [
    "data_fa_h4_best = Data(df_sa, params)\n",
    "data_fa_h4_best.X = df_fa_post_best\n",
    "data_fa_h4_best.T = data_fa_h4_best.X.shape[0]\n",
    "data_fa_h4_best.N = data_fa_h4_best.X.shape[1]\n",
    "data_fa_h4_best.y_dep = data_fa_h4_best.y_dep[fa_lags_1+1:]    # adjust for lagging"
   ],
   "metadata": {
    "collapsed": false,
    "pycharm": {
     "name": "#%%\n"
    }
   }
  },
  {
   "cell_type": "code",
   "execution_count": 132,
   "outputs": [
    {
     "name": "stdout",
     "output_type": "stream",
     "text": [
      "(alpha, lambda) = (0.99, 0.99)\n"
     ]
    },
    {
     "name": "stderr",
     "output_type": "stream",
     "text": [
      "100%|██████████| 113/113 [07:56<00:00,  4.22s/it]"
     ]
    },
    {
     "name": "stdout",
     "output_type": "stream",
     "text": [
      "DMA finished\n"
     ]
    },
    {
     "name": "stderr",
     "output_type": "stream",
     "text": [
      "\n"
     ]
    }
   ],
   "source": [
    "dma_fa_h4_best, stats_fa_h4_best = DMA_steps(params, data_fa_h4_best, 0.99, 0.99, False, 'dma_fa_h4_best', None)"
   ],
   "metadata": {
    "collapsed": false,
    "pycharm": {
     "name": "#%%\n"
    }
   }
  },
  {
   "cell_type": "code",
   "execution_count": 140,
   "outputs": [
    {
     "data": {
      "text/plain": "                                   MAFE      MSFE      BIAS\nDMA, h=4, 1 lag, (0.99, 0.99)  0.463535  0.672831  0.007322\nDMS, h=4, 1 lag, (0.99, 0.99)  0.464901  0.681962  0.007550",
      "text/html": "<div>\n<style scoped>\n    .dataframe tbody tr th:only-of-type {\n        vertical-align: middle;\n    }\n\n    .dataframe tbody tr th {\n        vertical-align: top;\n    }\n\n    .dataframe thead th {\n        text-align: right;\n    }\n</style>\n<table border=\"1\" class=\"dataframe\">\n  <thead>\n    <tr style=\"text-align: right;\">\n      <th></th>\n      <th>MAFE</th>\n      <th>MSFE</th>\n      <th>BIAS</th>\n    </tr>\n  </thead>\n  <tbody>\n    <tr>\n      <th>DMA, h=4, 1 lag, (0.99, 0.99)</th>\n      <td>0.463535</td>\n      <td>0.672831</td>\n      <td>0.007322</td>\n    </tr>\n    <tr>\n      <th>DMS, h=4, 1 lag, (0.99, 0.99)</th>\n      <td>0.464901</td>\n      <td>0.681962</td>\n      <td>0.007550</td>\n    </tr>\n  </tbody>\n</table>\n</div>"
     },
     "execution_count": 140,
     "metadata": {},
     "output_type": "execute_result"
    }
   ],
   "source": [
    "stats2 = ['MAFE', 'MSFE', 'BIAS']\n",
    "stats_pd_best_facts = pd.DataFrame.from_dict(data={'DMA, h=4, 1 lag, (0.99, 0.99)': stats_fa_h4_best[2:5],\n",
    "                                                   'DMS, h=4, 1 lag, (0.99, 0.99)': stats_fa_h4_best[5:]},\n",
    "                                orient='index',\n",
    "                                columns=stats2)\n",
    "stats_pd_best_facts*[100, 100**2, 100]"
   ],
   "metadata": {
    "collapsed": false,
    "pycharm": {
     "name": "#%%\n"
    }
   }
  },
  {
   "cell_type": "code",
   "execution_count": 141,
   "outputs": [
    {
     "name": "stdout",
     "output_type": "stream",
     "text": [
      "\\begin{tabular}{lrrr}\n",
      "\\toprule\n",
      "{} &    MAFE &    MSFE &    BIAS \\\\\n",
      "\\midrule\n",
      "DMA, h=4, 1 lag, (0.99, 0.99) &  0.4635 &  0.6728 &  0.0073 \\\\\n",
      "DMS, h=4, 1 lag, (0.99, 0.99) &  0.4649 &  0.6820 &  0.0076 \\\\\n",
      "\\bottomrule\n",
      "\\end{tabular}\n",
      "\n"
     ]
    }
   ],
   "source": [
    "print((stats_pd_best_facts*[100, 100**2, 100]).round(4).to_latex())"
   ],
   "metadata": {
    "collapsed": false,
    "pycharm": {
     "name": "#%%\n"
    }
   }
  },
  {
   "cell_type": "code",
   "execution_count": 135,
   "outputs": [
    {
     "data": {
      "text/plain": "[0.004649013258907723, 6.819619536916893e-05, 7.550358634204778e-05]"
     },
     "execution_count": 135,
     "metadata": {},
     "output_type": "execute_result"
    }
   ],
   "source": [
    "stats_fa_h4_best[5:]"
   ],
   "metadata": {
    "collapsed": false,
    "pycharm": {
     "name": "#%%\n"
    }
   }
  },
  {
   "cell_type": "code",
   "execution_count": 136,
   "outputs": [
    {
     "data": {
      "text/plain": "0.6728307062926381"
     },
     "execution_count": 136,
     "metadata": {},
     "output_type": "execute_result"
    }
   ],
   "source": [
    "6.72830706292638e-05*100**2"
   ],
   "metadata": {
    "collapsed": false,
    "pycharm": {
     "name": "#%%\n"
    }
   }
  },
  {
   "cell_type": "code",
   "execution_count": 137,
   "outputs": [
    {
     "data": {
      "text/plain": "31877"
     },
     "execution_count": 137,
     "metadata": {},
     "output_type": "execute_result"
    }
   ],
   "source": [
    "3815+1933+12261+1246+12622"
   ],
   "metadata": {
    "collapsed": false,
    "pycharm": {
     "name": "#%%\n"
    }
   }
  },
  {
   "cell_type": "code",
   "execution_count": null,
   "outputs": [],
   "source": [],
   "metadata": {
    "collapsed": false,
    "pycharm": {
     "name": "#%%\n"
    }
   }
  }
 ],
 "metadata": {
  "kernelspec": {
   "display_name": "Python 3",
   "language": "python",
   "name": "python3"
  },
  "language_info": {
   "codemirror_mode": {
    "name": "ipython",
    "version": 2
   },
   "file_extension": ".py",
   "mimetype": "text/x-python",
   "name": "python",
   "nbconvert_exporter": "python",
   "pygments_lexer": "ipython2",
   "version": "2.7.6"
  }
 },
 "nbformat": 4,
 "nbformat_minor": 0
}