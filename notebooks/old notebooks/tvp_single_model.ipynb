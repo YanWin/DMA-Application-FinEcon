{
 "cells": [
  {
   "cell_type": "markdown",
   "id": "f48439bd-632f-47b9-9e2f-e04d92f98ad7",
   "metadata": {},
   "source": [
    "# TVP single model"
   ]
  },
  {
   "cell_type": "code",
   "execution_count": 252,
   "id": "54aeb49c-ce72-45f5-8e00-253ae258152b",
   "metadata": {},
   "outputs": [
    {
     "name": "stdout",
     "output_type": "stream",
     "text": [
      "The autoreload extension is already loaded. To reload it, use:\n",
      "  %reload_ext autoreload\n"
     ]
    }
   ],
   "source": [
    "import pandas as pd\n",
    "%load_ext autoreload\n",
    "%autoreload 2\n",
    "import numpy as np\n",
    "import numpy.linalg as la\n",
    "\n",
    "from src.data import import_data\n",
    "from src.data import transform_data\n",
    "from src.models import preliminaries\n",
    "from src.data import data_class"
   ]
  },
  {
   "cell_type": "code",
   "execution_count": 253,
   "outputs": [],
   "source": [
    "# load data from DMA_ECB\n",
    "df = import_data.load_dma_ecb()"
   ],
   "metadata": {
    "collapsed": false,
    "pycharm": {
     "name": "#%%\n"
    }
   }
  },
  {
   "cell_type": "code",
   "execution_count": 254,
   "outputs": [
    {
     "data": {
      "text/plain": "Index(['HICP_SA', 'M1', 'M2', 'M3_OUT', 'M3_OUTPS', 'LPS', 'D4PSTARPSCGL',\n       'D4PSTARCGL', 'D4DIV_TV', 'D4M3DEPHH', 'D4M3DFM', 'D4M3MULTI',\n       'RGAPDFR', 'USD_EUR', 'R_EFF_EXCH', 'OILP', 'WPRM_EE', 'WPRM',\n       'STOCKPRICES', 'STOCK_PE', 'DIVYIELD', 'STOCKPRICES_EUR', 'UNEMPL'],\n      dtype='object')"
     },
     "execution_count": 254,
     "metadata": {},
     "output_type": "execute_result"
    }
   ],
   "source": [
    "# print variables in dataset\n",
    "df.columns"
   ],
   "metadata": {
    "collapsed": false,
    "pycharm": {
     "name": "#%%\n"
    }
   }
  },
  {
   "cell_type": "markdown",
   "source": [
    "## Set preliminaries"
   ],
   "metadata": {
    "collapsed": false,
    "pycharm": {
     "name": "#%% md\n"
    }
   }
  },
  {
   "cell_type": "code",
   "execution_count": 255,
   "outputs": [],
   "source": [
    "# initialize Settings\n",
    "params = preliminaries.Settings()\n",
    "# adjust settings\n",
    "params.use_y = ['HICP_SA'] # use as y\n",
    "params.use_x = ['USD_EUR', 'OILP', 'STOCKPRICES'] # indep vars\n",
    "# transformations for X\n",
    "    #     -- Tcodes:\n",
    "    #                 1 Level\n",
    "    #                 2 First Difference\n",
    "    #                 3 Second Difference\n",
    "    #                 4 Log-Level\n",
    "    #                 5 Log-First-Difference\n",
    "    #                 6 Log-Second-Difference\n",
    "    #                 7 Detrend Log Using 1-sided HP detrending for Monthly data\n",
    "    #                 8 Detrend Log Using 1-sided HP detrending for Quarterly data\n",
    "    #                16 Log-Second-Difference\n",
    "    #                17 (1-L)(1-L^12)\n",
    "params.tcodesX = [5,5,5]\n",
    "params.tcodey = 5\n",
    "# specify end of training data\n",
    "    # correct?\n",
    "params.first_sample_ends = 0.5"
   ],
   "metadata": {
    "collapsed": false,
    "pycharm": {
     "name": "#%%\n"
    }
   }
  },
  {
   "cell_type": "code",
   "execution_count": 256,
   "outputs": [
    {
     "name": "stdout",
     "output_type": "stream",
     "text": [
      "The following preliminary settings are specified:\n",
      "intercept : 1\n",
      "plag : 1\n",
      "hlag : 0\n",
      "use_x : ['USD_EUR', 'OILP', 'STOCKPRICES']\n",
      "use_y : ['HICP_SA']\n",
      "tcodesX : [5, 5, 5]\n",
      "tcodey : 5\n",
      "miss_treatment : 2\n",
      "lamda : 0.99\n",
      "alpha : 0.9\n",
      "kappa : 0.95\n",
      "forgetting_method : 1\n",
      "prior_theta : 2\n",
      "initial_V_0 : 2\n",
      "initial_DMA_weights : 1\n",
      "expert_opinion : 1\n",
      "h_fore : 1\n",
      "first_sample_ends : 0.5\n"
     ]
    }
   ],
   "source": [
    "params.print_settings()"
   ],
   "metadata": {
    "collapsed": false,
    "pycharm": {
     "name": "#%%\n"
    }
   }
  },
  {
   "cell_type": "markdown",
   "source": [
    "## Transform data"
   ],
   "metadata": {
    "collapsed": false,
    "pycharm": {
     "name": "#%% md\n"
    }
   }
  },
  {
   "cell_type": "code",
   "execution_count": 257,
   "outputs": [],
   "source": [
    "# create data class\n",
    "data = data_class.Data(df)\n",
    "# inherit previously specified settings\n",
    "data = data.get_settings(df, params)"
   ],
   "metadata": {
    "collapsed": false,
    "pycharm": {
     "name": "#%%\n"
    }
   }
  },
  {
   "cell_type": "code",
   "execution_count": 258,
   "outputs": [],
   "source": [
    "# execute: data.prepare_data_all_steps()\n",
    "data.set_data()\n",
    "# transform data and shift for forecasting\n",
    "data.transf_data()\n",
    "# create lags\n",
    "data.lagg_matrices()\n",
    "# combine data of lagged y with exogenous vars\n",
    "data.combine_lagged_y_X()\n",
    "# remove observations\n",
    "data.remove_obs()\n",
    "# deal with missings\n",
    "data.deal_with_missing()\n",
    "# add intercept\n",
    "data.add_intercept()"
   ],
   "metadata": {
    "collapsed": false,
    "pycharm": {
     "name": "#%%\n"
    }
   }
  },
  {
   "cell_type": "code",
   "execution_count": 259,
   "outputs": [
    {
     "data": {
      "text/plain": "         intercept   HICP_SA  HICP_SA_lag_1   USD_EUR      OILP  STOCKPRICES\n1980.Q3          1  0.020494       0.024052  0.021353 -0.089918     0.080320\n1980.Q4          1  0.021663       0.020494 -0.057987  0.174227    -0.025546\n1981.Q1          1  0.026490       0.021663 -0.085655 -0.045197    -0.085118\n1981.Q2          1  0.024307       0.026490 -0.093685 -0.121839    -0.083670\n1981.Q3          1  0.025404       0.024307 -0.083770 -0.016026    -0.110984\n...            ...       ...            ...       ...       ...          ...\n2009.Q2          1  0.002584      -0.002492  0.045120  0.298103     0.132513\n2009.Q3          1  0.001842       0.002584  0.050190  0.141009     0.154005\n2009.Q4          1  0.002206       0.001842  0.034368  0.099589     0.108996\n2010.Q1          1  0.004671       0.002206 -0.069959  0.020666    -0.061161\n2010.Q2          1  0.006285       0.004671 -0.083067  0.017649    -0.101509\n\n[120 rows x 6 columns]",
      "text/html": "<div>\n<style scoped>\n    .dataframe tbody tr th:only-of-type {\n        vertical-align: middle;\n    }\n\n    .dataframe tbody tr th {\n        vertical-align: top;\n    }\n\n    .dataframe thead th {\n        text-align: right;\n    }\n</style>\n<table border=\"1\" class=\"dataframe\">\n  <thead>\n    <tr style=\"text-align: right;\">\n      <th></th>\n      <th>intercept</th>\n      <th>HICP_SA</th>\n      <th>HICP_SA_lag_1</th>\n      <th>USD_EUR</th>\n      <th>OILP</th>\n      <th>STOCKPRICES</th>\n    </tr>\n  </thead>\n  <tbody>\n    <tr>\n      <th>1980.Q3</th>\n      <td>1</td>\n      <td>0.020494</td>\n      <td>0.024052</td>\n      <td>0.021353</td>\n      <td>-0.089918</td>\n      <td>0.080320</td>\n    </tr>\n    <tr>\n      <th>1980.Q4</th>\n      <td>1</td>\n      <td>0.021663</td>\n      <td>0.020494</td>\n      <td>-0.057987</td>\n      <td>0.174227</td>\n      <td>-0.025546</td>\n    </tr>\n    <tr>\n      <th>1981.Q1</th>\n      <td>1</td>\n      <td>0.026490</td>\n      <td>0.021663</td>\n      <td>-0.085655</td>\n      <td>-0.045197</td>\n      <td>-0.085118</td>\n    </tr>\n    <tr>\n      <th>1981.Q2</th>\n      <td>1</td>\n      <td>0.024307</td>\n      <td>0.026490</td>\n      <td>-0.093685</td>\n      <td>-0.121839</td>\n      <td>-0.083670</td>\n    </tr>\n    <tr>\n      <th>1981.Q3</th>\n      <td>1</td>\n      <td>0.025404</td>\n      <td>0.024307</td>\n      <td>-0.083770</td>\n      <td>-0.016026</td>\n      <td>-0.110984</td>\n    </tr>\n    <tr>\n      <th>...</th>\n      <td>...</td>\n      <td>...</td>\n      <td>...</td>\n      <td>...</td>\n      <td>...</td>\n      <td>...</td>\n    </tr>\n    <tr>\n      <th>2009.Q2</th>\n      <td>1</td>\n      <td>0.002584</td>\n      <td>-0.002492</td>\n      <td>0.045120</td>\n      <td>0.298103</td>\n      <td>0.132513</td>\n    </tr>\n    <tr>\n      <th>2009.Q3</th>\n      <td>1</td>\n      <td>0.001842</td>\n      <td>0.002584</td>\n      <td>0.050190</td>\n      <td>0.141009</td>\n      <td>0.154005</td>\n    </tr>\n    <tr>\n      <th>2009.Q4</th>\n      <td>1</td>\n      <td>0.002206</td>\n      <td>0.001842</td>\n      <td>0.034368</td>\n      <td>0.099589</td>\n      <td>0.108996</td>\n    </tr>\n    <tr>\n      <th>2010.Q1</th>\n      <td>1</td>\n      <td>0.004671</td>\n      <td>0.002206</td>\n      <td>-0.069959</td>\n      <td>0.020666</td>\n      <td>-0.061161</td>\n    </tr>\n    <tr>\n      <th>2010.Q2</th>\n      <td>1</td>\n      <td>0.006285</td>\n      <td>0.004671</td>\n      <td>-0.083067</td>\n      <td>0.017649</td>\n      <td>-0.101509</td>\n    </tr>\n  </tbody>\n</table>\n<p>120 rows × 6 columns</p>\n</div>"
     },
     "execution_count": 259,
     "metadata": {},
     "output_type": "execute_result"
    }
   ],
   "source": [
    "data.X"
   ],
   "metadata": {
    "collapsed": false,
    "pycharm": {
     "name": "#%%\n"
    }
   }
  },
  {
   "cell_type": "code",
   "execution_count": 260,
   "outputs": [
    {
     "data": {
      "text/plain": "'HICP_SA_t+1'"
     },
     "execution_count": 260,
     "metadata": {},
     "output_type": "execute_result"
    }
   ],
   "source": [
    "data.y_dep.name"
   ],
   "metadata": {
    "collapsed": false,
    "pycharm": {
     "name": "#%%\n"
    }
   }
  },
  {
   "cell_type": "code",
   "execution_count": 261,
   "outputs": [],
   "source": [
    "# save vars such as N, T\n",
    "data.save_data_info()\n",
    "# transform to numpy\n",
    "data.data_to_numpy()\n",
    "X = data.X_np\n",
    "y = data.y_dep_np"
   ],
   "metadata": {
    "collapsed": false,
    "pycharm": {
     "name": "#%%\n"
    }
   }
  },
  {
   "cell_type": "code",
   "execution_count": 262,
   "outputs": [],
   "source": [
    "data.set_priors()"
   ],
   "metadata": {
    "collapsed": false,
    "pycharm": {
     "name": "#%%\n"
    }
   }
  },
  {
   "cell_type": "markdown",
   "source": [
    "## Predict TVP"
   ],
   "metadata": {
    "collapsed": false,
    "pycharm": {
     "name": "#%% md\n"
    }
   }
  },
  {
   "cell_type": "markdown",
   "source": [
    "### Kalman Filter Explanation\n",
    "Given the State-Space model:\n",
    "$y_t = Z_t \\alpha_t + d_t + \\epsilon_t$, $\\epsilon_t \\sim iid N(0,H_t)$\n",
    "$\\alpha_t = T_t \\alpha_{t-1} + c_t +R_t \\eta_t$, $\\eta_t \\sim iid N(0,Q_t)$\n",
    "Kalman filter consists of\n",
    "1. Prediction equations\n",
    "2. Updating equations\n",
    "\n",
    "Using:\n",
    "- $a_t = E[\\alpha_t|I_t]$ = optimal estimator of $\\alpha_t$ based on $I_t$\n",
    "- $P_t = E[(\\alpha_t - a_t)(\\alpha_t - a_t)'|I_t] =$ Covariance of the estimation error\n",
    "\n",
    "Generally:\n",
    "1. Prediction Equations\n",
    "    - $a_{t|t-1} = E[\\alpha_t|I_t] = T_t a_{t-1} + c_t$\n",
    "    - $P_{t|t-1} = E[(\\alpha_t - a_{t-1})(\\alpha_t - a_{t-1})'|I_{t-1}] = T_t P_{t-1} T_{t-1}' + R_t Q_t R_t'$\n",
    "   -> Computing the point prediction of $y_t|I_{t-1}$ as $y_{t|t-1} = Z_t a_{t|t-1} + d_t$ and using new information these lead to\n",
    "    - the prediction error and its MSE $v_t = y_t - y_{t|t-1} = Z_t(\\alpha_t - a_{t|t-1}) + \\epsilon_t$ and $E[v_t v_t']=F_t = Z_t P_{t|t-1} Z_t' + H_t$\n",
    "\n",
    "2. Updating equations\n",
    "    with new information $y_t$, the optimal predictor and its MSE get updated using the prediction error that contains new information about $\\theta_t$\n",
    "   - $a_t = a_{t|t-1} + P_{t|t-1} Z_t' F_t^{-1} (y_t -Z_t a_{t|t-1} -d_t) = a_{t|t-1} + P_{t|t-1} Z_t' F_t^{-1} v_t$\n",
    "   - $P_t = P_{t|t-1} - P_{t|t-1} Z_t' F_t^{-1} Z_t P_{t|t-1}$\n",
    "   -> $a_t$ is the filtered estimated of $\\alpha_t$, i.e. the optimal estimate of $\\alpha_t|I_t$. $P_t$ is its MSE matrix."
   ],
   "metadata": {
    "collapsed": false,
    "pycharm": {
     "name": "#%% md\n"
    }
   }
  },
  {
   "cell_type": "markdown",
   "source": [
    "### TVP-Model Estimation Scheme\n",
    "Estimate:\n",
    "(1) measurment equation:  $ y_t = X_t \\theta_t + \\epsilon_t$ with $\\epsilon_t \\sim iidN(0,H_t)$\n",
    "(2) transition equation with unobservable state vector $\\theta$: $ \\theta_t = \\theta_{t-1} + \\eta_t$ with $\\eta_t \\sim iid N(0,Q_t)$\n",
    "also $E[\\epsilon_t \\eta_t] = 0$\n",
    "\n",
    "Given the variances $H_t$ and $Q_t$, the standard State-Space estimation can be used, i.e. the Kalman filter. (See notes in Liquid text to Harvey (1990))\n",
    "\n",
    "In our case:\n",
    "1. Prediction equations\n",
    "    - $\\hat{\\theta_{t|t-1}} = \\hat{\\theta_{t-1}}$\n",
    "    - $P_{t|t-1} = P_{t-1} + Q_t$ and using the forgetting factor $P_{t|t-1} = \\frac{1}{\\lambda} P_{t-1}$\n",
    "        - Sidenotes:\n",
    "             - The covariance of the estimation error is the covariance of the estimator: $P_{t|t-1} = \\Sigma_{t|t-1}$ and $P_{t} = \\Sigma_{t}$\n",
    "             - the predictive likelihood of $y_t$ is $f(y_t|I_{t-1}) \\sim N(X_{t-1}\\theta_{t|t-1}, P_{t|t-1})$\n",
    "             - with the forgetting factor there is no need to reestimate $Q_t$ once new information arrives\n",
    "        - $E[v_t v_t']=F_t = Z_t P_{t|t-1} Z_t' + H_t$\n",
    "            - To get the time dependent $H_t$ (error variance likely to change over time - e.g. Great Moderation), a Exponentially Weighted Moving Average (EWMA) estimator is used to get a consistent estimate\n",
    "            - $\\hat{H}_t = \\sqrt{(1-\\kappa)\\sum_{j=1}^t \\kappa^{j-1} (y_j - z_j \\hat{\\theta}_j)^2}$\n",
    "            - $\\kappa$ is a decay factor that is set according to quarterly data\n",
    "            - recursive forecast_ $\\hat{H}_{t+1|t} = \\kappa \\hat{H}_{t|t-1} + (1-\\kappa) (y_t - Z_t \\hat{\\kappa}_t)^2$\n",
    "            - No ARCH specification used to ease computational burden\n",
    "\n",
    "2. Updating Equations\n",
    "    - $\\hat{\\theta_{t}} = \\hat{\\theta_{t|t-1}} + P_{t|t-1} Z_t' F_t^{-1} v_t$\n",
    "    - $P_t  = P_{t|t-1} - P_{t|t-1} Z_t F_t^{t-1} Z_t P_{t|t-1}$\n",
    "        - Sidenote:\n",
    "            - Now $\\theta_t|t \\sim N(\\hat{\\theta_{t}}, P_t)$"
   ],
   "metadata": {
    "collapsed": false,
    "pycharm": {
     "name": "#%% md\n"
    }
   }
  },
  {
   "cell_type": "markdown",
   "source": [
    "The estimation procedure goes as follows:\n",
    "1. in period t=0\n",
    "   - Set $\\theta_0$\n",
    "   - Set $P_t$\n",
    "2. At the beginning of t use prediction equation to get\n",
    "   - $\\hat{\\theta}_{t|t-1}$\n",
    "   - $P_{t|t-1}$\n",
    "3. With new data get prediction error\n",
    "   - Estimate $H_t$\n",
    "   - calculate prediction error\n",
    "4. Use prediction error to update equations\n",
    "   - $\\hat{\\theta}_t$\n",
    "   - $P_t$\n",
    "5. Repeat Steps 2-4"
   ],
   "metadata": {
    "collapsed": false,
    "pycharm": {
     "name": "#%% md\n"
    }
   }
  },
  {
   "cell_type": "code",
   "execution_count": 264,
   "outputs": [],
   "source": [
    "X = data.X_np\n",
    "y = data.y_dep\n",
    "T = data.T\n",
    "N = data.N\n",
    "theta_prmean = data.theta_prmean\n",
    "theta_prvar = data.theta_prvar\n",
    "lamda = data.lamda\n",
    "kappa = data.kappa\n",
    "V_0 = data.V_0"
   ],
   "metadata": {
    "collapsed": false,
    "pycharm": {
     "name": "#%%\n"
    }
   }
  },
  {
   "cell_type": "code",
   "execution_count": 352,
   "outputs": [],
   "source": [
    "theta_pred = np.empty((N,T), dtype=float)*np.nan\n",
    "theta_update = np.empty((N,T), dtype=float)*np.nan\n",
    "P_pred = np.empty((N,N,T), dtype=float)*np.nan\n",
    "P_update = np.empty((N,N,T), dtype=float)*np.nan\n",
    "y_pred = np.empty(T, dtype=float)*np.nan\n",
    "e_t = np.empty(T, dtype=float)*np.nan\n",
    "H_pred = np.empty(T, dtype=float)*np.nan"
   ],
   "metadata": {
    "collapsed": false,
    "pycharm": {
     "name": "#%%\n"
    }
   }
  },
  {
   "cell_type": "code",
   "execution_count": 353,
   "outputs": [],
   "source": [
    "for t in range(T):\n",
    "    # prediction step\n",
    "    if t == 0:\n",
    "        theta_pred[:,t] = theta_prmean\n",
    "        P_pred[:,:,t] = (1/lamda)*theta_prvar\n",
    "    else:\n",
    "        theta_pred[:,t] = theta_update[:,t-1]\n",
    "        P_pred[:,:,t] = (1/lamda)*P_update[:,:,t-1]\n",
    "    # predict y_t and calculate prediction error\n",
    "    y_pred[t] = X[t,:] @ theta_pred[:,t]\n",
    "    e_t[t] = y[t] - X[t,:] @ theta_pred[:,t]\n",
    "    # Estimate H_t\n",
    "    if t == 0:\n",
    "        H_t = (1/(t+1))*(e_t[t]**2 - X[t,:] @ P_pred[:,:,t] @ X[t,:].T)\n",
    "        H_pred[t] = H_t if H_t > 0 else V_0\n",
    "    else:\n",
    "        H_t = kappa*H_pred[t-1] + (1-kappa)*(e_t[t-1]**2)\n",
    "        H_pred[t] = H_t if H_t > 0 else H_pred[t-1]\n",
    "    # updating step\n",
    "    F = H_pred[t] + X[t,:] @ P_pred[:,:,t] @ X[t,:].T\n",
    "    theta_update[:,t] = theta_pred[:,t] + P_pred[:,:,t] @ X[t,:].T * (1/F) * e_t[t]\n",
    "    P_update[:,:,t] = P_pred[:,:,t] - P_pred[:,:,t] @ X[[t],:].T @ X[[t],:] @ P_pred[:,:,t] * (1/F)"
   ],
   "metadata": {
    "collapsed": false,
    "pycharm": {
     "name": "#%%\n"
    }
   }
  }
 ],
 "metadata": {
  "kernelspec": {
   "display_name": "Python 3 (ipykernel)",
   "language": "python",
   "name": "python3"
  },
  "language_info": {
   "codemirror_mode": {
    "name": "ipython",
    "version": 3
   },
   "file_extension": ".py",
   "mimetype": "text/x-python",
   "name": "python",
   "nbconvert_exporter": "python",
   "pygments_lexer": "ipython3",
   "version": "3.10.0"
  }
 },
 "nbformat": 4,
 "nbformat_minor": 5
}