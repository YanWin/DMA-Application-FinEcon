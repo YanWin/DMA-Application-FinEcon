{
 "cells": [
  {
   "cell_type": "markdown",
   "metadata": {
    "collapsed": true,
    "pycharm": {
     "name": "#%% md\n"
    }
   },
   "source": [
    "# Dynamic Model Averaging (DMA) Application for Germany\n",
    "This notebook is supposed to bundle the parts for DMA application to Germany and produce the analysis used in the final paper.\n",
    "It is structured as follows:\n",
    "1. Present Data\n",
    "2. Present Factor Analysis results\n",
    "3. Find optimal parameters\n",
    "4. Show DMA Output\n",
    "   1. Inclusion Probabilities\n",
    "   2. Expected number of predictors\n",
    "   3. Forecast performance\n",
    "5. Use different weighting on prefered specification"
   ]
  },
  {
   "cell_type": "code",
   "execution_count": 32,
   "outputs": [
    {
     "name": "stdout",
     "output_type": "stream",
     "text": [
      "The autoreload extension is already loaded. To reload it, use:\n",
      "  %reload_ext autoreload\n"
     ]
    }
   ],
   "source": [
    "%load_ext autoreload\n",
    "%autoreload 2\n",
    "\n",
    "import os\n",
    "from pathlib import Path\n",
    "import pickle\n",
    "import pandas as pd\n",
    "import numpy as np\n",
    "import itertools\n",
    "import random\n",
    "import plotly\n",
    "import plotly.express as px\n",
    "import scipy.stats as stats\n",
    "import matplotlib.pyplot as plt\n",
    "from factor_analyzer.factor_analyzer import FactorAnalyzer\n",
    "from statsmodels.regression.linear_model import OLS\n",
    "\n",
    "from src.data import import_data\n",
    "from src.data.data_class import Data\n",
    "from src.models.preliminaries import Settings\n",
    "from src.models.dma import DMA\n",
    "from src.models.tvp import TVP\n",
    "from src.models import dm_test\n",
    "\n",
    "\n",
    "from helper_scripts import variable_groups\n",
    "\n",
    "from statsmodels.tsa import seasonal"
   ],
   "metadata": {
    "collapsed": false,
    "pycharm": {
     "name": "#%%\n"
    }
   }
  },
  {
   "cell_type": "code",
   "execution_count": 2,
   "outputs": [],
   "source": [
    "# # how to save sth\n",
    "# %%capture cap --no-stderr\n",
    "# with open(os.path.join(output_path, 'test.pkl'), 'wb') as f:\n",
    "#     pickle.dump(cap, f)\n",
    "# with open(os.path.join(output_path, 'test.pkl'), 'rb') as f:\n",
    "#     cap = pickle.load(f)\n",
    "# cap.show()"
   ],
   "metadata": {
    "collapsed": false,
    "pycharm": {
     "name": "#%%\n"
    }
   }
  },
  {
   "cell_type": "markdown",
   "source": [
    "# Replication Settings"
   ],
   "metadata": {
    "collapsed": false,
    "pycharm": {
     "name": "#%% md\n"
    }
   }
  },
  {
   "cell_type": "code",
   "execution_count": 3,
   "outputs": [],
   "source": [
    "# specify which parts of the analysis to replicate\n",
    "replicate = {'plot_data': False,         # replicate exploratory data analysis\n",
    "                'load_plots': False,      # load saved plots\n",
    "            'factor_analysis': True,       # produce FA results or simply load the resulting df\n",
    "                'plot_fa_stats': True,\n",
    "             'grid_search': False,      # first grid search to get an idea which are the best combinations\n",
    "                'save_grid_results': True,\n",
    "             'DMA_FA_selected': True,   # DMA with data from factor analysis on selected combinations\n",
    "                'save_DMA_FA': True,    # save results\n",
    "             'DMA_selected': False,      # DMA with normal on selected combinations - CAREFULL this takes a long time. So consider setting params.hlags = 0\n",
    "                'save_DMA': False,    # save results\n",
    "             'other_models': True,  # tvp and ar model\n",
    "                'save_other_models': True,\n",
    "            'preferred_models_analysis': True,\n",
    "             'different_weightings_h1': False,\n",
    "             'different_weightings_h4': False  # alternative weightings on prefered specification\n",
    "                }\n",
    "output_path = os.path.join(Path().cwd(), 'saved_outputs_4factors')\n",
    "plotly.io.templates.default = \"plotly_white\"\n",
    "plotly.io.renderers.default = 'png'"
   ],
   "metadata": {
    "collapsed": false,
    "pycharm": {
     "name": "#%%\n"
    }
   }
  },
  {
   "cell_type": "markdown",
   "source": [
    "# Data\n",
    "To recreate the dataset, run the following scripts in src.data:\n",
    "1. \"download_data.py\": downloads data from the OECD database\n",
    "2. \"prepare_data.py\": runs multiple steps to make the dataset ready for use\n",
    "   1. transforms vintage data set into growth series (the transformation into growth series circumvents baseline and other changes in the methodology)\n",
    "   2. combine dataset into one dataset that can be accessed as \"data/processed/combined_data.csv\"\n",
    "   3. selects data specified in \"data/processed/selected_data.csv\"\n",
    "   4. seasonally transforms the data (Season-Trend decomposition using LOESS - https://www.statsmodels.org/dev/generated/statsmodels.tsa.seasonal.STL.html#statsmodels.tsa.seasonal.STL)"
   ],
   "metadata": {
    "collapsed": false,
    "pycharm": {
     "name": "#%% md\n"
    }
   }
  },
  {
   "cell_type": "code",
   "execution_count": 4,
   "outputs": [
    {
     "data": {
      "text/plain": "var code  CPI_house_energy  PCI_energy_  HICP_energy  HICP_excl_energy  \\\ncount           123.000000   108.000000   104.000000        108.000000   \nmean             86.044251    87.012686    84.341505         92.755311   \nstd              14.225694    20.686686    20.142079          8.294870   \nmin              54.290421    54.877066    50.172049         79.809765   \n25%              73.991181    66.273204    65.311428         85.461263   \n50%              86.943304    93.195680    90.987561         91.996135   \n75%              99.834497   103.481214   101.972046         99.628004   \nmax             109.463789   148.621775   115.784535        109.938300   \n\nvar code         CPI  deflator_GDP       unemp  employment         GDP  \\\ncount     123.000000    123.000000  123.000000  122.000000  123.000000   \nmean        0.004721      0.004284   -0.003422    0.001091    0.002326   \nstd         0.004461      0.004434    0.033366    0.004588    0.011852   \nmin        -0.006218     -0.004797   -0.096044   -0.010906   -0.078606   \n25%         0.002036      0.001382   -0.023105   -0.001753   -0.000176   \n50%         0.004041      0.003839   -0.006730    0.000564    0.003102   \n75%         0.006383      0.005843    0.019722    0.003528    0.005931   \nmax         0.019812      0.021539    0.101676    0.016532    0.047462   \n\nvar code  cons_private  ...  interest_rate_long          M3          M1  \\\ncount       123.000000  ...          123.000000  123.000000  123.000000   \nmean          0.001503  ...            3.463803   73.059570   65.051820   \nstd           0.012954  ...            2.511013   32.274109   43.145580   \nmin          -0.092427  ...           -0.604967   28.239989   16.992672   \n25%          -0.001626  ...            1.381471   41.848292   27.878798   \n50%           0.002517  ...            3.829682   70.994604   56.696744   \n75%           0.005418  ...            5.147533   93.580208   87.016878   \nmax           0.050932  ...            8.387854  145.809700  178.189434   \n\nvar code  business_conf_manufacturing  business_conf_construct  \\\ncount                      123.000000               123.000000   \nmean                        -6.727642               -21.869919   \nstd                         13.369695                20.970658   \nmin                        -42.200000               -55.700000   \n25%                        -15.400000               -42.450000   \n50%                         -6.100000               -23.000000   \n75%                          0.800000                -7.150000   \nmax                         25.600000                20.900000   \n\nvar code  business_conf_service  business_conf_retail  cons_conf_tendency  \\\ncount                107.000000            123.000000          123.000000   \nmean                  16.915888            -15.618699           99.946968   \nstd                   15.694436             10.782244            1.088837   \nmin                  -22.000000            -41.200000           96.952924   \n25%                    9.850000            -24.200000           99.334636   \n50%                   16.500000            -17.800000           99.964845   \n75%                   22.550000             -6.400000          100.702736   \nmax                   50.100000             13.500000          102.119658   \n\nvar code  business_situation  residential_permits  \ncount             123.000000           111.000000  \nmean               99.928214         29339.023758  \nstd                 1.342361         12214.439550  \nmin                95.408918         12903.224314  \n25%                99.292014         20146.329471  \n50%                99.990484         25712.133386  \n75%               100.968382         37431.426816  \nmax               102.336481         64217.291026  \n\n[8 rows x 41 columns]",
      "text/html": "<div>\n<style scoped>\n    .dataframe tbody tr th:only-of-type {\n        vertical-align: middle;\n    }\n\n    .dataframe tbody tr th {\n        vertical-align: top;\n    }\n\n    .dataframe thead th {\n        text-align: right;\n    }\n</style>\n<table border=\"1\" class=\"dataframe\">\n  <thead>\n    <tr style=\"text-align: right;\">\n      <th>var code</th>\n      <th>CPI_house_energy</th>\n      <th>PCI_energy_</th>\n      <th>HICP_energy</th>\n      <th>HICP_excl_energy</th>\n      <th>CPI</th>\n      <th>deflator_GDP</th>\n      <th>unemp</th>\n      <th>employment</th>\n      <th>GDP</th>\n      <th>cons_private</th>\n      <th>...</th>\n      <th>interest_rate_long</th>\n      <th>M3</th>\n      <th>M1</th>\n      <th>business_conf_manufacturing</th>\n      <th>business_conf_construct</th>\n      <th>business_conf_service</th>\n      <th>business_conf_retail</th>\n      <th>cons_conf_tendency</th>\n      <th>business_situation</th>\n      <th>residential_permits</th>\n    </tr>\n  </thead>\n  <tbody>\n    <tr>\n      <th>count</th>\n      <td>123.000000</td>\n      <td>108.000000</td>\n      <td>104.000000</td>\n      <td>108.000000</td>\n      <td>123.000000</td>\n      <td>123.000000</td>\n      <td>123.000000</td>\n      <td>122.000000</td>\n      <td>123.000000</td>\n      <td>123.000000</td>\n      <td>...</td>\n      <td>123.000000</td>\n      <td>123.000000</td>\n      <td>123.000000</td>\n      <td>123.000000</td>\n      <td>123.000000</td>\n      <td>107.000000</td>\n      <td>123.000000</td>\n      <td>123.000000</td>\n      <td>123.000000</td>\n      <td>111.000000</td>\n    </tr>\n    <tr>\n      <th>mean</th>\n      <td>86.044251</td>\n      <td>87.012686</td>\n      <td>84.341505</td>\n      <td>92.755311</td>\n      <td>0.004721</td>\n      <td>0.004284</td>\n      <td>-0.003422</td>\n      <td>0.001091</td>\n      <td>0.002326</td>\n      <td>0.001503</td>\n      <td>...</td>\n      <td>3.463803</td>\n      <td>73.059570</td>\n      <td>65.051820</td>\n      <td>-6.727642</td>\n      <td>-21.869919</td>\n      <td>16.915888</td>\n      <td>-15.618699</td>\n      <td>99.946968</td>\n      <td>99.928214</td>\n      <td>29339.023758</td>\n    </tr>\n    <tr>\n      <th>std</th>\n      <td>14.225694</td>\n      <td>20.686686</td>\n      <td>20.142079</td>\n      <td>8.294870</td>\n      <td>0.004461</td>\n      <td>0.004434</td>\n      <td>0.033366</td>\n      <td>0.004588</td>\n      <td>0.011852</td>\n      <td>0.012954</td>\n      <td>...</td>\n      <td>2.511013</td>\n      <td>32.274109</td>\n      <td>43.145580</td>\n      <td>13.369695</td>\n      <td>20.970658</td>\n      <td>15.694436</td>\n      <td>10.782244</td>\n      <td>1.088837</td>\n      <td>1.342361</td>\n      <td>12214.439550</td>\n    </tr>\n    <tr>\n      <th>min</th>\n      <td>54.290421</td>\n      <td>54.877066</td>\n      <td>50.172049</td>\n      <td>79.809765</td>\n      <td>-0.006218</td>\n      <td>-0.004797</td>\n      <td>-0.096044</td>\n      <td>-0.010906</td>\n      <td>-0.078606</td>\n      <td>-0.092427</td>\n      <td>...</td>\n      <td>-0.604967</td>\n      <td>28.239989</td>\n      <td>16.992672</td>\n      <td>-42.200000</td>\n      <td>-55.700000</td>\n      <td>-22.000000</td>\n      <td>-41.200000</td>\n      <td>96.952924</td>\n      <td>95.408918</td>\n      <td>12903.224314</td>\n    </tr>\n    <tr>\n      <th>25%</th>\n      <td>73.991181</td>\n      <td>66.273204</td>\n      <td>65.311428</td>\n      <td>85.461263</td>\n      <td>0.002036</td>\n      <td>0.001382</td>\n      <td>-0.023105</td>\n      <td>-0.001753</td>\n      <td>-0.000176</td>\n      <td>-0.001626</td>\n      <td>...</td>\n      <td>1.381471</td>\n      <td>41.848292</td>\n      <td>27.878798</td>\n      <td>-15.400000</td>\n      <td>-42.450000</td>\n      <td>9.850000</td>\n      <td>-24.200000</td>\n      <td>99.334636</td>\n      <td>99.292014</td>\n      <td>20146.329471</td>\n    </tr>\n    <tr>\n      <th>50%</th>\n      <td>86.943304</td>\n      <td>93.195680</td>\n      <td>90.987561</td>\n      <td>91.996135</td>\n      <td>0.004041</td>\n      <td>0.003839</td>\n      <td>-0.006730</td>\n      <td>0.000564</td>\n      <td>0.003102</td>\n      <td>0.002517</td>\n      <td>...</td>\n      <td>3.829682</td>\n      <td>70.994604</td>\n      <td>56.696744</td>\n      <td>-6.100000</td>\n      <td>-23.000000</td>\n      <td>16.500000</td>\n      <td>-17.800000</td>\n      <td>99.964845</td>\n      <td>99.990484</td>\n      <td>25712.133386</td>\n    </tr>\n    <tr>\n      <th>75%</th>\n      <td>99.834497</td>\n      <td>103.481214</td>\n      <td>101.972046</td>\n      <td>99.628004</td>\n      <td>0.006383</td>\n      <td>0.005843</td>\n      <td>0.019722</td>\n      <td>0.003528</td>\n      <td>0.005931</td>\n      <td>0.005418</td>\n      <td>...</td>\n      <td>5.147533</td>\n      <td>93.580208</td>\n      <td>87.016878</td>\n      <td>0.800000</td>\n      <td>-7.150000</td>\n      <td>22.550000</td>\n      <td>-6.400000</td>\n      <td>100.702736</td>\n      <td>100.968382</td>\n      <td>37431.426816</td>\n    </tr>\n    <tr>\n      <th>max</th>\n      <td>109.463789</td>\n      <td>148.621775</td>\n      <td>115.784535</td>\n      <td>109.938300</td>\n      <td>0.019812</td>\n      <td>0.021539</td>\n      <td>0.101676</td>\n      <td>0.016532</td>\n      <td>0.047462</td>\n      <td>0.050932</td>\n      <td>...</td>\n      <td>8.387854</td>\n      <td>145.809700</td>\n      <td>178.189434</td>\n      <td>25.600000</td>\n      <td>20.900000</td>\n      <td>50.100000</td>\n      <td>13.500000</td>\n      <td>102.119658</td>\n      <td>102.336481</td>\n      <td>64217.291026</td>\n    </tr>\n  </tbody>\n</table>\n<p>8 rows × 41 columns</p>\n</div>"
     },
     "execution_count": 4,
     "metadata": {},
     "output_type": "execute_result"
    }
   ],
   "source": [
    "data_path = os.path.join(Path().cwd().parent, 'data', 'processed')\n",
    "# load seasonally adjusted dataset\n",
    "with open(os.path.join(data_path, 'df_sa.pkl'), 'rb') as f:\n",
    "    df_sa = pickle.load(f) # load raw data\n",
    "# \"selected_data.csv\" contains information about variables names, abbreviations and the required type of transformation\n",
    "selection = pd.read_csv(os.path.join(data_path, 'selected_data.csv'))\n",
    "df_sa.describe()"
   ],
   "metadata": {
    "collapsed": false,
    "pycharm": {
     "name": "#%%\n"
    }
   }
  },
  {
   "cell_type": "markdown",
   "source": [
    "## Exploratory Data Analysis\n",
    "Plot the data to get an overview over the data and its properties."
   ],
   "metadata": {
    "collapsed": false,
    "pycharm": {
     "name": "#%% md\n"
    }
   }
  },
  {
   "cell_type": "code",
   "execution_count": 5,
   "outputs": [],
   "source": [
    "# load data with all variables and\n",
    "params = Settings()                                 # init settings\n",
    "params.h_fore = 1\n",
    "params.miss_treatment = 3                           # no treatment for missing variables\n",
    "params.plag = 4                                     # lag inflation to include later\n",
    "params.use_x = selection['var code'].to_list()      # specify to use all variables\n",
    "params.tcodesX = params.get_tcodesX(selection)      # get transformation codes\n",
    "params.restricted_vars = ['intercept', 'CPI']       # these variables are in all models\n",
    "params.first_sample_ends = '2004-12-31'             # start of calculation of statistics\n",
    "# params.print_setting_options()                    # if parameter options should be shown\n",
    "data = Data(df_sa, params)                          # creates an instance of the Data class that contains the transformed data\n",
    "df_intercept_CPI = data.X.iloc[:,:(params.plag+params.intercept+1)] # the intercept and annualized CPI+lags are ordered at the beginning of the df - save df to attach it again later\n",
    "df_sa_trans = data.X.iloc[:,(params.plag+params.intercept+1):]      # remove the vars\n",
    "\n",
    "%run helper_scripts/variable_groups                 # get variable groups"
   ],
   "metadata": {
    "collapsed": false,
    "pycharm": {
     "name": "#%%\n"
    }
   }
  },
  {
   "cell_type": "code",
   "execution_count": 6,
   "outputs": [],
   "source": [
    "if replicate['plot_data']:\n",
    "    if not replicate['load_plots']:\n",
    "        for g in var_groups:                                # plot variable groups\n",
    "            df_temp = df_sa_trans[var_groups[g]]\n",
    "            v_inds = [np.where(selection['var code'] == v)[0][0] for v in var_groups[g]]\n",
    "            names = [selection['var code'][v]+': '+selection['Variable'][v] for v in v_inds]\n",
    "            df_temp.columns = names\n",
    "            fig = px.line(df_temp)\n",
    "            fig.update_layout(\n",
    "                        title=str(g),\n",
    "                        title_x=0.5,\n",
    "                        yaxis_title='',\n",
    "                        xaxis_title='',\n",
    "                        legend_title='Variables',\n",
    "                        legend_orientation='v',\n",
    "                        legend_y=0.95\n",
    "                        )\n",
    "            fig.show()\n",
    "    else:\n",
    "        with open(os.path.join(output_path, 'data_plots.pkl'), 'rb') as f:\n",
    "            cap = pickle.load(f)\n",
    "        cap.show()"
   ],
   "metadata": {
    "collapsed": false,
    "pycharm": {
     "name": "#%%\n"
    }
   }
  },
  {
   "cell_type": "markdown",
   "source": [
    "# Factor Analysis\n",
    "Do a Factor analysis to reduce the dimensionality of the data without loosing too much information."
   ],
   "metadata": {
    "collapsed": false,
    "pycharm": {
     "name": "#%% md\n"
    }
   }
  },
  {
   "cell_type": "code",
   "execution_count": 7,
   "outputs": [
    {
     "data": {
      "image/png": "[encoded data removed]"
     },
     "metadata": {},
     "output_type": "display_data"
    },
    {
     "data": {
      "image/png": "[encoded data removed]"
     },
     "metadata": {},
     "output_type": "display_data"
    }
   ],
   "source": [
    "\n",
    "fa_lags = 3\n",
    "# Instantiate factor analysis object\n",
    "df_fa = df_sa_trans.drop(infl_vars, axis=1)\n",
    "n_factors = 4\n",
    "fa = FactorAnalyzer(n_factors=n_factors, rotation='oblimax')    # quartimax for orthogonal rotation, oblimax for oblique\n",
    "fa.fit(df_fa)\n",
    "ev, v = fa.get_eigenvalues()\n",
    "\n",
    "# plots\n",
    "if replicate['plot_fa_stats']:\n",
    "    # Scree Plot\n",
    "    fig = px.line(y=ev, x=range(1,df_fa.shape[1]+1), markers=True)\n",
    "    fig.add_hline(y=1, line_dash='dash', opacity=0.5)\n",
    "    fig.update_layout(\n",
    "                    title='Scree Plot',\n",
    "                    title_x=0.5,\n",
    "                    yaxis_title='Eigenvalue',\n",
    "                    xaxis_title='Factors'\n",
    "                    )\n",
    "    fig.show()\n",
    "    # Cummulative Variances\n",
    "    fa_var = fa.get_factor_variance()   # returns list with variance, proportional_variance and cumulative_variances\n",
    "    fig = px.line(y=fa_var[2], x=range(1,n_factors+1), markers=True)\n",
    "    fig.update_layout(\n",
    "                    title='Cummulative Variances',\n",
    "                    title_x=0.5,\n",
    "                    yaxis_title='Eigenvalue',\n",
    "                    xaxis_title='Factors'\n",
    "                    )\n",
    "    fig.show()\n",
    "\n",
    "# Analysis\n",
    "# calculate communalities\n",
    "    # Note: for oblique rotation, the interpretation is different!\n",
    "pd_communalities = pd.Series(fa.get_communalities(), index=df_fa.columns, name='Communality')\n",
    "#print(pd_communalities)\n",
    "# get factors\n",
    "df_factors = pd.DataFrame(fa.transform(df_fa.fillna(0)), index = df_fa.index)\n",
    "# rename columns\n",
    "factor_cols = ['Factor_'+str(i) for i in list(df_factors.columns)]\n",
    "df_factors.columns = factor_cols\n",
    "# to see whether one should take the oblique rotation, one can look at the correlations in the factors. If they are heavily correlated, use the oblique rotation\n",
    "# df_factors.corr()\n",
    "\n",
    "# lag factors - This needs to be adjusted if you want more lags\n",
    "    # The maximum that my PC is able to do with 5 factors is 2 lags\n",
    "if fa_lags == 3:\n",
    "    df_factors_with_lag = pd.concat((df_factors, df_factors.shift(1), df_factors.shift(2), df_factors.shift(3)), axis=1)\n",
    "    factor_cols_lag1 = [i+'_t-1' for i in factor_cols]\n",
    "    factor_cols_lag2 = [i+'_t-2' for i in factor_cols]\n",
    "    factor_cols_lag3 = [i+'_t-3' for i in factor_cols]\n",
    "    df_factors_with_lag.columns = factor_cols+factor_cols_lag1+factor_cols_lag2+factor_cols_lag3\n",
    "    df_fa_post = pd.concat((df_intercept_CPI, df_factors_with_lag), axis=1)\n",
    "    df_fa_post = df_fa_post.iloc[fa_lags:, :]\n",
    "elif fa_lags == 1:\n",
    "    df_factors_with_lag = pd.concat((df_factors, df_factors.shift(1)), axis=1)\n",
    "    factor_cols_lag1 = [i+'_t-1' for i in factor_cols]\n",
    "    df_factors_with_lag.columns = factor_cols+factor_cols_lag1\n",
    "    df_fa_post = pd.concat((df_intercept_CPI, df_factors_with_lag), axis=1)\n",
    "    df_fa_post = df_fa_post.iloc[2:, :]     # account for the lagging of the factors\n",
    "# with open(os.path.join(output_path, 'df_fa_quartimax.pkl'), 'wb') as f:\n",
    "#     pickle.dump(df_fa_post, f)\n",
    "else:\n",
    "    with open(os.path.join(output_path, 'df_fa_quartimax_f8.pkl'), 'rb') as f:\n",
    "        df_fa_post = pickle.load(f)\n",
    "# adjust data class for FA results\n",
    "data.X = df_fa_post # can be deleted from here\n",
    "data.T = data.X.shape[0]\n",
    "data.N = data.X.shape[1]\n",
    "data.y_dep = data.y_dep[fa_lags:] # adjust for lagging"
   ],
   "metadata": {
    "collapsed": false,
    "pycharm": {
     "name": "#%%\n"
    }
   }
  },
  {
   "cell_type": "code",
   "execution_count": 8,
   "outputs": [
    {
     "data": {
      "text/plain": "            intercept       CPI   CPI_t-1   CPI_t-2   CPI_t-3   CPI_t-4  \\\n1993-06-30          1  0.035956  0.079248  0.021642  0.034222  0.051887   \n1993-09-30          1  0.034315  0.035956  0.079248  0.021642  0.034222   \n1993-12-31          1  0.022549  0.034315  0.035956  0.079248  0.021642   \n1994-03-31          1  0.024201  0.022549  0.034315  0.035956  0.079248   \n1994-06-30          1  0.027120  0.024201  0.022549  0.034315  0.035956   \n...               ...       ...       ...       ...       ...       ...   \n2020-12-31          1  0.015118 -0.010759  0.009828 -0.013438  0.006770   \n2021-03-31          1  0.051631  0.015118 -0.010759  0.009828 -0.013438   \n2021-06-30          1  0.028673  0.051631  0.015118 -0.010759  0.009828   \n2021-09-30          1  0.065886  0.028673  0.051631  0.015118 -0.010759   \n2021-12-31          1  0.074708  0.065886  0.028673  0.051631  0.015118   \n\n            Factor_0  Factor_1  Factor_2  Factor_3  ...  Factor_2_t-1  \\\n1993-06-30 -1.903985  1.522167 -0.609921  2.930290  ...     -1.294031   \n1993-09-30 -1.299215  1.205313 -1.201279  2.508029  ...     -0.609921   \n1993-12-31 -1.863369  1.186144 -0.652460  3.784763  ...     -1.201279   \n1994-03-31  0.018275  1.391713 -1.107076  2.256730  ...     -0.652460   \n1994-06-30 -0.967181  0.853036 -0.839421  3.981832  ...     -1.107076   \n...              ...       ...       ...       ...  ...           ...   \n2020-12-31  0.449129 -2.816119  0.648719  0.609716  ...      1.947606   \n2021-03-31  1.191871 -1.241219  1.235433  2.856059  ...      0.648719   \n2021-06-30  2.328719 -0.475561 -0.445933  0.315783  ...      1.235433   \n2021-09-30 -0.638028 -1.678404 -1.842608  3.588040  ...     -0.445933   \n2021-12-31  0.342436  0.101555 -1.428162  2.835242  ...     -1.842608   \n\n            Factor_3_t-1  Factor_0_t-2  Factor_1_t-2  Factor_2_t-2  \\\n1993-06-30      3.781385     -2.524827      0.888292     -1.908944   \n1993-09-30      2.930290     -3.006296      0.834517     -1.294031   \n1993-12-31      2.508029     -1.903985      1.522167     -0.609921   \n1994-03-31      3.784763     -1.299215      1.205313     -1.201279   \n1994-06-30      2.256730     -1.863369      1.186144     -0.652460   \n...                  ...           ...           ...           ...   \n2020-12-31     -1.613958     -3.314232     -3.503398      0.119058   \n2021-03-31      0.609716      2.545551     -1.355607      1.947606   \n2021-06-30      2.856059      0.449129     -2.816119      0.648719   \n2021-09-30      0.315783      1.191871     -1.241219      1.235433   \n2021-12-31      3.588040      2.328719     -0.475561     -0.445933   \n\n            Factor_3_t-2  Factor_0_t-3  Factor_1_t-3  Factor_2_t-3  \\\n1993-06-30      1.748748     -2.186417      1.348561     -1.467944   \n1993-09-30      3.781385     -2.524827      0.888292     -1.908944   \n1993-12-31      2.930290     -3.006296      0.834517     -1.294031   \n1994-03-31      2.508029     -1.903985      1.522167     -0.609921   \n1994-06-30      3.784763     -1.299215      1.205313     -1.201279   \n...                  ...           ...           ...           ...   \n2020-12-31      2.743365     -1.750658     -1.810388     -1.568868   \n2021-03-31     -1.613958     -3.314232     -3.503398      0.119058   \n2021-06-30      0.609716      2.545551     -1.355607      1.947606   \n2021-09-30      2.856059      0.449129     -2.816119      0.648719   \n2021-12-31      0.315783      1.191871     -1.241219      1.235433   \n\n            Factor_3_t-3  \n1993-06-30      2.791995  \n1993-09-30      1.748748  \n1993-12-31      3.781385  \n1994-03-31      2.930290  \n1994-06-30      2.508029  \n...                  ...  \n2020-12-31     -0.804774  \n2021-03-31      2.743365  \n2021-06-30     -1.613958  \n2021-09-30      0.609716  \n2021-12-31      2.856059  \n\n[115 rows x 22 columns]",
      "text/html": "<div>\n<style scoped>\n    .dataframe tbody tr th:only-of-type {\n        vertical-align: middle;\n    }\n\n    .dataframe tbody tr th {\n        vertical-align: top;\n    }\n\n    .dataframe thead th {\n        text-align: right;\n    }\n</style>\n<table border=\"1\" class=\"dataframe\">\n  <thead>\n    <tr style=\"text-align: right;\">\n      <th></th>\n      <th>intercept</th>\n      <th>CPI</th>\n      <th>CPI_t-1</th>\n      <th>CPI_t-2</th>\n      <th>CPI_t-3</th>\n      <th>CPI_t-4</th>\n      <th>Factor_0</th>\n      <th>Factor_1</th>\n      <th>Factor_2</th>\n      <th>Factor_3</th>\n      <th>...</th>\n      <th>Factor_2_t-1</th>\n      <th>Factor_3_t-1</th>\n      <th>Factor_0_t-2</th>\n      <th>Factor_1_t-2</th>\n      <th>Factor_2_t-2</th>\n      <th>Factor_3_t-2</th>\n      <th>Factor_0_t-3</th>\n      <th>Factor_1_t-3</th>\n      <th>Factor_2_t-3</th>\n      <th>Factor_3_t-3</th>\n    </tr>\n  </thead>\n  <tbody>\n    <tr>\n      <th>1993-06-30</th>\n      <td>1</td>\n      <td>0.035956</td>\n      <td>0.079248</td>\n      <td>0.021642</td>\n      <td>0.034222</td>\n      <td>0.051887</td>\n      <td>-1.903985</td>\n      <td>1.522167</td>\n      <td>-0.609921</td>\n      <td>2.930290</td>\n      <td>...</td>\n      <td>-1.294031</td>\n      <td>3.781385</td>\n      <td>-2.524827</td>\n      <td>0.888292</td>\n      <td>-1.908944</td>\n      <td>1.748748</td>\n      <td>-2.186417</td>\n      <td>1.348561</td>\n      <td>-1.467944</td>\n      <td>2.791995</td>\n    </tr>\n    <tr>\n      <th>1993-09-30</th>\n      <td>1</td>\n      <td>0.034315</td>\n      <td>0.035956</td>\n      <td>0.079248</td>\n      <td>0.021642</td>\n      <td>0.034222</td>\n      <td>-1.299215</td>\n      <td>1.205313</td>\n      <td>-1.201279</td>\n      <td>2.508029</td>\n      <td>...</td>\n      <td>-0.609921</td>\n      <td>2.930290</td>\n      <td>-3.006296</td>\n      <td>0.834517</td>\n      <td>-1.294031</td>\n      <td>3.781385</td>\n      <td>-2.524827</td>\n      <td>0.888292</td>\n      <td>-1.908944</td>\n      <td>1.748748</td>\n    </tr>\n    <tr>\n      <th>1993-12-31</th>\n      <td>1</td>\n      <td>0.022549</td>\n      <td>0.034315</td>\n      <td>0.035956</td>\n      <td>0.079248</td>\n      <td>0.021642</td>\n      <td>-1.863369</td>\n      <td>1.186144</td>\n      <td>-0.652460</td>\n      <td>3.784763</td>\n      <td>...</td>\n      <td>-1.201279</td>\n      <td>2.508029</td>\n      <td>-1.903985</td>\n      <td>1.522167</td>\n      <td>-0.609921</td>\n      <td>2.930290</td>\n      <td>-3.006296</td>\n      <td>0.834517</td>\n      <td>-1.294031</td>\n      <td>3.781385</td>\n    </tr>\n    <tr>\n      <th>1994-03-31</th>\n      <td>1</td>\n      <td>0.024201</td>\n      <td>0.022549</td>\n      <td>0.034315</td>\n      <td>0.035956</td>\n      <td>0.079248</td>\n      <td>0.018275</td>\n      <td>1.391713</td>\n      <td>-1.107076</td>\n      <td>2.256730</td>\n      <td>...</td>\n      <td>-0.652460</td>\n      <td>3.784763</td>\n      <td>-1.299215</td>\n      <td>1.205313</td>\n      <td>-1.201279</td>\n      <td>2.508029</td>\n      <td>-1.903985</td>\n      <td>1.522167</td>\n      <td>-0.609921</td>\n      <td>2.930290</td>\n    </tr>\n    <tr>\n      <th>1994-06-30</th>\n      <td>1</td>\n      <td>0.027120</td>\n      <td>0.024201</td>\n      <td>0.022549</td>\n      <td>0.034315</td>\n      <td>0.035956</td>\n      <td>-0.967181</td>\n      <td>0.853036</td>\n      <td>-0.839421</td>\n      <td>3.981832</td>\n      <td>...</td>\n      <td>-1.107076</td>\n      <td>2.256730</td>\n      <td>-1.863369</td>\n      <td>1.186144</td>\n      <td>-0.652460</td>\n      <td>3.784763</td>\n      <td>-1.299215</td>\n      <td>1.205313</td>\n      <td>-1.201279</td>\n      <td>2.508029</td>\n    </tr>\n    <tr>\n      <th>...</th>\n      <td>...</td>\n      <td>...</td>\n      <td>...</td>\n      <td>...</td>\n      <td>...</td>\n      <td>...</td>\n      <td>...</td>\n      <td>...</td>\n      <td>...</td>\n      <td>...</td>\n      <td>...</td>\n      <td>...</td>\n      <td>...</td>\n      <td>...</td>\n      <td>...</td>\n      <td>...</td>\n      <td>...</td>\n      <td>...</td>\n      <td>...</td>\n      <td>...</td>\n      <td>...</td>\n    </tr>\n    <tr>\n      <th>2020-12-31</th>\n      <td>1</td>\n      <td>0.015118</td>\n      <td>-0.010759</td>\n      <td>0.009828</td>\n      <td>-0.013438</td>\n      <td>0.006770</td>\n      <td>0.449129</td>\n      <td>-2.816119</td>\n      <td>0.648719</td>\n      <td>0.609716</td>\n      <td>...</td>\n      <td>1.947606</td>\n      <td>-1.613958</td>\n      <td>-3.314232</td>\n      <td>-3.503398</td>\n      <td>0.119058</td>\n      <td>2.743365</td>\n      <td>-1.750658</td>\n      <td>-1.810388</td>\n      <td>-1.568868</td>\n      <td>-0.804774</td>\n    </tr>\n    <tr>\n      <th>2021-03-31</th>\n      <td>1</td>\n      <td>0.051631</td>\n      <td>0.015118</td>\n      <td>-0.010759</td>\n      <td>0.009828</td>\n      <td>-0.013438</td>\n      <td>1.191871</td>\n      <td>-1.241219</td>\n      <td>1.235433</td>\n      <td>2.856059</td>\n      <td>...</td>\n      <td>0.648719</td>\n      <td>0.609716</td>\n      <td>2.545551</td>\n      <td>-1.355607</td>\n      <td>1.947606</td>\n      <td>-1.613958</td>\n      <td>-3.314232</td>\n      <td>-3.503398</td>\n      <td>0.119058</td>\n      <td>2.743365</td>\n    </tr>\n    <tr>\n      <th>2021-06-30</th>\n      <td>1</td>\n      <td>0.028673</td>\n      <td>0.051631</td>\n      <td>0.015118</td>\n      <td>-0.010759</td>\n      <td>0.009828</td>\n      <td>2.328719</td>\n      <td>-0.475561</td>\n      <td>-0.445933</td>\n      <td>0.315783</td>\n      <td>...</td>\n      <td>1.235433</td>\n      <td>2.856059</td>\n      <td>0.449129</td>\n      <td>-2.816119</td>\n      <td>0.648719</td>\n      <td>0.609716</td>\n      <td>2.545551</td>\n      <td>-1.355607</td>\n      <td>1.947606</td>\n      <td>-1.613958</td>\n    </tr>\n    <tr>\n      <th>2021-09-30</th>\n      <td>1</td>\n      <td>0.065886</td>\n      <td>0.028673</td>\n      <td>0.051631</td>\n      <td>0.015118</td>\n      <td>-0.010759</td>\n      <td>-0.638028</td>\n      <td>-1.678404</td>\n      <td>-1.842608</td>\n      <td>3.588040</td>\n      <td>...</td>\n      <td>-0.445933</td>\n      <td>0.315783</td>\n      <td>1.191871</td>\n      <td>-1.241219</td>\n      <td>1.235433</td>\n      <td>2.856059</td>\n      <td>0.449129</td>\n      <td>-2.816119</td>\n      <td>0.648719</td>\n      <td>0.609716</td>\n    </tr>\n    <tr>\n      <th>2021-12-31</th>\n      <td>1</td>\n      <td>0.074708</td>\n      <td>0.065886</td>\n      <td>0.028673</td>\n      <td>0.051631</td>\n      <td>0.015118</td>\n      <td>0.342436</td>\n      <td>0.101555</td>\n      <td>-1.428162</td>\n      <td>2.835242</td>\n      <td>...</td>\n      <td>-1.842608</td>\n      <td>3.588040</td>\n      <td>2.328719</td>\n      <td>-0.475561</td>\n      <td>-0.445933</td>\n      <td>0.315783</td>\n      <td>1.191871</td>\n      <td>-1.241219</td>\n      <td>1.235433</td>\n      <td>2.856059</td>\n    </tr>\n  </tbody>\n</table>\n<p>115 rows × 22 columns</p>\n</div>"
     },
     "execution_count": 8,
     "metadata": {},
     "output_type": "execute_result"
    }
   ],
   "source": [
    "df_fa_post"
   ],
   "metadata": {
    "collapsed": false,
    "pycharm": {
     "name": "#%%\n"
    }
   }
  },
  {
   "cell_type": "code",
   "execution_count": 9,
   "outputs": [
    {
     "data": {
      "text/plain": "CPI_house_energy               0.258028\nPCI_energy_                    0.463563\nHICP_energy                    0.499170\nunemp                          0.484900\nemployment                     0.361230\nGDP                            0.770072\ncons_private                   0.370157\ncons_gov                       0.140971\ninvest                         0.805516\nearnings_hourly                0.030379\nprod_ind                       0.603630\nretail                         0.064681\nprod_constr                    0.188275\ntrade_imp                      0.509362\ntrade_exp                      0.645739\ninfl_exp_current_year          0.814221\ninfl_exp_next_year             0.940354\ninfl_exp_2_year_ahead          0.847642\ninfl_exp_5_year_ahead          0.371917\ndax                            0.212218\ninvest_private_no_housing      0.745870\ninvest_private_housing         0.331135\nsupply_index_global            0.117994\nsupply_index_eu                0.039519\ninterest_rate_short            0.627063\ninterest_rate_long             0.211271\nM3                             0.165478\nM1                             0.296931\nbusiness_conf_manufacturing    0.783524\nbusiness_conf_construct        0.633279\nbusiness_conf_service          0.152968\nbusiness_conf_retail           0.781876\ncons_conf_tendency             0.324029\nbusiness_situation             0.704179\nresidential_permits            0.015732\nName: Communality, dtype: float64"
     },
     "execution_count": 9,
     "metadata": {},
     "output_type": "execute_result"
    }
   ],
   "source": [
    "pd_communalities"
   ],
   "metadata": {
    "collapsed": false,
    "pycharm": {
     "name": "#%%\n"
    }
   }
  },
  {
   "cell_type": "code",
   "execution_count": 10,
   "outputs": [],
   "source": [
    "def get_r_quared_factors(factor, df_fa):\n",
    "    rsquared = {}\n",
    "    df_temp = pd.concat((factor, df_fa), axis=1).dropna()\n",
    "    for name, values in df_temp.iloc[:,1:].iteritems():\n",
    "        model = OLS(endog=df_temp.iloc[:,0], exog=values).fit()\n",
    "        rsquared[name] = model.rsquared\n",
    "    return pd.Series(rsquared, name=factor.name)\n",
    "\n",
    "                # pred = ar_model.predict(X_test_lag)"
   ],
   "metadata": {
    "collapsed": false,
    "pycharm": {
     "name": "#%%\n"
    }
   }
  },
  {
   "cell_type": "code",
   "execution_count": 12,
   "outputs": [
    {
     "data": {
      "text/plain": "                 Factor_0_vars  Factor_0_R2          Factor_1_vars  \\\n0                          GDP     0.632386            PCI_energy_   \n1                       invest     0.630860       CPI_house_energy   \n2    invest_private_no_housing     0.572672    interest_rate_short   \n3                     prod_ind     0.510048            HICP_energy   \n4  business_conf_manufacturing     0.374401  infl_exp_current_year   \n\n   Factor_1_R2                Factor_2_vars  Factor_2_R2  \\\n0     0.362506           business_situation     0.292092   \n1     0.289443                   employment     0.212301   \n2     0.268546                        unemp     0.184986   \n3     0.197962                    trade_exp     0.172207   \n4     0.173966  business_conf_manufacturing     0.170063   \n\n                 Factor_3_vars  Factor_3_R2  \n0                  HICP_energy     0.385593  \n1                  PCI_energy_     0.317999  \n2                    trade_imp     0.149365  \n3  business_conf_manufacturing     0.143451  \n4       invest_private_housing     0.127278  ",
      "text/html": "<div>\n<style scoped>\n    .dataframe tbody tr th:only-of-type {\n        vertical-align: middle;\n    }\n\n    .dataframe tbody tr th {\n        vertical-align: top;\n    }\n\n    .dataframe thead th {\n        text-align: right;\n    }\n</style>\n<table border=\"1\" class=\"dataframe\">\n  <thead>\n    <tr style=\"text-align: right;\">\n      <th></th>\n      <th>Factor_0_vars</th>\n      <th>Factor_0_R2</th>\n      <th>Factor_1_vars</th>\n      <th>Factor_1_R2</th>\n      <th>Factor_2_vars</th>\n      <th>Factor_2_R2</th>\n      <th>Factor_3_vars</th>\n      <th>Factor_3_R2</th>\n    </tr>\n  </thead>\n  <tbody>\n    <tr>\n      <th>0</th>\n      <td>GDP</td>\n      <td>0.632386</td>\n      <td>PCI_energy_</td>\n      <td>0.362506</td>\n      <td>business_situation</td>\n      <td>0.292092</td>\n      <td>HICP_energy</td>\n      <td>0.385593</td>\n    </tr>\n    <tr>\n      <th>1</th>\n      <td>invest</td>\n      <td>0.630860</td>\n      <td>CPI_house_energy</td>\n      <td>0.289443</td>\n      <td>employment</td>\n      <td>0.212301</td>\n      <td>PCI_energy_</td>\n      <td>0.317999</td>\n    </tr>\n    <tr>\n      <th>2</th>\n      <td>invest_private_no_housing</td>\n      <td>0.572672</td>\n      <td>interest_rate_short</td>\n      <td>0.268546</td>\n      <td>unemp</td>\n      <td>0.184986</td>\n      <td>trade_imp</td>\n      <td>0.149365</td>\n    </tr>\n    <tr>\n      <th>3</th>\n      <td>prod_ind</td>\n      <td>0.510048</td>\n      <td>HICP_energy</td>\n      <td>0.197962</td>\n      <td>trade_exp</td>\n      <td>0.172207</td>\n      <td>business_conf_manufacturing</td>\n      <td>0.143451</td>\n    </tr>\n    <tr>\n      <th>4</th>\n      <td>business_conf_manufacturing</td>\n      <td>0.374401</td>\n      <td>infl_exp_current_year</td>\n      <td>0.173966</td>\n      <td>business_conf_manufacturing</td>\n      <td>0.170063</td>\n      <td>invest_private_housing</td>\n      <td>0.127278</td>\n    </tr>\n  </tbody>\n</table>\n</div>"
     },
     "execution_count": 12,
     "metadata": {},
     "output_type": "execute_result"
    }
   ],
   "source": [
    "pd_factor_rsqaured = pd.DataFrame(columns=df_factors.columns)\n",
    "for name, values in df_factors.iteritems():\n",
    "    pd_factor_rsqaured[name] = get_r_quared_factors(values, df_fa.iloc[3:, :])\n",
    "# pd_factor_rsqaured\n",
    "pd_factor_rsqaured_top = pd.DataFrame()\n",
    "for name, values in pd_factor_rsqaured.iteritems():\n",
    "    top5 = values.sort_values(ascending=False)[:5]\n",
    "    pd_factor_rsqaured_top[name+'_vars'] = top5.index\n",
    "    pd_factor_rsqaured_top[name+'_R2'] = top5.values\n",
    "pd_factor_rsqaured_top"
   ],
   "metadata": {
    "collapsed": false,
    "pycharm": {
     "name": "#%%\n"
    }
   }
  },
  {
   "cell_type": "code",
   "execution_count": 13,
   "outputs": [],
   "source": [
    "# print(pd_factor_rsqaured_top.to_latex())"
   ],
   "metadata": {
    "collapsed": false,
    "pycharm": {
     "name": "#%%\n"
    }
   }
  },
  {
   "cell_type": "code",
   "execution_count": 14,
   "outputs": [
    {
     "name": "stdout",
     "output_type": "stream",
     "text": [
      "\\begin{tabular}{lrrrr}\n",
      "\\toprule\n",
      "{} &  Factor\\_0 &  Factor\\_1 &  Factor\\_2 &  Factor\\_3 \\\\\n",
      "\\midrule\n",
      "Factor\\_0 &      1.00 &     -0.40 &      0.39 &     -0.54 \\\\\n",
      "Factor\\_1 &     -0.40 &      1.00 &     -0.60 &      0.49 \\\\\n",
      "Factor\\_2 &      0.39 &     -0.60 &      1.00 &     -0.44 \\\\\n",
      "Factor\\_3 &     -0.54 &      0.49 &     -0.44 &      1.00 \\\\\n",
      "\\bottomrule\n",
      "\\end{tabular}\n",
      "\n"
     ]
    }
   ],
   "source": [
    "print(df_factors.corr().round(2).to_latex())"
   ],
   "metadata": {
    "collapsed": false,
    "pycharm": {
     "name": "#%%\n"
    }
   }
  },
  {
   "cell_type": "code",
   "execution_count": 15,
   "outputs": [],
   "source": [
    "# # pca\n",
    "# from sklearn.preprocessing import StandardScaler\n",
    "# from sklearn.decomposition import PCA\n",
    "# df_pca = StandardScaler().fit_transform(df_fa)\n",
    "# df_pca = pd.DataFrame(df_pca)\n",
    "# pca = PCA(n_components=5)\n",
    "# principalComponents = pca.fit_transform(df_pca.fillna(0))\n",
    "# pca.explained_variance_ratio_"
   ],
   "metadata": {
    "collapsed": false,
    "pycharm": {
     "name": "#%%\n"
    }
   }
  },
  {
   "cell_type": "markdown",
   "source": [
    "# Sensitivity Analysis\n",
    "Find optimal parameter settings for DMA by doing a grid search over the parameters $\\lambda$ and  $\\kappa$."
   ],
   "metadata": {
    "collapsed": false,
    "pycharm": {
     "name": "#%% md\n"
    }
   }
  },
  {
   "cell_type": "code",
   "execution_count": 11,
   "outputs": [
    {
     "name": "stdout",
     "output_type": "stream",
     "text": [
      "The following preliminary settings are specified:\n",
      "intercept : 1\n",
      "plag : 4\n",
      "hlag : 0\n",
      "use_x : ['CPI_house_energy', 'PCI_energy_', 'HICP_energy', 'HICP_excl_energy', 'CPI', 'deflator_GDP', 'unemp', 'employment', 'GDP', 'cons_private', 'cons_gov', 'invest', 'earnings_hourly', 'prod_ind', 'retail', 'prod_constr', 'trade_imp', 'trade_exp', 'infl_exp_current_year', 'infl_exp_next_year', 'infl_exp_2_year_ahead', 'infl_exp_5_year_ahead', 'dax', 'invest_private_no_housing', 'invest_private_housing', 'supply_index_global', 'supply_index_eu', 'interest_rate_short', 'interest_rate_long', 'M3', 'M1', 'business_conf_manufacturing', 'business_conf_construct', 'business_conf_service', 'business_conf_retail', 'cons_conf_tendency', 'business_situation', 'residential_permits']\n",
      "use_y : ['CPI']\n",
      "tcodesX : [5, 5, 5, 5, 1, 1, 1, 1, 1, 1, 1, 1, 1, 1, 1, 1, 1, 1, 1, 1, 1, 1, 5, 5, 5, 5, 5, 1, 2, 5, 5, 1, 1, 1, 1, 2, 2, 5]\n",
      "tcodey : 1\n",
      "miss_treatment : 3\n",
      "lamda : 0.99\n",
      "alpha : 0.9\n",
      "kappa : 0.95\n",
      "forgetting_method : 2\n",
      "prior_theta : 1\n",
      "initial_V_0 : 1\n",
      "restricted_vars : ['intercept', 'CPI']\n",
      "initial_DMA_weights : 1\n",
      "expert_opinion : 2\n",
      "weighting : normal\n",
      "degrees : None\n",
      "h_fore : 1\n",
      "first_sample_ends : 2004-12-31\n"
     ]
    }
   ],
   "source": [
    "# specify settings for DMA\n",
    "params.use_y = ['CPI']\n",
    "params.print_settings()"
   ],
   "metadata": {
    "collapsed": false,
    "pycharm": {
     "name": "#%%\n"
    }
   }
  },
  {
   "cell_type": "code",
   "execution_count": 12,
   "outputs": [],
   "source": [
    "def grid_search_a_l(params, data, grid):\n",
    "    stats_fe = ['alpha', 'lambda', 'MAFE_DMA', 'MSFE_DMA', 'BIAS_DMA', 'MAFE_DMS', 'MSFE_DMS', 'BIAS_DMS']\n",
    "    pd_stats = pd.DataFrame(columns=stats_fe)\n",
    "    for g in grid:\n",
    "        a = g[0]\n",
    "        l = g[1]\n",
    "        print(f'run dma for alpha = {a} and lambda = {l}')\n",
    "        params.alpha = a\n",
    "        params.lamda = l\n",
    "        dma = DMA(params, data)\n",
    "        dma.run_dma()\n",
    "        dma.forecast_statistics(plot_fe=False, plot_y_fe=False, print_stats=False, unit='percent')\n",
    "        stats_temp = [a, l, dma.MAFE_DMA, dma.MSFE_DMA, dma.BIAS_DMA, dma.MAFE_DMS, dma.MSFE_DMS, dma.BIAS_DMS]\n",
    "        pd_stats.loc[str(g)] = stats_temp\n",
    "    return pd_stats"
   ],
   "metadata": {
    "collapsed": false,
    "pycharm": {
     "name": "#%%\n"
    }
   }
  },
  {
   "cell_type": "code",
   "execution_count": 13,
   "outputs": [
    {
     "ename": "FileNotFoundError",
     "evalue": "[Errno 2] No such file or directory: 'C:\\\\Users\\\\yanni\\\\Google Drive\\\\Uni\\\\Master\\\\Financial Econometrics Seminar\\\\DMA-Application-FinEcon\\\\notebooks\\\\saved_outputs_4factors\\\\pd_stats_1.pkl'",
     "output_type": "error",
     "traceback": [
      "\u001B[1;31m---------------------------------------------------------------------------\u001B[0m",
      "\u001B[1;31mFileNotFoundError\u001B[0m                         Traceback (most recent call last)",
      "\u001B[1;32m~\\AppData\\Local\\Temp/ipykernel_15840/1954963018.py\u001B[0m in \u001B[0;36m<module>\u001B[1;34m\u001B[0m\n\u001B[0;32m     30\u001B[0m             \u001B[0mpickle\u001B[0m\u001B[1;33m.\u001B[0m\u001B[0mdump\u001B[0m\u001B[1;33m(\u001B[0m\u001B[0mpd_stats_4\u001B[0m\u001B[1;33m,\u001B[0m \u001B[0mf\u001B[0m\u001B[1;33m)\u001B[0m\u001B[1;33m\u001B[0m\u001B[1;33m\u001B[0m\u001B[0m\n\u001B[0;32m     31\u001B[0m \u001B[1;32melse\u001B[0m\u001B[1;33m:\u001B[0m   \u001B[1;31m# the saved results are produced using a dataset produced by factor analysis with the quartimax rotation, 4 factors and two lags of those factors\u001B[0m\u001B[1;33m\u001B[0m\u001B[1;33m\u001B[0m\u001B[0m\n\u001B[1;32m---> 32\u001B[1;33m     \u001B[1;32mwith\u001B[0m \u001B[0mopen\u001B[0m\u001B[1;33m(\u001B[0m\u001B[0mos\u001B[0m\u001B[1;33m.\u001B[0m\u001B[0mpath\u001B[0m\u001B[1;33m.\u001B[0m\u001B[0mjoin\u001B[0m\u001B[1;33m(\u001B[0m\u001B[0moutput_path\u001B[0m\u001B[1;33m,\u001B[0m \u001B[1;34m'pd_stats_1.pkl'\u001B[0m\u001B[1;33m)\u001B[0m\u001B[1;33m,\u001B[0m \u001B[1;34m'rb'\u001B[0m\u001B[1;33m)\u001B[0m \u001B[1;32mas\u001B[0m \u001B[0mf\u001B[0m\u001B[1;33m:\u001B[0m\u001B[1;33m\u001B[0m\u001B[1;33m\u001B[0m\u001B[0m\n\u001B[0m\u001B[0;32m     33\u001B[0m         \u001B[0mpd_stats_1\u001B[0m \u001B[1;33m=\u001B[0m \u001B[0mpickle\u001B[0m\u001B[1;33m.\u001B[0m\u001B[0mload\u001B[0m\u001B[1;33m(\u001B[0m\u001B[0mf\u001B[0m\u001B[1;33m)\u001B[0m\u001B[1;33m\u001B[0m\u001B[1;33m\u001B[0m\u001B[0m\n\u001B[0;32m     34\u001B[0m     \u001B[1;32mwith\u001B[0m \u001B[0mopen\u001B[0m\u001B[1;33m(\u001B[0m\u001B[0mos\u001B[0m\u001B[1;33m.\u001B[0m\u001B[0mpath\u001B[0m\u001B[1;33m.\u001B[0m\u001B[0mjoin\u001B[0m\u001B[1;33m(\u001B[0m\u001B[0moutput_path\u001B[0m\u001B[1;33m,\u001B[0m \u001B[1;34m'pd_stats_4.pkl'\u001B[0m\u001B[1;33m)\u001B[0m\u001B[1;33m,\u001B[0m \u001B[1;34m'rb'\u001B[0m\u001B[1;33m)\u001B[0m \u001B[1;32mas\u001B[0m \u001B[0mf\u001B[0m\u001B[1;33m:\u001B[0m\u001B[1;33m\u001B[0m\u001B[1;33m\u001B[0m\u001B[0m\n",
      "\u001B[1;31mFileNotFoundError\u001B[0m: [Errno 2] No such file or directory: 'C:\\\\Users\\\\yanni\\\\Google Drive\\\\Uni\\\\Master\\\\Financial Econometrics Seminar\\\\DMA-Application-FinEcon\\\\notebooks\\\\saved_outputs_4factors\\\\pd_stats_1.pkl'"
     ]
    }
   ],
   "source": [
    "if replicate['grid_search']:\n",
    "    # do grid search on data with 4 factors to speed it up\n",
    "    with open(os.path.join(output_path, 'df_fa_post_4_factors.pkl'), 'rb') as f:\n",
    "        df_fa_post_4_factors = pickle.load(f)\n",
    "    alpha_range = np.arange(0.93, 0.991, 0.02)\n",
    "    lambdaa_range = np.arange(0.93, 0.991, 0.02)\n",
    "    grid = np.transpose([np.tile(alpha_range, len(lambdaa_range)), np.repeat(lambdaa_range, len(alpha_range))])\n",
    "\n",
    "    params.h_fore = 1\n",
    "    data_fa_post_4_factors_h1 = Data(df_sa, params)\n",
    "    data_fa_post_4_factors_h1.X = df_fa_post_4_factors\n",
    "    data_fa_post_4_factors_h1.T = data_fa_post_4_factors_h1.X.shape[0]\n",
    "    data_fa_post_4_factors_h1.N = data_fa_post_4_factors_h1.X.shape[1]\n",
    "    data_h1 = Data(df_sa, params)\n",
    "    data_fa_post_4_factors_h1.y_dep = data_h1.y_dep[2:]    # adjust for lagging\n",
    "    params.h_fore = 4\n",
    "    data_fa_post_4_factors_h4 = Data(df_sa, params)\n",
    "    data_fa_post_4_factors_h4.X = df_fa_post_4_factors\n",
    "    data_fa_post_4_factors_h4.T = data_fa_post_4_factors_h4.X.shape[0]\n",
    "    data_fa_post_4_factors_h4.N = data_fa_post_4_factors_h4.X.shape[1]\n",
    "    data_h4 = Data(df_sa, params)\n",
    "    data_fa_post_4_factors_h4.y_dep = data_h4.y_dep[2:]    # adjust for lagging\n",
    "\n",
    "    pd_stats_1 = grid_search_a_l(params, data_fa_post_4_factors_h1, grid)\n",
    "    pd_stats_4 = grid_search_a_l(params, data_fa_post_4_factors_h4, grid)\n",
    "    if replicate['save_grid_results']:\n",
    "        with open(os.path.join(output_path, 'pd_stats_1.pkl'), 'wb') as f:\n",
    "            pickle.dump(pd_stats_1, f)\n",
    "        with open(os.path.join(output_path, 'pd_stats_4.pkl'), 'wb') as f:\n",
    "            pickle.dump(pd_stats_4, f)\n",
    "else:   # the saved results are produced using a dataset produced by factor analysis with the quartimax rotation, 4 factors and two lags of those factors\n",
    "    with open(os.path.join(output_path, 'pd_stats_1.pkl'), 'rb') as f:\n",
    "        pd_stats_1 = pickle.load(f)\n",
    "    with open(os.path.join(output_path, 'pd_stats_4.pkl'), 'rb') as f:\n",
    "        pd_stats_4 = pickle.load(f)"
   ],
   "metadata": {
    "collapsed": false,
    "pycharm": {
     "name": "#%%\n"
    }
   }
  },
  {
   "cell_type": "code",
   "execution_count": 14,
   "outputs": [
    {
     "ename": "NameError",
     "evalue": "name 'pd_stats_1' is not defined",
     "output_type": "error",
     "traceback": [
      "\u001B[1;31m---------------------------------------------------------------------------\u001B[0m",
      "\u001B[1;31mNameError\u001B[0m                                 Traceback (most recent call last)",
      "\u001B[1;32m~\\AppData\\Local\\Temp/ipykernel_15840/3578466356.py\u001B[0m in \u001B[0;36m<module>\u001B[1;34m\u001B[0m\n\u001B[0;32m      1\u001B[0m \u001B[1;31m# results for forecast horizon: 1 quarter\u001B[0m\u001B[1;33m\u001B[0m\u001B[1;33m\u001B[0m\u001B[1;33m\u001B[0m\u001B[0m\n\u001B[1;32m----> 2\u001B[1;33m \u001B[0mpd_stats_1\u001B[0m\u001B[1;33m\u001B[0m\u001B[1;33m\u001B[0m\u001B[0m\n\u001B[0m",
      "\u001B[1;31mNameError\u001B[0m: name 'pd_stats_1' is not defined"
     ]
    }
   ],
   "source": [
    "# results for forecast horizon: 1 quarter\n",
    "pd_stats_1"
   ],
   "metadata": {
    "collapsed": false,
    "pycharm": {
     "name": "#%%\n"
    }
   }
  },
  {
   "cell_type": "code",
   "execution_count": 15,
   "outputs": [
    {
     "ename": "NameError",
     "evalue": "name 'pd_stats_4' is not defined",
     "output_type": "error",
     "traceback": [
      "\u001B[1;31m---------------------------------------------------------------------------\u001B[0m",
      "\u001B[1;31mNameError\u001B[0m                                 Traceback (most recent call last)",
      "\u001B[1;32m~\\AppData\\Local\\Temp/ipykernel_15840/783043062.py\u001B[0m in \u001B[0;36m<module>\u001B[1;34m\u001B[0m\n\u001B[0;32m      1\u001B[0m \u001B[1;31m# results for forecast horizon: 4 quarters\u001B[0m\u001B[1;33m\u001B[0m\u001B[1;33m\u001B[0m\u001B[1;33m\u001B[0m\u001B[0m\n\u001B[1;32m----> 2\u001B[1;33m \u001B[0mpd_stats_4\u001B[0m\u001B[1;33m\u001B[0m\u001B[1;33m\u001B[0m\u001B[0m\n\u001B[0m",
      "\u001B[1;31mNameError\u001B[0m: name 'pd_stats_4' is not defined"
     ]
    }
   ],
   "source": [
    "# results for forecast horizon: 4 quarters\n",
    "pd_stats_4"
   ],
   "metadata": {
    "collapsed": false,
    "pycharm": {
     "name": "#%%\n"
    }
   }
  },
  {
   "cell_type": "markdown",
   "source": [
    "# DMA on different specifications\n",
    "Specifications to test:\n",
    "1. DMA with F.A. reduced dataset and different $\\alpha$ and $\\lambda$ combinations\n",
    "2. DMA with some standard predictors\n",
    "For\n",
    "- ($\\alpha$, $\\lambda$) = (0.99, 0.99)\n",
    "- ($\\alpha$, $\\lambda$) = (0.97, 0.99)\n",
    "- ($\\alpha$, $\\lambda$) = (0.97, 0.97)\n",
    "- ($\\alpha$, $\\lambda$) = (0.95, 0.95)\n",
    "3. Simple TVP model\n",
    "4. Simple AR model\n",
    "\n",
    "Do everything for h = 1 and h = 4"
   ],
   "metadata": {
    "collapsed": false,
    "pycharm": {
     "name": "#%% md\n"
    }
   }
  },
  {
   "cell_type": "code",
   "execution_count": 16,
   "outputs": [],
   "source": [
    "def DMA_steps(params, data, alpha, lamda, save, name, output_path):\n",
    "    params.alpha = alpha\n",
    "    params.lamda = lamda\n",
    "    print(f'(alpha, lambda) = ({alpha}, {lamda})')\n",
    "    dma = DMA(params, data)\n",
    "    dma.run_dma()\n",
    "    dma.forecast_statistics(unit='percent', plot_fe=False, plot_y_fe=False, print_stats=False)\n",
    "    stats_temp = [params.alpha, params.lamda,\n",
    "                     dma.MAFE_DMA, dma.MSFE_DMA, dma.BIAS_DMA,\n",
    "                     dma.MAFE_DMS, dma.MSFE_DMS, dma.BIAS_DMS]\n",
    "    if save:\n",
    "        with open(os.path.join(output_path, name+'.pkl'), 'wb') as f:\n",
    "                pickle.dump(dma, f)\n",
    "    return dma, stats_temp\n",
    "def get_stats(dma):\n",
    "    dma.forecast_statistics(unit='percent', plot_fe=False, plot_y_fe=False, print_stats=False)\n",
    "    stats_temp = [params.alpha, params.lamda,\n",
    "                     dma.MAFE_DMA, dma.MSFE_DMA, dma.BIAS_DMA,\n",
    "                     dma.MAFE_DMS, dma.MSFE_DMS, dma.BIAS_DMS]\n",
    "    return stats_temp"
   ],
   "metadata": {
    "collapsed": false,
    "pycharm": {
     "name": "#%%\n"
    }
   }
  },
  {
   "cell_type": "markdown",
   "source": [
    "## DMA with Factor Analysis data"
   ],
   "metadata": {
    "collapsed": false,
    "pycharm": {
     "name": "#%% md\n"
    }
   }
  },
  {
   "cell_type": "code",
   "execution_count": 17,
   "outputs": [],
   "source": [
    "# settings for FA DMA\n",
    "# with open(os.path.join(output_path, 'df_fa_oblimax.pkl'), 'rb') as f:\n",
    "#         df_fa_post = pickle.load(f)\n",
    "# adjust data class for FA results\n",
    "\n",
    "params.h_fore = 1\n",
    "data_fa_h1 = Data(df_sa, params)\n",
    "data_fa_h1.X = df_fa_post\n",
    "data_fa_h1.T = data.X.shape[0]\n",
    "data_fa_h1.N = data.X.shape[1]\n",
    "data_h1 = Data(df_sa, params)\n",
    "data_fa_h1.y_dep = data_h1.y_dep[fa_lags:]    # adjust for lagging\n",
    "params.h_fore = 4\n",
    "data_fa_h4 = Data(df_sa, params)\n",
    "data_fa_h4.X = df_fa_post\n",
    "data_fa_h4.T = data.X.shape[0]\n",
    "data_fa_h4.N = data.X.shape[1]\n",
    "data_h4 = Data(df_sa, params)\n",
    "data_fa_h4.y_dep = data_h4.y_dep[fa_lags:]    # adjust for lagging\n",
    "\n",
    "stats_fe = ['alpha', 'lambda', 'MAFE_DMA', 'MSFE_DMA', 'BIAS_DMA', 'MAFE_DMS', 'MSFE_DMS', 'BIAS_DMS']"
   ],
   "metadata": {
    "collapsed": false,
    "pycharm": {
     "name": "#%%\n"
    }
   }
  },
  {
   "cell_type": "code",
   "execution_count": 20,
   "outputs": [
    {
     "name": "stdout",
     "output_type": "stream",
     "text": [
      "(alpha, lambda) = (0.99, 0.99)\n"
     ]
    },
    {
     "name": "stderr",
     "output_type": "stream",
     "text": [
      "100%|██████████| 114/114 [14:12<00:00,  7.48s/it]\n"
     ]
    },
    {
     "name": "stdout",
     "output_type": "stream",
     "text": [
      "DMA finished\n",
      "(alpha, lambda) = (0.97, 0.97)\n"
     ]
    },
    {
     "name": "stderr",
     "output_type": "stream",
     "text": [
      "100%|██████████| 114/114 [09:30<00:00,  5.01s/it]\n"
     ]
    },
    {
     "name": "stdout",
     "output_type": "stream",
     "text": [
      "DMA finished\n",
      "(alpha, lambda) = (0.95, 0.95)\n"
     ]
    },
    {
     "name": "stderr",
     "output_type": "stream",
     "text": [
      "100%|██████████| 114/114 [07:52<00:00,  4.14s/it]\n"
     ]
    },
    {
     "name": "stdout",
     "output_type": "stream",
     "text": [
      "DMA finished\n"
     ]
    }
   ],
   "source": [
    "if replicate['DMA_FA_selected']:\n",
    "    save = replicate['save_DMA_FA']\n",
    "    params.h_fore=1\n",
    "    data = data_fa_h1\n",
    "    # (0.99, 0.99)\n",
    "    dma_fa_h1_1, stats_fa_h1_1 = DMA_steps(params, data, 0.99, 0.99, save, 'dma_fa_h1_1', output_path)\n",
    "    # (0.99, 0.97)\n",
    "    dma_fa_h1_2, stats_fa_h1_2 = DMA_steps(params, data, 0.97, 0.97, save, 'dma_fa_h1_2', output_path)\n",
    "    # (0.97, 0.97)\n",
    "    dma_fa_h1_3, stats_fa_h1_3 = DMA_steps(params, data, 0.95, 0.95, save, 'dma_fa_h1_3', output_path)\n",
    "    # (0.97, 0.95)\n",
    "    # dma_fa_h1_4, stats_fa_h1_4 = DMA_steps(params, data, 0.93, 0.97, save, 'dma_fa_h1_4', output_path)\n",
    "else:\n",
    "    with open(os.path.join(output_path, 'dma_fa_h1_1.pkl'), 'rb') as f:\n",
    "        dma_fa_h1_1 = pickle.load(f)\n",
    "    stats_fa_h1_1 = get_stats(dma_fa_h1_1)\n",
    "    with open(os.path.join(output_path, 'dma_fa_h1_2.pkl'), 'rb') as f:\n",
    "        dma_fa_h1_2 = pickle.load(f)\n",
    "    stats_fa_h1_2 = get_stats(dma_fa_h1_2)\n",
    "    with open(os.path.join(output_path, 'dma_fa_h1_3.pkl'), 'rb') as f:\n",
    "        dma_fa_h1_3 = pickle.load(f)\n",
    "    stats_fa_h1_3 = get_stats(dma_fa_h1_3)\n",
    "    # with open(os.path.join(output_path, 'dma_fa_h1_4.pkl'), 'rb') as f:\n",
    "    #     dma_fa_h1_4 = pickle.load(f)\n",
    "    # stats_fa_h1_4 = get_stats(dma_fa_h1_4)"
   ],
   "metadata": {
    "collapsed": false,
    "pycharm": {
     "name": "#%%\n"
    }
   }
  },
  {
   "cell_type": "code",
   "execution_count": 22,
   "outputs": [
    {
     "name": "stdout",
     "output_type": "stream",
     "text": [
      "(alpha, lambda) = (0.99, 0.99)\n"
     ]
    },
    {
     "name": "stderr",
     "output_type": "stream",
     "text": [
      "100%|██████████| 111/111 [08:31<00:00,  4.61s/it]\n"
     ]
    },
    {
     "name": "stdout",
     "output_type": "stream",
     "text": [
      "DMA finished\n",
      "(alpha, lambda) = (0.97, 0.97)\n"
     ]
    },
    {
     "name": "stderr",
     "output_type": "stream",
     "text": [
      "100%|██████████| 111/111 [08:12<00:00,  4.43s/it]\n"
     ]
    },
    {
     "name": "stdout",
     "output_type": "stream",
     "text": [
      "DMA finished\n",
      "(alpha, lambda) = (0.95, 0.95)\n"
     ]
    },
    {
     "name": "stderr",
     "output_type": "stream",
     "text": [
      "100%|██████████| 111/111 [08:53<00:00,  4.81s/it]\n"
     ]
    },
    {
     "name": "stdout",
     "output_type": "stream",
     "text": [
      "DMA finished\n"
     ]
    }
   ],
   "source": [
    "if replicate['DMA_FA_selected']:\n",
    "    save = replicate['save_DMA_FA']\n",
    "    params.h_fore=4\n",
    "    data = data_fa_h4\n",
    "    # (0.99, 0.99)\n",
    "    dma_fa_h4_1, stats_fa_h4_1 = DMA_steps(params, data, 0.99, 0.99, save, 'dma_fa_h4_1', output_path)\n",
    "    # (0.99, 0.97)\n",
    "    dma_fa_h4_2, stats_fa_h4_2 = DMA_steps(params, data, 0.97, 0.97, save, 'dma_fa_h4_2', output_path)\n",
    "    # (0.97, 0.97)\n",
    "    dma_fa_h4_3, stats_fa_h4_3 = DMA_steps(params, data, 0.95, 0.95, save, 'dma_fa_h4_3', output_path)\n",
    "    # (0.97, 0.95)\n",
    "    # dma_fa_h4_4, stats_fa_h4_4 = DMA_steps(params, data, 0.93, 0.97, save, 'dma_fa_h4_4', output_path)\n",
    "else:\n",
    "    with open(os.path.join(output_path, 'dma_fa_h4_1.pkl'), 'rb') as f:\n",
    "        dma_fa_h4_1 = pickle.load(f)\n",
    "    stats_fa_h4_1 = get_stats(dma_fa_h4_1)\n",
    "    with open(os.path.join(output_path, 'dma_fa_h4_2.pkl'), 'rb') as f:\n",
    "        dma_fa_h4_2 = pickle.load(f)\n",
    "    stats_fa_h4_2 = get_stats(dma_fa_h4_2)\n",
    "    with open(os.path.join(output_path, 'dma_fa_h4_3.pkl'), 'rb') as f:\n",
    "        dma_fa_h4_3 = pickle.load(f)\n",
    "    stats_fa_h4_3 = get_stats(dma_fa_h4_3)\n",
    "    # with open(os.path.join(output_path, 'dma_fa_h4_4.pkl'), 'rb') as f:\n",
    "    #     dma_fa_h4_4 = pickle.load(f)\n",
    "    # stats_fa_h4_4 = get_stats(dma_fa_h4_4)"
   ],
   "metadata": {
    "collapsed": false,
    "pycharm": {
     "name": "#%%\n"
    }
   }
  },
  {
   "cell_type": "markdown",
   "source": [
    "## DMA with standard data"
   ],
   "metadata": {
    "collapsed": false,
    "pycharm": {
     "name": "#%% md\n"
    }
   }
  },
  {
   "cell_type": "code",
   "execution_count": null,
   "outputs": [],
   "source": [
    "params.use_x = ['unemp',    # or employment\n",
    "                'GDP',\n",
    "                'prod_ind', # or prod_constr (might be better for h=4)\n",
    "                'interest_rate_short',\n",
    "                'interest_rate_long',\n",
    "                'dax',\n",
    "                'M3',\n",
    "                'infl_exp_current_year',    # or infl_exp_next_year, infl_exp_2_year_ahead\n",
    "                # 'trade_exp',\n",
    "                'CPI_house_energy',  # or PCI_energy_ or HICP_energy\n",
    "                'supply_index_global',  # or 'supply_index_eu'\n",
    "                'business_conf_manufacturing'\n",
    "                ]\n",
    "params.miss_treatment = 1\n",
    "params.hlag = 1 # this makes it run super slow!\n",
    "params.tcodesX = params.get_tcodesX(selection)\n",
    "params.h_fore=1\n",
    "data_h1 = Data(df_sa, params)\n",
    "params.h_fore=4\n",
    "data_h4 = Data(df_sa, params)"
   ],
   "metadata": {
    "collapsed": false,
    "pycharm": {
     "name": "#%%\n"
    }
   }
  },
  {
   "cell_type": "code",
   "execution_count": null,
   "outputs": [],
   "source": [
    "if replicate['DMA_selected']:\n",
    "    save = replicate['save_DMA']\n",
    "    params.h_fore=1\n",
    "    data = data_h1\n",
    "    # (0.99, 0.99)\n",
    "    dma_h1_1, stats_h1_1 = DMA_steps(params, data, 0.99, 0.99, save, 'dma_h1_1', output_path)\n",
    "    # (0.99, 0.97)\n",
    "    dma_h1_2, stats_h1_2 = DMA_steps(params, data, 0.97, 0.99, save, 'dma_h1_2', output_path)\n",
    "    # (0.97, 0.97)\n",
    "    dma_h1_3, stats_h1_3 = DMA_steps(params, data, 0.97, 0.97, save, 'dma_h1_3', output_path)\n",
    "    # (0.97, 0.95)\n",
    "    dma_h1_4, stats_h1_4 = DMA_steps(params, data, 0.95, 0.95, save, 'dma_h1_4', output_path)"
   ],
   "metadata": {
    "collapsed": false,
    "pycharm": {
     "name": "#%%\n"
    }
   }
  },
  {
   "cell_type": "code",
   "execution_count": null,
   "outputs": [],
   "source": [
    "if replicate['DMA_selected']:\n",
    "    save = replicate['save_DMA']\n",
    "    params.h_fore=4\n",
    "    data = data_h4\n",
    "    # (0.99, 0.99)\n",
    "    dma_h4_1, stats_h4_1 = DMA_steps(params, data, 0.99, 0.99, save, 'dma_h4_1', output_path)\n",
    "    # (0.99, 0.97)\n",
    "    dma_h4_2, stats_h4_2 = DMA_steps(params, data, 0.97, 0.97, save, 'dma_h4_2', output_path)\n",
    "    # (0.97, 0.97)\n",
    "    dma_h4_3, stats_h4_3 = DMA_steps(params, data, 0.93, 0.97, save, 'dma_h4_3', output_path)\n",
    "    # (0.97, 0.95)\n",
    "    dma_h4_4, stats_h4_4 = DMA_steps(params, data, 0.95, 0.95, save, 'dma_h4_4', output_path)"
   ],
   "metadata": {
    "collapsed": false,
    "pycharm": {
     "name": "#%%\n"
    }
   }
  },
  {
   "cell_type": "markdown",
   "source": [
    "## On simple TVP"
   ],
   "metadata": {
    "collapsed": false,
    "pycharm": {
     "name": "#%% md\n"
    }
   }
  },
  {
   "cell_type": "code",
   "execution_count": 23,
   "outputs": [],
   "source": [
    "if replicate['other_models']:\n",
    "    params.h_fore = 1\n",
    "    tvp_h1 = TVP(params, data_fa_h1)\n",
    "    tvp_h1.fit()\n",
    "    tvp_h1.forecast_statistics(unit='percent',print_stats=False)\n",
    "    stats_TVP_h1 = [tvp_h1.MAFE, tvp_h1.MSFE, tvp_h1.BIAS]\n",
    "\n",
    "    params.h_fore = 4\n",
    "    #data = Data(data_fa_h4, params)\n",
    "    tvp_h4 = TVP(params, data_fa_h4)\n",
    "    tvp_h4.fit()\n",
    "    tvp_h4.forecast_statistics(unit='percent',print_stats=False)\n",
    "    stats_TVP_h4 = [tvp_h4.MAFE, tvp_h4.MSFE, tvp_h4.BIAS]\n",
    "    if replicate['save_other_models']:\n",
    "        with open(os.path.join(output_path, 'tvp_h1.pkl'), 'wb') as f:\n",
    "                pickle.dump(tvp_h1, f)\n",
    "        with open(os.path.join(output_path, 'stats_TVP_h1.pkl'), 'wb') as f:\n",
    "                pickle.dump(stats_TVP_h1, f)\n",
    "        with open(os.path.join(output_path, 'tvp_h4.pkl'), 'wb') as f:\n",
    "                pickle.dump(tvp_h4, f)\n",
    "        with open(os.path.join(output_path, 'stats_TVP_h4.pkl'), 'wb') as f:\n",
    "                pickle.dump(stats_TVP_h4, f)\n",
    "else:\n",
    "    with open(os.path.join(output_path, 'tvp_h1.pkl'), 'rb') as f:\n",
    "        tvp_h1 = pickle.load(f)\n",
    "    with open(os.path.join(output_path, 'stats_TVP_h1.pkl'), 'rb') as f:\n",
    "        stats_TVP_h1 = pickle.load(f)\n",
    "    with open(os.path.join(output_path, 'tvp_h4.pkl'), 'rb') as f:\n",
    "        tvp_h4 = pickle.load(f)\n",
    "    with open(os.path.join(output_path, 'stats_TVP_h4.pkl'), 'rb') as f:\n",
    "        stats_TVP_h4 = pickle.load(f)"
   ],
   "metadata": {
    "collapsed": false,
    "pycharm": {
     "name": "#%%\n"
    }
   }
  },
  {
   "cell_type": "markdown",
   "source": [
    "## On AR(p)"
   ],
   "metadata": {
    "collapsed": false,
    "pycharm": {
     "name": "#%% md\n"
    }
   }
  },
  {
   "cell_type": "code",
   "execution_count": 24,
   "outputs": [],
   "source": [
    "if replicate['other_models']:\n",
    "    params.lamda = 1\n",
    "    params.use_x = None\n",
    "    params.h_fore = 1\n",
    "    data_ar_h1 = Data(df_sa, params)\n",
    "    ar_h1 = TVP(params, data_ar_h1)\n",
    "    ar_h1.fit()\n",
    "    ar_h1.forecast_statistics(unit='percent', print_stats=False)\n",
    "    stats_AR_h1 = [ar_h1.MAFE, ar_h1.MSFE, ar_h1.BIAS]\n",
    "\n",
    "    params.h_fore = 4\n",
    "    data_ar_h4 = Data(df_sa, params)\n",
    "    ar_h4 = TVP(params, data_ar_h4)\n",
    "    ar_h4.fit()\n",
    "    ar_h4.forecast_statistics(unit='percent', print_stats=False)\n",
    "    stats_AR_h4 = [ar_h4.MAFE, ar_h4.MSFE, ar_h4.BIAS]\n",
    "    if replicate['save_other_models']:\n",
    "        with open(os.path.join(output_path, 'ar_h1.pkl'), 'wb') as f:\n",
    "                pickle.dump(ar_h1, f)\n",
    "        with open(os.path.join(output_path, 'stats_AR_h1.pkl'), 'wb') as f:\n",
    "                pickle.dump(stats_AR_h1, f)\n",
    "        with open(os.path.join(output_path, 'ar_h4.pkl'), 'wb') as f:\n",
    "                pickle.dump(ar_h4, f)\n",
    "        with open(os.path.join(output_path, 'stats_AR_h4.pkl'), 'wb') as f:\n",
    "                pickle.dump(stats_AR_h4, f)\n",
    "else:\n",
    "    with open(os.path.join(output_path, 'ar_h1.pkl'), 'rb') as f:\n",
    "        ar_h1 = pickle.load(f)\n",
    "    with open(os.path.join(output_path, 'stats_AR_h1.pkl'), 'rb') as f:\n",
    "        stats_AR_h1 = pickle.load(f)\n",
    "    with open(os.path.join(output_path, 'ar_h4.pkl'), 'rb') as f:\n",
    "        ar_h4 = pickle.load(f)\n",
    "    with open(os.path.join(output_path, 'stats_AR_h4.pkl'), 'rb') as f:\n",
    "        stats_AR_h4 = pickle.load(f)"
   ],
   "metadata": {
    "collapsed": false,
    "pycharm": {
     "name": "#%%\n"
    }
   }
  },
  {
   "cell_type": "markdown",
   "source": [
    "## TVP AR(p)"
   ],
   "metadata": {
    "collapsed": false,
    "pycharm": {
     "name": "#%% md\n"
    }
   }
  },
  {
   "cell_type": "code",
   "execution_count": 25,
   "outputs": [],
   "source": [
    "if replicate['other_models']:\n",
    "    params.lamda = 0.99\n",
    "    params.use_x = None\n",
    "    params.h_fore = 1\n",
    "    data_ar_h1 = Data(df_sa, params)\n",
    "    ar_h1_tvp = TVP(params, data_ar_h1)\n",
    "    ar_h1_tvp.fit()\n",
    "    ar_h1_tvp.forecast_statistics(unit='percent', print_stats=False)\n",
    "    stats_AR_tvp_h1 = [ar_h1_tvp.MAFE, ar_h1_tvp.MSFE, ar_h1_tvp.BIAS]\n",
    "\n",
    "    params.h_fore = 4\n",
    "    data_ar_h4 = Data(df_sa, params)\n",
    "    ar_h4_tvp = TVP(params, data_ar_h4)\n",
    "    ar_h4_tvp.fit()\n",
    "    ar_h4_tvp.forecast_statistics(unit='percent', print_stats=False)\n",
    "    stats_AR_tvp_h4 = [ar_h4_tvp.MAFE, ar_h4_tvp.MSFE, ar_h4_tvp.BIAS]\n",
    "    if replicate['save_other_models']:\n",
    "        with open(os.path.join(output_path, 'ar_h1_tvp.pkl'), 'wb') as f:\n",
    "                pickle.dump(ar_h1_tvp, f)\n",
    "        with open(os.path.join(output_path, 'stats_AR_tvp_h1.pkl'), 'wb') as f:\n",
    "                pickle.dump(stats_AR_tvp_h1, f)\n",
    "        with open(os.path.join(output_path, 'ar_h4_tvp.pkl'), 'wb') as f:\n",
    "                pickle.dump(ar_h4_tvp, f)\n",
    "        with open(os.path.join(output_path, 'stats_AR_tvp_h4.pkl'), 'wb') as f:\n",
    "                pickle.dump(stats_AR_tvp_h4, f)\n",
    "else:\n",
    "    with open(os.path.join(output_path, 'ar_h1_tvp.pkl'), 'rb') as f:\n",
    "        ar_h1_tvp = pickle.load(f)\n",
    "    with open(os.path.join(output_path, 'stats_AR_tvp_h1.pkl'), 'rb') as f:\n",
    "        stats_AR_tvp_h1 = pickle.load(f)\n",
    "    with open(os.path.join(output_path, 'ar_h4_tvp.pkl'), 'rb') as f:\n",
    "        ar_h4_tvp = pickle.load(f)\n",
    "    with open(os.path.join(output_path, 'stats_AR_tvp_h4.pkl'), 'rb') as f:\n",
    "        stats_AR_tvp_h4 = pickle.load(f)"
   ],
   "metadata": {
    "collapsed": false,
    "pycharm": {
     "name": "#%%\n"
    }
   }
  },
  {
   "cell_type": "markdown",
   "source": [
    "## Combine stats"
   ],
   "metadata": {
    "collapsed": false,
    "pycharm": {
     "name": "#%% md\n"
    }
   }
  },
  {
   "cell_type": "code",
   "execution_count": 30,
   "outputs": [
    {
     "data": {
      "text/plain": "                                 MAFE      MSFE      BIAS\nDMA F.A., h=1, (0.99, 0.99)  0.601341  1.230434  0.065029\nDMA F.A., h=1, (0.97, 0.97)  0.607765  1.206556  0.067110\nDMA F.A., h=1, (0.95, 0.95)  0.639111  1.292632  0.059327\nDMS F.A., h=1, (0.99, 0.99)  0.600913  1.263688  0.062938\nDMS F.A., h=1, (0.97, 0.97)  0.602422  1.260812  0.054572\nDMS F.A., h=1, (0.95, 0.95)  0.624716  1.413657  0.037639\nTVP, h=1                     0.780858  2.264239  0.047687\nAR, h=1                      0.620791  1.362474  0.067935\nAR TVP, h=1                  0.482953  0.691089  0.021517",
      "text/html": "<div>\n<style scoped>\n    .dataframe tbody tr th:only-of-type {\n        vertical-align: middle;\n    }\n\n    .dataframe tbody tr th {\n        vertical-align: top;\n    }\n\n    .dataframe thead th {\n        text-align: right;\n    }\n</style>\n<table border=\"1\" class=\"dataframe\">\n  <thead>\n    <tr style=\"text-align: right;\">\n      <th></th>\n      <th>MAFE</th>\n      <th>MSFE</th>\n      <th>BIAS</th>\n    </tr>\n  </thead>\n  <tbody>\n    <tr>\n      <th>DMA F.A., h=1, (0.99, 0.99)</th>\n      <td>0.601341</td>\n      <td>1.230434</td>\n      <td>0.065029</td>\n    </tr>\n    <tr>\n      <th>DMA F.A., h=1, (0.97, 0.97)</th>\n      <td>0.607765</td>\n      <td>1.206556</td>\n      <td>0.067110</td>\n    </tr>\n    <tr>\n      <th>DMA F.A., h=1, (0.95, 0.95)</th>\n      <td>0.639111</td>\n      <td>1.292632</td>\n      <td>0.059327</td>\n    </tr>\n    <tr>\n      <th>DMS F.A., h=1, (0.99, 0.99)</th>\n      <td>0.600913</td>\n      <td>1.263688</td>\n      <td>0.062938</td>\n    </tr>\n    <tr>\n      <th>DMS F.A., h=1, (0.97, 0.97)</th>\n      <td>0.602422</td>\n      <td>1.260812</td>\n      <td>0.054572</td>\n    </tr>\n    <tr>\n      <th>DMS F.A., h=1, (0.95, 0.95)</th>\n      <td>0.624716</td>\n      <td>1.413657</td>\n      <td>0.037639</td>\n    </tr>\n    <tr>\n      <th>TVP, h=1</th>\n      <td>0.780858</td>\n      <td>2.264239</td>\n      <td>0.047687</td>\n    </tr>\n    <tr>\n      <th>AR, h=1</th>\n      <td>0.620791</td>\n      <td>1.362474</td>\n      <td>0.067935</td>\n    </tr>\n    <tr>\n      <th>AR TVP, h=1</th>\n      <td>0.482953</td>\n      <td>0.691089</td>\n      <td>0.021517</td>\n    </tr>\n  </tbody>\n</table>\n</div>"
     },
     "execution_count": 30,
     "metadata": {},
     "output_type": "execute_result"
    }
   ],
   "source": [
    "stats2 = ['MAFE', 'MSFE', 'BIAS']\n",
    "stats_pd_all_h1 = pd.DataFrame.from_dict(data={'DMA F.A., h=1, (0.99, 0.99)': stats_fa_h1_1[2:5],\n",
    "                                            'DMA F.A., h=1, (0.97, 0.97)': stats_fa_h1_2[2:5],\n",
    "                                            'DMA F.A., h=1, (0.95, 0.95)': stats_fa_h1_3[2:5],\n",
    "                                            #'DMA F.A., h=1, (0.95, 0.95)': stats_fa_h1_4[2:5],\n",
    "                                            # 'DMA, h=1, (0.99, 0.99)': stats_h1_1[2:5],\n",
    "                                            # 'DMA, h=1, (0.97, 0.99)': stats_h1_2[2:5],\n",
    "                                            # 'DMA, h=1, (0.97, 0.97)': stats_h1_3[2:5],\n",
    "                                            # 'DMA, h=1, (0.95, 0.95)': stats_h1_4[2:5],\n",
    "                                            'DMS F.A., h=1, (0.99, 0.99)': stats_fa_h1_1[5:],\n",
    "                                            'DMS F.A., h=1, (0.97, 0.97)': stats_fa_h1_2[5:],\n",
    "                                            'DMS F.A., h=1, (0.95, 0.95)': stats_fa_h1_3[5:],\n",
    "                                            # 'DMS F.A., h=1, (0.95, 0.95)': stats_fa_h1_4[5:],\n",
    "                                            # 'DMS, h=1, (0.99, 0.99)': stats_h1_1[5:],\n",
    "                                            # 'DMS, h=1, (0.97, 0.99)': stats_h1_2[5:],\n",
    "                                            # 'DMS, h=1, (0.97, 0.97)': stats_h1_3[5:],\n",
    "                                            # 'DMS, h=1, (0.95, 0.95)': stats_h1_4[5:]\n",
    "                                            'TVP, h=1': stats_TVP_h1,\n",
    "                                            'AR, h=1': stats_AR_h1,\n",
    "                                            'AR TVP, h=1': stats_AR_tvp_h4\n",
    "                                               },\n",
    "                                orient='index',\n",
    "                                columns=stats2)\n",
    "stats_pd_all_h1*[100, 100**2, 100]"
   ],
   "metadata": {
    "collapsed": false,
    "pycharm": {
     "name": "#%%\n"
    }
   }
  },
  {
   "cell_type": "code",
   "execution_count": 27,
   "outputs": [
    {
     "data": {
      "text/plain": "                                 MAFE      MSFE      BIAS\nDMA F.A., h=4, (0.99, 0.99)  0.474190  0.696883  0.008257\nDMA F.A., h=4, (0.97, 0.97)  0.494251  0.793246  0.007700\nDMA F.A., h=4, (0.95, 0.95)  0.513911  0.848003  0.007782\nDMS F.A., h=4, (0.99, 0.99)  0.474825  0.682639  0.012590\nDMS F.A., h=4, (0.97, 0.97)  0.497838  0.787774  0.010458\nDMS F.A., h=4, (0.95, 0.95)  0.514119  0.844381  0.005679\nTVP, h=4                     0.651608  1.276495 -0.099350\nAR, h=4                      0.472692  0.673920  0.020749\nAR TVP, h=4                  0.482953  0.691089  0.021517",
      "text/html": "<div>\n<style scoped>\n    .dataframe tbody tr th:only-of-type {\n        vertical-align: middle;\n    }\n\n    .dataframe tbody tr th {\n        vertical-align: top;\n    }\n\n    .dataframe thead th {\n        text-align: right;\n    }\n</style>\n<table border=\"1\" class=\"dataframe\">\n  <thead>\n    <tr style=\"text-align: right;\">\n      <th></th>\n      <th>MAFE</th>\n      <th>MSFE</th>\n      <th>BIAS</th>\n    </tr>\n  </thead>\n  <tbody>\n    <tr>\n      <th>DMA F.A., h=4, (0.99, 0.99)</th>\n      <td>0.474190</td>\n      <td>0.696883</td>\n      <td>0.008257</td>\n    </tr>\n    <tr>\n      <th>DMA F.A., h=4, (0.97, 0.97)</th>\n      <td>0.494251</td>\n      <td>0.793246</td>\n      <td>0.007700</td>\n    </tr>\n    <tr>\n      <th>DMA F.A., h=4, (0.95, 0.95)</th>\n      <td>0.513911</td>\n      <td>0.848003</td>\n      <td>0.007782</td>\n    </tr>\n    <tr>\n      <th>DMS F.A., h=4, (0.99, 0.99)</th>\n      <td>0.474825</td>\n      <td>0.682639</td>\n      <td>0.012590</td>\n    </tr>\n    <tr>\n      <th>DMS F.A., h=4, (0.97, 0.97)</th>\n      <td>0.497838</td>\n      <td>0.787774</td>\n      <td>0.010458</td>\n    </tr>\n    <tr>\n      <th>DMS F.A., h=4, (0.95, 0.95)</th>\n      <td>0.514119</td>\n      <td>0.844381</td>\n      <td>0.005679</td>\n    </tr>\n    <tr>\n      <th>TVP, h=4</th>\n      <td>0.651608</td>\n      <td>1.276495</td>\n      <td>-0.099350</td>\n    </tr>\n    <tr>\n      <th>AR, h=4</th>\n      <td>0.472692</td>\n      <td>0.673920</td>\n      <td>0.020749</td>\n    </tr>\n    <tr>\n      <th>AR TVP, h=4</th>\n      <td>0.482953</td>\n      <td>0.691089</td>\n      <td>0.021517</td>\n    </tr>\n  </tbody>\n</table>\n</div>"
     },
     "execution_count": 27,
     "metadata": {},
     "output_type": "execute_result"
    }
   ],
   "source": [
    "stats_pd_all_h4 = pd.DataFrame.from_dict(data={'DMA F.A., h=4, (0.99, 0.99)': stats_fa_h4_1[2:5],\n",
    "                                            'DMA F.A., h=4, (0.97, 0.97)': stats_fa_h4_2[2:5],\n",
    "                                            'DMA F.A., h=4, (0.95, 0.95)': stats_fa_h4_3[2:5],\n",
    "                                            # 'DMA F.A., h=4, (0.95, 0.95)': stats_fa_h4_4[2:5],\n",
    "                                            # 'DMA, h=4, (0.99, 0.99)': stats_h4_1[2:5],\n",
    "                                            # 'DMA, h=4, (0.97, 0.99)': stats_h4_2[2:5],\n",
    "                                            # 'DMA, h=4, (0.97, 0.97)': stats_h4_3[2:5],\n",
    "                                            # 'DMA, h=4, (0.95, 0.95)': stats_h4_4[2:5],\n",
    "                                            'DMS F.A., h=4, (0.99, 0.99)': stats_fa_h4_1[5:],\n",
    "                                            'DMS F.A., h=4, (0.97, 0.97)': stats_fa_h4_2[5:],\n",
    "                                            'DMS F.A., h=4, (0.95, 0.95)': stats_fa_h4_3[5:],\n",
    "                                            # 'DMS F.A., h=4, (0.95, 0.95)': stats_fa_h4_4[5:],\n",
    "                                            # 'DMS, h=4, (0.99, 0.99)': stats_h4_1[5:],\n",
    "                                            # 'DMS, h=4, (0.97, 0.99)': stats_h4_2[5:],\n",
    "                                            # 'DMS, h=4, (0.97, 0.97)': stats_h4_3[5:],\n",
    "                                            # 'DMS, h=4, (0.95, 0.95)': stats_h4_4[5:],\n",
    "                                            'TVP, h=4': stats_TVP_h4,\n",
    "                                            'AR, h=4': stats_AR_h4,\n",
    "                                            'AR TVP, h=4': stats_AR_tvp_h4\n",
    "                                               },\n",
    "                                orient='index',\n",
    "                                columns=stats2)\n",
    "stats_pd_all_h4*[100, 100**2, 100]"
   ],
   "metadata": {
    "collapsed": false,
    "pycharm": {
     "name": "#%%\n"
    }
   }
  },
  {
   "cell_type": "code",
   "execution_count": 1,
   "outputs": [
    {
     "ename": "NameError",
     "evalue": "name 'dma_fa_h4_1' is not defined",
     "output_type": "error",
     "traceback": [
      "\u001B[1;31m---------------------------------------------------------------------------\u001B[0m",
      "\u001B[1;31mNameError\u001B[0m                                 Traceback (most recent call last)",
      "\u001B[1;32m~\\AppData\\Local\\Temp/ipykernel_5360/2333603300.py\u001B[0m in \u001B[0;36m<module>\u001B[1;34m\u001B[0m\n\u001B[1;32m----> 1\u001B[1;33m \u001B[0mactual_vals\u001B[0m \u001B[1;33m=\u001B[0m \u001B[0mdma_fa_h4_1\u001B[0m\u001B[1;33m.\u001B[0m\u001B[0my_dep\u001B[0m\u001B[1;33m[\u001B[0m\u001B[0mdma_fa_h4_1\u001B[0m\u001B[1;33m.\u001B[0m\u001B[0mfirst_sample_ends\u001B[0m\u001B[1;33m:\u001B[0m\u001B[1;33m]\u001B[0m\u001B[1;33m.\u001B[0m\u001B[0mtolist\u001B[0m\u001B[1;33m(\u001B[0m\u001B[1;33m)\u001B[0m\u001B[1;33m\u001B[0m\u001B[1;33m\u001B[0m\u001B[0m\n\u001B[0m\u001B[0;32m      2\u001B[0m \u001B[0mprediction_dma\u001B[0m \u001B[1;33m=\u001B[0m \u001B[0mdma_fa_h4_1\u001B[0m\u001B[1;33m.\u001B[0m\u001B[0my_t_DMA\u001B[0m\u001B[1;33m[\u001B[0m\u001B[0mdma_fa_h4_1\u001B[0m\u001B[1;33m.\u001B[0m\u001B[0mfirst_sample_ends\u001B[0m\u001B[1;33m:\u001B[0m\u001B[1;33m]\u001B[0m\u001B[1;33m.\u001B[0m\u001B[0mtolist\u001B[0m\u001B[1;33m(\u001B[0m\u001B[1;33m)\u001B[0m\u001B[1;33m\u001B[0m\u001B[1;33m\u001B[0m\u001B[0m\n\u001B[0;32m      3\u001B[0m \u001B[0mprediction_ar\u001B[0m \u001B[1;33m=\u001B[0m \u001B[0mar_h1\u001B[0m\u001B[1;33m.\u001B[0m\u001B[0my_tvp\u001B[0m\u001B[1;33m[\u001B[0m\u001B[0mar_h1\u001B[0m\u001B[1;33m.\u001B[0m\u001B[0mfirst_sample_ends\u001B[0m\u001B[1;33m:\u001B[0m\u001B[1;33m]\u001B[0m\u001B[1;33m\u001B[0m\u001B[1;33m\u001B[0m\u001B[0m\n\u001B[0;32m      4\u001B[0m \u001B[0mdm_test\u001B[0m\u001B[1;33m.\u001B[0m\u001B[0mdm_test\u001B[0m\u001B[1;33m(\u001B[0m\u001B[0mactual_vals\u001B[0m\u001B[1;33m,\u001B[0m \u001B[0mprediction_dma\u001B[0m\u001B[1;33m,\u001B[0m \u001B[0mprediction_ar\u001B[0m\u001B[1;33m,\u001B[0m \u001B[0mcrit\u001B[0m\u001B[1;33m=\u001B[0m\u001B[1;34m'MAD'\u001B[0m\u001B[1;33m,\u001B[0m \u001B[0mh\u001B[0m\u001B[1;33m=\u001B[0m\u001B[1;36m1\u001B[0m\u001B[1;33m)\u001B[0m\u001B[1;33m\u001B[0m\u001B[1;33m\u001B[0m\u001B[0m\n",
      "\u001B[1;31mNameError\u001B[0m: name 'dma_fa_h4_1' is not defined"
     ]
    }
   ],
   "source": [
    "actual_vals = dma_fa_h4_1.y_dep[dma_fa_h4_1.first_sample_ends:].tolist()\n",
    "prediction_dma = dma_fa_h4_1.y_t_DMA[dma_fa_h4_1.first_sample_ends:].tolist()\n",
    "prediction_ar = ar_h1.y_tvp[ar_h1.first_sample_ends:]\n",
    "dm_test.dm_test(actual_vals, prediction_dma, prediction_ar, crit='MAD', h=1)"
   ],
   "metadata": {
    "collapsed": false,
    "pycharm": {
     "name": "#%%\n"
    }
   }
  },
  {
   "cell_type": "markdown",
   "source": [],
   "metadata": {
    "collapsed": false
   }
  },
  {
   "cell_type": "code",
   "execution_count": 31,
   "outputs": [
    {
     "name": "stdout",
     "output_type": "stream",
     "text": [
      "\\begin{tabular}{lrrrr}\n",
      "\\toprule\n",
      "{} &  MAFE\\_h=1 &  MSFE\\_h=1 &  MAFE\\_h=4 &  MSFE\\_h=4 \\\\\n",
      "\\midrule\n",
      "DMA, (0.99, 0.99) &  0.601341 &  1.230434 &  0.474190 &  0.696883 \\\\\n",
      "DMA, (0.97, 0.97) &  0.607765 &  1.206556 &  0.494251 &  0.793246 \\\\\n",
      "DMA, (0.95, 0.95) &  0.639111 &  1.292632 &  0.513911 &  0.848003 \\\\\n",
      "DMS, (0.99, 0.99) &  0.600913 &  1.263688 &  0.474825 &  0.682639 \\\\\n",
      "DMS, (0.97, 0.97) &  0.602422 &  1.260812 &  0.497838 &  0.787774 \\\\\n",
      "DMS, (0.95, 0.95) &  0.624716 &  1.413657 &  0.514119 &  0.844381 \\\\\n",
      "TVP               &  0.780858 &  2.264239 &  0.651608 &  1.276495 \\\\\n",
      "AR                &  0.620791 &  1.362474 &  0.472692 &  0.673920 \\\\\n",
      "AR TVP            &  0.482953 &  0.691089 &  0.482953 &  0.691089 \\\\\n",
      "\\bottomrule\n",
      "\\end{tabular}\n",
      "\n"
     ]
    }
   ],
   "source": [
    "stats_pd_all_h1_ind = [i.replace(', h=1', '') for i in stats_pd_all_h1.index]\n",
    "stats_pd_all_h1_ind = [i.replace(' F.A.', '') for i in stats_pd_all_h1_ind]\n",
    "stats_pd_all_h1_temp = stats_pd_all_h1.copy()\n",
    "stats_pd_all_h1_temp.index = stats_pd_all_h1_ind\n",
    "stats_pd_all_h1_temp.columns = stats_pd_all_h1_temp.columns+'_h=1'\n",
    "\n",
    "stats_pd_all_h4_ind = [i.replace(', h=4', '') for i in stats_pd_all_h4.index]\n",
    "stats_pd_all_h4_ind = [i.replace(' F.A.', '') for i in stats_pd_all_h4_ind]\n",
    "stats_pd_all_h4_temp = stats_pd_all_h4.copy()\n",
    "stats_pd_all_h4_temp.index = stats_pd_all_h4_ind\n",
    "stats_pd_all_h4_temp.columns = stats_pd_all_h4_temp.columns+'_h=4'\n",
    "\n",
    "stats_pd_all = pd.concat((stats_pd_all_h1_temp, stats_pd_all_h4_temp), axis=1)\n",
    "print((stats_pd_all[['MAFE_h=1', 'MSFE_h=1', 'MAFE_h=4', 'MSFE_h=4']]*[100, 100**2, 100, 100**2]).to_latex())"
   ],
   "metadata": {
    "collapsed": false,
    "pycharm": {
     "name": "#%%\n"
    }
   }
  },
  {
   "cell_type": "code",
   "execution_count": null,
   "outputs": [],
   "source": [],
   "metadata": {
    "collapsed": false,
    "pycharm": {
     "name": "#%%\n"
    }
   }
  },
  {
   "cell_type": "markdown",
   "source": [
    "# DMA Output on prefered specifications\n",
    "   1. Inclusion Probabilities\n",
    "   2. Expected number of predictors\n",
    "   3. Forecast performance"
   ],
   "metadata": {
    "collapsed": false,
    "pycharm": {
     "name": "#%% md\n"
    }
   }
  },
  {
   "cell_type": "markdown",
   "source": [
    "## h = 1"
   ],
   "metadata": {
    "collapsed": false,
    "pycharm": {
     "name": "#%% md\n"
    }
   }
  },
  {
   "cell_type": "code",
   "execution_count": null,
   "outputs": [],
   "source": [
    "y_preds = pd.concat((dma_fa_h1_1.y_dep,\n",
    "                     dma_fa_h1_1.y_t_DMA,\n",
    "                     dma_fa_h1_1.y_t_DMS,\n",
    "                     ar_h1_tvp.y_tvp[1:]), axis=1)*100\n",
    "y_preds = y_preds.loc[dma_fa_h4_1.first_sample_ends:, :]\n",
    "y_preds.columns = [r'$y_t$',\n",
    "                r'$\\hat{y}_t^{DMA - (0.99, 0.99)}$',\n",
    "                r'$\\hat{y}_t^{DMS - (0.99, 0.99)}$',\n",
    "                r'$y_t^{AR TVP}$']\n",
    "fig = px.line(y_preds,\n",
    "              x=y_preds.index,\n",
    "              y=y_preds.columns)\n",
    "fig.update_layout(\n",
    "    title=\"\",\n",
    "    title_x=0.5,\n",
    "    yaxis_title='Inflation (in %)',\n",
    "    xaxis_title='',\n",
    "    legend_title=\"\",\n",
    "    margin_b=10,\n",
    "    margin_t=10,\n",
    "    legend_orientation='v',\n",
    "    legend_y=0.95\n",
    "    )\n",
    "fig.show()"
   ],
   "metadata": {
    "collapsed": false,
    "pycharm": {
     "name": "#%%\n"
    }
   }
  },
  {
   "cell_type": "code",
   "execution_count": null,
   "outputs": [],
   "source": [
    "if replicate['preferred_models_analysis']:\n",
    "    fig = dma_fa_h1_1.forecast_statistics(unit='percent', plot_y_fe=True, return_fig=True, print_stats=False)\n",
    "    fig.show()\n",
    "    # plot inclusion probabilities\n",
    "    fig = dma_fa_h1_1.plot_inclusion_prob(seperate_plots=False, return_fig=True)\n",
    "    fig.show()\n",
    "    # plot E[size]\n",
    "    fig = dma_fa_h1_1.calc_E_size(out='plot', return_fig=True)\n",
    "    fig.show()\n",
    "\n",
    "    # show how important the model without extra factors is\n",
    "    # find index of model that contains only the restricted variables\n",
    "    z = [1 if np.array_equal(m, np.array([0,1,2,3,4,5])) else 0 for m in dma_fa_h1_1.models]\n",
    "    ind = np.nonzero(z)\n",
    "    inc_prob_ar = dma_fa_h1_1.prob_update[:, ind].flatten()\n",
    "    print(f'Inclusion probability for AR(p) model: mean {inc_prob_ar.mean()} - median {np.median(inc_prob_ar)}')"
   ],
   "metadata": {
    "collapsed": false,
    "pycharm": {
     "name": "#%%\n"
    }
   }
  },
  {
   "cell_type": "markdown",
   "source": [
    "## h=4"
   ],
   "metadata": {
    "collapsed": false,
    "pycharm": {
     "name": "#%% md\n"
    }
   }
  },
  {
   "cell_type": "code",
   "execution_count": 28,
   "outputs": [
    {
     "data": {
      "image/png": "[encoded data removed]"
     },
     "metadata": {},
     "output_type": "display_data"
    }
   ],
   "source": [
    "y_preds = pd.concat((dma_fa_h4_1.y_dep,\n",
    "                     dma_fa_h4_1.y_t_DMA,\n",
    "                     dma_fa_h4_1.y_t_DMS,\n",
    "                     ar_h4.y_tvp), axis=1)*100\n",
    "y_preds = y_preds[dma_fa_h4_1.first_sample_ends:]\n",
    "y_preds.columns = [r'$y_t$',\n",
    "                r'$\\hat{y}_t^{DMA - (0.99, 0.99)}$',\n",
    "                r'$\\hat{y}_t^{DMS - (0.99, 0.99)}$',\n",
    "                r'$y_t^{AR}$']\n",
    "fig = px.line(y_preds,\n",
    "              x=y_preds.index,\n",
    "              y=y_preds.columns)\n",
    "fig.update_layout(\n",
    "    title=\"\",\n",
    "    title_x=0.5,\n",
    "    yaxis_title='Inflation (in %)',\n",
    "    xaxis_title='',\n",
    "    legend_title=\"\",\n",
    "    margin_b=10,\n",
    "    margin_t=10,\n",
    "    legend_orientation='v',\n",
    "    legend_y=0.95\n",
    "    )\n",
    "fig.show()"
   ],
   "metadata": {
    "collapsed": false,
    "pycharm": {
     "name": "#%%\n"
    }
   }
  },
  {
   "cell_type": "code",
   "execution_count": 29,
   "outputs": [
    {
     "data": {
      "image/png": "[encoded data removed]"
     },
     "metadata": {},
     "output_type": "display_data"
    }
   ],
   "source": [
    "dma_fa_h4_1.calc_E_size(out='plot', return_fig=True)\n",
    "first_sample_ends = dma_fa_h4_1.first_sample_ends\n",
    "exp_size = dma_fa_h4_1.exp_size\n",
    "n = np.where(exp_size.index == first_sample_ends)[0][0]\n",
    "fig = px.line(x=exp_size.index[n:], y=exp_size[n:]-1,\n",
    "                          title='Average number of predictors used in DMA')\n",
    "fig.update_layout(\n",
    "    title=\"\",\n",
    "    title_x=0.5,\n",
    "    yaxis_title=r'$E[Size]$',\n",
    "    xaxis_title='',\n",
    "    legend_title=\"\",\n",
    "    margin_b=10,\n",
    "    margin_t=10\n",
    ")"
   ],
   "metadata": {
    "collapsed": false,
    "pycharm": {
     "name": "#%%\n"
    }
   }
  },
  {
   "cell_type": "code",
   "execution_count": 31,
   "outputs": [
    {
     "data": {
      "image/png": "[encoded data removed]"
     },
     "metadata": {},
     "output_type": "display_data"
    },
    {
     "name": "stdout",
     "output_type": "stream",
     "text": [
      "Inclusion probability for AR(p) model: mean 0.6996705863519069 - median 0.70899608361024\n"
     ]
    }
   ],
   "source": [
    "if replicate['preferred_models_analysis']:\n",
    "    # fig = dma_fa_h4_1.forecast_statistics(unit='percent', plot_y_fe=True, return_fig=True, print_stats=False)\n",
    "    # fig.show()\n",
    "    # plot inclusion probabilities\n",
    "    fig = dma_fa_h4_1.plot_inclusion_prob(seperate_plots=False, return_fig=True,\n",
    "                                          plot_vars=['Factor_0', 'Factor_1', 'Factor_2',\n",
    "                                                     'Factor_3'])\n",
    "    fig.update_layout(\n",
    "                legend_title=\"Factor\",\n",
    "    )\n",
    "    newnames = {'Factor_0':'1',\n",
    "                'Factor_1':'2',\n",
    "                'Factor_2':'3',\n",
    "                'Factor_3':'4'}\n",
    "    fig.for_each_trace(lambda t: t.update(name = newnames[t.name],\n",
    "                                      legendgroup = newnames[t.name],\n",
    "                                      hovertemplate = t.hovertemplate.replace(t.name, newnames[t.name])\n",
    "                                     )\n",
    "                  )\n",
    "    fig.show()\n",
    "    # plot E[size]\n",
    "    # fig = dma_fa_h4_1.calc_E_size(out='plot', return_fig=True)\n",
    "    # fig.show()\n",
    "\n",
    "    # show how important the model without extra factors is\n",
    "    # find index of model that contains only the restricted variables\n",
    "    z = [1 if np.array_equal(m, np.array([0,1,2,3,4,5])) else 0 for m in dma_fa_h4_1.models]\n",
    "    ind = np.nonzero(z)\n",
    "    inc_prob_ar = dma_fa_h4_1.prob_update[:, ind].flatten()\n",
    "    print(f'Inclusion probability for AR(p) model: mean {inc_prob_ar.mean()} - median {np.median(inc_prob_ar)}')"
   ],
   "metadata": {
    "collapsed": false,
    "pycharm": {
     "name": "#%%\n"
    }
   }
  },
  {
   "cell_type": "code",
   "execution_count": null,
   "outputs": [],
   "source": [
    "dma_fa_h4_1.X"
   ],
   "metadata": {
    "collapsed": false,
    "pycharm": {
     "name": "#%%\n"
    }
   }
  },
  {
   "cell_type": "code",
   "execution_count": 2,
   "outputs": [
    {
     "ename": "NameError",
     "evalue": "name 'replicate' is not defined",
     "output_type": "error",
     "traceback": [
      "\u001B[1;31m---------------------------------------------------------------------------\u001B[0m",
      "\u001B[1;31mNameError\u001B[0m                                 Traceback (most recent call last)",
      "\u001B[1;32m~\\AppData\\Local\\Temp/ipykernel_5360/3106871082.py\u001B[0m in \u001B[0;36m<module>\u001B[1;34m\u001B[0m\n\u001B[1;32m----> 1\u001B[1;33m \u001B[1;32mif\u001B[0m \u001B[0mreplicate\u001B[0m\u001B[1;33m[\u001B[0m\u001B[1;34m'preferred_models_analysis'\u001B[0m\u001B[1;33m]\u001B[0m\u001B[1;33m:\u001B[0m\u001B[1;33m\u001B[0m\u001B[1;33m\u001B[0m\u001B[0m\n\u001B[0m\u001B[0;32m      2\u001B[0m     fig = dma_fa_h4_1.plot_inclusion_prob(seperate_plots=False, return_fig=True,\n\u001B[0;32m      3\u001B[0m                                           plot_vars=['Factor_0_t-1', 'Factor_1_t-1', 'Factor_2_t-1',\n\u001B[0;32m      4\u001B[0m                                                      'Factor_3_t-1'])\n\u001B[0;32m      5\u001B[0m     fig.update_layout(\n",
      "\u001B[1;31mNameError\u001B[0m: name 'replicate' is not defined"
     ]
    }
   ],
   "source": [
    "if replicate['preferred_models_analysis']:\n",
    "    fig = dma_fa_h4_1.plot_inclusion_prob(seperate_plots=False, return_fig=True,\n",
    "                                          plot_vars=['Factor_0_t-1', 'Factor_1_t-1', 'Factor_2_t-1',\n",
    "                                                     'Factor_3_t-1'])\n",
    "    fig.update_layout(\n",
    "                legend_title=\"Factor, lagged 1 period\",\n",
    "    )\n",
    "    newnames = {'Factor_0_t-1':'1',\n",
    "                'Factor_1_t-1':'2',\n",
    "                'Factor_2_t-1':'3',\n",
    "                'Factor_3_t-1':'4'}\n",
    "    fig.for_each_trace(lambda t: t.update(name = newnames[t.name],\n",
    "                                      legendgroup = newnames[t.name],\n",
    "                                      hovertemplate = t.hovertemplate.replace(t.name, newnames[t.name])\n",
    "                                     )\n",
    "                  )\n",
    "    fig.show()"
   ],
   "metadata": {
    "collapsed": false,
    "pycharm": {
     "name": "#%%\n"
    }
   }
  },
  {
   "cell_type": "code",
   "execution_count": 32,
   "outputs": [
    {
     "name": "stderr",
     "output_type": "stream",
     "text": [
      "C:\\Users\\yanni\\AppData\\Local\\Temp/ipykernel_18696/1996847950.py:4: VisibleDeprecationWarning:\n",
      "\n",
      "Creating an ndarray from ragged nested sequences (which is a list-or-tuple of lists-or-tuples-or ndarrays with different lengths or shapes) is deprecated. If you meant to do this, you must specify 'dtype=object' when creating the ndarray.\n",
      "\n"
     ]
    },
    {
     "data": {
      "text/plain": "array([array([0, 1, 2, 3, 4, 5, 6]), array([0, 1, 2, 3, 4, 5]),\n       array([0, 1, 2, 3, 4, 5]), array([0, 1, 2, 3, 4, 5]),\n       array([0, 1, 2, 3, 4, 5]), array([0, 1, 2, 3, 4, 5]),\n       array([0, 1, 2, 3, 4, 5]), array([0, 1, 2, 3, 4, 5]),\n       array([0, 1, 2, 3, 4, 5]), array([0, 1, 2, 3, 4, 5]),\n       array([0, 1, 2, 3, 4, 5]), array([0, 1, 2, 3, 4, 5]),\n       array([0, 1, 2, 3, 4, 5]), array([0, 1, 2, 3, 4, 5]),\n       array([0, 1, 2, 3, 4, 5]), array([0, 1, 2, 3, 4, 5]),\n       array([0, 1, 2, 3, 4, 5]), array([0, 1, 2, 3, 4, 5]),\n       array([0, 1, 2, 3, 4, 5]), array([0, 1, 2, 3, 4, 5]),\n       array([0, 1, 2, 3, 4, 5]), array([0, 1, 2, 3, 4, 5]),\n       array([0, 1, 2, 3, 4, 5]), array([0, 1, 2, 3, 4, 5]),\n       array([0, 1, 2, 3, 4, 5]), array([0, 1, 2, 3, 4, 5]),\n       array([0, 1, 2, 3, 4, 5]), array([0, 1, 2, 3, 4, 5]),\n       array([0, 1, 2, 3, 4, 5]), array([0, 1, 2, 3, 4, 5]),\n       array([0, 1, 2, 3, 4, 5]), array([0, 1, 2, 3, 4, 5]),\n       array([0, 1, 2, 3, 4, 5]), array([0, 1, 2, 3, 4, 5]),\n       array([0, 1, 2, 3, 4, 5]), array([0, 1, 2, 3, 4, 5]),\n       array([0, 1, 2, 3, 4, 5]), array([0, 1, 2, 3, 4, 5]),\n       array([0, 1, 2, 3, 4, 5]), array([0, 1, 2, 3, 4, 5]),\n       array([0, 1, 2, 3, 4, 5]), array([0, 1, 2, 3, 4, 5]),\n       array([0, 1, 2, 3, 4, 5]), array([0, 1, 2, 3, 4, 5]),\n       array([0, 1, 2, 3, 4, 5]), array([0, 1, 2, 3, 4, 5]),\n       array([0, 1, 2, 3, 4, 5]), array([0, 1, 2, 3, 4, 5]),\n       array([0, 1, 2, 3, 4, 5]), array([0, 1, 2, 3, 4, 5]),\n       array([0, 1, 2, 3, 4, 5]), array([0, 1, 2, 3, 4, 5]),\n       array([0, 1, 2, 3, 4, 5]), array([0, 1, 2, 3, 4, 5]),\n       array([0, 1, 2, 3, 4, 5]), array([0, 1, 2, 3, 4, 5]),\n       array([0, 1, 2, 3, 4, 5]), array([0, 1, 2, 3, 4, 5]),\n       array([0, 1, 2, 3, 4, 5]), array([0, 1, 2, 3, 4, 5]),\n       array([0, 1, 2, 3, 4, 5]), array([0, 1, 2, 3, 4, 5]),\n       array([0, 1, 2, 3, 4, 5]), array([0, 1, 2, 3, 4, 5]),\n       array([0, 1, 2, 3, 4, 5]), array([0, 1, 2, 3, 4, 5]),\n       array([0, 1, 2, 3, 4, 5]), array([0, 1, 2, 3, 4, 5]),\n       array([0, 1, 2, 3, 4, 5]), array([0, 1, 2, 3, 4, 5]),\n       array([0, 1, 2, 3, 4, 5]), array([0, 1, 2, 3, 4, 5]),\n       array([0, 1, 2, 3, 4, 5]), array([0, 1, 2, 3, 4, 5]),\n       array([0, 1, 2, 3, 4, 5]), array([0, 1, 2, 3, 4, 5]),\n       array([0, 1, 2, 3, 4, 5]), array([0, 1, 2, 3, 4, 5]),\n       array([0, 1, 2, 3, 4, 5]), array([0, 1, 2, 3, 4, 5]),\n       array([0, 1, 2, 3, 4, 5]), array([0, 1, 2, 3, 4, 5]),\n       array([0, 1, 2, 3, 4, 5]), array([0, 1, 2, 3, 4, 5]),\n       array([0, 1, 2, 3, 4, 5]), array([0, 1, 2, 3, 4, 5]),\n       array([0, 1, 2, 3, 4, 5]), array([0, 1, 2, 3, 4, 5]),\n       array([0, 1, 2, 3, 4, 5]), array([0, 1, 2, 3, 4, 5]),\n       array([0, 1, 2, 3, 4, 5]), array([0, 1, 2, 3, 4, 5]),\n       array([0, 1, 2, 3, 4, 5]), array([0, 1, 2, 3, 4, 5]),\n       array([0, 1, 2, 3, 4, 5]), array([0, 1, 2, 3, 4, 5]),\n       array([0, 1, 2, 3, 4, 5]), array([0, 1, 2, 3, 4, 5]),\n       array([0, 1, 2, 3, 4, 5]), array([0, 1, 2, 3, 4, 5]),\n       array([0, 1, 2, 3, 4, 5]), array([0, 1, 2, 3, 4, 5]),\n       array([0, 1, 2, 3, 4, 5]), array([0, 1, 2, 3, 4, 5]),\n       array([0, 1, 2, 3, 4, 5]), array([0, 1, 2, 3, 4, 5]),\n       array([0, 1, 2, 3, 4, 5]), array([0, 1, 2, 3, 4, 5]),\n       array([0, 1, 2, 3, 4, 5]), array([0, 1, 2, 3, 4, 5]),\n       array([0, 1, 2, 3, 4, 5])], dtype=object)"
     },
     "execution_count": 32,
     "metadata": {},
     "output_type": "execute_result"
    }
   ],
   "source": [
    "dma_fa_h4_1.models\n",
    "best_model_ind = np.argmax(dma_fa_h4_1.prob_pred, axis=1)\n",
    "# np.array([dma_fa_h4_1.prob_pred[i, item] for i, item in enumerate(best_model_ind)])\n",
    "np.array([dma_fa_h4_1.models[item] for i, item in enumerate(best_model_ind)])"
   ],
   "metadata": {
    "collapsed": false,
    "pycharm": {
     "name": "#%%\n"
    }
   }
  },
  {
   "cell_type": "markdown",
   "source": [
    "# Different weighting on prefered specification"
   ],
   "metadata": {
    "collapsed": false,
    "pycharm": {
     "name": "#%% md\n"
    }
   }
  },
  {
   "cell_type": "code",
   "execution_count": null,
   "outputs": [],
   "source": [
    "def match_peak(var):\n",
    "    std = np.sqrt(var)\n",
    "    peak = DMA.norm_peak(std)\n",
    "    scale = 1/(np.pi*peak)\n",
    "    return scale"
   ],
   "metadata": {
    "collapsed": false,
    "pycharm": {
     "name": "#%%\n"
    }
   }
  },
  {
   "cell_type": "code",
   "execution_count": null,
   "outputs": [],
   "source": [
    "if replicate['different_weightings_h1'] or replicate['different_weightings_h4']:\n",
    "    var = 1\n",
    "    x = np.arange(-5,5,0.001)\n",
    "    pdf_x_norm = stats.norm.pdf(x, loc=0, scale=np.sqrt(var))\n",
    "    pdf_x_cauchy = DMA.cauchy_pdf(x, 0, match_peak(var))\n",
    "    degrees = [3,5,10,25]\n",
    "    degrees_str = [f'v={v}' for v in degrees]\n",
    "    pdf_x_gen_t = [DMA.gen_t_pdf(x, v, 0, np.sqrt(var)) for v in degrees]\n",
    "    pdfs = pd.DataFrame(data=np.stack(pdf_x_gen_t+[pdf_x_cauchy, pdf_x_norm], axis=1),\n",
    "                        index=x,\n",
    "                        columns=degrees_str+['Cauchy', 'Normal'])\n",
    "    fig = px.line(pdfs, title='')\n",
    "    fig.update_layout(xaxis_title='',\n",
    "                      yaxis_title='',\n",
    "                      legend_title='Distribution')\n",
    "    fig.show()"
   ],
   "metadata": {
    "collapsed": false,
    "pycharm": {
     "name": "#%%\n"
    }
   }
  },
  {
   "cell_type": "code",
   "execution_count": null,
   "outputs": [],
   "source": [
    "def DMA_steps_weightings(params, data, alpha, lamda, weighting='normal', degrees=0, save=False, name='dma', output_path=None):\n",
    "    params.alpha = alpha\n",
    "    params.lamda = lamda\n",
    "    params.weighting = weighting\n",
    "    if weighting == 't':\n",
    "        if degrees == 1:\n",
    "            params.weighting = 'cauchy'\n",
    "        else:\n",
    "            params.degrees = degrees\n",
    "    print(f'(alpha, lambda) = ({alpha}, {lamda}) - weighting: {weighting}')\n",
    "    dma = DMA(params, data)\n",
    "    dma.run_dma()\n",
    "    dma.forecast_statistics(unit='percent', plot_fe=False, plot_y_fe=False, print_stats=False)\n",
    "    stats_temp = [params.alpha, params.lamda,\n",
    "                     dma.MAFE_DMA, dma.MSFE_DMA, dma.BIAS_DMA,\n",
    "                     dma.MAFE_DMS, dma.MSFE_DMS, dma.BIAS_DMS]\n",
    "    if save:\n",
    "        with open(os.path.join(output_path, name+'.pkl'), 'wb') as f:\n",
    "                pickle.dump(dma, f)\n",
    "    return dma, stats_temp"
   ],
   "metadata": {
    "collapsed": false,
    "pycharm": {
     "name": "#%%\n"
    }
   }
  },
  {
   "cell_type": "code",
   "execution_count": null,
   "outputs": [],
   "source": [
    "if replicate['different_weightings_h1']:\n",
    "    lamda = 0.97\n",
    "    alpha = 0.97\n",
    "    params.h_fore = 1\n",
    "    data = data_fa_h1\n",
    "    dma_h1_cauchy, stats_h1_cauchy = DMA_steps_weightings(params, data, alpha, lamda,\n",
    "                                     weighting='t', degrees=1, name='dma_h1_cauchy',\n",
    "                                     save=True, output_path=output_path)\n",
    "    dma_h1_t3, stats_h1_t3 = DMA_steps_weightings(params, data, alpha, lamda,\n",
    "                                     weighting='t', degrees=3, name='dma_h1_t3',\n",
    "                                     save=True, output_path=output_path)\n",
    "    dma_h1_t5, stats_h1_t5 = DMA_steps_weightings(params, data, alpha, lamda,\n",
    "                                     weighting='t', degrees=5, name='dma_h1_t5',\n",
    "                                     save=True, output_path=output_path)\n",
    "    dma_h1_t10, stats_h1_t10 = DMA_steps_weightings(params, data, alpha, lamda,\n",
    "                                     weighting='t', degrees=10, name='dma_h1_t10',\n",
    "                                     save=True, output_path=output_path)\n",
    "    dma_h1_av, stats_h1_av = DMA_steps_weightings(params, data, alpha, lamda,\n",
    "                                     weighting='average', name='dma_h1_av',\n",
    "                                     save=True, output_path=output_path)\n",
    "    dma_h1_fix_var, stats_h1_fix_var = DMA_steps_weightings(params, data, alpha, lamda,\n",
    "                                     weighting='mean1', name='dma_h1_fix_var',\n",
    "                                     save=True, output_path=output_path)\n",
    "    dma_h1_rolling_var, stats_h1_rolling_var = DMA_steps_weightings(params, data, alpha, lamda,\n",
    "                                     weighting='mean2', name='dma_h1_rolling_var',\n",
    "                                     save=True, output_path=output_path)\n",
    "else:\n",
    "    with open(os.path.join(output_path, 'dma_h1_cauchy.pkl'), 'rb') as f:\n",
    "        dma_h1_cauchy = pickle.load(f)\n",
    "    stats_h1_cauchy = get_stats(dma_h1_cauchy)\n",
    "    with open(os.path.join(output_path, 'dma_h1_t3.pkl'), 'rb') as f:\n",
    "        dma_h1_t3 = pickle.load(f)\n",
    "    stats_h1_t3 = get_stats(dma_h1_t3)\n",
    "    with open(os.path.join(output_path, 'dma_h1_t5.pkl'), 'rb') as f:\n",
    "        dma_h1_t5 = pickle.load(f)\n",
    "    stats_h1_t5 = get_stats(dma_h1_t5)\n",
    "    with open(os.path.join(output_path, 'dma_h1_t10.pkl'), 'rb') as f:\n",
    "        dma_h1_t10 = pickle.load(f)\n",
    "    stats_h1_t10 = get_stats(dma_h1_t10)\n",
    "    with open(os.path.join(output_path, 'dma_h1_av.pkl'), 'rb') as f:\n",
    "        dma_h1_av = pickle.load(f)\n",
    "    stats_h1_av = get_stats(dma_h1_av)\n",
    "    with open(os.path.join(output_path, 'dma_h1_fix_var.pkl'), 'rb') as f:\n",
    "        dma_h1_fix_var = pickle.load(f)\n",
    "    stats_h1_fix_var = get_stats(dma_h1_t5)\n",
    "    with open(os.path.join(output_path, 'dma_h1_rolling_var.pkl'), 'rb') as f:\n",
    "        dma_h1_rolling_var = pickle.load(f)\n",
    "    stats_h1_rolling_var = get_stats(dma_h1_fix_var)"
   ],
   "metadata": {
    "collapsed": false,
    "pycharm": {
     "name": "#%%\n"
    }
   }
  },
  {
   "cell_type": "code",
   "execution_count": null,
   "outputs": [],
   "source": [
    "if replicate['different_weightings_h4']:\n",
    "    lamda = 0.99\n",
    "    alpha = 0.99\n",
    "    params.h_fore = 4\n",
    "    data = data_fa_h4\n",
    "    dma_h4_cauchy, stats_h4_cauchy = DMA_steps_weightings(params, data, alpha, lamda,\n",
    "                                     weighting='t', degrees=1, name='dma_h4_cauchy',\n",
    "                                     save=True, output_path=output_path)\n",
    "    dma_h4_t3, stats_h4_t3 = DMA_steps_weightings(params, data, alpha, lamda,\n",
    "                                     weighting='t', degrees=3, name='dma_h4_t3',\n",
    "                                     save=True, output_path=output_path)\n",
    "    dma_h4_t5, stats_h4_t5 = DMA_steps_weightings(params, data, alpha, lamda,\n",
    "                                     weighting='t', degrees=5, name='dma_h4_t5',\n",
    "                                     save=True, output_path=output_path)\n",
    "    dma_h4_t10, stats_h4_t10 = DMA_steps_weightings(params, data, alpha, lamda,\n",
    "                                     weighting='t', degrees=10, name='dma_h4_t10',\n",
    "                                     save=True, output_path=output_path)\n",
    "    dma_h4_av, stats_h4_av = DMA_steps_weightings(params, data, alpha, lamda,\n",
    "                                     weighting='average', name='dma_h4_av',\n",
    "                                     save=True, output_path=output_path)\n",
    "    dma_h4_fix_var, stats_h4_fix_var = DMA_steps_weightings(params, data, alpha, lamda,\n",
    "                                     weighting='mean1', name='dma_h4_fix_var',\n",
    "                                     save=True, output_path=output_path)\n",
    "    dma_h4_rolling_var, stats_h4_rolling_var = DMA_steps_weightings(params, data, alpha, lamda,\n",
    "                                     weighting='mean2', name='dma_h4_rolling_var',\n",
    "                                     save=True, output_path=output_path)\n",
    "else:\n",
    "    with open(os.path.join(output_path, 'dma_h4_cauchy.pkl'), 'rb') as f:\n",
    "        dma_h4_cauchy = pickle.load(f)\n",
    "    stats_h4_cauchy = get_stats(dma_h4_cauchy)\n",
    "    with open(os.path.join(output_path, 'dma_h4_t3.pkl'), 'rb') as f:\n",
    "        dma_h4_t3 = pickle.load(f)\n",
    "    stats_h4_t3 = get_stats(dma_h4_t3)\n",
    "    with open(os.path.join(output_path, 'dma_h4_t5.pkl'), 'rb') as f:\n",
    "        dma_h4_t5 = pickle.load(f)\n",
    "    stats_h4_t5 = get_stats(dma_h4_t5)\n",
    "    with open(os.path.join(output_path, 'dma_h4_t10.pkl'), 'rb') as f:\n",
    "        dma_h4_t10 = pickle.load(f)\n",
    "    stats_h4_t10 = get_stats(dma_h4_t10)\n",
    "    with open(os.path.join(output_path, 'dma_h4_av.pkl'), 'rb') as f:\n",
    "        dma_h4_av = pickle.load(f)\n",
    "    stats_h4_av = get_stats(dma_h4_av)\n",
    "    with open(os.path.join(output_path, 'dma_h4_fix_var.pkl'), 'rb') as f:\n",
    "        dma_h4_fix_var = pickle.load(f)\n",
    "    stats_h4_fix_var = get_stats(dma_h4_t5)\n",
    "    with open(os.path.join(output_path, 'dma_h4_rolling_var.pkl'), 'rb') as f:\n",
    "        dma_h4_rolling_var = pickle.load(f)\n",
    "    stats_h4_rolling_var = get_stats(dma_h4_fix_var)"
   ],
   "metadata": {
    "collapsed": false,
    "pycharm": {
     "name": "#%%\n"
    }
   }
  },
  {
   "cell_type": "code",
   "execution_count": null,
   "outputs": [],
   "source": [
    "stats_pd_weightings_h1 = pd.DataFrame.from_dict(data={\n",
    "                                            'DMA F.A., h=1, (0.97, 0.97)': stats_fa_h1_3[2:5],\n",
    "                                            'DMS F.A., h=1, (0.97, 0.97)': stats_fa_h1_3[5:],\n",
    "                                            'DMA F.A., h=1, (0.97, 0.97) cauchy': stats_h1_cauchy[2:5],\n",
    "                                            'DMS F.A., h=1, (0.97, 0.97) cauchy': stats_h1_cauchy[5:],\n",
    "                                            'DMA F.A., h=1, (0.97, 0.97) t3': stats_h1_t3[2:5],\n",
    "                                            'DMS F.A., h=1, (0.97, 0.97) t3': stats_h1_t3[5:],\n",
    "                                            'DMA F.A., h=1, (0.97, 0.97) t5': stats_h1_t5[2:5],\n",
    "                                            'DMS F.A., h=1, (0.97, 0.97) t5': stats_h1_t5[5:],\n",
    "                                            'DMA F.A., h=1, (0.97, 0.97) t10': stats_h1_t10[2:5],\n",
    "                                            'DMS F.A., h=1, (0.97, 0.97) t10': stats_h1_t10[5:],\n",
    "                                            'DMA F.A., h=1, (0.97, 0.97) av': stats_h1_av[2:5],\n",
    "                                            'DMS F.A., h=1, (0.97, 0.97) av': stats_h1_av[5:],\n",
    "                                            'DMA F.A., h=1, (0.97, 0.97) fix_var': stats_h1_fix_var[2:5],\n",
    "                                            'DMS F.A., h=1, (0.97, 0.97) fix_var': stats_h1_fix_var[5:],\n",
    "                                            'DMA F.A., h=1, (0.97, 0.97) rolling_var': stats_h1_rolling_var[2:5],\n",
    "                                            'DMS F.A., h=1, (0.97, 0.97) rolling_var': stats_h1_rolling_var[5:]\n",
    "                                               },\n",
    "                                orient='index',\n",
    "                                columns=stats2)\n",
    "stats_pd_weightings_h1"
   ],
   "metadata": {
    "collapsed": false,
    "pycharm": {
     "name": "#%%\n"
    }
   }
  },
  {
   "cell_type": "code",
   "execution_count": null,
   "outputs": [],
   "source": [
    "stats_pd_weightings_h4 = pd.DataFrame.from_dict(data={\n",
    "                                            'DMA F.A., h=4, (0.99, 0.99)': stats_fa_h4_1[2:5],\n",
    "                                            'DMS F.A., h=4, (0.99, 0.99)': stats_fa_h4_1[5:],\n",
    "                                            'DMA F.A., h=4, (0.99, 0.99) cauchy': stats_h4_cauchy[2:5],\n",
    "                                            'DMS F.A., h=4, (0.99, 0.99) cauchy': stats_h4_cauchy[5:],\n",
    "                                            'DMA F.A., h=4, (0.99, 0.99) t3': stats_h4_t3[2:5],\n",
    "                                            'DMS F.A., h=4, (0.99, 0.99) t3': stats_h4_t3[5:],\n",
    "                                            'DMA F.A., h=4, (0.99, 0.99) t5': stats_h4_t5[2:5],\n",
    "                                            'DMS F.A., h=4, (0.99, 0.99) t5': stats_h4_t5[5:],\n",
    "                                            'DMA F.A., h=4, (0.99, 0.99) t10': stats_h4_t10[2:5],\n",
    "                                            'DMS F.A., h=4, (0.99, 0.99) t10': stats_h4_t10[5:],\n",
    "                                            'DMA F.A., h=4, (0.99, 0.99) av': stats_h4_av[2:5],\n",
    "                                            'DMS F.A., h=4, (0.99, 0.99) av': stats_h4_av[5:],\n",
    "                                            'DMA F.A., h=4, (0.99, 0.99) fix_var': stats_h4_fix_var[2:5],\n",
    "                                            'DMS F.A., h=4, (0.99, 0.99) fix_var': stats_h4_fix_var[5:],\n",
    "                                            'DMA F.A., h=4, (0.99, 0.99) rolling_var': stats_h4_rolling_var[2:5],\n",
    "                                            'DMS F.A., h=4, (0.99, 0.99) rolling_var': stats_h4_rolling_var[5:]\n",
    "                                               },\n",
    "                                orient='index',\n",
    "                                columns=stats2)\n",
    "stats_pd_weightings_h4"
   ],
   "metadata": {
    "collapsed": false,
    "pycharm": {
     "name": "#%%\n"
    }
   }
  },
  {
   "cell_type": "code",
   "execution_count": null,
   "outputs": [],
   "source": [],
   "metadata": {
    "collapsed": false,
    "pycharm": {
     "name": "#%%\n"
    }
   }
  }
 ],
 "metadata": {
  "kernelspec": {
   "display_name": "Python 3",
   "language": "python",
   "name": "python3"
  },
  "language_info": {
   "codemirror_mode": {
    "name": "ipython",
    "version": 2
   },
   "file_extension": ".py",
   "mimetype": "text/x-python",
   "name": "python",
   "nbconvert_exporter": "python",
   "pygments_lexer": "ipython2",
   "version": "2.7.6"
  }
 },
 "nbformat": 4,
 "nbformat_minor": 0
}