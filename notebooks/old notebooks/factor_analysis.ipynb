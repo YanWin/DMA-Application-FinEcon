{
 "cells": [
  {
   "cell_type": "markdown",
   "metadata": {
    "collapsed": true,
    "pycharm": {
     "name": "#%% md\n"
    }
   },
   "source": [
    "# Factor Analysis on the German data set"
   ]
  },
  {
   "cell_type": "markdown",
   "source": [
    "Analyze the dataset using Factor Analysis."
   ],
   "metadata": {
    "collapsed": false,
    "pycharm": {
     "name": "#%% md\n"
    }
   }
  },
  {
   "cell_type": "code",
   "execution_count": 38,
   "outputs": [
    {
     "name": "stdout",
     "output_type": "stream",
     "text": [
      "The autoreload extension is already loaded. To reload it, use:\n",
      "  %reload_ext autoreload\n"
     ]
    }
   ],
   "source": [
    "%load_ext autoreload\n",
    "%autoreload 2\n",
    "%matplotlib inline\n",
    "\n",
    "import os\n",
    "from pathlib import Path\n",
    "import pickle\n",
    "import pandas as pd\n",
    "import numpy as np\n",
    "import matplotlib.pyplot as plt\n",
    "from factor_analyzer.factor_analyzer import FactorAnalyzer\n",
    "\n",
    "from src.data.data_class import Data\n",
    "from src.models.preliminaries import Settings\n",
    "from src.models.dma import DMA"
   ],
   "metadata": {
    "collapsed": false,
    "pycharm": {
     "name": "#%%\n"
    }
   }
  },
  {
   "cell_type": "code",
   "execution_count": 39,
   "outputs": [],
   "source": [
    "# import data\n",
    "data_path = os.path.join(Path().cwd().parent, 'data', 'processed')\n",
    "# df = pd.read_csv(os.path.join(data_path, 'combined_data.csv'), index_col=0)\n",
    "with open(os.path.join(data_path, 'df_sa.pkl'), 'rb') as f:\n",
    "    df = pickle.load(f)\n",
    "selection = pd.read_csv(os.path.join(data_path, 'selected_data.csv'))"
   ],
   "metadata": {
    "collapsed": false,
    "pycharm": {
     "name": "#%%\n"
    }
   }
  },
  {
   "cell_type": "markdown",
   "source": [
    "## select data"
   ],
   "metadata": {
    "collapsed": false,
    "pycharm": {
     "name": "#%% md\n"
    }
   }
  },
  {
   "cell_type": "code",
   "execution_count": 40,
   "outputs": [],
   "source": [
    "params = Settings() # initialize Settings\n",
    "# adjust settings\n",
    "params.use_y = ['CPI']  # use as y\n",
    "# params.tcodesX = [1, 1, 5, 1, 1, 1, 1, 5, 5, 1, 5, 5, 1]\n",
    "params.tcodey = 1\n",
    "params.first_sample_ends = '1995-12-31'\n",
    "params.restricted_vars = ['intercept', 'CPI']\n",
    "params.forgetting_method = 2\n",
    "params.expert_opinion = 2\n",
    "params.h_fore = 4\n",
    "params.prior_theta = 1\n",
    "params.plag = 2\n",
    "params.hlag = 0\n",
    "params.miss_treatment = 1\n",
    "params.intercept = 1"
   ],
   "metadata": {
    "collapsed": false,
    "pycharm": {
     "name": "#%%\n"
    }
   }
  },
  {
   "cell_type": "code",
   "execution_count": 41,
   "outputs": [],
   "source": [
    "# restricted_vars = ['prod_ind',\n",
    "#                    'unemp',\n",
    "#                    'GDP',\n",
    "#                    'cons_private',\n",
    "#                    'interest_rate_short',\n",
    "#                    'interest_rate_long',\n",
    "#                    'M1']\n",
    "infl_vars = ['CPI',\n",
    "             'deflator_GDP',\n",
    "             'HICP_excl_energy']\n",
    "labor_market = ['unemp',\n",
    "                'employment',\n",
    "                'earnings_hourly']\n",
    "macro_nrs = ['GDP',\n",
    "             'cons_private',\n",
    "             'cons_gov',\n",
    "             'trade_imp',\n",
    "             'trade_exp']\n",
    "investment = ['invest',\n",
    "              'invest_government',\n",
    "              'invest_private_no_housing',\n",
    "              'invest_private_housing',\n",
    "              #'invest_total',\n",
    "              'residential_permits']\n",
    "prod_indices=['prod_ind',\n",
    "              'retail',\n",
    "              'prod_constr']\n",
    "financial1=['dax']\n",
    "financial2=['interest_rate_short',\n",
    "            'interest_rate_long']\n",
    "money=['M1',\n",
    "       'M3']\n",
    "infl_exp = ['infl_exp_current_year',\n",
    "           'infl_exp_next_year',\n",
    "           #'infl_exp_1_year_ahead',\n",
    "           'infl_exp_2_year_ahead',\n",
    "           'infl_exp_5_year_ahead']\n",
    "infl_predictors = ['PCI_energy_',\n",
    "                   'HICP_energy',\n",
    "                   'CPI_house_energy']\n",
    "supply_ind = ['supply_index_global',\n",
    "              'supply_index_eu']\n",
    "confidence = ['business_conf_manufacturing',\n",
    "              #'business_conf_construct',\n",
    "              #'business_conf_service',\n",
    "              'business_conf_retail']\n",
    "confidence2 = ['cons_conf_tendency',\n",
    "              'business_situation']\n",
    "var_groups = {'labor_market': labor_market,\n",
    "              'macro_nrs': macro_nrs,\n",
    "              'investment': investment,\n",
    "              'prod_indices': prod_indices,\n",
    "              'financial1': financial1,\n",
    "              'financial2': financial2,\n",
    "              'money': money,\n",
    "              'infl_exp': infl_exp,\n",
    "              'infl_predictors': infl_predictors,\n",
    "              'supply_ind': supply_ind,\n",
    "              'confidence': confidence,\n",
    "              'confidence2': confidence2}\n",
    "potential_exo = labor_market + macro_nrs + investment + prod_indices + financial1 + financial2 + money + infl_exp + infl_predictors + supply_ind + confidence + confidence2"
   ],
   "metadata": {
    "collapsed": false,
    "pycharm": {
     "name": "#%%\n"
    }
   }
  },
  {
   "cell_type": "code",
   "execution_count": 42,
   "outputs": [],
   "source": [
    "params.use_x = potential_exo\n",
    "params.tcodesX = params.get_tcodesX(selection)"
   ],
   "metadata": {
    "collapsed": false,
    "pycharm": {
     "name": "#%%\n"
    }
   }
  },
  {
   "cell_type": "code",
   "execution_count": 43,
   "outputs": [],
   "source": [
    "data = Data(df, params)\n",
    "# exclude intercept and CPI from Factpor Analysis\n",
    "data_CPI_intercept = data.X.loc[:, ['intercept', 'CPI', 'CPI_t-1', 'CPI_t-2']]\n",
    "data.X = data.X.drop(['intercept', 'CPI', 'CPI_t-1', 'CPI_t-2'], axis=1)"
   ],
   "metadata": {
    "collapsed": false,
    "pycharm": {
     "name": "#%%\n"
    }
   }
  },
  {
   "cell_type": "code",
   "execution_count": 44,
   "outputs": [],
   "source": [
    "# # transform_data\n",
    "# for name, values in df.iteritems():\n",
    "#     if np.where(selection['var code']==name)[0].size:\n",
    "#         print(f'transform {name}')\n",
    "#         v_ind = np.where(selection['var code']==name)[0][0]\n",
    "#         tcode = selection['trans_code'][v_ind]\n",
    "#         df[name] = Data.transx(values, tcode)\n",
    "#     else:\n",
    "#         print(f'drop {name}')\n",
    "#         df.drop(name, axis=1)"
   ],
   "metadata": {
    "collapsed": false,
    "pycharm": {
     "name": "#%%\n"
    }
   }
  },
  {
   "cell_type": "code",
   "execution_count": 45,
   "outputs": [],
   "source": [
    "# # lag variables\n",
    "# for names, values in df.iteritems():\n",
    "#     lag_1_name = names + '_lag1'\n",
    "#     lag_2_name = names + '_lag2'\n",
    "#     df[lag_1_name] = values.shift(1)\n",
    "#     df[lag_2_name] = values.shift(2)\n",
    "# print(f'The df now has {len(df.columns)} variables')"
   ],
   "metadata": {
    "collapsed": false,
    "pycharm": {
     "name": "#%%\n"
    }
   }
  },
  {
   "cell_type": "markdown",
   "source": [
    "## Factor Analysis"
   ],
   "metadata": {
    "collapsed": false,
    "pycharm": {
     "name": "#%% md\n"
    }
   }
  },
  {
   "cell_type": "code",
   "execution_count": 46,
   "outputs": [],
   "source": [
    "# Instantiate factor analysis object\n",
    "n_factors = 5\n",
    "fa = FactorAnalyzer(rotation='varimax', n_factors=n_factors)\n",
    "fa.fit(data.X)\n",
    "# Check Eigenvalues\n",
    "ev, v = fa.get_eigenvalues()"
   ],
   "metadata": {
    "collapsed": false,
    "pycharm": {
     "name": "#%%\n"
    }
   }
  },
  {
   "cell_type": "code",
   "execution_count": 47,
   "outputs": [
    {
     "data": {
      "text/plain": "<Figure size 432x288 with 1 Axes>",
      "image/png": "[encoded data removed]"
     },
     "metadata": {
      "needs_background": "light"
     },
     "output_type": "display_data"
    }
   ],
   "source": [
    "plt.scatter(range(1,data.X.shape[1]+1), ev)\n",
    "plt.plot(range(1,data.X.shape[1]+1), ev)\n",
    "plt.title('Scree Plot')\n",
    "plt.xlabel('Factors')\n",
    "plt.ylabel('Eigenvalue')\n",
    "plt.grid()\n",
    "plt.show()"
   ],
   "metadata": {
    "collapsed": false,
    "pycharm": {
     "name": "#%%\n"
    }
   }
  },
  {
   "cell_type": "code",
   "execution_count": 48,
   "outputs": [
    {
     "data": {
      "text/plain": "                                    1         2         3         4         5\nunemp                       -0.493542 -0.132366 -0.220849 -0.186337 -0.171264\nemployment                   0.329342  0.038120  0.215616  0.177278  0.043724\nearnings_hourly             -0.319763 -0.027099 -0.027487 -0.073584  0.084497\nGDP                          0.087488  0.225027  0.338469  0.824872  0.119396\ncons_private                 0.029525 -0.018276  0.092480  0.716517 -0.090487\ncons_gov                    -0.036729  0.059162  0.353616 -0.043223 -0.085307\ntrade_imp                    0.093947  0.426176  0.117721  0.247598  0.448400\ntrade_exp                    0.071630  0.491472  0.010811  0.332260  0.361328\ninvest                       0.158705  0.203997  0.840904  0.322696  0.073984\ninvest_government            0.254590  0.219162  0.665234  0.485941  0.140741\ninvest_private_no_housing    0.207790  0.244903  0.549498  0.618869  0.191609\ninvest_private_housing      -0.038905  0.043438  0.765854 -0.044779 -0.029481\nresidential_permits         -0.068175  0.113430  0.052492 -0.048177  0.013632\nprod_ind                     0.097466  0.535775  0.226463  0.339055  0.309722\nretail                      -0.037643  0.016845  0.100017  0.043856 -0.199388\nprod_constr                  0.029815 -0.002249  0.545428 -0.102276  0.051522\ndax                         -0.066205  0.466011 -0.041704 -0.066728 -0.003038\ninterest_rate_short         -0.711076 -0.302866  0.012266  0.118422  0.228121\ninterest_rate_long           0.161895  0.378972  0.095050 -0.099481  0.287535\nM1                           0.071189  0.041949 -0.075139 -0.047467 -0.123576\nM3                          -0.009393 -0.301672 -0.150024 -0.111666  0.128620\ninfl_exp_current_year        0.683382 -0.462534 -0.096821  0.010732  0.342963\ninfl_exp_next_year           0.872599 -0.299622 -0.124883 -0.054794  0.242804\ninfl_exp_2_year_ahead        0.898478 -0.190111 -0.129467 -0.076243  0.154647\ninfl_exp_5_year_ahead        0.863333 -0.104703 -0.076264 -0.107357 -0.047560\nPCI_energy_                  0.200429  0.041594  0.068224  0.081183  0.720802\nHICP_energy                  0.085962  0.208027 -0.069391 -0.034026  0.707853\nCPI_house_energy            -0.375031 -0.137829  0.059918 -0.118005  0.582132\nsupply_index_global          0.027811  0.031906  0.100975 -0.477077  0.053807\nsupply_index_eu              0.031358 -0.039778  0.282246 -0.458714 -0.025592\nbusiness_conf_manufacturing  0.555006  0.207969  0.194339  0.133573  0.288766\nbusiness_conf_retail         0.492573  0.295609  0.244538  0.017442 -0.034384\ncons_conf_tendency           0.052462  0.650403  0.038317  0.104042 -0.051564\nbusiness_situation           0.033908  0.815084  0.048963  0.082567  0.050605",
      "text/html": "<div>\n<style scoped>\n    .dataframe tbody tr th:only-of-type {\n        vertical-align: middle;\n    }\n\n    .dataframe tbody tr th {\n        vertical-align: top;\n    }\n\n    .dataframe thead th {\n        text-align: right;\n    }\n</style>\n<table border=\"1\" class=\"dataframe\">\n  <thead>\n    <tr style=\"text-align: right;\">\n      <th></th>\n      <th>1</th>\n      <th>2</th>\n      <th>3</th>\n      <th>4</th>\n      <th>5</th>\n    </tr>\n  </thead>\n  <tbody>\n    <tr>\n      <th>unemp</th>\n      <td>-0.493542</td>\n      <td>-0.132366</td>\n      <td>-0.220849</td>\n      <td>-0.186337</td>\n      <td>-0.171264</td>\n    </tr>\n    <tr>\n      <th>employment</th>\n      <td>0.329342</td>\n      <td>0.038120</td>\n      <td>0.215616</td>\n      <td>0.177278</td>\n      <td>0.043724</td>\n    </tr>\n    <tr>\n      <th>earnings_hourly</th>\n      <td>-0.319763</td>\n      <td>-0.027099</td>\n      <td>-0.027487</td>\n      <td>-0.073584</td>\n      <td>0.084497</td>\n    </tr>\n    <tr>\n      <th>GDP</th>\n      <td>0.087488</td>\n      <td>0.225027</td>\n      <td>0.338469</td>\n      <td>0.824872</td>\n      <td>0.119396</td>\n    </tr>\n    <tr>\n      <th>cons_private</th>\n      <td>0.029525</td>\n      <td>-0.018276</td>\n      <td>0.092480</td>\n      <td>0.716517</td>\n      <td>-0.090487</td>\n    </tr>\n    <tr>\n      <th>cons_gov</th>\n      <td>-0.036729</td>\n      <td>0.059162</td>\n      <td>0.353616</td>\n      <td>-0.043223</td>\n      <td>-0.085307</td>\n    </tr>\n    <tr>\n      <th>trade_imp</th>\n      <td>0.093947</td>\n      <td>0.426176</td>\n      <td>0.117721</td>\n      <td>0.247598</td>\n      <td>0.448400</td>\n    </tr>\n    <tr>\n      <th>trade_exp</th>\n      <td>0.071630</td>\n      <td>0.491472</td>\n      <td>0.010811</td>\n      <td>0.332260</td>\n      <td>0.361328</td>\n    </tr>\n    <tr>\n      <th>invest</th>\n      <td>0.158705</td>\n      <td>0.203997</td>\n      <td>0.840904</td>\n      <td>0.322696</td>\n      <td>0.073984</td>\n    </tr>\n    <tr>\n      <th>invest_government</th>\n      <td>0.254590</td>\n      <td>0.219162</td>\n      <td>0.665234</td>\n      <td>0.485941</td>\n      <td>0.140741</td>\n    </tr>\n    <tr>\n      <th>invest_private_no_housing</th>\n      <td>0.207790</td>\n      <td>0.244903</td>\n      <td>0.549498</td>\n      <td>0.618869</td>\n      <td>0.191609</td>\n    </tr>\n    <tr>\n      <th>invest_private_housing</th>\n      <td>-0.038905</td>\n      <td>0.043438</td>\n      <td>0.765854</td>\n      <td>-0.044779</td>\n      <td>-0.029481</td>\n    </tr>\n    <tr>\n      <th>residential_permits</th>\n      <td>-0.068175</td>\n      <td>0.113430</td>\n      <td>0.052492</td>\n      <td>-0.048177</td>\n      <td>0.013632</td>\n    </tr>\n    <tr>\n      <th>prod_ind</th>\n      <td>0.097466</td>\n      <td>0.535775</td>\n      <td>0.226463</td>\n      <td>0.339055</td>\n      <td>0.309722</td>\n    </tr>\n    <tr>\n      <th>retail</th>\n      <td>-0.037643</td>\n      <td>0.016845</td>\n      <td>0.100017</td>\n      <td>0.043856</td>\n      <td>-0.199388</td>\n    </tr>\n    <tr>\n      <th>prod_constr</th>\n      <td>0.029815</td>\n      <td>-0.002249</td>\n      <td>0.545428</td>\n      <td>-0.102276</td>\n      <td>0.051522</td>\n    </tr>\n    <tr>\n      <th>dax</th>\n      <td>-0.066205</td>\n      <td>0.466011</td>\n      <td>-0.041704</td>\n      <td>-0.066728</td>\n      <td>-0.003038</td>\n    </tr>\n    <tr>\n      <th>interest_rate_short</th>\n      <td>-0.711076</td>\n      <td>-0.302866</td>\n      <td>0.012266</td>\n      <td>0.118422</td>\n      <td>0.228121</td>\n    </tr>\n    <tr>\n      <th>interest_rate_long</th>\n      <td>0.161895</td>\n      <td>0.378972</td>\n      <td>0.095050</td>\n      <td>-0.099481</td>\n      <td>0.287535</td>\n    </tr>\n    <tr>\n      <th>M1</th>\n      <td>0.071189</td>\n      <td>0.041949</td>\n      <td>-0.075139</td>\n      <td>-0.047467</td>\n      <td>-0.123576</td>\n    </tr>\n    <tr>\n      <th>M3</th>\n      <td>-0.009393</td>\n      <td>-0.301672</td>\n      <td>-0.150024</td>\n      <td>-0.111666</td>\n      <td>0.128620</td>\n    </tr>\n    <tr>\n      <th>infl_exp_current_year</th>\n      <td>0.683382</td>\n      <td>-0.462534</td>\n      <td>-0.096821</td>\n      <td>0.010732</td>\n      <td>0.342963</td>\n    </tr>\n    <tr>\n      <th>infl_exp_next_year</th>\n      <td>0.872599</td>\n      <td>-0.299622</td>\n      <td>-0.124883</td>\n      <td>-0.054794</td>\n      <td>0.242804</td>\n    </tr>\n    <tr>\n      <th>infl_exp_2_year_ahead</th>\n      <td>0.898478</td>\n      <td>-0.190111</td>\n      <td>-0.129467</td>\n      <td>-0.076243</td>\n      <td>0.154647</td>\n    </tr>\n    <tr>\n      <th>infl_exp_5_year_ahead</th>\n      <td>0.863333</td>\n      <td>-0.104703</td>\n      <td>-0.076264</td>\n      <td>-0.107357</td>\n      <td>-0.047560</td>\n    </tr>\n    <tr>\n      <th>PCI_energy_</th>\n      <td>0.200429</td>\n      <td>0.041594</td>\n      <td>0.068224</td>\n      <td>0.081183</td>\n      <td>0.720802</td>\n    </tr>\n    <tr>\n      <th>HICP_energy</th>\n      <td>0.085962</td>\n      <td>0.208027</td>\n      <td>-0.069391</td>\n      <td>-0.034026</td>\n      <td>0.707853</td>\n    </tr>\n    <tr>\n      <th>CPI_house_energy</th>\n      <td>-0.375031</td>\n      <td>-0.137829</td>\n      <td>0.059918</td>\n      <td>-0.118005</td>\n      <td>0.582132</td>\n    </tr>\n    <tr>\n      <th>supply_index_global</th>\n      <td>0.027811</td>\n      <td>0.031906</td>\n      <td>0.100975</td>\n      <td>-0.477077</td>\n      <td>0.053807</td>\n    </tr>\n    <tr>\n      <th>supply_index_eu</th>\n      <td>0.031358</td>\n      <td>-0.039778</td>\n      <td>0.282246</td>\n      <td>-0.458714</td>\n      <td>-0.025592</td>\n    </tr>\n    <tr>\n      <th>business_conf_manufacturing</th>\n      <td>0.555006</td>\n      <td>0.207969</td>\n      <td>0.194339</td>\n      <td>0.133573</td>\n      <td>0.288766</td>\n    </tr>\n    <tr>\n      <th>business_conf_retail</th>\n      <td>0.492573</td>\n      <td>0.295609</td>\n      <td>0.244538</td>\n      <td>0.017442</td>\n      <td>-0.034384</td>\n    </tr>\n    <tr>\n      <th>cons_conf_tendency</th>\n      <td>0.052462</td>\n      <td>0.650403</td>\n      <td>0.038317</td>\n      <td>0.104042</td>\n      <td>-0.051564</td>\n    </tr>\n    <tr>\n      <th>business_situation</th>\n      <td>0.033908</td>\n      <td>0.815084</td>\n      <td>0.048963</td>\n      <td>0.082567</td>\n      <td>0.050605</td>\n    </tr>\n  </tbody>\n</table>\n</div>"
     },
     "execution_count": 48,
     "metadata": {},
     "output_type": "execute_result"
    }
   ],
   "source": [
    "# choose the first X factors (formally all with EV > 1?)\n",
    "fa_loadings = pd.DataFrame(fa.loadings_, columns=range(1,n_factors+1), index=data.X.columns)\n",
    "fa_loadings"
   ],
   "metadata": {
    "collapsed": false,
    "pycharm": {
     "name": "#%%\n"
    }
   }
  },
  {
   "cell_type": "markdown",
   "source": [
    "## DMA with factors"
   ],
   "metadata": {
    "collapsed": false,
    "pycharm": {
     "name": "#%% md\n"
    }
   }
  },
  {
   "cell_type": "code",
   "execution_count": 49,
   "outputs": [
    {
     "data": {
      "text/plain": "                   0         1         2         3         4\n1992-03-31 -1.954214 -0.671133  1.713170  0.825333  0.010532\n1992-06-30 -2.311502 -0.758880  0.055634 -0.172105 -0.303989\n1992-09-30 -2.462712 -1.002638 -0.687091  0.060443  0.746405\n1992-12-31 -2.458235 -1.113425  0.810002 -0.781752 -0.406643\n1993-03-31 -2.673165 -1.094410 -0.123217 -0.948512  1.150798\n...              ...       ...       ...       ...       ...\n2020-12-31  0.020260  1.925531  0.437192 -0.805446  0.433042\n2021-03-31  0.101655  2.044935 -0.329430 -1.383907  1.370767\n2021-06-30  0.735872  1.250376  0.079453  0.004009 -0.370191\n2021-09-30  0.762292 -0.094079 -0.655773 -0.334434  0.316848\n2021-12-31  0.979946  0.290227  0.273913 -1.027090  3.899498\n\n[120 rows x 5 columns]",
      "text/html": "<div>\n<style scoped>\n    .dataframe tbody tr th:only-of-type {\n        vertical-align: middle;\n    }\n\n    .dataframe tbody tr th {\n        vertical-align: top;\n    }\n\n    .dataframe thead th {\n        text-align: right;\n    }\n</style>\n<table border=\"1\" class=\"dataframe\">\n  <thead>\n    <tr style=\"text-align: right;\">\n      <th></th>\n      <th>0</th>\n      <th>1</th>\n      <th>2</th>\n      <th>3</th>\n      <th>4</th>\n    </tr>\n  </thead>\n  <tbody>\n    <tr>\n      <th>1992-03-31</th>\n      <td>-1.954214</td>\n      <td>-0.671133</td>\n      <td>1.713170</td>\n      <td>0.825333</td>\n      <td>0.010532</td>\n    </tr>\n    <tr>\n      <th>1992-06-30</th>\n      <td>-2.311502</td>\n      <td>-0.758880</td>\n      <td>0.055634</td>\n      <td>-0.172105</td>\n      <td>-0.303989</td>\n    </tr>\n    <tr>\n      <th>1992-09-30</th>\n      <td>-2.462712</td>\n      <td>-1.002638</td>\n      <td>-0.687091</td>\n      <td>0.060443</td>\n      <td>0.746405</td>\n    </tr>\n    <tr>\n      <th>1992-12-31</th>\n      <td>-2.458235</td>\n      <td>-1.113425</td>\n      <td>0.810002</td>\n      <td>-0.781752</td>\n      <td>-0.406643</td>\n    </tr>\n    <tr>\n      <th>1993-03-31</th>\n      <td>-2.673165</td>\n      <td>-1.094410</td>\n      <td>-0.123217</td>\n      <td>-0.948512</td>\n      <td>1.150798</td>\n    </tr>\n    <tr>\n      <th>...</th>\n      <td>...</td>\n      <td>...</td>\n      <td>...</td>\n      <td>...</td>\n      <td>...</td>\n    </tr>\n    <tr>\n      <th>2020-12-31</th>\n      <td>0.020260</td>\n      <td>1.925531</td>\n      <td>0.437192</td>\n      <td>-0.805446</td>\n      <td>0.433042</td>\n    </tr>\n    <tr>\n      <th>2021-03-31</th>\n      <td>0.101655</td>\n      <td>2.044935</td>\n      <td>-0.329430</td>\n      <td>-1.383907</td>\n      <td>1.370767</td>\n    </tr>\n    <tr>\n      <th>2021-06-30</th>\n      <td>0.735872</td>\n      <td>1.250376</td>\n      <td>0.079453</td>\n      <td>0.004009</td>\n      <td>-0.370191</td>\n    </tr>\n    <tr>\n      <th>2021-09-30</th>\n      <td>0.762292</td>\n      <td>-0.094079</td>\n      <td>-0.655773</td>\n      <td>-0.334434</td>\n      <td>0.316848</td>\n    </tr>\n    <tr>\n      <th>2021-12-31</th>\n      <td>0.979946</td>\n      <td>0.290227</td>\n      <td>0.273913</td>\n      <td>-1.027090</td>\n      <td>3.899498</td>\n    </tr>\n  </tbody>\n</table>\n<p>120 rows × 5 columns</p>\n</div>"
     },
     "execution_count": 49,
     "metadata": {},
     "output_type": "execute_result"
    }
   ],
   "source": [
    "df_factors = pd.DataFrame(fa.transform(data.X.dropna()), index = data.X.dropna().index)\n",
    "df_factors"
   ],
   "metadata": {
    "collapsed": false,
    "pycharm": {
     "name": "#%%\n"
    }
   }
  },
  {
   "cell_type": "code",
   "execution_count": 50,
   "outputs": [],
   "source": [
    "factor_cols = ['Factor_'+str(i) for i in list(df_factors.columns)]\n",
    "df_factors.columns = factor_cols"
   ],
   "metadata": {
    "collapsed": false,
    "pycharm": {
     "name": "#%%\n"
    }
   }
  },
  {
   "cell_type": "code",
   "execution_count": 51,
   "outputs": [],
   "source": [
    "# lag factors\n",
    "df_factors_with_lag = pd.concat((df_factors, df_factors.shift(1), df_factors.shift(2)), axis=1)\n",
    "factor_cols_lag1 = [i+'_lag1' for i in factor_cols]\n",
    "factor_cols_lag2 = [i+'_lag2' for i in factor_cols]\n",
    "df_factors_with_lag.columns = factor_cols+factor_cols_lag1+factor_cols_lag2"
   ],
   "metadata": {
    "collapsed": false,
    "pycharm": {
     "name": "#%%\n"
    }
   }
  },
  {
   "cell_type": "code",
   "execution_count": 52,
   "outputs": [],
   "source": [
    "df_comb = pd.concat((data_CPI_intercept, df_factors_with_lag), axis=1)\n",
    "# df_comb = df_comb.loc['2001-03-31':'2018-12-31', :]\n",
    "df_comb = df_comb.iloc[2:, :]\n",
    "data.X = df_comb\n",
    "data.T = data.T-2\n",
    "data.N = data.X.shape[1]\n",
    "data.y_dep = data.y_dep[2:]"
   ],
   "metadata": {
    "collapsed": false,
    "pycharm": {
     "name": "#%%\n"
    }
   }
  },
  {
   "cell_type": "code",
   "execution_count": 53,
   "outputs": [
    {
     "name": "stderr",
     "output_type": "stream",
     "text": [
      "100%|██████████| 114/114 [03:45<00:00,  1.98s/it]"
     ]
    },
    {
     "name": "stdout",
     "output_type": "stream",
     "text": [
      "DMA finished\n"
     ]
    },
    {
     "name": "stderr",
     "output_type": "stream",
     "text": [
      "\n"
     ]
    }
   ],
   "source": [
    "dma = DMA(params, data)\n",
    "dma.run_dma()"
   ],
   "metadata": {
    "collapsed": false,
    "pycharm": {
     "name": "#%%\n"
    }
   }
  },
  {
   "cell_type": "code",
   "execution_count": 54,
   "outputs": [
    {
     "name": "stdout",
     "output_type": "stream",
     "text": [
      "         MAFE      MSFE      BIAS\n",
      "DMA  0.819922  0.013699 -0.005892\n",
      "DMS  0.657794  0.009037 -0.032411\n"
     ]
    },
    {
     "data": {
      "application/vnd.plotly.v1+json": {
       "data": [
        {
         "hovertemplate": "variable=fe_DMA<br>index=%{x}<br>value=%{y}<extra></extra>",
         "legendgroup": "fe_DMA",
         "line": {
          "color": "#636efa",
          "dash": "solid"
         },
         "marker": {
          "symbol": "circle"
         },
         "mode": "lines",
         "name": "fe_DMA",
         "orientation": "v",
         "showlegend": true,
         "x": [
          "1996-12-31",
          "1997-03-31",
          "1997-06-30",
          "1997-09-30",
          "1997-12-31",
          "1998-03-31",
          "1998-06-30",
          "1998-09-30",
          "1998-12-31",
          "1999-03-31",
          "1999-06-30",
          "1999-09-30",
          "1999-12-31",
          "2000-03-31",
          "2000-06-30",
          "2000-09-30",
          "2000-12-31",
          "2001-03-31",
          "2001-06-30",
          "2001-09-30",
          "2001-12-31",
          "2002-03-31",
          "2002-06-30",
          "2002-09-30",
          "2002-12-31",
          "2003-03-31",
          "2003-06-30",
          "2003-09-30",
          "2003-12-31",
          "2004-03-31",
          "2004-06-30",
          "2004-09-30",
          "2004-12-31",
          "2005-03-31",
          "2005-06-30",
          "2005-09-30",
          "2005-12-31",
          "2006-03-31",
          "2006-06-30",
          "2006-09-30",
          "2006-12-31",
          "2007-03-31",
          "2007-06-30",
          "2007-09-30",
          "2007-12-31",
          "2008-03-31",
          "2008-06-30",
          "2008-09-30",
          "2008-12-31",
          "2009-03-31",
          "2009-06-30",
          "2009-09-30",
          "2009-12-31",
          "2010-03-31",
          "2010-06-30",
          "2010-09-30",
          "2010-12-31",
          "2011-03-31",
          "2011-06-30",
          "2011-09-30",
          "2011-12-31",
          "2012-03-31",
          "2012-06-30",
          "2012-09-30",
          "2012-12-31",
          "2013-03-31",
          "2013-06-30",
          "2013-09-30",
          "2013-12-31",
          "2014-03-31",
          "2014-06-30",
          "2014-09-30",
          "2014-12-31",
          "2015-03-31",
          "2015-06-30",
          "2015-09-30",
          "2015-12-31",
          "2016-03-31",
          "2016-06-30",
          "2016-09-30",
          "2016-12-31",
          "2017-03-31",
          "2017-06-30",
          "2017-09-30",
          "2017-12-31",
          "2018-03-31",
          "2018-06-30",
          "2018-09-30",
          "2018-12-31",
          "2019-03-31",
          "2019-06-30",
          "2019-09-30",
          "2019-12-31",
          "2020-03-31",
          "2020-06-30",
          "2020-09-30",
          "2020-12-31",
          "2021-03-31",
          "2021-06-30",
          "2021-09-30",
          "2021-12-31"
         ],
         "xaxis": "x",
         "y": [
          -0.010332221560778239,
          -0.008068615564529851,
          -0.006459825179508782,
          2.6579715775960217E-4,
          2.2459970880582547E-4,
          -0.002675047006895387,
          0.0016338687030009787,
          -0.006925151658526309,
          -0.010718310082272834,
          -0.007139979295643792,
          -0.005230478772433295,
          -0.004830953383486235,
          -0.001669272362081562,
          0.019454751746278365,
          0.021249941976198696,
          0.028115955633296254,
          0.022110465616274843,
          0.03272682063526049,
          0.03402668245607379,
          0.014325502498713658,
          -0.001380335513166065,
          0.0015464300526535427,
          -0.01173756228441921,
          -0.021811221378559183,
          -0.01231226560493839,
          -0.020275904192546997,
          -0.016377722002896757,
          -0.018971143035162185,
          -0.003572392345344377,
          -0.011069597516157718,
          0.003235488018723042,
          0.006889849293163303,
          0.00981455931066238,
          0.006556623042726343,
          0.007510771620794429,
          0.015510369961730896,
          0.004584412905839753,
          0.004562937489544609,
          0.010745397173503037,
          -0.005418559928249165,
          -0.011379689311652456,
          -0.001112333903313275,
          -0.004249396985563633,
          0.004134536710857603,
          0.004775102729627362,
          0.014450197489221732,
          0.012987551770247026,
          0.009462416574846488,
          -0.009580154545031198,
          -0.01847594536621115,
          -0.0215023500980991,
          -0.023090806591534795,
          -0.00448826056626311,
          -9.333293489437802E-4,
          -0.0029702051031309726,
          -0.0062828168572898364,
          -0.012009170054170789,
          -0.0015099097222612441,
          0.0020179117308839513,
          2.9162700274158043E-4,
          -0.004636149818619005,
          0.0016747254701770867,
          -3.884259109316439E-4,
          0.001437994156505626,
          0.004784323358170955,
          0.0048622440405875385,
          0.0060291009508615465,
          0.0014558188261299156,
          -0.0010361098475728456,
          -0.00657564075802022,
          -0.008080673969550464,
          -0.011472852381344517,
          -0.018814067373736566,
          -0.017969768602811426,
          -0.016399324246129287,
          -0.018882011981487205,
          -0.013285457279942063,
          -0.01235059785332536,
          -0.011594082728931268,
          -0.005769586304228861,
          0.006490215541000197,
          0.010033503175263067,
          0.008120021886033625,
          0.006647217127647254,
          5.659853153950657E-4,
          0.0030600085672924417,
          0.008094512396520918,
          0.008037065943698955,
          8.905277822905816E-4,
          0.003559356973891304,
          0.010746147766707853,
          0.0057218975887457346,
          5.774605739739501E-5,
          0.0019770068939499175,
          -0.007606559875812231,
          -0.01245562691606742,
          -0.01535214740483468,
          0.008413443620232601,
          0.008198712775512158,
          0.0388266642197319,
          0.03738295014262225
         ],
         "yaxis": "y",
         "type": "scatter"
        },
        {
         "hovertemplate": "variable=y<br>index=%{x}<br>value=%{y}<extra></extra>",
         "legendgroup": "y",
         "line": {
          "color": "#EF553B",
          "dash": "solid"
         },
         "marker": {
          "symbol": "circle"
         },
         "mode": "lines",
         "name": "y",
         "orientation": "v",
         "showlegend": true,
         "x": [
          "1996-12-31",
          "1997-03-31",
          "1997-06-30",
          "1997-09-30",
          "1997-12-31",
          "1998-03-31",
          "1998-06-30",
          "1998-09-30",
          "1998-12-31",
          "1999-03-31",
          "1999-06-30",
          "1999-09-30",
          "1999-12-31",
          "2000-03-31",
          "2000-06-30",
          "2000-09-30",
          "2000-12-31",
          "2001-03-31",
          "2001-06-30",
          "2001-09-30",
          "2001-12-31",
          "2002-03-31",
          "2002-06-30",
          "2002-09-30",
          "2002-12-31",
          "2003-03-31",
          "2003-06-30",
          "2003-09-30",
          "2003-12-31",
          "2004-03-31",
          "2004-06-30",
          "2004-09-30",
          "2004-12-31",
          "2005-03-31",
          "2005-06-30",
          "2005-09-30",
          "2005-12-31",
          "2006-03-31",
          "2006-06-30",
          "2006-09-30",
          "2006-12-31",
          "2007-03-31",
          "2007-06-30",
          "2007-09-30",
          "2007-12-31",
          "2008-03-31",
          "2008-06-30",
          "2008-09-30",
          "2008-12-31",
          "2009-03-31",
          "2009-06-30",
          "2009-09-30",
          "2009-12-31",
          "2010-03-31",
          "2010-06-30",
          "2010-09-30",
          "2010-12-31",
          "2011-03-31",
          "2011-06-30",
          "2011-09-30",
          "2011-12-31",
          "2012-03-31",
          "2012-06-30",
          "2012-09-30",
          "2012-12-31",
          "2013-03-31",
          "2013-06-30",
          "2013-09-30",
          "2013-12-31",
          "2014-03-31",
          "2014-06-30",
          "2014-09-30",
          "2014-12-31",
          "2015-03-31",
          "2015-06-30",
          "2015-09-30",
          "2015-12-31",
          "2016-03-31",
          "2016-06-30",
          "2016-09-30",
          "2016-12-31",
          "2017-03-31",
          "2017-06-30",
          "2017-09-30",
          "2017-12-31",
          "2018-03-31",
          "2018-06-30",
          "2018-09-30",
          "2018-12-31",
          "2019-03-31",
          "2019-06-30",
          "2019-09-30",
          "2019-12-31",
          "2020-03-31",
          "2020-06-30",
          "2020-09-30",
          "2020-12-31",
          "2021-03-31",
          "2021-06-30",
          "2021-09-30",
          "2021-12-31"
         ],
         "xaxis": "x",
         "y": [
          0.014869074386345327,
          0.016059672394355573,
          0.01588849752562882,
          0.022019692660168344,
          0.020788926839262478,
          0.012026205538547163,
          0.013289496811294876,
          0.0048723090664439805,
          0.0018974406258935872,
          0.0017084976882917324,
          0.0029133928072899717,
          0.005974653315410583,
          0.011503498227150466,
          0.019164243495174205,
          0.019072963044993507,
          0.024736505521066654,
          0.02180032110675345,
          0.025382040162108543,
          0.030874766498770967,
          0.021375488680774657,
          0.01671926675382074,
          0.018356597572466438,
          0.008193997371058526,
          0.010024141145018595,
          0.01097267842020333,
          0.003073844117335023,
          0.0010925042944938124,
          0.002081833804542299,
          0.010572503407761724,
          0.01051165213295202,
          0.017300444526182845,
          0.01820713191220258,
          0.020945613897170867,
          0.017971480390798877,
          0.01788686383395821,
          0.02536073420619145,
          0.021421318195627315,
          0.01763665187345076,
          0.02032971316585841,
          0.0100762461083852,
          0.01367872645452839,
          0.019181556191140148,
          0.018135997799578307,
          0.02358887298589818,
          0.02789682431261009,
          0.030032083479798466,
          0.0303951382845149,
          0.027697951021582456,
          0.011330066320772714,
          0.004702979230575721,
          8.927174130943794E-4,
          -0.0027848688168475855,
          0.009359838371510776,
          0.011236210948604164,
          0.009337617403657017,
          0.013091222314857154,
          0.01669130992056722,
          0.02129910750765851,
          0.023129266981916308,
          0.025852542073918183,
          0.020985365067482498,
          0.020851921961778874,
          0.01717929376757965,
          0.019798312738406487,
          0.0205501595737394,
          0.020009290192690266,
          0.020915824300637542,
          0.018510143493452924,
          0.014293872512433525,
          0.010407856907690194,
          0.010407856907689972,
          0.008476858924904462,
          0.00187496763036199,
          0.0028104159633244308,
          0.0028104159633244308,
          3.289201727874058E-6,
          0.0028137638122889275,
          0.0028058666062165116,
          0.0028058666062165116,
          0.006538553798725255,
          0.01681563731608593,
          0.015834970309655194,
          0.015834970309655194,
          0.017630420641129296,
          0.01653329723664454,
          0.015583640760808537,
          0.02108730498530975,
          0.02280968186192478,
          0.017236279484875272,
          0.01631554319138062,
          0.02538395375839242,
          0.020946265560749744,
          0.015342960057109112,
          0.014381554060565405,
          0.008502940039654128,
          -0.0018808045193660083,
          -0.002829075319705998,
          0.01707164177796594,
          0.023492592888244568,
          0.04065450773512036,
          0.05308625961397251
         ],
         "yaxis": "y",
         "type": "scatter"
        },
        {
         "hovertemplate": "variable=y_DMA<br>index=%{x}<br>value=%{y}<extra></extra>",
         "legendgroup": "y_DMA",
         "line": {
          "color": "#00cc96",
          "dash": "solid"
         },
         "marker": {
          "symbol": "circle"
         },
         "mode": "lines",
         "name": "y_DMA",
         "orientation": "v",
         "showlegend": true,
         "x": [
          "1996-12-31",
          "1997-03-31",
          "1997-06-30",
          "1997-09-30",
          "1997-12-31",
          "1998-03-31",
          "1998-06-30",
          "1998-09-30",
          "1998-12-31",
          "1999-03-31",
          "1999-06-30",
          "1999-09-30",
          "1999-12-31",
          "2000-03-31",
          "2000-06-30",
          "2000-09-30",
          "2000-12-31",
          "2001-03-31",
          "2001-06-30",
          "2001-09-30",
          "2001-12-31",
          "2002-03-31",
          "2002-06-30",
          "2002-09-30",
          "2002-12-31",
          "2003-03-31",
          "2003-06-30",
          "2003-09-30",
          "2003-12-31",
          "2004-03-31",
          "2004-06-30",
          "2004-09-30",
          "2004-12-31",
          "2005-03-31",
          "2005-06-30",
          "2005-09-30",
          "2005-12-31",
          "2006-03-31",
          "2006-06-30",
          "2006-09-30",
          "2006-12-31",
          "2007-03-31",
          "2007-06-30",
          "2007-09-30",
          "2007-12-31",
          "2008-03-31",
          "2008-06-30",
          "2008-09-30",
          "2008-12-31",
          "2009-03-31",
          "2009-06-30",
          "2009-09-30",
          "2009-12-31",
          "2010-03-31",
          "2010-06-30",
          "2010-09-30",
          "2010-12-31",
          "2011-03-31",
          "2011-06-30",
          "2011-09-30",
          "2011-12-31",
          "2012-03-31",
          "2012-06-30",
          "2012-09-30",
          "2012-12-31",
          "2013-03-31",
          "2013-06-30",
          "2013-09-30",
          "2013-12-31",
          "2014-03-31",
          "2014-06-30",
          "2014-09-30",
          "2014-12-31",
          "2015-03-31",
          "2015-06-30",
          "2015-09-30",
          "2015-12-31",
          "2016-03-31",
          "2016-06-30",
          "2016-09-30",
          "2016-12-31",
          "2017-03-31",
          "2017-06-30",
          "2017-09-30",
          "2017-12-31",
          "2018-03-31",
          "2018-06-30",
          "2018-09-30",
          "2018-12-31",
          "2019-03-31",
          "2019-06-30",
          "2019-09-30",
          "2019-12-31",
          "2020-03-31",
          "2020-06-30",
          "2020-09-30",
          "2020-12-31",
          "2021-03-31",
          "2021-06-30",
          "2021-09-30",
          "2021-12-31"
         ],
         "xaxis": "x",
         "y": [
          0.025201295947123566,
          0.024128287958885424,
          0.0223483227051376,
          0.021753895502408742,
          0.020564327130456653,
          0.01470125254544255,
          0.011655628108293898,
          0.01179746072497029,
          0.012615750708166422,
          0.008848476983935524,
          0.008143871579723266,
          0.010805606698896818,
          0.013172770589232028,
          -2.9050825110416045E-4,
          -0.0021769789312051893,
          -0.003379450112229599,
          -3.1014450952139154E-4,
          -0.007344780473151943,
          -0.003151915957302826,
          0.007049986182061,
          0.018099602266986804,
          0.016810167519812895,
          0.019931559655477736,
          0.03183536252357778,
          0.02328494402514172,
          0.02334974830988202,
          0.01747022629739057,
          0.021052976839704484,
          0.014144895753106101,
          0.02158124964910974,
          0.014064956507459803,
          0.011317282619039276,
          0.011131054586508487,
          0.011414857348072535,
          0.010376092213163782,
          0.009850364244460553,
          0.01683690528978756,
          0.01307371438390615,
          0.009584315992355373,
          0.015494806036634366,
          0.025058415766180845,
          0.020293890094453423,
          0.02238539478514194,
          0.019454336275040576,
          0.02312172158298273,
          0.015581885990576734,
          0.017407586514267874,
          0.01823553444673597,
          0.02091022086580391,
          0.02317892459678687,
          0.02239506751119348,
          0.02030593777468721,
          0.013848098937773886,
          0.012169540297547944,
          0.01230782250678799,
          0.01937403917214699,
          0.02870047997473801,
          0.022809017229919754,
          0.021111355251032356,
          0.025560915071176603,
          0.025621514886101503,
          0.019177196491601788,
          0.017567719678511295,
          0.01836031858190086,
          0.015765836215568447,
          0.015147046152102727,
          0.014886723349775996,
          0.01705432466732301,
          0.015329982360006371,
          0.016983497665710414,
          0.018488530877240436,
          0.01994971130624898,
          0.020689035004098556,
          0.020780184566135857,
          0.019209740209453718,
          0.01888530118321508,
          0.01609922109223099,
          0.015156464459541871,
          0.01439994933514778,
          0.012308140102954116,
          0.010325421775085733,
          0.005801467134392127,
          0.007714948423621569,
          0.010983203513482042,
          0.015967311921249474,
          0.012523632193516095,
          0.012992792588788833,
          0.014772615918225825,
          0.01634575170258469,
          0.012756186217489317,
          0.014637805991684566,
          0.01522436797200401,
          0.015285213999711717,
          0.012404547166615487,
          0.01610949991546636,
          0.010574822396701412,
          0.012523072085128682,
          0.00865819815773334,
          0.01529388011273241,
          0.0018278435153884578,
          0.015703309471350256
         ],
         "yaxis": "y",
         "type": "scatter"
        }
       ],
       "layout": {
        "template": {
         "data": {
          "bar": [
           {
            "error_x": {
             "color": "#2a3f5f"
            },
            "error_y": {
             "color": "#2a3f5f"
            },
            "marker": {
             "line": {
              "color": "#E5ECF6",
              "width": 0.5
             },
             "pattern": {
              "fillmode": "overlay",
              "size": 10,
              "solidity": 0.2
             }
            },
            "type": "bar"
           }
          ],
          "barpolar": [
           {
            "marker": {
             "line": {
              "color": "#E5ECF6",
              "width": 0.5
             },
             "pattern": {
              "fillmode": "overlay",
              "size": 10,
              "solidity": 0.2
             }
            },
            "type": "barpolar"
           }
          ],
          "carpet": [
           {
            "aaxis": {
             "endlinecolor": "#2a3f5f",
             "gridcolor": "white",
             "linecolor": "white",
             "minorgridcolor": "white",
             "startlinecolor": "#2a3f5f"
            },
            "baxis": {
             "endlinecolor": "#2a3f5f",
             "gridcolor": "white",
             "linecolor": "white",
             "minorgridcolor": "white",
             "startlinecolor": "#2a3f5f"
            },
            "type": "carpet"
           }
          ],
          "choropleth": [
           {
            "colorbar": {
             "outlinewidth": 0,
             "ticks": ""
            },
            "type": "choropleth"
           }
          ],
          "contour": [
           {
            "colorbar": {
             "outlinewidth": 0,
             "ticks": ""
            },
            "colorscale": [
             [
              0.0,
              "#0d0887"
             ],
             [
              0.1111111111111111,
              "#46039f"
             ],
             [
              0.2222222222222222,
              "#7201a8"
             ],
             [
              0.3333333333333333,
              "#9c179e"
             ],
             [
              0.4444444444444444,
              "#bd3786"
             ],
             [
              0.5555555555555556,
              "#d8576b"
             ],
             [
              0.6666666666666666,
              "#ed7953"
             ],
             [
              0.7777777777777778,
              "#fb9f3a"
             ],
             [
              0.8888888888888888,
              "#fdca26"
             ],
             [
              1.0,
              "#f0f921"
             ]
            ],
            "type": "contour"
           }
          ],
          "contourcarpet": [
           {
            "colorbar": {
             "outlinewidth": 0,
             "ticks": ""
            },
            "type": "contourcarpet"
           }
          ],
          "heatmap": [
           {
            "colorbar": {
             "outlinewidth": 0,
             "ticks": ""
            },
            "colorscale": [
             [
              0.0,
              "#0d0887"
             ],
             [
              0.1111111111111111,
              "#46039f"
             ],
             [
              0.2222222222222222,
              "#7201a8"
             ],
             [
              0.3333333333333333,
              "#9c179e"
             ],
             [
              0.4444444444444444,
              "#bd3786"
             ],
             [
              0.5555555555555556,
              "#d8576b"
             ],
             [
              0.6666666666666666,
              "#ed7953"
             ],
             [
              0.7777777777777778,
              "#fb9f3a"
             ],
             [
              0.8888888888888888,
              "#fdca26"
             ],
             [
              1.0,
              "#f0f921"
             ]
            ],
            "type": "heatmap"
           }
          ],
          "heatmapgl": [
           {
            "colorbar": {
             "outlinewidth": 0,
             "ticks": ""
            },
            "colorscale": [
             [
              0.0,
              "#0d0887"
             ],
             [
              0.1111111111111111,
              "#46039f"
             ],
             [
              0.2222222222222222,
              "#7201a8"
             ],
             [
              0.3333333333333333,
              "#9c179e"
             ],
             [
              0.4444444444444444,
              "#bd3786"
             ],
             [
              0.5555555555555556,
              "#d8576b"
             ],
             [
              0.6666666666666666,
              "#ed7953"
             ],
             [
              0.7777777777777778,
              "#fb9f3a"
             ],
             [
              0.8888888888888888,
              "#fdca26"
             ],
             [
              1.0,
              "#f0f921"
             ]
            ],
            "type": "heatmapgl"
           }
          ],
          "histogram": [
           {
            "marker": {
             "pattern": {
              "fillmode": "overlay",
              "size": 10,
              "solidity": 0.2
             }
            },
            "type": "histogram"
           }
          ],
          "histogram2d": [
           {
            "colorbar": {
             "outlinewidth": 0,
             "ticks": ""
            },
            "colorscale": [
             [
              0.0,
              "#0d0887"
             ],
             [
              0.1111111111111111,
              "#46039f"
             ],
             [
              0.2222222222222222,
              "#7201a8"
             ],
             [
              0.3333333333333333,
              "#9c179e"
             ],
             [
              0.4444444444444444,
              "#bd3786"
             ],
             [
              0.5555555555555556,
              "#d8576b"
             ],
             [
              0.6666666666666666,
              "#ed7953"
             ],
             [
              0.7777777777777778,
              "#fb9f3a"
             ],
             [
              0.8888888888888888,
              "#fdca26"
             ],
             [
              1.0,
              "#f0f921"
             ]
            ],
            "type": "histogram2d"
           }
          ],
          "histogram2dcontour": [
           {
            "colorbar": {
             "outlinewidth": 0,
             "ticks": ""
            },
            "colorscale": [
             [
              0.0,
              "#0d0887"
             ],
             [
              0.1111111111111111,
              "#46039f"
             ],
             [
              0.2222222222222222,
              "#7201a8"
             ],
             [
              0.3333333333333333,
              "#9c179e"
             ],
             [
              0.4444444444444444,
              "#bd3786"
             ],
             [
              0.5555555555555556,
              "#d8576b"
             ],
             [
              0.6666666666666666,
              "#ed7953"
             ],
             [
              0.7777777777777778,
              "#fb9f3a"
             ],
             [
              0.8888888888888888,
              "#fdca26"
             ],
             [
              1.0,
              "#f0f921"
             ]
            ],
            "type": "histogram2dcontour"
           }
          ],
          "mesh3d": [
           {
            "colorbar": {
             "outlinewidth": 0,
             "ticks": ""
            },
            "type": "mesh3d"
           }
          ],
          "parcoords": [
           {
            "line": {
             "colorbar": {
              "outlinewidth": 0,
              "ticks": ""
             }
            },
            "type": "parcoords"
           }
          ],
          "pie": [
           {
            "automargin": true,
            "type": "pie"
           }
          ],
          "scatter": [
           {
            "marker": {
             "colorbar": {
              "outlinewidth": 0,
              "ticks": ""
             }
            },
            "type": "scatter"
           }
          ],
          "scatter3d": [
           {
            "line": {
             "colorbar": {
              "outlinewidth": 0,
              "ticks": ""
             }
            },
            "marker": {
             "colorbar": {
              "outlinewidth": 0,
              "ticks": ""
             }
            },
            "type": "scatter3d"
           }
          ],
          "scattercarpet": [
           {
            "marker": {
             "colorbar": {
              "outlinewidth": 0,
              "ticks": ""
             }
            },
            "type": "scattercarpet"
           }
          ],
          "scattergeo": [
           {
            "marker": {
             "colorbar": {
              "outlinewidth": 0,
              "ticks": ""
             }
            },
            "type": "scattergeo"
           }
          ],
          "scattergl": [
           {
            "marker": {
             "colorbar": {
              "outlinewidth": 0,
              "ticks": ""
             }
            },
            "type": "scattergl"
           }
          ],
          "scattermapbox": [
           {
            "marker": {
             "colorbar": {
              "outlinewidth": 0,
              "ticks": ""
             }
            },
            "type": "scattermapbox"
           }
          ],
          "scatterpolar": [
           {
            "marker": {
             "colorbar": {
              "outlinewidth": 0,
              "ticks": ""
             }
            },
            "type": "scatterpolar"
           }
          ],
          "scatterpolargl": [
           {
            "marker": {
             "colorbar": {
              "outlinewidth": 0,
              "ticks": ""
             }
            },
            "type": "scatterpolargl"
           }
          ],
          "scatterternary": [
           {
            "marker": {
             "colorbar": {
              "outlinewidth": 0,
              "ticks": ""
             }
            },
            "type": "scatterternary"
           }
          ],
          "surface": [
           {
            "colorbar": {
             "outlinewidth": 0,
             "ticks": ""
            },
            "colorscale": [
             [
              0.0,
              "#0d0887"
             ],
             [
              0.1111111111111111,
              "#46039f"
             ],
             [
              0.2222222222222222,
              "#7201a8"
             ],
             [
              0.3333333333333333,
              "#9c179e"
             ],
             [
              0.4444444444444444,
              "#bd3786"
             ],
             [
              0.5555555555555556,
              "#d8576b"
             ],
             [
              0.6666666666666666,
              "#ed7953"
             ],
             [
              0.7777777777777778,
              "#fb9f3a"
             ],
             [
              0.8888888888888888,
              "#fdca26"
             ],
             [
              1.0,
              "#f0f921"
             ]
            ],
            "type": "surface"
           }
          ],
          "table": [
           {
            "cells": {
             "fill": {
              "color": "#EBF0F8"
             },
             "line": {
              "color": "white"
             }
            },
            "header": {
             "fill": {
              "color": "#C8D4E3"
             },
             "line": {
              "color": "white"
             }
            },
            "type": "table"
           }
          ]
         },
         "layout": {
          "annotationdefaults": {
           "arrowcolor": "#2a3f5f",
           "arrowhead": 0,
           "arrowwidth": 1
          },
          "autotypenumbers": "strict",
          "coloraxis": {
           "colorbar": {
            "outlinewidth": 0,
            "ticks": ""
           }
          },
          "colorscale": {
           "diverging": [
            [
             0,
             "#8e0152"
            ],
            [
             0.1,
             "#c51b7d"
            ],
            [
             0.2,
             "#de77ae"
            ],
            [
             0.3,
             "#f1b6da"
            ],
            [
             0.4,
             "#fde0ef"
            ],
            [
             0.5,
             "#f7f7f7"
            ],
            [
             0.6,
             "#e6f5d0"
            ],
            [
             0.7,
             "#b8e186"
            ],
            [
             0.8,
             "#7fbc41"
            ],
            [
             0.9,
             "#4d9221"
            ],
            [
             1,
             "#276419"
            ]
           ],
           "sequential": [
            [
             0.0,
             "#0d0887"
            ],
            [
             0.1111111111111111,
             "#46039f"
            ],
            [
             0.2222222222222222,
             "#7201a8"
            ],
            [
             0.3333333333333333,
             "#9c179e"
            ],
            [
             0.4444444444444444,
             "#bd3786"
            ],
            [
             0.5555555555555556,
             "#d8576b"
            ],
            [
             0.6666666666666666,
             "#ed7953"
            ],
            [
             0.7777777777777778,
             "#fb9f3a"
            ],
            [
             0.8888888888888888,
             "#fdca26"
            ],
            [
             1.0,
             "#f0f921"
            ]
           ],
           "sequentialminus": [
            [
             0.0,
             "#0d0887"
            ],
            [
             0.1111111111111111,
             "#46039f"
            ],
            [
             0.2222222222222222,
             "#7201a8"
            ],
            [
             0.3333333333333333,
             "#9c179e"
            ],
            [
             0.4444444444444444,
             "#bd3786"
            ],
            [
             0.5555555555555556,
             "#d8576b"
            ],
            [
             0.6666666666666666,
             "#ed7953"
            ],
            [
             0.7777777777777778,
             "#fb9f3a"
            ],
            [
             0.8888888888888888,
             "#fdca26"
            ],
            [
             1.0,
             "#f0f921"
            ]
           ]
          },
          "colorway": [
           "#636efa",
           "#EF553B",
           "#00cc96",
           "#ab63fa",
           "#FFA15A",
           "#19d3f3",
           "#FF6692",
           "#B6E880",
           "#FF97FF",
           "#FECB52"
          ],
          "font": {
           "color": "#2a3f5f"
          },
          "geo": {
           "bgcolor": "white",
           "lakecolor": "white",
           "landcolor": "#E5ECF6",
           "showlakes": true,
           "showland": true,
           "subunitcolor": "white"
          },
          "hoverlabel": {
           "align": "left"
          },
          "hovermode": "closest",
          "mapbox": {
           "style": "light"
          },
          "paper_bgcolor": "white",
          "plot_bgcolor": "#E5ECF6",
          "polar": {
           "angularaxis": {
            "gridcolor": "white",
            "linecolor": "white",
            "ticks": ""
           },
           "bgcolor": "#E5ECF6",
           "radialaxis": {
            "gridcolor": "white",
            "linecolor": "white",
            "ticks": ""
           }
          },
          "scene": {
           "xaxis": {
            "backgroundcolor": "#E5ECF6",
            "gridcolor": "white",
            "gridwidth": 2,
            "linecolor": "white",
            "showbackground": true,
            "ticks": "",
            "zerolinecolor": "white"
           },
           "yaxis": {
            "backgroundcolor": "#E5ECF6",
            "gridcolor": "white",
            "gridwidth": 2,
            "linecolor": "white",
            "showbackground": true,
            "ticks": "",
            "zerolinecolor": "white"
           },
           "zaxis": {
            "backgroundcolor": "#E5ECF6",
            "gridcolor": "white",
            "gridwidth": 2,
            "linecolor": "white",
            "showbackground": true,
            "ticks": "",
            "zerolinecolor": "white"
           }
          },
          "shapedefaults": {
           "line": {
            "color": "#2a3f5f"
           }
          },
          "ternary": {
           "aaxis": {
            "gridcolor": "white",
            "linecolor": "white",
            "ticks": ""
           },
           "baxis": {
            "gridcolor": "white",
            "linecolor": "white",
            "ticks": ""
           },
           "bgcolor": "#E5ECF6",
           "caxis": {
            "gridcolor": "white",
            "linecolor": "white",
            "ticks": ""
           }
          },
          "title": {
           "x": 0.05
          },
          "xaxis": {
           "automargin": true,
           "gridcolor": "white",
           "linecolor": "white",
           "ticks": "",
           "title": {
            "standoff": 15
           },
           "zerolinecolor": "white",
           "zerolinewidth": 2
          },
          "yaxis": {
           "automargin": true,
           "gridcolor": "white",
           "linecolor": "white",
           "ticks": "",
           "title": {
            "standoff": 15
           },
           "zerolinecolor": "white",
           "zerolinewidth": 2
          }
         }
        },
        "xaxis": {
         "anchor": "y",
         "domain": [
          0.0,
          1.0
         ],
         "title": {
          "text": "index"
         }
        },
        "yaxis": {
         "anchor": "x",
         "domain": [
          0.0,
          1.0
         ],
         "title": {
          "text": "value"
         }
        },
        "legend": {
         "title": {
          "text": "variable"
         },
         "tracegroupgap": 0
        },
        "title": {
         "text": "Forecast errors"
        }
       },
       "config": {
        "plotlyServerURL": "https://plot.ly"
       }
      },
      "text/html": "<div>                            <div id=\"593d1b5e-467e-4d6f-bf66-8a4f1d2a6a59\" class=\"plotly-graph-div\" style=\"height:525px; width:100%;\"></div>            <script type=\"text/javascript\">                require([\"plotly\"], function(Plotly) {                    window.PLOTLYENV=window.PLOTLYENV || {};                                    if (document.getElementById(\"593d1b5e-467e-4d6f-bf66-8a4f1d2a6a59\")) {                    Plotly.newPlot(                        \"593d1b5e-467e-4d6f-bf66-8a4f1d2a6a59\",                        [{\"hovertemplate\":\"variable=fe_DMA<br>index=%{x}<br>value=%{y}<extra></extra>\",\"legendgroup\":\"fe_DMA\",\"line\":{\"color\":\"#636efa\",\"dash\":\"solid\"},\"marker\":{\"symbol\":\"circle\"},\"mode\":\"lines\",\"name\":\"fe_DMA\",\"orientation\":\"v\",\"showlegend\":true,\"x\":[\"1996-12-31\",\"1997-03-31\",\"1997-06-30\",\"1997-09-30\",\"1997-12-31\",\"1998-03-31\",\"1998-06-30\",\"1998-09-30\",\"1998-12-31\",\"1999-03-31\",\"1999-06-30\",\"1999-09-30\",\"1999-12-31\",\"2000-03-31\",\"2000-06-30\",\"2000-09-30\",\"2000-12-31\",\"2001-03-31\",\"2001-06-30\",\"2001-09-30\",\"2001-12-31\",\"2002-03-31\",\"2002-06-30\",\"2002-09-30\",\"2002-12-31\",\"2003-03-31\",\"2003-06-30\",\"2003-09-30\",\"2003-12-31\",\"2004-03-31\",\"2004-06-30\",\"2004-09-30\",\"2004-12-31\",\"2005-03-31\",\"2005-06-30\",\"2005-09-30\",\"2005-12-31\",\"2006-03-31\",\"2006-06-30\",\"2006-09-30\",\"2006-12-31\",\"2007-03-31\",\"2007-06-30\",\"2007-09-30\",\"2007-12-31\",\"2008-03-31\",\"2008-06-30\",\"2008-09-30\",\"2008-12-31\",\"2009-03-31\",\"2009-06-30\",\"2009-09-30\",\"2009-12-31\",\"2010-03-31\",\"2010-06-30\",\"2010-09-30\",\"2010-12-31\",\"2011-03-31\",\"2011-06-30\",\"2011-09-30\",\"2011-12-31\",\"2012-03-31\",\"2012-06-30\",\"2012-09-30\",\"2012-12-31\",\"2013-03-31\",\"2013-06-30\",\"2013-09-30\",\"2013-12-31\",\"2014-03-31\",\"2014-06-30\",\"2014-09-30\",\"2014-12-31\",\"2015-03-31\",\"2015-06-30\",\"2015-09-30\",\"2015-12-31\",\"2016-03-31\",\"2016-06-30\",\"2016-09-30\",\"2016-12-31\",\"2017-03-31\",\"2017-06-30\",\"2017-09-30\",\"2017-12-31\",\"2018-03-31\",\"2018-06-30\",\"2018-09-30\",\"2018-12-31\",\"2019-03-31\",\"2019-06-30\",\"2019-09-30\",\"2019-12-31\",\"2020-03-31\",\"2020-06-30\",\"2020-09-30\",\"2020-12-31\",\"2021-03-31\",\"2021-06-30\",\"2021-09-30\",\"2021-12-31\"],\"xaxis\":\"x\",\"y\":[-0.010332221560778239,-0.008068615564529851,-0.006459825179508782,0.00026579715775960217,0.00022459970880582547,-0.002675047006895387,0.0016338687030009787,-0.006925151658526309,-0.010718310082272834,-0.007139979295643792,-0.005230478772433295,-0.004830953383486235,-0.001669272362081562,0.019454751746278365,0.021249941976198696,0.028115955633296254,0.022110465616274843,0.03272682063526049,0.03402668245607379,0.014325502498713658,-0.001380335513166065,0.0015464300526535427,-0.01173756228441921,-0.021811221378559183,-0.01231226560493839,-0.020275904192546997,-0.016377722002896757,-0.018971143035162185,-0.003572392345344377,-0.011069597516157718,0.003235488018723042,0.006889849293163303,0.00981455931066238,0.006556623042726343,0.007510771620794429,0.015510369961730896,0.004584412905839753,0.004562937489544609,0.010745397173503037,-0.005418559928249165,-0.011379689311652456,-0.001112333903313275,-0.004249396985563633,0.004134536710857603,0.004775102729627362,0.014450197489221732,0.012987551770247026,0.009462416574846488,-0.009580154545031198,-0.01847594536621115,-0.0215023500980991,-0.023090806591534795,-0.00448826056626311,-0.0009333293489437802,-0.0029702051031309726,-0.0062828168572898364,-0.012009170054170789,-0.0015099097222612441,0.0020179117308839513,0.00029162700274158043,-0.004636149818619005,0.0016747254701770867,-0.0003884259109316439,0.001437994156505626,0.004784323358170955,0.0048622440405875385,0.0060291009508615465,0.0014558188261299156,-0.0010361098475728456,-0.00657564075802022,-0.008080673969550464,-0.011472852381344517,-0.018814067373736566,-0.017969768602811426,-0.016399324246129287,-0.018882011981487205,-0.013285457279942063,-0.01235059785332536,-0.011594082728931268,-0.005769586304228861,0.006490215541000197,0.010033503175263067,0.008120021886033625,0.006647217127647254,0.0005659853153950657,0.0030600085672924417,0.008094512396520918,0.008037065943698955,0.0008905277822905816,0.003559356973891304,0.010746147766707853,0.0057218975887457346,5.774605739739501e-05,0.0019770068939499175,-0.007606559875812231,-0.01245562691606742,-0.01535214740483468,0.008413443620232601,0.008198712775512158,0.0388266642197319,0.03738295014262225],\"yaxis\":\"y\",\"type\":\"scatter\"},{\"hovertemplate\":\"variable=y<br>index=%{x}<br>value=%{y}<extra></extra>\",\"legendgroup\":\"y\",\"line\":{\"color\":\"#EF553B\",\"dash\":\"solid\"},\"marker\":{\"symbol\":\"circle\"},\"mode\":\"lines\",\"name\":\"y\",\"orientation\":\"v\",\"showlegend\":true,\"x\":[\"1996-12-31\",\"1997-03-31\",\"1997-06-30\",\"1997-09-30\",\"1997-12-31\",\"1998-03-31\",\"1998-06-30\",\"1998-09-30\",\"1998-12-31\",\"1999-03-31\",\"1999-06-30\",\"1999-09-30\",\"1999-12-31\",\"2000-03-31\",\"2000-06-30\",\"2000-09-30\",\"2000-12-31\",\"2001-03-31\",\"2001-06-30\",\"2001-09-30\",\"2001-12-31\",\"2002-03-31\",\"2002-06-30\",\"2002-09-30\",\"2002-12-31\",\"2003-03-31\",\"2003-06-30\",\"2003-09-30\",\"2003-12-31\",\"2004-03-31\",\"2004-06-30\",\"2004-09-30\",\"2004-12-31\",\"2005-03-31\",\"2005-06-30\",\"2005-09-30\",\"2005-12-31\",\"2006-03-31\",\"2006-06-30\",\"2006-09-30\",\"2006-12-31\",\"2007-03-31\",\"2007-06-30\",\"2007-09-30\",\"2007-12-31\",\"2008-03-31\",\"2008-06-30\",\"2008-09-30\",\"2008-12-31\",\"2009-03-31\",\"2009-06-30\",\"2009-09-30\",\"2009-12-31\",\"2010-03-31\",\"2010-06-30\",\"2010-09-30\",\"2010-12-31\",\"2011-03-31\",\"2011-06-30\",\"2011-09-30\",\"2011-12-31\",\"2012-03-31\",\"2012-06-30\",\"2012-09-30\",\"2012-12-31\",\"2013-03-31\",\"2013-06-30\",\"2013-09-30\",\"2013-12-31\",\"2014-03-31\",\"2014-06-30\",\"2014-09-30\",\"2014-12-31\",\"2015-03-31\",\"2015-06-30\",\"2015-09-30\",\"2015-12-31\",\"2016-03-31\",\"2016-06-30\",\"2016-09-30\",\"2016-12-31\",\"2017-03-31\",\"2017-06-30\",\"2017-09-30\",\"2017-12-31\",\"2018-03-31\",\"2018-06-30\",\"2018-09-30\",\"2018-12-31\",\"2019-03-31\",\"2019-06-30\",\"2019-09-30\",\"2019-12-31\",\"2020-03-31\",\"2020-06-30\",\"2020-09-30\",\"2020-12-31\",\"2021-03-31\",\"2021-06-30\",\"2021-09-30\",\"2021-12-31\"],\"xaxis\":\"x\",\"y\":[0.014869074386345327,0.016059672394355573,0.01588849752562882,0.022019692660168344,0.020788926839262478,0.012026205538547163,0.013289496811294876,0.0048723090664439805,0.0018974406258935872,0.0017084976882917324,0.0029133928072899717,0.005974653315410583,0.011503498227150466,0.019164243495174205,0.019072963044993507,0.024736505521066654,0.02180032110675345,0.025382040162108543,0.030874766498770967,0.021375488680774657,0.01671926675382074,0.018356597572466438,0.008193997371058526,0.010024141145018595,0.01097267842020333,0.003073844117335023,0.0010925042944938124,0.002081833804542299,0.010572503407761724,0.01051165213295202,0.017300444526182845,0.01820713191220258,0.020945613897170867,0.017971480390798877,0.01788686383395821,0.02536073420619145,0.021421318195627315,0.01763665187345076,0.02032971316585841,0.0100762461083852,0.01367872645452839,0.019181556191140148,0.018135997799578307,0.02358887298589818,0.02789682431261009,0.030032083479798466,0.0303951382845149,0.027697951021582456,0.011330066320772714,0.004702979230575721,0.0008927174130943794,-0.0027848688168475855,0.009359838371510776,0.011236210948604164,0.009337617403657017,0.013091222314857154,0.01669130992056722,0.02129910750765851,0.023129266981916308,0.025852542073918183,0.020985365067482498,0.020851921961778874,0.01717929376757965,0.019798312738406487,0.0205501595737394,0.020009290192690266,0.020915824300637542,0.018510143493452924,0.014293872512433525,0.010407856907690194,0.010407856907689972,0.008476858924904462,0.00187496763036199,0.0028104159633244308,0.0028104159633244308,3.289201727874058e-06,0.0028137638122889275,0.0028058666062165116,0.0028058666062165116,0.006538553798725255,0.01681563731608593,0.015834970309655194,0.015834970309655194,0.017630420641129296,0.01653329723664454,0.015583640760808537,0.02108730498530975,0.02280968186192478,0.017236279484875272,0.01631554319138062,0.02538395375839242,0.020946265560749744,0.015342960057109112,0.014381554060565405,0.008502940039654128,-0.0018808045193660083,-0.002829075319705998,0.01707164177796594,0.023492592888244568,0.04065450773512036,0.05308625961397251],\"yaxis\":\"y\",\"type\":\"scatter\"},{\"hovertemplate\":\"variable=y_DMA<br>index=%{x}<br>value=%{y}<extra></extra>\",\"legendgroup\":\"y_DMA\",\"line\":{\"color\":\"#00cc96\",\"dash\":\"solid\"},\"marker\":{\"symbol\":\"circle\"},\"mode\":\"lines\",\"name\":\"y_DMA\",\"orientation\":\"v\",\"showlegend\":true,\"x\":[\"1996-12-31\",\"1997-03-31\",\"1997-06-30\",\"1997-09-30\",\"1997-12-31\",\"1998-03-31\",\"1998-06-30\",\"1998-09-30\",\"1998-12-31\",\"1999-03-31\",\"1999-06-30\",\"1999-09-30\",\"1999-12-31\",\"2000-03-31\",\"2000-06-30\",\"2000-09-30\",\"2000-12-31\",\"2001-03-31\",\"2001-06-30\",\"2001-09-30\",\"2001-12-31\",\"2002-03-31\",\"2002-06-30\",\"2002-09-30\",\"2002-12-31\",\"2003-03-31\",\"2003-06-30\",\"2003-09-30\",\"2003-12-31\",\"2004-03-31\",\"2004-06-30\",\"2004-09-30\",\"2004-12-31\",\"2005-03-31\",\"2005-06-30\",\"2005-09-30\",\"2005-12-31\",\"2006-03-31\",\"2006-06-30\",\"2006-09-30\",\"2006-12-31\",\"2007-03-31\",\"2007-06-30\",\"2007-09-30\",\"2007-12-31\",\"2008-03-31\",\"2008-06-30\",\"2008-09-30\",\"2008-12-31\",\"2009-03-31\",\"2009-06-30\",\"2009-09-30\",\"2009-12-31\",\"2010-03-31\",\"2010-06-30\",\"2010-09-30\",\"2010-12-31\",\"2011-03-31\",\"2011-06-30\",\"2011-09-30\",\"2011-12-31\",\"2012-03-31\",\"2012-06-30\",\"2012-09-30\",\"2012-12-31\",\"2013-03-31\",\"2013-06-30\",\"2013-09-30\",\"2013-12-31\",\"2014-03-31\",\"2014-06-30\",\"2014-09-30\",\"2014-12-31\",\"2015-03-31\",\"2015-06-30\",\"2015-09-30\",\"2015-12-31\",\"2016-03-31\",\"2016-06-30\",\"2016-09-30\",\"2016-12-31\",\"2017-03-31\",\"2017-06-30\",\"2017-09-30\",\"2017-12-31\",\"2018-03-31\",\"2018-06-30\",\"2018-09-30\",\"2018-12-31\",\"2019-03-31\",\"2019-06-30\",\"2019-09-30\",\"2019-12-31\",\"2020-03-31\",\"2020-06-30\",\"2020-09-30\",\"2020-12-31\",\"2021-03-31\",\"2021-06-30\",\"2021-09-30\",\"2021-12-31\"],\"xaxis\":\"x\",\"y\":[0.025201295947123566,0.024128287958885424,0.0223483227051376,0.021753895502408742,0.020564327130456653,0.01470125254544255,0.011655628108293898,0.01179746072497029,0.012615750708166422,0.008848476983935524,0.008143871579723266,0.010805606698896818,0.013172770589232028,-0.00029050825110416045,-0.0021769789312051893,-0.003379450112229599,-0.00031014450952139154,-0.007344780473151943,-0.003151915957302826,0.007049986182061,0.018099602266986804,0.016810167519812895,0.019931559655477736,0.03183536252357778,0.02328494402514172,0.02334974830988202,0.01747022629739057,0.021052976839704484,0.014144895753106101,0.02158124964910974,0.014064956507459803,0.011317282619039276,0.011131054586508487,0.011414857348072535,0.010376092213163782,0.009850364244460553,0.01683690528978756,0.01307371438390615,0.009584315992355373,0.015494806036634366,0.025058415766180845,0.020293890094453423,0.02238539478514194,0.019454336275040576,0.02312172158298273,0.015581885990576734,0.017407586514267874,0.01823553444673597,0.02091022086580391,0.02317892459678687,0.02239506751119348,0.02030593777468721,0.013848098937773886,0.012169540297547944,0.01230782250678799,0.01937403917214699,0.02870047997473801,0.022809017229919754,0.021111355251032356,0.025560915071176603,0.025621514886101503,0.019177196491601788,0.017567719678511295,0.01836031858190086,0.015765836215568447,0.015147046152102727,0.014886723349775996,0.01705432466732301,0.015329982360006371,0.016983497665710414,0.018488530877240436,0.01994971130624898,0.020689035004098556,0.020780184566135857,0.019209740209453718,0.01888530118321508,0.01609922109223099,0.015156464459541871,0.01439994933514778,0.012308140102954116,0.010325421775085733,0.005801467134392127,0.007714948423621569,0.010983203513482042,0.015967311921249474,0.012523632193516095,0.012992792588788833,0.014772615918225825,0.01634575170258469,0.012756186217489317,0.014637805991684566,0.01522436797200401,0.015285213999711717,0.012404547166615487,0.01610949991546636,0.010574822396701412,0.012523072085128682,0.00865819815773334,0.01529388011273241,0.0018278435153884578,0.015703309471350256],\"yaxis\":\"y\",\"type\":\"scatter\"}],                        {\"template\":{\"data\":{\"bar\":[{\"error_x\":{\"color\":\"#2a3f5f\"},\"error_y\":{\"color\":\"#2a3f5f\"},\"marker\":{\"line\":{\"color\":\"#E5ECF6\",\"width\":0.5},\"pattern\":{\"fillmode\":\"overlay\",\"size\":10,\"solidity\":0.2}},\"type\":\"bar\"}],\"barpolar\":[{\"marker\":{\"line\":{\"color\":\"#E5ECF6\",\"width\":0.5},\"pattern\":{\"fillmode\":\"overlay\",\"size\":10,\"solidity\":0.2}},\"type\":\"barpolar\"}],\"carpet\":[{\"aaxis\":{\"endlinecolor\":\"#2a3f5f\",\"gridcolor\":\"white\",\"linecolor\":\"white\",\"minorgridcolor\":\"white\",\"startlinecolor\":\"#2a3f5f\"},\"baxis\":{\"endlinecolor\":\"#2a3f5f\",\"gridcolor\":\"white\",\"linecolor\":\"white\",\"minorgridcolor\":\"white\",\"startlinecolor\":\"#2a3f5f\"},\"type\":\"carpet\"}],\"choropleth\":[{\"colorbar\":{\"outlinewidth\":0,\"ticks\":\"\"},\"type\":\"choropleth\"}],\"contour\":[{\"colorbar\":{\"outlinewidth\":0,\"ticks\":\"\"},\"colorscale\":[[0.0,\"#0d0887\"],[0.1111111111111111,\"#46039f\"],[0.2222222222222222,\"#7201a8\"],[0.3333333333333333,\"#9c179e\"],[0.4444444444444444,\"#bd3786\"],[0.5555555555555556,\"#d8576b\"],[0.6666666666666666,\"#ed7953\"],[0.7777777777777778,\"#fb9f3a\"],[0.8888888888888888,\"#fdca26\"],[1.0,\"#f0f921\"]],\"type\":\"contour\"}],\"contourcarpet\":[{\"colorbar\":{\"outlinewidth\":0,\"ticks\":\"\"},\"type\":\"contourcarpet\"}],\"heatmap\":[{\"colorbar\":{\"outlinewidth\":0,\"ticks\":\"\"},\"colorscale\":[[0.0,\"#0d0887\"],[0.1111111111111111,\"#46039f\"],[0.2222222222222222,\"#7201a8\"],[0.3333333333333333,\"#9c179e\"],[0.4444444444444444,\"#bd3786\"],[0.5555555555555556,\"#d8576b\"],[0.6666666666666666,\"#ed7953\"],[0.7777777777777778,\"#fb9f3a\"],[0.8888888888888888,\"#fdca26\"],[1.0,\"#f0f921\"]],\"type\":\"heatmap\"}],\"heatmapgl\":[{\"colorbar\":{\"outlinewidth\":0,\"ticks\":\"\"},\"colorscale\":[[0.0,\"#0d0887\"],[0.1111111111111111,\"#46039f\"],[0.2222222222222222,\"#7201a8\"],[0.3333333333333333,\"#9c179e\"],[0.4444444444444444,\"#bd3786\"],[0.5555555555555556,\"#d8576b\"],[0.6666666666666666,\"#ed7953\"],[0.7777777777777778,\"#fb9f3a\"],[0.8888888888888888,\"#fdca26\"],[1.0,\"#f0f921\"]],\"type\":\"heatmapgl\"}],\"histogram\":[{\"marker\":{\"pattern\":{\"fillmode\":\"overlay\",\"size\":10,\"solidity\":0.2}},\"type\":\"histogram\"}],\"histogram2d\":[{\"colorbar\":{\"outlinewidth\":0,\"ticks\":\"\"},\"colorscale\":[[0.0,\"#0d0887\"],[0.1111111111111111,\"#46039f\"],[0.2222222222222222,\"#7201a8\"],[0.3333333333333333,\"#9c179e\"],[0.4444444444444444,\"#bd3786\"],[0.5555555555555556,\"#d8576b\"],[0.6666666666666666,\"#ed7953\"],[0.7777777777777778,\"#fb9f3a\"],[0.8888888888888888,\"#fdca26\"],[1.0,\"#f0f921\"]],\"type\":\"histogram2d\"}],\"histogram2dcontour\":[{\"colorbar\":{\"outlinewidth\":0,\"ticks\":\"\"},\"colorscale\":[[0.0,\"#0d0887\"],[0.1111111111111111,\"#46039f\"],[0.2222222222222222,\"#7201a8\"],[0.3333333333333333,\"#9c179e\"],[0.4444444444444444,\"#bd3786\"],[0.5555555555555556,\"#d8576b\"],[0.6666666666666666,\"#ed7953\"],[0.7777777777777778,\"#fb9f3a\"],[0.8888888888888888,\"#fdca26\"],[1.0,\"#f0f921\"]],\"type\":\"histogram2dcontour\"}],\"mesh3d\":[{\"colorbar\":{\"outlinewidth\":0,\"ticks\":\"\"},\"type\":\"mesh3d\"}],\"parcoords\":[{\"line\":{\"colorbar\":{\"outlinewidth\":0,\"ticks\":\"\"}},\"type\":\"parcoords\"}],\"pie\":[{\"automargin\":true,\"type\":\"pie\"}],\"scatter\":[{\"marker\":{\"colorbar\":{\"outlinewidth\":0,\"ticks\":\"\"}},\"type\":\"scatter\"}],\"scatter3d\":[{\"line\":{\"colorbar\":{\"outlinewidth\":0,\"ticks\":\"\"}},\"marker\":{\"colorbar\":{\"outlinewidth\":0,\"ticks\":\"\"}},\"type\":\"scatter3d\"}],\"scattercarpet\":[{\"marker\":{\"colorbar\":{\"outlinewidth\":0,\"ticks\":\"\"}},\"type\":\"scattercarpet\"}],\"scattergeo\":[{\"marker\":{\"colorbar\":{\"outlinewidth\":0,\"ticks\":\"\"}},\"type\":\"scattergeo\"}],\"scattergl\":[{\"marker\":{\"colorbar\":{\"outlinewidth\":0,\"ticks\":\"\"}},\"type\":\"scattergl\"}],\"scattermapbox\":[{\"marker\":{\"colorbar\":{\"outlinewidth\":0,\"ticks\":\"\"}},\"type\":\"scattermapbox\"}],\"scatterpolar\":[{\"marker\":{\"colorbar\":{\"outlinewidth\":0,\"ticks\":\"\"}},\"type\":\"scatterpolar\"}],\"scatterpolargl\":[{\"marker\":{\"colorbar\":{\"outlinewidth\":0,\"ticks\":\"\"}},\"type\":\"scatterpolargl\"}],\"scatterternary\":[{\"marker\":{\"colorbar\":{\"outlinewidth\":0,\"ticks\":\"\"}},\"type\":\"scatterternary\"}],\"surface\":[{\"colorbar\":{\"outlinewidth\":0,\"ticks\":\"\"},\"colorscale\":[[0.0,\"#0d0887\"],[0.1111111111111111,\"#46039f\"],[0.2222222222222222,\"#7201a8\"],[0.3333333333333333,\"#9c179e\"],[0.4444444444444444,\"#bd3786\"],[0.5555555555555556,\"#d8576b\"],[0.6666666666666666,\"#ed7953\"],[0.7777777777777778,\"#fb9f3a\"],[0.8888888888888888,\"#fdca26\"],[1.0,\"#f0f921\"]],\"type\":\"surface\"}],\"table\":[{\"cells\":{\"fill\":{\"color\":\"#EBF0F8\"},\"line\":{\"color\":\"white\"}},\"header\":{\"fill\":{\"color\":\"#C8D4E3\"},\"line\":{\"color\":\"white\"}},\"type\":\"table\"}]},\"layout\":{\"annotationdefaults\":{\"arrowcolor\":\"#2a3f5f\",\"arrowhead\":0,\"arrowwidth\":1},\"autotypenumbers\":\"strict\",\"coloraxis\":{\"colorbar\":{\"outlinewidth\":0,\"ticks\":\"\"}},\"colorscale\":{\"diverging\":[[0,\"#8e0152\"],[0.1,\"#c51b7d\"],[0.2,\"#de77ae\"],[0.3,\"#f1b6da\"],[0.4,\"#fde0ef\"],[0.5,\"#f7f7f7\"],[0.6,\"#e6f5d0\"],[0.7,\"#b8e186\"],[0.8,\"#7fbc41\"],[0.9,\"#4d9221\"],[1,\"#276419\"]],\"sequential\":[[0.0,\"#0d0887\"],[0.1111111111111111,\"#46039f\"],[0.2222222222222222,\"#7201a8\"],[0.3333333333333333,\"#9c179e\"],[0.4444444444444444,\"#bd3786\"],[0.5555555555555556,\"#d8576b\"],[0.6666666666666666,\"#ed7953\"],[0.7777777777777778,\"#fb9f3a\"],[0.8888888888888888,\"#fdca26\"],[1.0,\"#f0f921\"]],\"sequentialminus\":[[0.0,\"#0d0887\"],[0.1111111111111111,\"#46039f\"],[0.2222222222222222,\"#7201a8\"],[0.3333333333333333,\"#9c179e\"],[0.4444444444444444,\"#bd3786\"],[0.5555555555555556,\"#d8576b\"],[0.6666666666666666,\"#ed7953\"],[0.7777777777777778,\"#fb9f3a\"],[0.8888888888888888,\"#fdca26\"],[1.0,\"#f0f921\"]]},\"colorway\":[\"#636efa\",\"#EF553B\",\"#00cc96\",\"#ab63fa\",\"#FFA15A\",\"#19d3f3\",\"#FF6692\",\"#B6E880\",\"#FF97FF\",\"#FECB52\"],\"font\":{\"color\":\"#2a3f5f\"},\"geo\":{\"bgcolor\":\"white\",\"lakecolor\":\"white\",\"landcolor\":\"#E5ECF6\",\"showlakes\":true,\"showland\":true,\"subunitcolor\":\"white\"},\"hoverlabel\":{\"align\":\"left\"},\"hovermode\":\"closest\",\"mapbox\":{\"style\":\"light\"},\"paper_bgcolor\":\"white\",\"plot_bgcolor\":\"#E5ECF6\",\"polar\":{\"angularaxis\":{\"gridcolor\":\"white\",\"linecolor\":\"white\",\"ticks\":\"\"},\"bgcolor\":\"#E5ECF6\",\"radialaxis\":{\"gridcolor\":\"white\",\"linecolor\":\"white\",\"ticks\":\"\"}},\"scene\":{\"xaxis\":{\"backgroundcolor\":\"#E5ECF6\",\"gridcolor\":\"white\",\"gridwidth\":2,\"linecolor\":\"white\",\"showbackground\":true,\"ticks\":\"\",\"zerolinecolor\":\"white\"},\"yaxis\":{\"backgroundcolor\":\"#E5ECF6\",\"gridcolor\":\"white\",\"gridwidth\":2,\"linecolor\":\"white\",\"showbackground\":true,\"ticks\":\"\",\"zerolinecolor\":\"white\"},\"zaxis\":{\"backgroundcolor\":\"#E5ECF6\",\"gridcolor\":\"white\",\"gridwidth\":2,\"linecolor\":\"white\",\"showbackground\":true,\"ticks\":\"\",\"zerolinecolor\":\"white\"}},\"shapedefaults\":{\"line\":{\"color\":\"#2a3f5f\"}},\"ternary\":{\"aaxis\":{\"gridcolor\":\"white\",\"linecolor\":\"white\",\"ticks\":\"\"},\"baxis\":{\"gridcolor\":\"white\",\"linecolor\":\"white\",\"ticks\":\"\"},\"bgcolor\":\"#E5ECF6\",\"caxis\":{\"gridcolor\":\"white\",\"linecolor\":\"white\",\"ticks\":\"\"}},\"title\":{\"x\":0.05},\"xaxis\":{\"automargin\":true,\"gridcolor\":\"white\",\"linecolor\":\"white\",\"ticks\":\"\",\"title\":{\"standoff\":15},\"zerolinecolor\":\"white\",\"zerolinewidth\":2},\"yaxis\":{\"automargin\":true,\"gridcolor\":\"white\",\"linecolor\":\"white\",\"ticks\":\"\",\"title\":{\"standoff\":15},\"zerolinecolor\":\"white\",\"zerolinewidth\":2}}},\"xaxis\":{\"anchor\":\"y\",\"domain\":[0.0,1.0],\"title\":{\"text\":\"index\"}},\"yaxis\":{\"anchor\":\"x\",\"domain\":[0.0,1.0],\"title\":{\"text\":\"value\"}},\"legend\":{\"title\":{\"text\":\"variable\"},\"tracegroupgap\":0},\"title\":{\"text\":\"Forecast errors\"}},                        {\"responsive\": true}                    ).then(function(){\n                            \nvar gd = document.getElementById('593d1b5e-467e-4d6f-bf66-8a4f1d2a6a59');\nvar x = new MutationObserver(function (mutations, observer) {{\n        var display = window.getComputedStyle(gd).display;\n        if (!display || display === 'none') {{\n            console.log([gd, 'removed!']);\n            Plotly.purge(gd);\n            observer.disconnect();\n        }}\n}});\n\n// Listen for the removal of the full notebook cells\nvar notebookContainer = gd.closest('#notebook-container');\nif (notebookContainer) {{\n    x.observe(notebookContainer, {childList: true});\n}}\n\n// Listen for the clearing of the current output cell\nvar outputEl = gd.closest('.output');\nif (outputEl) {{\n    x.observe(outputEl, {childList: true});\n}}\n\n                        })                };                });            </script>        </div>"
     },
     "metadata": {},
     "output_type": "display_data"
    },
    {
     "data": {
      "application/vnd.plotly.v1+json": {
       "data": [
        {
         "hovertemplate": "variable=fe_DMS<br>index=%{x}<br>value=%{y}<extra></extra>",
         "legendgroup": "fe_DMS",
         "line": {
          "color": "#636efa",
          "dash": "solid"
         },
         "marker": {
          "symbol": "circle"
         },
         "mode": "lines",
         "name": "fe_DMS",
         "orientation": "v",
         "showlegend": true,
         "x": [
          "1996-12-31",
          "1997-03-31",
          "1997-06-30",
          "1997-09-30",
          "1997-12-31",
          "1998-03-31",
          "1998-06-30",
          "1998-09-30",
          "1998-12-31",
          "1999-03-31",
          "1999-06-30",
          "1999-09-30",
          "1999-12-31",
          "2000-03-31",
          "2000-06-30",
          "2000-09-30",
          "2000-12-31",
          "2001-03-31",
          "2001-06-30",
          "2001-09-30",
          "2001-12-31",
          "2002-03-31",
          "2002-06-30",
          "2002-09-30",
          "2002-12-31",
          "2003-03-31",
          "2003-06-30",
          "2003-09-30",
          "2003-12-31",
          "2004-03-31",
          "2004-06-30",
          "2004-09-30",
          "2004-12-31",
          "2005-03-31",
          "2005-06-30",
          "2005-09-30",
          "2005-12-31",
          "2006-03-31",
          "2006-06-30",
          "2006-09-30",
          "2006-12-31",
          "2007-03-31",
          "2007-06-30",
          "2007-09-30",
          "2007-12-31",
          "2008-03-31",
          "2008-06-30",
          "2008-09-30",
          "2008-12-31",
          "2009-03-31",
          "2009-06-30",
          "2009-09-30",
          "2009-12-31",
          "2010-03-31",
          "2010-06-30",
          "2010-09-30",
          "2010-12-31",
          "2011-03-31",
          "2011-06-30",
          "2011-09-30",
          "2011-12-31",
          "2012-03-31",
          "2012-06-30",
          "2012-09-30",
          "2012-12-31",
          "2013-03-31",
          "2013-06-30",
          "2013-09-30",
          "2013-12-31",
          "2014-03-31",
          "2014-06-30",
          "2014-09-30",
          "2014-12-31",
          "2015-03-31",
          "2015-06-30",
          "2015-09-30",
          "2015-12-31",
          "2016-03-31",
          "2016-06-30",
          "2016-09-30",
          "2016-12-31",
          "2017-03-31",
          "2017-06-30",
          "2017-09-30",
          "2017-12-31",
          "2018-03-31",
          "2018-06-30",
          "2018-09-30",
          "2018-12-31",
          "2019-03-31",
          "2019-06-30",
          "2019-09-30",
          "2019-12-31",
          "2020-03-31",
          "2020-06-30",
          "2020-09-30",
          "2020-12-31",
          "2021-03-31",
          "2021-06-30",
          "2021-09-30",
          "2021-12-31"
         ],
         "xaxis": "x",
         "y": [
          -2.1180929808120585E-4,
          9.787887099290404E-4,
          8.076138412022871E-4,
          0.0069388089757418114,
          0.005708043154835946,
          -0.0030546781458793693,
          -0.0017913868731316562,
          -0.010208574617982552,
          -0.013183443058532945,
          -0.0133723859961348,
          -0.01216749087713656,
          -0.00910623036901595,
          -0.0035773854572760666,
          0.0054299820859058465,
          0.003992079360566975,
          0.009655621836640121,
          0.006719437422326918,
          0.01030115647768201,
          0.015793882814344434,
          0.006294604996348124,
          0.0016383830693942059,
          0.003275713888039905,
          -0.006886886313368007,
          -0.005056742539407938,
          -0.0041082052642232025,
          -0.01200703956709151,
          -0.01398837938993272,
          -0.012999049879884234,
          -0.0045083802766648085,
          -0.004569231551474512,
          0.002219560841756313,
          0.003126248227776046,
          0.005864730212744335,
          0.0028905967063723448,
          0.0028059801495316783,
          0.010279850521764916,
          0.006340434511200782,
          0.0025557681890242268,
          0.005248829481431877,
          -0.005004637576041332,
          -0.0014021572298981433,
          0.004100672506713615,
          0.0030551141151517747,
          0.008507989301471647,
          0.012815940628183559,
          0.014951199795371933,
          0.015312654382470085,
          0.012962778731567802,
          -0.003752417581272101,
          -0.010379504671469093,
          -0.014189766488950435,
          -0.0178673527188924,
          -0.009364911845767633,
          -0.007488539268674245,
          -0.009387132813621392,
          -0.005633527902421255,
          -6.232734989742063E-4,
          0.0062182238232319775,
          0.008048383297489775,
          0.010065547898116645,
          0.005198370891680959,
          0.005064927785977336,
          0.0013922995917781122,
          0.004011318562604949,
          0.004763165397937863,
          0.004222296016888727,
          0.0051288301248360035,
          0.0011955600739114967,
          -0.0014931216633680133,
          -0.005379137268111345,
          -0.005379137268111567,
          -0.007310135250897076,
          -0.013205916054064543,
          -0.010186202118581778,
          -0.017972941475386275,
          -0.016345885088193294,
          -0.01353541047763224,
          -0.013543307683704656,
          -0.013543307683704656,
          -0.009810620491195913,
          4.664630261647616E-4,
          -5.142039802659738E-4,
          0.004022171942883401,
          0.0025495369567027637,
          0.001452413552218007,
          5.027570763820044E-4,
          0.006006421300883219,
          0.007728798177498247,
          0.0021553958004487395,
          0.0012346595069540889,
          0.010303070073965886,
          0.005159271384948205,
          0.0016086986478407537,
          -6.99329623861128E-4,
          -0.006577943644772405,
          -0.02811693906581041,
          -0.027716506283379044,
          0.0012226957589358094,
          0.005204206922432692,
          0.035589200351511974,
          0.03788898669512146
         ],
         "yaxis": "y",
         "type": "scatter"
        },
        {
         "hovertemplate": "variable=y<br>index=%{x}<br>value=%{y}<extra></extra>",
         "legendgroup": "y",
         "line": {
          "color": "#EF553B",
          "dash": "solid"
         },
         "marker": {
          "symbol": "circle"
         },
         "mode": "lines",
         "name": "y",
         "orientation": "v",
         "showlegend": true,
         "x": [
          "1996-12-31",
          "1997-03-31",
          "1997-06-30",
          "1997-09-30",
          "1997-12-31",
          "1998-03-31",
          "1998-06-30",
          "1998-09-30",
          "1998-12-31",
          "1999-03-31",
          "1999-06-30",
          "1999-09-30",
          "1999-12-31",
          "2000-03-31",
          "2000-06-30",
          "2000-09-30",
          "2000-12-31",
          "2001-03-31",
          "2001-06-30",
          "2001-09-30",
          "2001-12-31",
          "2002-03-31",
          "2002-06-30",
          "2002-09-30",
          "2002-12-31",
          "2003-03-31",
          "2003-06-30",
          "2003-09-30",
          "2003-12-31",
          "2004-03-31",
          "2004-06-30",
          "2004-09-30",
          "2004-12-31",
          "2005-03-31",
          "2005-06-30",
          "2005-09-30",
          "2005-12-31",
          "2006-03-31",
          "2006-06-30",
          "2006-09-30",
          "2006-12-31",
          "2007-03-31",
          "2007-06-30",
          "2007-09-30",
          "2007-12-31",
          "2008-03-31",
          "2008-06-30",
          "2008-09-30",
          "2008-12-31",
          "2009-03-31",
          "2009-06-30",
          "2009-09-30",
          "2009-12-31",
          "2010-03-31",
          "2010-06-30",
          "2010-09-30",
          "2010-12-31",
          "2011-03-31",
          "2011-06-30",
          "2011-09-30",
          "2011-12-31",
          "2012-03-31",
          "2012-06-30",
          "2012-09-30",
          "2012-12-31",
          "2013-03-31",
          "2013-06-30",
          "2013-09-30",
          "2013-12-31",
          "2014-03-31",
          "2014-06-30",
          "2014-09-30",
          "2014-12-31",
          "2015-03-31",
          "2015-06-30",
          "2015-09-30",
          "2015-12-31",
          "2016-03-31",
          "2016-06-30",
          "2016-09-30",
          "2016-12-31",
          "2017-03-31",
          "2017-06-30",
          "2017-09-30",
          "2017-12-31",
          "2018-03-31",
          "2018-06-30",
          "2018-09-30",
          "2018-12-31",
          "2019-03-31",
          "2019-06-30",
          "2019-09-30",
          "2019-12-31",
          "2020-03-31",
          "2020-06-30",
          "2020-09-30",
          "2020-12-31",
          "2021-03-31",
          "2021-06-30",
          "2021-09-30",
          "2021-12-31"
         ],
         "xaxis": "x",
         "y": [
          0.014869074386345327,
          0.016059672394355573,
          0.01588849752562882,
          0.022019692660168344,
          0.020788926839262478,
          0.012026205538547163,
          0.013289496811294876,
          0.0048723090664439805,
          0.0018974406258935872,
          0.0017084976882917324,
          0.0029133928072899717,
          0.005974653315410583,
          0.011503498227150466,
          0.019164243495174205,
          0.019072963044993507,
          0.024736505521066654,
          0.02180032110675345,
          0.025382040162108543,
          0.030874766498770967,
          0.021375488680774657,
          0.01671926675382074,
          0.018356597572466438,
          0.008193997371058526,
          0.010024141145018595,
          0.01097267842020333,
          0.003073844117335023,
          0.0010925042944938124,
          0.002081833804542299,
          0.010572503407761724,
          0.01051165213295202,
          0.017300444526182845,
          0.01820713191220258,
          0.020945613897170867,
          0.017971480390798877,
          0.01788686383395821,
          0.02536073420619145,
          0.021421318195627315,
          0.01763665187345076,
          0.02032971316585841,
          0.0100762461083852,
          0.01367872645452839,
          0.019181556191140148,
          0.018135997799578307,
          0.02358887298589818,
          0.02789682431261009,
          0.030032083479798466,
          0.0303951382845149,
          0.027697951021582456,
          0.011330066320772714,
          0.004702979230575721,
          8.927174130943794E-4,
          -0.0027848688168475855,
          0.009359838371510776,
          0.011236210948604164,
          0.009337617403657017,
          0.013091222314857154,
          0.01669130992056722,
          0.02129910750765851,
          0.023129266981916308,
          0.025852542073918183,
          0.020985365067482498,
          0.020851921961778874,
          0.01717929376757965,
          0.019798312738406487,
          0.0205501595737394,
          0.020009290192690266,
          0.020915824300637542,
          0.018510143493452924,
          0.014293872512433525,
          0.010407856907690194,
          0.010407856907689972,
          0.008476858924904462,
          0.00187496763036199,
          0.0028104159633244308,
          0.0028104159633244308,
          3.289201727874058E-6,
          0.0028137638122889275,
          0.0028058666062165116,
          0.0028058666062165116,
          0.006538553798725255,
          0.01681563731608593,
          0.015834970309655194,
          0.015834970309655194,
          0.017630420641129296,
          0.01653329723664454,
          0.015583640760808537,
          0.02108730498530975,
          0.02280968186192478,
          0.017236279484875272,
          0.01631554319138062,
          0.02538395375839242,
          0.020946265560749744,
          0.015342960057109112,
          0.014381554060565405,
          0.008502940039654128,
          -0.0018808045193660083,
          -0.002829075319705998,
          0.01707164177796594,
          0.023492592888244568,
          0.04065450773512036,
          0.05308625961397251
         ],
         "yaxis": "y",
         "type": "scatter"
        },
        {
         "hovertemplate": "variable=y_DMS<br>index=%{x}<br>value=%{y}<extra></extra>",
         "legendgroup": "y_DMS",
         "line": {
          "color": "#00cc96",
          "dash": "solid"
         },
         "marker": {
          "symbol": "circle"
         },
         "mode": "lines",
         "name": "y_DMS",
         "orientation": "v",
         "showlegend": true,
         "x": [
          "1996-12-31",
          "1997-03-31",
          "1997-06-30",
          "1997-09-30",
          "1997-12-31",
          "1998-03-31",
          "1998-06-30",
          "1998-09-30",
          "1998-12-31",
          "1999-03-31",
          "1999-06-30",
          "1999-09-30",
          "1999-12-31",
          "2000-03-31",
          "2000-06-30",
          "2000-09-30",
          "2000-12-31",
          "2001-03-31",
          "2001-06-30",
          "2001-09-30",
          "2001-12-31",
          "2002-03-31",
          "2002-06-30",
          "2002-09-30",
          "2002-12-31",
          "2003-03-31",
          "2003-06-30",
          "2003-09-30",
          "2003-12-31",
          "2004-03-31",
          "2004-06-30",
          "2004-09-30",
          "2004-12-31",
          "2005-03-31",
          "2005-06-30",
          "2005-09-30",
          "2005-12-31",
          "2006-03-31",
          "2006-06-30",
          "2006-09-30",
          "2006-12-31",
          "2007-03-31",
          "2007-06-30",
          "2007-09-30",
          "2007-12-31",
          "2008-03-31",
          "2008-06-30",
          "2008-09-30",
          "2008-12-31",
          "2009-03-31",
          "2009-06-30",
          "2009-09-30",
          "2009-12-31",
          "2010-03-31",
          "2010-06-30",
          "2010-09-30",
          "2010-12-31",
          "2011-03-31",
          "2011-06-30",
          "2011-09-30",
          "2011-12-31",
          "2012-03-31",
          "2012-06-30",
          "2012-09-30",
          "2012-12-31",
          "2013-03-31",
          "2013-06-30",
          "2013-09-30",
          "2013-12-31",
          "2014-03-31",
          "2014-06-30",
          "2014-09-30",
          "2014-12-31",
          "2015-03-31",
          "2015-06-30",
          "2015-09-30",
          "2015-12-31",
          "2016-03-31",
          "2016-06-30",
          "2016-09-30",
          "2016-12-31",
          "2017-03-31",
          "2017-06-30",
          "2017-09-30",
          "2017-12-31",
          "2018-03-31",
          "2018-06-30",
          "2018-09-30",
          "2018-12-31",
          "2019-03-31",
          "2019-06-30",
          "2019-09-30",
          "2019-12-31",
          "2020-03-31",
          "2020-06-30",
          "2020-09-30",
          "2020-12-31",
          "2021-03-31",
          "2021-06-30",
          "2021-09-30",
          "2021-12-31"
         ],
         "xaxis": "x",
         "y": [
          0.015080883684426533,
          0.015080883684426533,
          0.015080883684426533,
          0.015080883684426533,
          0.015080883684426533,
          0.015080883684426533,
          0.015080883684426533,
          0.015080883684426533,
          0.015080883684426533,
          0.015080883684426533,
          0.015080883684426533,
          0.015080883684426533,
          0.015080883684426533,
          0.013734261409268358,
          0.015080883684426533,
          0.015080883684426533,
          0.015080883684426533,
          0.015080883684426533,
          0.015080883684426533,
          0.015080883684426533,
          0.015080883684426533,
          0.015080883684426533,
          0.015080883684426533,
          0.015080883684426533,
          0.015080883684426533,
          0.015080883684426533,
          0.015080883684426533,
          0.015080883684426533,
          0.015080883684426533,
          0.015080883684426533,
          0.015080883684426533,
          0.015080883684426533,
          0.015080883684426533,
          0.015080883684426533,
          0.015080883684426533,
          0.015080883684426533,
          0.015080883684426533,
          0.015080883684426533,
          0.015080883684426533,
          0.015080883684426533,
          0.015080883684426533,
          0.015080883684426533,
          0.015080883684426533,
          0.015080883684426533,
          0.015080883684426533,
          0.015080883684426533,
          0.015082483902044815,
          0.014735172290014654,
          0.015082483902044815,
          0.015082483902044815,
          0.015082483902044815,
          0.015082483902044815,
          0.01872475021727841,
          0.01872475021727841,
          0.01872475021727841,
          0.01872475021727841,
          0.017314583419541427,
          0.015080883684426533,
          0.015080883684426533,
          0.01578699417580154,
          0.01578699417580154,
          0.01578699417580154,
          0.01578699417580154,
          0.01578699417580154,
          0.01578699417580154,
          0.01578699417580154,
          0.01578699417580154,
          0.017314583419541427,
          0.01578699417580154,
          0.01578699417580154,
          0.01578699417580154,
          0.01578699417580154,
          0.015080883684426533,
          0.012996618081906209,
          0.020783357438710705,
          0.016349174289921168,
          0.016349174289921168,
          0.016349174289921168,
          0.016349174289921168,
          0.016349174289921168,
          0.016349174289921168,
          0.016349174289921168,
          0.011812798366771793,
          0.015080883684426533,
          0.015080883684426533,
          0.015080883684426533,
          0.015080883684426533,
          0.015080883684426533,
          0.015080883684426533,
          0.015080883684426533,
          0.015080883684426533,
          0.01578699417580154,
          0.013734261409268358,
          0.015080883684426533,
          0.015080883684426533,
          0.0262361345464444,
          0.024887430963673046,
          0.01584894601903013,
          0.018288385965811876,
          0.005065307383608388,
          0.01519727291885105
         ],
         "yaxis": "y",
         "type": "scatter"
        }
       ],
       "layout": {
        "template": {
         "data": {
          "bar": [
           {
            "error_x": {
             "color": "#2a3f5f"
            },
            "error_y": {
             "color": "#2a3f5f"
            },
            "marker": {
             "line": {
              "color": "#E5ECF6",
              "width": 0.5
             },
             "pattern": {
              "fillmode": "overlay",
              "size": 10,
              "solidity": 0.2
             }
            },
            "type": "bar"
           }
          ],
          "barpolar": [
           {
            "marker": {
             "line": {
              "color": "#E5ECF6",
              "width": 0.5
             },
             "pattern": {
              "fillmode": "overlay",
              "size": 10,
              "solidity": 0.2
             }
            },
            "type": "barpolar"
           }
          ],
          "carpet": [
           {
            "aaxis": {
             "endlinecolor": "#2a3f5f",
             "gridcolor": "white",
             "linecolor": "white",
             "minorgridcolor": "white",
             "startlinecolor": "#2a3f5f"
            },
            "baxis": {
             "endlinecolor": "#2a3f5f",
             "gridcolor": "white",
             "linecolor": "white",
             "minorgridcolor": "white",
             "startlinecolor": "#2a3f5f"
            },
            "type": "carpet"
           }
          ],
          "choropleth": [
           {
            "colorbar": {
             "outlinewidth": 0,
             "ticks": ""
            },
            "type": "choropleth"
           }
          ],
          "contour": [
           {
            "colorbar": {
             "outlinewidth": 0,
             "ticks": ""
            },
            "colorscale": [
             [
              0.0,
              "#0d0887"
             ],
             [
              0.1111111111111111,
              "#46039f"
             ],
             [
              0.2222222222222222,
              "#7201a8"
             ],
             [
              0.3333333333333333,
              "#9c179e"
             ],
             [
              0.4444444444444444,
              "#bd3786"
             ],
             [
              0.5555555555555556,
              "#d8576b"
             ],
             [
              0.6666666666666666,
              "#ed7953"
             ],
             [
              0.7777777777777778,
              "#fb9f3a"
             ],
             [
              0.8888888888888888,
              "#fdca26"
             ],
             [
              1.0,
              "#f0f921"
             ]
            ],
            "type": "contour"
           }
          ],
          "contourcarpet": [
           {
            "colorbar": {
             "outlinewidth": 0,
             "ticks": ""
            },
            "type": "contourcarpet"
           }
          ],
          "heatmap": [
           {
            "colorbar": {
             "outlinewidth": 0,
             "ticks": ""
            },
            "colorscale": [
             [
              0.0,
              "#0d0887"
             ],
             [
              0.1111111111111111,
              "#46039f"
             ],
             [
              0.2222222222222222,
              "#7201a8"
             ],
             [
              0.3333333333333333,
              "#9c179e"
             ],
             [
              0.4444444444444444,
              "#bd3786"
             ],
             [
              0.5555555555555556,
              "#d8576b"
             ],
             [
              0.6666666666666666,
              "#ed7953"
             ],
             [
              0.7777777777777778,
              "#fb9f3a"
             ],
             [
              0.8888888888888888,
              "#fdca26"
             ],
             [
              1.0,
              "#f0f921"
             ]
            ],
            "type": "heatmap"
           }
          ],
          "heatmapgl": [
           {
            "colorbar": {
             "outlinewidth": 0,
             "ticks": ""
            },
            "colorscale": [
             [
              0.0,
              "#0d0887"
             ],
             [
              0.1111111111111111,
              "#46039f"
             ],
             [
              0.2222222222222222,
              "#7201a8"
             ],
             [
              0.3333333333333333,
              "#9c179e"
             ],
             [
              0.4444444444444444,
              "#bd3786"
             ],
             [
              0.5555555555555556,
              "#d8576b"
             ],
             [
              0.6666666666666666,
              "#ed7953"
             ],
             [
              0.7777777777777778,
              "#fb9f3a"
             ],
             [
              0.8888888888888888,
              "#fdca26"
             ],
             [
              1.0,
              "#f0f921"
             ]
            ],
            "type": "heatmapgl"
           }
          ],
          "histogram": [
           {
            "marker": {
             "pattern": {
              "fillmode": "overlay",
              "size": 10,
              "solidity": 0.2
             }
            },
            "type": "histogram"
           }
          ],
          "histogram2d": [
           {
            "colorbar": {
             "outlinewidth": 0,
             "ticks": ""
            },
            "colorscale": [
             [
              0.0,
              "#0d0887"
             ],
             [
              0.1111111111111111,
              "#46039f"
             ],
             [
              0.2222222222222222,
              "#7201a8"
             ],
             [
              0.3333333333333333,
              "#9c179e"
             ],
             [
              0.4444444444444444,
              "#bd3786"
             ],
             [
              0.5555555555555556,
              "#d8576b"
             ],
             [
              0.6666666666666666,
              "#ed7953"
             ],
             [
              0.7777777777777778,
              "#fb9f3a"
             ],
             [
              0.8888888888888888,
              "#fdca26"
             ],
             [
              1.0,
              "#f0f921"
             ]
            ],
            "type": "histogram2d"
           }
          ],
          "histogram2dcontour": [
           {
            "colorbar": {
             "outlinewidth": 0,
             "ticks": ""
            },
            "colorscale": [
             [
              0.0,
              "#0d0887"
             ],
             [
              0.1111111111111111,
              "#46039f"
             ],
             [
              0.2222222222222222,
              "#7201a8"
             ],
             [
              0.3333333333333333,
              "#9c179e"
             ],
             [
              0.4444444444444444,
              "#bd3786"
             ],
             [
              0.5555555555555556,
              "#d8576b"
             ],
             [
              0.6666666666666666,
              "#ed7953"
             ],
             [
              0.7777777777777778,
              "#fb9f3a"
             ],
             [
              0.8888888888888888,
              "#fdca26"
             ],
             [
              1.0,
              "#f0f921"
             ]
            ],
            "type": "histogram2dcontour"
           }
          ],
          "mesh3d": [
           {
            "colorbar": {
             "outlinewidth": 0,
             "ticks": ""
            },
            "type": "mesh3d"
           }
          ],
          "parcoords": [
           {
            "line": {
             "colorbar": {
              "outlinewidth": 0,
              "ticks": ""
             }
            },
            "type": "parcoords"
           }
          ],
          "pie": [
           {
            "automargin": true,
            "type": "pie"
           }
          ],
          "scatter": [
           {
            "marker": {
             "colorbar": {
              "outlinewidth": 0,
              "ticks": ""
             }
            },
            "type": "scatter"
           }
          ],
          "scatter3d": [
           {
            "line": {
             "colorbar": {
              "outlinewidth": 0,
              "ticks": ""
             }
            },
            "marker": {
             "colorbar": {
              "outlinewidth": 0,
              "ticks": ""
             }
            },
            "type": "scatter3d"
           }
          ],
          "scattercarpet": [
           {
            "marker": {
             "colorbar": {
              "outlinewidth": 0,
              "ticks": ""
             }
            },
            "type": "scattercarpet"
           }
          ],
          "scattergeo": [
           {
            "marker": {
             "colorbar": {
              "outlinewidth": 0,
              "ticks": ""
             }
            },
            "type": "scattergeo"
           }
          ],
          "scattergl": [
           {
            "marker": {
             "colorbar": {
              "outlinewidth": 0,
              "ticks": ""
             }
            },
            "type": "scattergl"
           }
          ],
          "scattermapbox": [
           {
            "marker": {
             "colorbar": {
              "outlinewidth": 0,
              "ticks": ""
             }
            },
            "type": "scattermapbox"
           }
          ],
          "scatterpolar": [
           {
            "marker": {
             "colorbar": {
              "outlinewidth": 0,
              "ticks": ""
             }
            },
            "type": "scatterpolar"
           }
          ],
          "scatterpolargl": [
           {
            "marker": {
             "colorbar": {
              "outlinewidth": 0,
              "ticks": ""
             }
            },
            "type": "scatterpolargl"
           }
          ],
          "scatterternary": [
           {
            "marker": {
             "colorbar": {
              "outlinewidth": 0,
              "ticks": ""
             }
            },
            "type": "scatterternary"
           }
          ],
          "surface": [
           {
            "colorbar": {
             "outlinewidth": 0,
             "ticks": ""
            },
            "colorscale": [
             [
              0.0,
              "#0d0887"
             ],
             [
              0.1111111111111111,
              "#46039f"
             ],
             [
              0.2222222222222222,
              "#7201a8"
             ],
             [
              0.3333333333333333,
              "#9c179e"
             ],
             [
              0.4444444444444444,
              "#bd3786"
             ],
             [
              0.5555555555555556,
              "#d8576b"
             ],
             [
              0.6666666666666666,
              "#ed7953"
             ],
             [
              0.7777777777777778,
              "#fb9f3a"
             ],
             [
              0.8888888888888888,
              "#fdca26"
             ],
             [
              1.0,
              "#f0f921"
             ]
            ],
            "type": "surface"
           }
          ],
          "table": [
           {
            "cells": {
             "fill": {
              "color": "#EBF0F8"
             },
             "line": {
              "color": "white"
             }
            },
            "header": {
             "fill": {
              "color": "#C8D4E3"
             },
             "line": {
              "color": "white"
             }
            },
            "type": "table"
           }
          ]
         },
         "layout": {
          "annotationdefaults": {
           "arrowcolor": "#2a3f5f",
           "arrowhead": 0,
           "arrowwidth": 1
          },
          "autotypenumbers": "strict",
          "coloraxis": {
           "colorbar": {
            "outlinewidth": 0,
            "ticks": ""
           }
          },
          "colorscale": {
           "diverging": [
            [
             0,
             "#8e0152"
            ],
            [
             0.1,
             "#c51b7d"
            ],
            [
             0.2,
             "#de77ae"
            ],
            [
             0.3,
             "#f1b6da"
            ],
            [
             0.4,
             "#fde0ef"
            ],
            [
             0.5,
             "#f7f7f7"
            ],
            [
             0.6,
             "#e6f5d0"
            ],
            [
             0.7,
             "#b8e186"
            ],
            [
             0.8,
             "#7fbc41"
            ],
            [
             0.9,
             "#4d9221"
            ],
            [
             1,
             "#276419"
            ]
           ],
           "sequential": [
            [
             0.0,
             "#0d0887"
            ],
            [
             0.1111111111111111,
             "#46039f"
            ],
            [
             0.2222222222222222,
             "#7201a8"
            ],
            [
             0.3333333333333333,
             "#9c179e"
            ],
            [
             0.4444444444444444,
             "#bd3786"
            ],
            [
             0.5555555555555556,
             "#d8576b"
            ],
            [
             0.6666666666666666,
             "#ed7953"
            ],
            [
             0.7777777777777778,
             "#fb9f3a"
            ],
            [
             0.8888888888888888,
             "#fdca26"
            ],
            [
             1.0,
             "#f0f921"
            ]
           ],
           "sequentialminus": [
            [
             0.0,
             "#0d0887"
            ],
            [
             0.1111111111111111,
             "#46039f"
            ],
            [
             0.2222222222222222,
             "#7201a8"
            ],
            [
             0.3333333333333333,
             "#9c179e"
            ],
            [
             0.4444444444444444,
             "#bd3786"
            ],
            [
             0.5555555555555556,
             "#d8576b"
            ],
            [
             0.6666666666666666,
             "#ed7953"
            ],
            [
             0.7777777777777778,
             "#fb9f3a"
            ],
            [
             0.8888888888888888,
             "#fdca26"
            ],
            [
             1.0,
             "#f0f921"
            ]
           ]
          },
          "colorway": [
           "#636efa",
           "#EF553B",
           "#00cc96",
           "#ab63fa",
           "#FFA15A",
           "#19d3f3",
           "#FF6692",
           "#B6E880",
           "#FF97FF",
           "#FECB52"
          ],
          "font": {
           "color": "#2a3f5f"
          },
          "geo": {
           "bgcolor": "white",
           "lakecolor": "white",
           "landcolor": "#E5ECF6",
           "showlakes": true,
           "showland": true,
           "subunitcolor": "white"
          },
          "hoverlabel": {
           "align": "left"
          },
          "hovermode": "closest",
          "mapbox": {
           "style": "light"
          },
          "paper_bgcolor": "white",
          "plot_bgcolor": "#E5ECF6",
          "polar": {
           "angularaxis": {
            "gridcolor": "white",
            "linecolor": "white",
            "ticks": ""
           },
           "bgcolor": "#E5ECF6",
           "radialaxis": {
            "gridcolor": "white",
            "linecolor": "white",
            "ticks": ""
           }
          },
          "scene": {
           "xaxis": {
            "backgroundcolor": "#E5ECF6",
            "gridcolor": "white",
            "gridwidth": 2,
            "linecolor": "white",
            "showbackground": true,
            "ticks": "",
            "zerolinecolor": "white"
           },
           "yaxis": {
            "backgroundcolor": "#E5ECF6",
            "gridcolor": "white",
            "gridwidth": 2,
            "linecolor": "white",
            "showbackground": true,
            "ticks": "",
            "zerolinecolor": "white"
           },
           "zaxis": {
            "backgroundcolor": "#E5ECF6",
            "gridcolor": "white",
            "gridwidth": 2,
            "linecolor": "white",
            "showbackground": true,
            "ticks": "",
            "zerolinecolor": "white"
           }
          },
          "shapedefaults": {
           "line": {
            "color": "#2a3f5f"
           }
          },
          "ternary": {
           "aaxis": {
            "gridcolor": "white",
            "linecolor": "white",
            "ticks": ""
           },
           "baxis": {
            "gridcolor": "white",
            "linecolor": "white",
            "ticks": ""
           },
           "bgcolor": "#E5ECF6",
           "caxis": {
            "gridcolor": "white",
            "linecolor": "white",
            "ticks": ""
           }
          },
          "title": {
           "x": 0.05
          },
          "xaxis": {
           "automargin": true,
           "gridcolor": "white",
           "linecolor": "white",
           "ticks": "",
           "title": {
            "standoff": 15
           },
           "zerolinecolor": "white",
           "zerolinewidth": 2
          },
          "yaxis": {
           "automargin": true,
           "gridcolor": "white",
           "linecolor": "white",
           "ticks": "",
           "title": {
            "standoff": 15
           },
           "zerolinecolor": "white",
           "zerolinewidth": 2
          }
         }
        },
        "xaxis": {
         "anchor": "y",
         "domain": [
          0.0,
          1.0
         ],
         "title": {
          "text": "index"
         }
        },
        "yaxis": {
         "anchor": "x",
         "domain": [
          0.0,
          1.0
         ],
         "title": {
          "text": "value"
         }
        },
        "legend": {
         "title": {
          "text": "variable"
         },
         "tracegroupgap": 0
        },
        "title": {
         "text": "Forecast errors"
        }
       },
       "config": {
        "plotlyServerURL": "https://plot.ly"
       }
      },
      "text/html": "<div>                            <div id=\"76da90e7-6b72-484b-bd8b-adcb53ae0db2\" class=\"plotly-graph-div\" style=\"height:525px; width:100%;\"></div>            <script type=\"text/javascript\">                require([\"plotly\"], function(Plotly) {                    window.PLOTLYENV=window.PLOTLYENV || {};                                    if (document.getElementById(\"76da90e7-6b72-484b-bd8b-adcb53ae0db2\")) {                    Plotly.newPlot(                        \"76da90e7-6b72-484b-bd8b-adcb53ae0db2\",                        [{\"hovertemplate\":\"variable=fe_DMS<br>index=%{x}<br>value=%{y}<extra></extra>\",\"legendgroup\":\"fe_DMS\",\"line\":{\"color\":\"#636efa\",\"dash\":\"solid\"},\"marker\":{\"symbol\":\"circle\"},\"mode\":\"lines\",\"name\":\"fe_DMS\",\"orientation\":\"v\",\"showlegend\":true,\"x\":[\"1996-12-31\",\"1997-03-31\",\"1997-06-30\",\"1997-09-30\",\"1997-12-31\",\"1998-03-31\",\"1998-06-30\",\"1998-09-30\",\"1998-12-31\",\"1999-03-31\",\"1999-06-30\",\"1999-09-30\",\"1999-12-31\",\"2000-03-31\",\"2000-06-30\",\"2000-09-30\",\"2000-12-31\",\"2001-03-31\",\"2001-06-30\",\"2001-09-30\",\"2001-12-31\",\"2002-03-31\",\"2002-06-30\",\"2002-09-30\",\"2002-12-31\",\"2003-03-31\",\"2003-06-30\",\"2003-09-30\",\"2003-12-31\",\"2004-03-31\",\"2004-06-30\",\"2004-09-30\",\"2004-12-31\",\"2005-03-31\",\"2005-06-30\",\"2005-09-30\",\"2005-12-31\",\"2006-03-31\",\"2006-06-30\",\"2006-09-30\",\"2006-12-31\",\"2007-03-31\",\"2007-06-30\",\"2007-09-30\",\"2007-12-31\",\"2008-03-31\",\"2008-06-30\",\"2008-09-30\",\"2008-12-31\",\"2009-03-31\",\"2009-06-30\",\"2009-09-30\",\"2009-12-31\",\"2010-03-31\",\"2010-06-30\",\"2010-09-30\",\"2010-12-31\",\"2011-03-31\",\"2011-06-30\",\"2011-09-30\",\"2011-12-31\",\"2012-03-31\",\"2012-06-30\",\"2012-09-30\",\"2012-12-31\",\"2013-03-31\",\"2013-06-30\",\"2013-09-30\",\"2013-12-31\",\"2014-03-31\",\"2014-06-30\",\"2014-09-30\",\"2014-12-31\",\"2015-03-31\",\"2015-06-30\",\"2015-09-30\",\"2015-12-31\",\"2016-03-31\",\"2016-06-30\",\"2016-09-30\",\"2016-12-31\",\"2017-03-31\",\"2017-06-30\",\"2017-09-30\",\"2017-12-31\",\"2018-03-31\",\"2018-06-30\",\"2018-09-30\",\"2018-12-31\",\"2019-03-31\",\"2019-06-30\",\"2019-09-30\",\"2019-12-31\",\"2020-03-31\",\"2020-06-30\",\"2020-09-30\",\"2020-12-31\",\"2021-03-31\",\"2021-06-30\",\"2021-09-30\",\"2021-12-31\"],\"xaxis\":\"x\",\"y\":[-0.00021180929808120585,0.0009787887099290404,0.0008076138412022871,0.0069388089757418114,0.005708043154835946,-0.0030546781458793693,-0.0017913868731316562,-0.010208574617982552,-0.013183443058532945,-0.0133723859961348,-0.01216749087713656,-0.00910623036901595,-0.0035773854572760666,0.0054299820859058465,0.003992079360566975,0.009655621836640121,0.006719437422326918,0.01030115647768201,0.015793882814344434,0.006294604996348124,0.0016383830693942059,0.003275713888039905,-0.006886886313368007,-0.005056742539407938,-0.0041082052642232025,-0.01200703956709151,-0.01398837938993272,-0.012999049879884234,-0.0045083802766648085,-0.004569231551474512,0.002219560841756313,0.003126248227776046,0.005864730212744335,0.0028905967063723448,0.0028059801495316783,0.010279850521764916,0.006340434511200782,0.0025557681890242268,0.005248829481431877,-0.005004637576041332,-0.0014021572298981433,0.004100672506713615,0.0030551141151517747,0.008507989301471647,0.012815940628183559,0.014951199795371933,0.015312654382470085,0.012962778731567802,-0.003752417581272101,-0.010379504671469093,-0.014189766488950435,-0.0178673527188924,-0.009364911845767633,-0.007488539268674245,-0.009387132813621392,-0.005633527902421255,-0.0006232734989742063,0.0062182238232319775,0.008048383297489775,0.010065547898116645,0.005198370891680959,0.005064927785977336,0.0013922995917781122,0.004011318562604949,0.004763165397937863,0.004222296016888727,0.0051288301248360035,0.0011955600739114967,-0.0014931216633680133,-0.005379137268111345,-0.005379137268111567,-0.007310135250897076,-0.013205916054064543,-0.010186202118581778,-0.017972941475386275,-0.016345885088193294,-0.01353541047763224,-0.013543307683704656,-0.013543307683704656,-0.009810620491195913,0.0004664630261647616,-0.0005142039802659738,0.004022171942883401,0.0025495369567027637,0.001452413552218007,0.0005027570763820044,0.006006421300883219,0.007728798177498247,0.0021553958004487395,0.0012346595069540889,0.010303070073965886,0.005159271384948205,0.0016086986478407537,-0.000699329623861128,-0.006577943644772405,-0.02811693906581041,-0.027716506283379044,0.0012226957589358094,0.005204206922432692,0.035589200351511974,0.03788898669512146],\"yaxis\":\"y\",\"type\":\"scatter\"},{\"hovertemplate\":\"variable=y<br>index=%{x}<br>value=%{y}<extra></extra>\",\"legendgroup\":\"y\",\"line\":{\"color\":\"#EF553B\",\"dash\":\"solid\"},\"marker\":{\"symbol\":\"circle\"},\"mode\":\"lines\",\"name\":\"y\",\"orientation\":\"v\",\"showlegend\":true,\"x\":[\"1996-12-31\",\"1997-03-31\",\"1997-06-30\",\"1997-09-30\",\"1997-12-31\",\"1998-03-31\",\"1998-06-30\",\"1998-09-30\",\"1998-12-31\",\"1999-03-31\",\"1999-06-30\",\"1999-09-30\",\"1999-12-31\",\"2000-03-31\",\"2000-06-30\",\"2000-09-30\",\"2000-12-31\",\"2001-03-31\",\"2001-06-30\",\"2001-09-30\",\"2001-12-31\",\"2002-03-31\",\"2002-06-30\",\"2002-09-30\",\"2002-12-31\",\"2003-03-31\",\"2003-06-30\",\"2003-09-30\",\"2003-12-31\",\"2004-03-31\",\"2004-06-30\",\"2004-09-30\",\"2004-12-31\",\"2005-03-31\",\"2005-06-30\",\"2005-09-30\",\"2005-12-31\",\"2006-03-31\",\"2006-06-30\",\"2006-09-30\",\"2006-12-31\",\"2007-03-31\",\"2007-06-30\",\"2007-09-30\",\"2007-12-31\",\"2008-03-31\",\"2008-06-30\",\"2008-09-30\",\"2008-12-31\",\"2009-03-31\",\"2009-06-30\",\"2009-09-30\",\"2009-12-31\",\"2010-03-31\",\"2010-06-30\",\"2010-09-30\",\"2010-12-31\",\"2011-03-31\",\"2011-06-30\",\"2011-09-30\",\"2011-12-31\",\"2012-03-31\",\"2012-06-30\",\"2012-09-30\",\"2012-12-31\",\"2013-03-31\",\"2013-06-30\",\"2013-09-30\",\"2013-12-31\",\"2014-03-31\",\"2014-06-30\",\"2014-09-30\",\"2014-12-31\",\"2015-03-31\",\"2015-06-30\",\"2015-09-30\",\"2015-12-31\",\"2016-03-31\",\"2016-06-30\",\"2016-09-30\",\"2016-12-31\",\"2017-03-31\",\"2017-06-30\",\"2017-09-30\",\"2017-12-31\",\"2018-03-31\",\"2018-06-30\",\"2018-09-30\",\"2018-12-31\",\"2019-03-31\",\"2019-06-30\",\"2019-09-30\",\"2019-12-31\",\"2020-03-31\",\"2020-06-30\",\"2020-09-30\",\"2020-12-31\",\"2021-03-31\",\"2021-06-30\",\"2021-09-30\",\"2021-12-31\"],\"xaxis\":\"x\",\"y\":[0.014869074386345327,0.016059672394355573,0.01588849752562882,0.022019692660168344,0.020788926839262478,0.012026205538547163,0.013289496811294876,0.0048723090664439805,0.0018974406258935872,0.0017084976882917324,0.0029133928072899717,0.005974653315410583,0.011503498227150466,0.019164243495174205,0.019072963044993507,0.024736505521066654,0.02180032110675345,0.025382040162108543,0.030874766498770967,0.021375488680774657,0.01671926675382074,0.018356597572466438,0.008193997371058526,0.010024141145018595,0.01097267842020333,0.003073844117335023,0.0010925042944938124,0.002081833804542299,0.010572503407761724,0.01051165213295202,0.017300444526182845,0.01820713191220258,0.020945613897170867,0.017971480390798877,0.01788686383395821,0.02536073420619145,0.021421318195627315,0.01763665187345076,0.02032971316585841,0.0100762461083852,0.01367872645452839,0.019181556191140148,0.018135997799578307,0.02358887298589818,0.02789682431261009,0.030032083479798466,0.0303951382845149,0.027697951021582456,0.011330066320772714,0.004702979230575721,0.0008927174130943794,-0.0027848688168475855,0.009359838371510776,0.011236210948604164,0.009337617403657017,0.013091222314857154,0.01669130992056722,0.02129910750765851,0.023129266981916308,0.025852542073918183,0.020985365067482498,0.020851921961778874,0.01717929376757965,0.019798312738406487,0.0205501595737394,0.020009290192690266,0.020915824300637542,0.018510143493452924,0.014293872512433525,0.010407856907690194,0.010407856907689972,0.008476858924904462,0.00187496763036199,0.0028104159633244308,0.0028104159633244308,3.289201727874058e-06,0.0028137638122889275,0.0028058666062165116,0.0028058666062165116,0.006538553798725255,0.01681563731608593,0.015834970309655194,0.015834970309655194,0.017630420641129296,0.01653329723664454,0.015583640760808537,0.02108730498530975,0.02280968186192478,0.017236279484875272,0.01631554319138062,0.02538395375839242,0.020946265560749744,0.015342960057109112,0.014381554060565405,0.008502940039654128,-0.0018808045193660083,-0.002829075319705998,0.01707164177796594,0.023492592888244568,0.04065450773512036,0.05308625961397251],\"yaxis\":\"y\",\"type\":\"scatter\"},{\"hovertemplate\":\"variable=y_DMS<br>index=%{x}<br>value=%{y}<extra></extra>\",\"legendgroup\":\"y_DMS\",\"line\":{\"color\":\"#00cc96\",\"dash\":\"solid\"},\"marker\":{\"symbol\":\"circle\"},\"mode\":\"lines\",\"name\":\"y_DMS\",\"orientation\":\"v\",\"showlegend\":true,\"x\":[\"1996-12-31\",\"1997-03-31\",\"1997-06-30\",\"1997-09-30\",\"1997-12-31\",\"1998-03-31\",\"1998-06-30\",\"1998-09-30\",\"1998-12-31\",\"1999-03-31\",\"1999-06-30\",\"1999-09-30\",\"1999-12-31\",\"2000-03-31\",\"2000-06-30\",\"2000-09-30\",\"2000-12-31\",\"2001-03-31\",\"2001-06-30\",\"2001-09-30\",\"2001-12-31\",\"2002-03-31\",\"2002-06-30\",\"2002-09-30\",\"2002-12-31\",\"2003-03-31\",\"2003-06-30\",\"2003-09-30\",\"2003-12-31\",\"2004-03-31\",\"2004-06-30\",\"2004-09-30\",\"2004-12-31\",\"2005-03-31\",\"2005-06-30\",\"2005-09-30\",\"2005-12-31\",\"2006-03-31\",\"2006-06-30\",\"2006-09-30\",\"2006-12-31\",\"2007-03-31\",\"2007-06-30\",\"2007-09-30\",\"2007-12-31\",\"2008-03-31\",\"2008-06-30\",\"2008-09-30\",\"2008-12-31\",\"2009-03-31\",\"2009-06-30\",\"2009-09-30\",\"2009-12-31\",\"2010-03-31\",\"2010-06-30\",\"2010-09-30\",\"2010-12-31\",\"2011-03-31\",\"2011-06-30\",\"2011-09-30\",\"2011-12-31\",\"2012-03-31\",\"2012-06-30\",\"2012-09-30\",\"2012-12-31\",\"2013-03-31\",\"2013-06-30\",\"2013-09-30\",\"2013-12-31\",\"2014-03-31\",\"2014-06-30\",\"2014-09-30\",\"2014-12-31\",\"2015-03-31\",\"2015-06-30\",\"2015-09-30\",\"2015-12-31\",\"2016-03-31\",\"2016-06-30\",\"2016-09-30\",\"2016-12-31\",\"2017-03-31\",\"2017-06-30\",\"2017-09-30\",\"2017-12-31\",\"2018-03-31\",\"2018-06-30\",\"2018-09-30\",\"2018-12-31\",\"2019-03-31\",\"2019-06-30\",\"2019-09-30\",\"2019-12-31\",\"2020-03-31\",\"2020-06-30\",\"2020-09-30\",\"2020-12-31\",\"2021-03-31\",\"2021-06-30\",\"2021-09-30\",\"2021-12-31\"],\"xaxis\":\"x\",\"y\":[0.015080883684426533,0.015080883684426533,0.015080883684426533,0.015080883684426533,0.015080883684426533,0.015080883684426533,0.015080883684426533,0.015080883684426533,0.015080883684426533,0.015080883684426533,0.015080883684426533,0.015080883684426533,0.015080883684426533,0.013734261409268358,0.015080883684426533,0.015080883684426533,0.015080883684426533,0.015080883684426533,0.015080883684426533,0.015080883684426533,0.015080883684426533,0.015080883684426533,0.015080883684426533,0.015080883684426533,0.015080883684426533,0.015080883684426533,0.015080883684426533,0.015080883684426533,0.015080883684426533,0.015080883684426533,0.015080883684426533,0.015080883684426533,0.015080883684426533,0.015080883684426533,0.015080883684426533,0.015080883684426533,0.015080883684426533,0.015080883684426533,0.015080883684426533,0.015080883684426533,0.015080883684426533,0.015080883684426533,0.015080883684426533,0.015080883684426533,0.015080883684426533,0.015080883684426533,0.015082483902044815,0.014735172290014654,0.015082483902044815,0.015082483902044815,0.015082483902044815,0.015082483902044815,0.01872475021727841,0.01872475021727841,0.01872475021727841,0.01872475021727841,0.017314583419541427,0.015080883684426533,0.015080883684426533,0.01578699417580154,0.01578699417580154,0.01578699417580154,0.01578699417580154,0.01578699417580154,0.01578699417580154,0.01578699417580154,0.01578699417580154,0.017314583419541427,0.01578699417580154,0.01578699417580154,0.01578699417580154,0.01578699417580154,0.015080883684426533,0.012996618081906209,0.020783357438710705,0.016349174289921168,0.016349174289921168,0.016349174289921168,0.016349174289921168,0.016349174289921168,0.016349174289921168,0.016349174289921168,0.011812798366771793,0.015080883684426533,0.015080883684426533,0.015080883684426533,0.015080883684426533,0.015080883684426533,0.015080883684426533,0.015080883684426533,0.015080883684426533,0.01578699417580154,0.013734261409268358,0.015080883684426533,0.015080883684426533,0.0262361345464444,0.024887430963673046,0.01584894601903013,0.018288385965811876,0.005065307383608388,0.01519727291885105],\"yaxis\":\"y\",\"type\":\"scatter\"}],                        {\"template\":{\"data\":{\"bar\":[{\"error_x\":{\"color\":\"#2a3f5f\"},\"error_y\":{\"color\":\"#2a3f5f\"},\"marker\":{\"line\":{\"color\":\"#E5ECF6\",\"width\":0.5},\"pattern\":{\"fillmode\":\"overlay\",\"size\":10,\"solidity\":0.2}},\"type\":\"bar\"}],\"barpolar\":[{\"marker\":{\"line\":{\"color\":\"#E5ECF6\",\"width\":0.5},\"pattern\":{\"fillmode\":\"overlay\",\"size\":10,\"solidity\":0.2}},\"type\":\"barpolar\"}],\"carpet\":[{\"aaxis\":{\"endlinecolor\":\"#2a3f5f\",\"gridcolor\":\"white\",\"linecolor\":\"white\",\"minorgridcolor\":\"white\",\"startlinecolor\":\"#2a3f5f\"},\"baxis\":{\"endlinecolor\":\"#2a3f5f\",\"gridcolor\":\"white\",\"linecolor\":\"white\",\"minorgridcolor\":\"white\",\"startlinecolor\":\"#2a3f5f\"},\"type\":\"carpet\"}],\"choropleth\":[{\"colorbar\":{\"outlinewidth\":0,\"ticks\":\"\"},\"type\":\"choropleth\"}],\"contour\":[{\"colorbar\":{\"outlinewidth\":0,\"ticks\":\"\"},\"colorscale\":[[0.0,\"#0d0887\"],[0.1111111111111111,\"#46039f\"],[0.2222222222222222,\"#7201a8\"],[0.3333333333333333,\"#9c179e\"],[0.4444444444444444,\"#bd3786\"],[0.5555555555555556,\"#d8576b\"],[0.6666666666666666,\"#ed7953\"],[0.7777777777777778,\"#fb9f3a\"],[0.8888888888888888,\"#fdca26\"],[1.0,\"#f0f921\"]],\"type\":\"contour\"}],\"contourcarpet\":[{\"colorbar\":{\"outlinewidth\":0,\"ticks\":\"\"},\"type\":\"contourcarpet\"}],\"heatmap\":[{\"colorbar\":{\"outlinewidth\":0,\"ticks\":\"\"},\"colorscale\":[[0.0,\"#0d0887\"],[0.1111111111111111,\"#46039f\"],[0.2222222222222222,\"#7201a8\"],[0.3333333333333333,\"#9c179e\"],[0.4444444444444444,\"#bd3786\"],[0.5555555555555556,\"#d8576b\"],[0.6666666666666666,\"#ed7953\"],[0.7777777777777778,\"#fb9f3a\"],[0.8888888888888888,\"#fdca26\"],[1.0,\"#f0f921\"]],\"type\":\"heatmap\"}],\"heatmapgl\":[{\"colorbar\":{\"outlinewidth\":0,\"ticks\":\"\"},\"colorscale\":[[0.0,\"#0d0887\"],[0.1111111111111111,\"#46039f\"],[0.2222222222222222,\"#7201a8\"],[0.3333333333333333,\"#9c179e\"],[0.4444444444444444,\"#bd3786\"],[0.5555555555555556,\"#d8576b\"],[0.6666666666666666,\"#ed7953\"],[0.7777777777777778,\"#fb9f3a\"],[0.8888888888888888,\"#fdca26\"],[1.0,\"#f0f921\"]],\"type\":\"heatmapgl\"}],\"histogram\":[{\"marker\":{\"pattern\":{\"fillmode\":\"overlay\",\"size\":10,\"solidity\":0.2}},\"type\":\"histogram\"}],\"histogram2d\":[{\"colorbar\":{\"outlinewidth\":0,\"ticks\":\"\"},\"colorscale\":[[0.0,\"#0d0887\"],[0.1111111111111111,\"#46039f\"],[0.2222222222222222,\"#7201a8\"],[0.3333333333333333,\"#9c179e\"],[0.4444444444444444,\"#bd3786\"],[0.5555555555555556,\"#d8576b\"],[0.6666666666666666,\"#ed7953\"],[0.7777777777777778,\"#fb9f3a\"],[0.8888888888888888,\"#fdca26\"],[1.0,\"#f0f921\"]],\"type\":\"histogram2d\"}],\"histogram2dcontour\":[{\"colorbar\":{\"outlinewidth\":0,\"ticks\":\"\"},\"colorscale\":[[0.0,\"#0d0887\"],[0.1111111111111111,\"#46039f\"],[0.2222222222222222,\"#7201a8\"],[0.3333333333333333,\"#9c179e\"],[0.4444444444444444,\"#bd3786\"],[0.5555555555555556,\"#d8576b\"],[0.6666666666666666,\"#ed7953\"],[0.7777777777777778,\"#fb9f3a\"],[0.8888888888888888,\"#fdca26\"],[1.0,\"#f0f921\"]],\"type\":\"histogram2dcontour\"}],\"mesh3d\":[{\"colorbar\":{\"outlinewidth\":0,\"ticks\":\"\"},\"type\":\"mesh3d\"}],\"parcoords\":[{\"line\":{\"colorbar\":{\"outlinewidth\":0,\"ticks\":\"\"}},\"type\":\"parcoords\"}],\"pie\":[{\"automargin\":true,\"type\":\"pie\"}],\"scatter\":[{\"marker\":{\"colorbar\":{\"outlinewidth\":0,\"ticks\":\"\"}},\"type\":\"scatter\"}],\"scatter3d\":[{\"line\":{\"colorbar\":{\"outlinewidth\":0,\"ticks\":\"\"}},\"marker\":{\"colorbar\":{\"outlinewidth\":0,\"ticks\":\"\"}},\"type\":\"scatter3d\"}],\"scattercarpet\":[{\"marker\":{\"colorbar\":{\"outlinewidth\":0,\"ticks\":\"\"}},\"type\":\"scattercarpet\"}],\"scattergeo\":[{\"marker\":{\"colorbar\":{\"outlinewidth\":0,\"ticks\":\"\"}},\"type\":\"scattergeo\"}],\"scattergl\":[{\"marker\":{\"colorbar\":{\"outlinewidth\":0,\"ticks\":\"\"}},\"type\":\"scattergl\"}],\"scattermapbox\":[{\"marker\":{\"colorbar\":{\"outlinewidth\":0,\"ticks\":\"\"}},\"type\":\"scattermapbox\"}],\"scatterpolar\":[{\"marker\":{\"colorbar\":{\"outlinewidth\":0,\"ticks\":\"\"}},\"type\":\"scatterpolar\"}],\"scatterpolargl\":[{\"marker\":{\"colorbar\":{\"outlinewidth\":0,\"ticks\":\"\"}},\"type\":\"scatterpolargl\"}],\"scatterternary\":[{\"marker\":{\"colorbar\":{\"outlinewidth\":0,\"ticks\":\"\"}},\"type\":\"scatterternary\"}],\"surface\":[{\"colorbar\":{\"outlinewidth\":0,\"ticks\":\"\"},\"colorscale\":[[0.0,\"#0d0887\"],[0.1111111111111111,\"#46039f\"],[0.2222222222222222,\"#7201a8\"],[0.3333333333333333,\"#9c179e\"],[0.4444444444444444,\"#bd3786\"],[0.5555555555555556,\"#d8576b\"],[0.6666666666666666,\"#ed7953\"],[0.7777777777777778,\"#fb9f3a\"],[0.8888888888888888,\"#fdca26\"],[1.0,\"#f0f921\"]],\"type\":\"surface\"}],\"table\":[{\"cells\":{\"fill\":{\"color\":\"#EBF0F8\"},\"line\":{\"color\":\"white\"}},\"header\":{\"fill\":{\"color\":\"#C8D4E3\"},\"line\":{\"color\":\"white\"}},\"type\":\"table\"}]},\"layout\":{\"annotationdefaults\":{\"arrowcolor\":\"#2a3f5f\",\"arrowhead\":0,\"arrowwidth\":1},\"autotypenumbers\":\"strict\",\"coloraxis\":{\"colorbar\":{\"outlinewidth\":0,\"ticks\":\"\"}},\"colorscale\":{\"diverging\":[[0,\"#8e0152\"],[0.1,\"#c51b7d\"],[0.2,\"#de77ae\"],[0.3,\"#f1b6da\"],[0.4,\"#fde0ef\"],[0.5,\"#f7f7f7\"],[0.6,\"#e6f5d0\"],[0.7,\"#b8e186\"],[0.8,\"#7fbc41\"],[0.9,\"#4d9221\"],[1,\"#276419\"]],\"sequential\":[[0.0,\"#0d0887\"],[0.1111111111111111,\"#46039f\"],[0.2222222222222222,\"#7201a8\"],[0.3333333333333333,\"#9c179e\"],[0.4444444444444444,\"#bd3786\"],[0.5555555555555556,\"#d8576b\"],[0.6666666666666666,\"#ed7953\"],[0.7777777777777778,\"#fb9f3a\"],[0.8888888888888888,\"#fdca26\"],[1.0,\"#f0f921\"]],\"sequentialminus\":[[0.0,\"#0d0887\"],[0.1111111111111111,\"#46039f\"],[0.2222222222222222,\"#7201a8\"],[0.3333333333333333,\"#9c179e\"],[0.4444444444444444,\"#bd3786\"],[0.5555555555555556,\"#d8576b\"],[0.6666666666666666,\"#ed7953\"],[0.7777777777777778,\"#fb9f3a\"],[0.8888888888888888,\"#fdca26\"],[1.0,\"#f0f921\"]]},\"colorway\":[\"#636efa\",\"#EF553B\",\"#00cc96\",\"#ab63fa\",\"#FFA15A\",\"#19d3f3\",\"#FF6692\",\"#B6E880\",\"#FF97FF\",\"#FECB52\"],\"font\":{\"color\":\"#2a3f5f\"},\"geo\":{\"bgcolor\":\"white\",\"lakecolor\":\"white\",\"landcolor\":\"#E5ECF6\",\"showlakes\":true,\"showland\":true,\"subunitcolor\":\"white\"},\"hoverlabel\":{\"align\":\"left\"},\"hovermode\":\"closest\",\"mapbox\":{\"style\":\"light\"},\"paper_bgcolor\":\"white\",\"plot_bgcolor\":\"#E5ECF6\",\"polar\":{\"angularaxis\":{\"gridcolor\":\"white\",\"linecolor\":\"white\",\"ticks\":\"\"},\"bgcolor\":\"#E5ECF6\",\"radialaxis\":{\"gridcolor\":\"white\",\"linecolor\":\"white\",\"ticks\":\"\"}},\"scene\":{\"xaxis\":{\"backgroundcolor\":\"#E5ECF6\",\"gridcolor\":\"white\",\"gridwidth\":2,\"linecolor\":\"white\",\"showbackground\":true,\"ticks\":\"\",\"zerolinecolor\":\"white\"},\"yaxis\":{\"backgroundcolor\":\"#E5ECF6\",\"gridcolor\":\"white\",\"gridwidth\":2,\"linecolor\":\"white\",\"showbackground\":true,\"ticks\":\"\",\"zerolinecolor\":\"white\"},\"zaxis\":{\"backgroundcolor\":\"#E5ECF6\",\"gridcolor\":\"white\",\"gridwidth\":2,\"linecolor\":\"white\",\"showbackground\":true,\"ticks\":\"\",\"zerolinecolor\":\"white\"}},\"shapedefaults\":{\"line\":{\"color\":\"#2a3f5f\"}},\"ternary\":{\"aaxis\":{\"gridcolor\":\"white\",\"linecolor\":\"white\",\"ticks\":\"\"},\"baxis\":{\"gridcolor\":\"white\",\"linecolor\":\"white\",\"ticks\":\"\"},\"bgcolor\":\"#E5ECF6\",\"caxis\":{\"gridcolor\":\"white\",\"linecolor\":\"white\",\"ticks\":\"\"}},\"title\":{\"x\":0.05},\"xaxis\":{\"automargin\":true,\"gridcolor\":\"white\",\"linecolor\":\"white\",\"ticks\":\"\",\"title\":{\"standoff\":15},\"zerolinecolor\":\"white\",\"zerolinewidth\":2},\"yaxis\":{\"automargin\":true,\"gridcolor\":\"white\",\"linecolor\":\"white\",\"ticks\":\"\",\"title\":{\"standoff\":15},\"zerolinecolor\":\"white\",\"zerolinewidth\":2}}},\"xaxis\":{\"anchor\":\"y\",\"domain\":[0.0,1.0],\"title\":{\"text\":\"index\"}},\"yaxis\":{\"anchor\":\"x\",\"domain\":[0.0,1.0],\"title\":{\"text\":\"value\"}},\"legend\":{\"title\":{\"text\":\"variable\"},\"tracegroupgap\":0},\"title\":{\"text\":\"Forecast errors\"}},                        {\"responsive\": true}                    ).then(function(){\n                            \nvar gd = document.getElementById('76da90e7-6b72-484b-bd8b-adcb53ae0db2');\nvar x = new MutationObserver(function (mutations, observer) {{\n        var display = window.getComputedStyle(gd).display;\n        if (!display || display === 'none') {{\n            console.log([gd, 'removed!']);\n            Plotly.purge(gd);\n            observer.disconnect();\n        }}\n}});\n\n// Listen for the removal of the full notebook cells\nvar notebookContainer = gd.closest('#notebook-container');\nif (notebookContainer) {{\n    x.observe(notebookContainer, {childList: true});\n}}\n\n// Listen for the clearing of the current output cell\nvar outputEl = gd.closest('.output');\nif (outputEl) {{\n    x.observe(outputEl, {childList: true});\n}}\n\n                        })                };                });            </script>        </div>"
     },
     "metadata": {},
     "output_type": "display_data"
    }
   ],
   "source": [
    "dma.forecast_statistics(unit='percent', plot_fe=False, plot_y_fe=True, plot_y_fe_DMS=True)"
   ],
   "metadata": {
    "collapsed": false,
    "pycharm": {
     "name": "#%%\n"
    }
   }
  },
  {
   "cell_type": "code",
   "execution_count": 57,
   "outputs": [
    {
     "data": {
      "application/vnd.plotly.v1+json": {
       "data": [
        {
         "hovertemplate": "x=%{x}<br>y=%{y}<extra></extra>",
         "legendgroup": "",
         "line": {
          "color": "#636efa",
          "dash": "solid"
         },
         "marker": {
          "symbol": "circle"
         },
         "mode": "lines",
         "name": "",
         "orientation": "v",
         "showlegend": false,
         "x": [
          "1996-12-31",
          "1997-03-31",
          "1997-06-30",
          "1997-09-30",
          "1997-12-31",
          "1998-03-31",
          "1998-06-30",
          "1998-09-30",
          "1998-12-31",
          "1999-03-31",
          "1999-06-30",
          "1999-09-30",
          "1999-12-31",
          "2000-03-31",
          "2000-06-30",
          "2000-09-30",
          "2000-12-31",
          "2001-03-31",
          "2001-06-30",
          "2001-09-30",
          "2001-12-31",
          "2002-03-31",
          "2002-06-30",
          "2002-09-30",
          "2002-12-31",
          "2003-03-31",
          "2003-06-30",
          "2003-09-30",
          "2003-12-31",
          "2004-03-31",
          "2004-06-30",
          "2004-09-30",
          "2004-12-31",
          "2005-03-31",
          "2005-06-30",
          "2005-09-30",
          "2005-12-31",
          "2006-03-31",
          "2006-06-30",
          "2006-09-30",
          "2006-12-31",
          "2007-03-31",
          "2007-06-30",
          "2007-09-30",
          "2007-12-31",
          "2008-03-31",
          "2008-06-30",
          "2008-09-30",
          "2008-12-31",
          "2009-03-31",
          "2009-06-30",
          "2009-09-30",
          "2009-12-31",
          "2010-03-31",
          "2010-06-30",
          "2010-09-30",
          "2010-12-31",
          "2011-03-31",
          "2011-06-30",
          "2011-09-30",
          "2011-12-31",
          "2012-03-31",
          "2012-06-30",
          "2012-09-30",
          "2012-12-31",
          "2013-03-31",
          "2013-06-30",
          "2013-09-30",
          "2013-12-31",
          "2014-03-31",
          "2014-06-30",
          "2014-09-30",
          "2014-12-31",
          "2015-03-31",
          "2015-06-30",
          "2015-09-30",
          "2015-12-31",
          "2016-03-31",
          "2016-06-30",
          "2016-09-30",
          "2016-12-31",
          "2017-03-31",
          "2017-06-30",
          "2017-09-30",
          "2017-12-31",
          "2018-03-31",
          "2018-06-30",
          "2018-09-30",
          "2018-12-31",
          "2019-03-31",
          "2019-06-30",
          "2019-09-30",
          "2019-12-31",
          "2020-03-31",
          "2020-06-30",
          "2020-09-30",
          "2020-12-31",
          "2021-03-31",
          "2021-06-30",
          "2021-09-30",
          "2021-12-31"
         ],
         "xaxis": "x",
         "y": [
          6.066525291688594,
          6.252578810064284,
          6.417789792905706,
          6.530164545155229,
          6.631972943687995,
          6.7702827728920845,
          6.987879250369405,
          7.169556526837583,
          7.418903532228729,
          7.676858172780927,
          7.892476478436732,
          8.071937480837558,
          8.21328577657137,
          8.39725431473311,
          8.474112473165253,
          8.46785525631606,
          8.461918187991351,
          8.522719787330427,
          8.626141237112243,
          8.720268492031735,
          8.76553113794339,
          8.822206848889525,
          8.905989013792937,
          9.05499210686207,
          9.132140371535662,
          9.221915141616122,
          9.336602638317196,
          9.49003862727068,
          9.639349135902203,
          9.71721670714085,
          9.787533664008922,
          9.87141254349283,
          9.870827342221364,
          9.866461263680446,
          9.898349731236598,
          9.927201900025782,
          9.988879974300161,
          10.017042372667992,
          10.02851559976672,
          10.012551299598305,
          10.043556158050778,
          10.015703004181903,
          10.003078905368978,
          10.002341032391097,
          10.064470157082457,
          10.138084521281831,
          10.247395608005515,
          10.304989751448037,
          10.369597686242436,
          10.400981229655944,
          10.394185073748687,
          10.491449380060441,
          10.644187316466205,
          10.58571296144937,
          10.485052380581996,
          10.444281759285527,
          10.379227574892198,
          10.297740983569689,
          10.310394885032661,
          10.34205849591817,
          10.39728737060526,
          10.380479576760411,
          10.378193603073417,
          10.374714223921604,
          10.37677818291622,
          10.41926484859769,
          10.470414626822059,
          10.500670348616882,
          10.525164952742236,
          10.53463857614723,
          10.520434067326239,
          10.496643294773067,
          10.540637449218751,
          10.651635549954019,
          10.768431970555973,
          10.853220148497023,
          10.96928003981322,
          10.985189417674274,
          11.029128703177816,
          11.062743104894508,
          11.057850723233065,
          11.034799179592108,
          10.877172620114585,
          10.81123208938667,
          10.779021505423225,
          10.78054666815478,
          10.786973968646182,
          10.858867881158812,
          10.926625798989289,
          10.924222369732881,
          10.907490875549897,
          10.928420028791468,
          10.90409068738338,
          10.904018190010145,
          10.904787984435488,
          11.077430100210707,
          11.334269725667088,
          11.546126945484097,
          11.395442991289462,
          11.321819979086323,
          11.659570683281938
         ],
         "yaxis": "y",
         "type": "scatter"
        }
       ],
       "layout": {
        "template": {
         "data": {
          "bar": [
           {
            "error_x": {
             "color": "#2a3f5f"
            },
            "error_y": {
             "color": "#2a3f5f"
            },
            "marker": {
             "line": {
              "color": "#E5ECF6",
              "width": 0.5
             },
             "pattern": {
              "fillmode": "overlay",
              "size": 10,
              "solidity": 0.2
             }
            },
            "type": "bar"
           }
          ],
          "barpolar": [
           {
            "marker": {
             "line": {
              "color": "#E5ECF6",
              "width": 0.5
             },
             "pattern": {
              "fillmode": "overlay",
              "size": 10,
              "solidity": 0.2
             }
            },
            "type": "barpolar"
           }
          ],
          "carpet": [
           {
            "aaxis": {
             "endlinecolor": "#2a3f5f",
             "gridcolor": "white",
             "linecolor": "white",
             "minorgridcolor": "white",
             "startlinecolor": "#2a3f5f"
            },
            "baxis": {
             "endlinecolor": "#2a3f5f",
             "gridcolor": "white",
             "linecolor": "white",
             "minorgridcolor": "white",
             "startlinecolor": "#2a3f5f"
            },
            "type": "carpet"
           }
          ],
          "choropleth": [
           {
            "colorbar": {
             "outlinewidth": 0,
             "ticks": ""
            },
            "type": "choropleth"
           }
          ],
          "contour": [
           {
            "colorbar": {
             "outlinewidth": 0,
             "ticks": ""
            },
            "colorscale": [
             [
              0.0,
              "#0d0887"
             ],
             [
              0.1111111111111111,
              "#46039f"
             ],
             [
              0.2222222222222222,
              "#7201a8"
             ],
             [
              0.3333333333333333,
              "#9c179e"
             ],
             [
              0.4444444444444444,
              "#bd3786"
             ],
             [
              0.5555555555555556,
              "#d8576b"
             ],
             [
              0.6666666666666666,
              "#ed7953"
             ],
             [
              0.7777777777777778,
              "#fb9f3a"
             ],
             [
              0.8888888888888888,
              "#fdca26"
             ],
             [
              1.0,
              "#f0f921"
             ]
            ],
            "type": "contour"
           }
          ],
          "contourcarpet": [
           {
            "colorbar": {
             "outlinewidth": 0,
             "ticks": ""
            },
            "type": "contourcarpet"
           }
          ],
          "heatmap": [
           {
            "colorbar": {
             "outlinewidth": 0,
             "ticks": ""
            },
            "colorscale": [
             [
              0.0,
              "#0d0887"
             ],
             [
              0.1111111111111111,
              "#46039f"
             ],
             [
              0.2222222222222222,
              "#7201a8"
             ],
             [
              0.3333333333333333,
              "#9c179e"
             ],
             [
              0.4444444444444444,
              "#bd3786"
             ],
             [
              0.5555555555555556,
              "#d8576b"
             ],
             [
              0.6666666666666666,
              "#ed7953"
             ],
             [
              0.7777777777777778,
              "#fb9f3a"
             ],
             [
              0.8888888888888888,
              "#fdca26"
             ],
             [
              1.0,
              "#f0f921"
             ]
            ],
            "type": "heatmap"
           }
          ],
          "heatmapgl": [
           {
            "colorbar": {
             "outlinewidth": 0,
             "ticks": ""
            },
            "colorscale": [
             [
              0.0,
              "#0d0887"
             ],
             [
              0.1111111111111111,
              "#46039f"
             ],
             [
              0.2222222222222222,
              "#7201a8"
             ],
             [
              0.3333333333333333,
              "#9c179e"
             ],
             [
              0.4444444444444444,
              "#bd3786"
             ],
             [
              0.5555555555555556,
              "#d8576b"
             ],
             [
              0.6666666666666666,
              "#ed7953"
             ],
             [
              0.7777777777777778,
              "#fb9f3a"
             ],
             [
              0.8888888888888888,
              "#fdca26"
             ],
             [
              1.0,
              "#f0f921"
             ]
            ],
            "type": "heatmapgl"
           }
          ],
          "histogram": [
           {
            "marker": {
             "pattern": {
              "fillmode": "overlay",
              "size": 10,
              "solidity": 0.2
             }
            },
            "type": "histogram"
           }
          ],
          "histogram2d": [
           {
            "colorbar": {
             "outlinewidth": 0,
             "ticks": ""
            },
            "colorscale": [
             [
              0.0,
              "#0d0887"
             ],
             [
              0.1111111111111111,
              "#46039f"
             ],
             [
              0.2222222222222222,
              "#7201a8"
             ],
             [
              0.3333333333333333,
              "#9c179e"
             ],
             [
              0.4444444444444444,
              "#bd3786"
             ],
             [
              0.5555555555555556,
              "#d8576b"
             ],
             [
              0.6666666666666666,
              "#ed7953"
             ],
             [
              0.7777777777777778,
              "#fb9f3a"
             ],
             [
              0.8888888888888888,
              "#fdca26"
             ],
             [
              1.0,
              "#f0f921"
             ]
            ],
            "type": "histogram2d"
           }
          ],
          "histogram2dcontour": [
           {
            "colorbar": {
             "outlinewidth": 0,
             "ticks": ""
            },
            "colorscale": [
             [
              0.0,
              "#0d0887"
             ],
             [
              0.1111111111111111,
              "#46039f"
             ],
             [
              0.2222222222222222,
              "#7201a8"
             ],
             [
              0.3333333333333333,
              "#9c179e"
             ],
             [
              0.4444444444444444,
              "#bd3786"
             ],
             [
              0.5555555555555556,
              "#d8576b"
             ],
             [
              0.6666666666666666,
              "#ed7953"
             ],
             [
              0.7777777777777778,
              "#fb9f3a"
             ],
             [
              0.8888888888888888,
              "#fdca26"
             ],
             [
              1.0,
              "#f0f921"
             ]
            ],
            "type": "histogram2dcontour"
           }
          ],
          "mesh3d": [
           {
            "colorbar": {
             "outlinewidth": 0,
             "ticks": ""
            },
            "type": "mesh3d"
           }
          ],
          "parcoords": [
           {
            "line": {
             "colorbar": {
              "outlinewidth": 0,
              "ticks": ""
             }
            },
            "type": "parcoords"
           }
          ],
          "pie": [
           {
            "automargin": true,
            "type": "pie"
           }
          ],
          "scatter": [
           {
            "marker": {
             "colorbar": {
              "outlinewidth": 0,
              "ticks": ""
             }
            },
            "type": "scatter"
           }
          ],
          "scatter3d": [
           {
            "line": {
             "colorbar": {
              "outlinewidth": 0,
              "ticks": ""
             }
            },
            "marker": {
             "colorbar": {
              "outlinewidth": 0,
              "ticks": ""
             }
            },
            "type": "scatter3d"
           }
          ],
          "scattercarpet": [
           {
            "marker": {
             "colorbar": {
              "outlinewidth": 0,
              "ticks": ""
             }
            },
            "type": "scattercarpet"
           }
          ],
          "scattergeo": [
           {
            "marker": {
             "colorbar": {
              "outlinewidth": 0,
              "ticks": ""
             }
            },
            "type": "scattergeo"
           }
          ],
          "scattergl": [
           {
            "marker": {
             "colorbar": {
              "outlinewidth": 0,
              "ticks": ""
             }
            },
            "type": "scattergl"
           }
          ],
          "scattermapbox": [
           {
            "marker": {
             "colorbar": {
              "outlinewidth": 0,
              "ticks": ""
             }
            },
            "type": "scattermapbox"
           }
          ],
          "scatterpolar": [
           {
            "marker": {
             "colorbar": {
              "outlinewidth": 0,
              "ticks": ""
             }
            },
            "type": "scatterpolar"
           }
          ],
          "scatterpolargl": [
           {
            "marker": {
             "colorbar": {
              "outlinewidth": 0,
              "ticks": ""
             }
            },
            "type": "scatterpolargl"
           }
          ],
          "scatterternary": [
           {
            "marker": {
             "colorbar": {
              "outlinewidth": 0,
              "ticks": ""
             }
            },
            "type": "scatterternary"
           }
          ],
          "surface": [
           {
            "colorbar": {
             "outlinewidth": 0,
             "ticks": ""
            },
            "colorscale": [
             [
              0.0,
              "#0d0887"
             ],
             [
              0.1111111111111111,
              "#46039f"
             ],
             [
              0.2222222222222222,
              "#7201a8"
             ],
             [
              0.3333333333333333,
              "#9c179e"
             ],
             [
              0.4444444444444444,
              "#bd3786"
             ],
             [
              0.5555555555555556,
              "#d8576b"
             ],
             [
              0.6666666666666666,
              "#ed7953"
             ],
             [
              0.7777777777777778,
              "#fb9f3a"
             ],
             [
              0.8888888888888888,
              "#fdca26"
             ],
             [
              1.0,
              "#f0f921"
             ]
            ],
            "type": "surface"
           }
          ],
          "table": [
           {
            "cells": {
             "fill": {
              "color": "#EBF0F8"
             },
             "line": {
              "color": "white"
             }
            },
            "header": {
             "fill": {
              "color": "#C8D4E3"
             },
             "line": {
              "color": "white"
             }
            },
            "type": "table"
           }
          ]
         },
         "layout": {
          "annotationdefaults": {
           "arrowcolor": "#2a3f5f",
           "arrowhead": 0,
           "arrowwidth": 1
          },
          "autotypenumbers": "strict",
          "coloraxis": {
           "colorbar": {
            "outlinewidth": 0,
            "ticks": ""
           }
          },
          "colorscale": {
           "diverging": [
            [
             0,
             "#8e0152"
            ],
            [
             0.1,
             "#c51b7d"
            ],
            [
             0.2,
             "#de77ae"
            ],
            [
             0.3,
             "#f1b6da"
            ],
            [
             0.4,
             "#fde0ef"
            ],
            [
             0.5,
             "#f7f7f7"
            ],
            [
             0.6,
             "#e6f5d0"
            ],
            [
             0.7,
             "#b8e186"
            ],
            [
             0.8,
             "#7fbc41"
            ],
            [
             0.9,
             "#4d9221"
            ],
            [
             1,
             "#276419"
            ]
           ],
           "sequential": [
            [
             0.0,
             "#0d0887"
            ],
            [
             0.1111111111111111,
             "#46039f"
            ],
            [
             0.2222222222222222,
             "#7201a8"
            ],
            [
             0.3333333333333333,
             "#9c179e"
            ],
            [
             0.4444444444444444,
             "#bd3786"
            ],
            [
             0.5555555555555556,
             "#d8576b"
            ],
            [
             0.6666666666666666,
             "#ed7953"
            ],
            [
             0.7777777777777778,
             "#fb9f3a"
            ],
            [
             0.8888888888888888,
             "#fdca26"
            ],
            [
             1.0,
             "#f0f921"
            ]
           ],
           "sequentialminus": [
            [
             0.0,
             "#0d0887"
            ],
            [
             0.1111111111111111,
             "#46039f"
            ],
            [
             0.2222222222222222,
             "#7201a8"
            ],
            [
             0.3333333333333333,
             "#9c179e"
            ],
            [
             0.4444444444444444,
             "#bd3786"
            ],
            [
             0.5555555555555556,
             "#d8576b"
            ],
            [
             0.6666666666666666,
             "#ed7953"
            ],
            [
             0.7777777777777778,
             "#fb9f3a"
            ],
            [
             0.8888888888888888,
             "#fdca26"
            ],
            [
             1.0,
             "#f0f921"
            ]
           ]
          },
          "colorway": [
           "#636efa",
           "#EF553B",
           "#00cc96",
           "#ab63fa",
           "#FFA15A",
           "#19d3f3",
           "#FF6692",
           "#B6E880",
           "#FF97FF",
           "#FECB52"
          ],
          "font": {
           "color": "#2a3f5f"
          },
          "geo": {
           "bgcolor": "white",
           "lakecolor": "white",
           "landcolor": "#E5ECF6",
           "showlakes": true,
           "showland": true,
           "subunitcolor": "white"
          },
          "hoverlabel": {
           "align": "left"
          },
          "hovermode": "closest",
          "mapbox": {
           "style": "light"
          },
          "paper_bgcolor": "white",
          "plot_bgcolor": "#E5ECF6",
          "polar": {
           "angularaxis": {
            "gridcolor": "white",
            "linecolor": "white",
            "ticks": ""
           },
           "bgcolor": "#E5ECF6",
           "radialaxis": {
            "gridcolor": "white",
            "linecolor": "white",
            "ticks": ""
           }
          },
          "scene": {
           "xaxis": {
            "backgroundcolor": "#E5ECF6",
            "gridcolor": "white",
            "gridwidth": 2,
            "linecolor": "white",
            "showbackground": true,
            "ticks": "",
            "zerolinecolor": "white"
           },
           "yaxis": {
            "backgroundcolor": "#E5ECF6",
            "gridcolor": "white",
            "gridwidth": 2,
            "linecolor": "white",
            "showbackground": true,
            "ticks": "",
            "zerolinecolor": "white"
           },
           "zaxis": {
            "backgroundcolor": "#E5ECF6",
            "gridcolor": "white",
            "gridwidth": 2,
            "linecolor": "white",
            "showbackground": true,
            "ticks": "",
            "zerolinecolor": "white"
           }
          },
          "shapedefaults": {
           "line": {
            "color": "#2a3f5f"
           }
          },
          "ternary": {
           "aaxis": {
            "gridcolor": "white",
            "linecolor": "white",
            "ticks": ""
           },
           "baxis": {
            "gridcolor": "white",
            "linecolor": "white",
            "ticks": ""
           },
           "bgcolor": "#E5ECF6",
           "caxis": {
            "gridcolor": "white",
            "linecolor": "white",
            "ticks": ""
           }
          },
          "title": {
           "x": 0.05
          },
          "xaxis": {
           "automargin": true,
           "gridcolor": "white",
           "linecolor": "white",
           "ticks": "",
           "title": {
            "standoff": 15
           },
           "zerolinecolor": "white",
           "zerolinewidth": 2
          },
          "yaxis": {
           "automargin": true,
           "gridcolor": "white",
           "linecolor": "white",
           "ticks": "",
           "title": {
            "standoff": 15
           },
           "zerolinecolor": "white",
           "zerolinewidth": 2
          }
         }
        },
        "xaxis": {
         "anchor": "y",
         "domain": [
          0.0,
          1.0
         ],
         "title": {}
        },
        "yaxis": {
         "anchor": "x",
         "domain": [
          0.0,
          1.0
         ],
         "title": {}
        },
        "legend": {
         "tracegroupgap": 0
        },
        "title": {
         "text": "Average number of predictors used in DMA"
        }
       },
       "config": {
        "plotlyServerURL": "https://plot.ly"
       }
      },
      "text/html": "<div>                            <div id=\"2978279b-7707-4bc3-983f-f39687209adb\" class=\"plotly-graph-div\" style=\"height:525px; width:100%;\"></div>            <script type=\"text/javascript\">                require([\"plotly\"], function(Plotly) {                    window.PLOTLYENV=window.PLOTLYENV || {};                                    if (document.getElementById(\"2978279b-7707-4bc3-983f-f39687209adb\")) {                    Plotly.newPlot(                        \"2978279b-7707-4bc3-983f-f39687209adb\",                        [{\"hovertemplate\":\"x=%{x}<br>y=%{y}<extra></extra>\",\"legendgroup\":\"\",\"line\":{\"color\":\"#636efa\",\"dash\":\"solid\"},\"marker\":{\"symbol\":\"circle\"},\"mode\":\"lines\",\"name\":\"\",\"orientation\":\"v\",\"showlegend\":false,\"x\":[\"1996-12-31\",\"1997-03-31\",\"1997-06-30\",\"1997-09-30\",\"1997-12-31\",\"1998-03-31\",\"1998-06-30\",\"1998-09-30\",\"1998-12-31\",\"1999-03-31\",\"1999-06-30\",\"1999-09-30\",\"1999-12-31\",\"2000-03-31\",\"2000-06-30\",\"2000-09-30\",\"2000-12-31\",\"2001-03-31\",\"2001-06-30\",\"2001-09-30\",\"2001-12-31\",\"2002-03-31\",\"2002-06-30\",\"2002-09-30\",\"2002-12-31\",\"2003-03-31\",\"2003-06-30\",\"2003-09-30\",\"2003-12-31\",\"2004-03-31\",\"2004-06-30\",\"2004-09-30\",\"2004-12-31\",\"2005-03-31\",\"2005-06-30\",\"2005-09-30\",\"2005-12-31\",\"2006-03-31\",\"2006-06-30\",\"2006-09-30\",\"2006-12-31\",\"2007-03-31\",\"2007-06-30\",\"2007-09-30\",\"2007-12-31\",\"2008-03-31\",\"2008-06-30\",\"2008-09-30\",\"2008-12-31\",\"2009-03-31\",\"2009-06-30\",\"2009-09-30\",\"2009-12-31\",\"2010-03-31\",\"2010-06-30\",\"2010-09-30\",\"2010-12-31\",\"2011-03-31\",\"2011-06-30\",\"2011-09-30\",\"2011-12-31\",\"2012-03-31\",\"2012-06-30\",\"2012-09-30\",\"2012-12-31\",\"2013-03-31\",\"2013-06-30\",\"2013-09-30\",\"2013-12-31\",\"2014-03-31\",\"2014-06-30\",\"2014-09-30\",\"2014-12-31\",\"2015-03-31\",\"2015-06-30\",\"2015-09-30\",\"2015-12-31\",\"2016-03-31\",\"2016-06-30\",\"2016-09-30\",\"2016-12-31\",\"2017-03-31\",\"2017-06-30\",\"2017-09-30\",\"2017-12-31\",\"2018-03-31\",\"2018-06-30\",\"2018-09-30\",\"2018-12-31\",\"2019-03-31\",\"2019-06-30\",\"2019-09-30\",\"2019-12-31\",\"2020-03-31\",\"2020-06-30\",\"2020-09-30\",\"2020-12-31\",\"2021-03-31\",\"2021-06-30\",\"2021-09-30\",\"2021-12-31\"],\"xaxis\":\"x\",\"y\":[6.066525291688594,6.252578810064284,6.417789792905706,6.530164545155229,6.631972943687995,6.7702827728920845,6.987879250369405,7.169556526837583,7.418903532228729,7.676858172780927,7.892476478436732,8.071937480837558,8.21328577657137,8.39725431473311,8.474112473165253,8.46785525631606,8.461918187991351,8.522719787330427,8.626141237112243,8.720268492031735,8.76553113794339,8.822206848889525,8.905989013792937,9.05499210686207,9.132140371535662,9.221915141616122,9.336602638317196,9.49003862727068,9.639349135902203,9.71721670714085,9.787533664008922,9.87141254349283,9.870827342221364,9.866461263680446,9.898349731236598,9.927201900025782,9.988879974300161,10.017042372667992,10.02851559976672,10.012551299598305,10.043556158050778,10.015703004181903,10.003078905368978,10.002341032391097,10.064470157082457,10.138084521281831,10.247395608005515,10.304989751448037,10.369597686242436,10.400981229655944,10.394185073748687,10.491449380060441,10.644187316466205,10.58571296144937,10.485052380581996,10.444281759285527,10.379227574892198,10.297740983569689,10.310394885032661,10.34205849591817,10.39728737060526,10.380479576760411,10.378193603073417,10.374714223921604,10.37677818291622,10.41926484859769,10.470414626822059,10.500670348616882,10.525164952742236,10.53463857614723,10.520434067326239,10.496643294773067,10.540637449218751,10.651635549954019,10.768431970555973,10.853220148497023,10.96928003981322,10.985189417674274,11.029128703177816,11.062743104894508,11.057850723233065,11.034799179592108,10.877172620114585,10.81123208938667,10.779021505423225,10.78054666815478,10.786973968646182,10.858867881158812,10.926625798989289,10.924222369732881,10.907490875549897,10.928420028791468,10.90409068738338,10.904018190010145,10.904787984435488,11.077430100210707,11.334269725667088,11.546126945484097,11.395442991289462,11.321819979086323,11.659570683281938],\"yaxis\":\"y\",\"type\":\"scatter\"}],                        {\"template\":{\"data\":{\"bar\":[{\"error_x\":{\"color\":\"#2a3f5f\"},\"error_y\":{\"color\":\"#2a3f5f\"},\"marker\":{\"line\":{\"color\":\"#E5ECF6\",\"width\":0.5},\"pattern\":{\"fillmode\":\"overlay\",\"size\":10,\"solidity\":0.2}},\"type\":\"bar\"}],\"barpolar\":[{\"marker\":{\"line\":{\"color\":\"#E5ECF6\",\"width\":0.5},\"pattern\":{\"fillmode\":\"overlay\",\"size\":10,\"solidity\":0.2}},\"type\":\"barpolar\"}],\"carpet\":[{\"aaxis\":{\"endlinecolor\":\"#2a3f5f\",\"gridcolor\":\"white\",\"linecolor\":\"white\",\"minorgridcolor\":\"white\",\"startlinecolor\":\"#2a3f5f\"},\"baxis\":{\"endlinecolor\":\"#2a3f5f\",\"gridcolor\":\"white\",\"linecolor\":\"white\",\"minorgridcolor\":\"white\",\"startlinecolor\":\"#2a3f5f\"},\"type\":\"carpet\"}],\"choropleth\":[{\"colorbar\":{\"outlinewidth\":0,\"ticks\":\"\"},\"type\":\"choropleth\"}],\"contour\":[{\"colorbar\":{\"outlinewidth\":0,\"ticks\":\"\"},\"colorscale\":[[0.0,\"#0d0887\"],[0.1111111111111111,\"#46039f\"],[0.2222222222222222,\"#7201a8\"],[0.3333333333333333,\"#9c179e\"],[0.4444444444444444,\"#bd3786\"],[0.5555555555555556,\"#d8576b\"],[0.6666666666666666,\"#ed7953\"],[0.7777777777777778,\"#fb9f3a\"],[0.8888888888888888,\"#fdca26\"],[1.0,\"#f0f921\"]],\"type\":\"contour\"}],\"contourcarpet\":[{\"colorbar\":{\"outlinewidth\":0,\"ticks\":\"\"},\"type\":\"contourcarpet\"}],\"heatmap\":[{\"colorbar\":{\"outlinewidth\":0,\"ticks\":\"\"},\"colorscale\":[[0.0,\"#0d0887\"],[0.1111111111111111,\"#46039f\"],[0.2222222222222222,\"#7201a8\"],[0.3333333333333333,\"#9c179e\"],[0.4444444444444444,\"#bd3786\"],[0.5555555555555556,\"#d8576b\"],[0.6666666666666666,\"#ed7953\"],[0.7777777777777778,\"#fb9f3a\"],[0.8888888888888888,\"#fdca26\"],[1.0,\"#f0f921\"]],\"type\":\"heatmap\"}],\"heatmapgl\":[{\"colorbar\":{\"outlinewidth\":0,\"ticks\":\"\"},\"colorscale\":[[0.0,\"#0d0887\"],[0.1111111111111111,\"#46039f\"],[0.2222222222222222,\"#7201a8\"],[0.3333333333333333,\"#9c179e\"],[0.4444444444444444,\"#bd3786\"],[0.5555555555555556,\"#d8576b\"],[0.6666666666666666,\"#ed7953\"],[0.7777777777777778,\"#fb9f3a\"],[0.8888888888888888,\"#fdca26\"],[1.0,\"#f0f921\"]],\"type\":\"heatmapgl\"}],\"histogram\":[{\"marker\":{\"pattern\":{\"fillmode\":\"overlay\",\"size\":10,\"solidity\":0.2}},\"type\":\"histogram\"}],\"histogram2d\":[{\"colorbar\":{\"outlinewidth\":0,\"ticks\":\"\"},\"colorscale\":[[0.0,\"#0d0887\"],[0.1111111111111111,\"#46039f\"],[0.2222222222222222,\"#7201a8\"],[0.3333333333333333,\"#9c179e\"],[0.4444444444444444,\"#bd3786\"],[0.5555555555555556,\"#d8576b\"],[0.6666666666666666,\"#ed7953\"],[0.7777777777777778,\"#fb9f3a\"],[0.8888888888888888,\"#fdca26\"],[1.0,\"#f0f921\"]],\"type\":\"histogram2d\"}],\"histogram2dcontour\":[{\"colorbar\":{\"outlinewidth\":0,\"ticks\":\"\"},\"colorscale\":[[0.0,\"#0d0887\"],[0.1111111111111111,\"#46039f\"],[0.2222222222222222,\"#7201a8\"],[0.3333333333333333,\"#9c179e\"],[0.4444444444444444,\"#bd3786\"],[0.5555555555555556,\"#d8576b\"],[0.6666666666666666,\"#ed7953\"],[0.7777777777777778,\"#fb9f3a\"],[0.8888888888888888,\"#fdca26\"],[1.0,\"#f0f921\"]],\"type\":\"histogram2dcontour\"}],\"mesh3d\":[{\"colorbar\":{\"outlinewidth\":0,\"ticks\":\"\"},\"type\":\"mesh3d\"}],\"parcoords\":[{\"line\":{\"colorbar\":{\"outlinewidth\":0,\"ticks\":\"\"}},\"type\":\"parcoords\"}],\"pie\":[{\"automargin\":true,\"type\":\"pie\"}],\"scatter\":[{\"marker\":{\"colorbar\":{\"outlinewidth\":0,\"ticks\":\"\"}},\"type\":\"scatter\"}],\"scatter3d\":[{\"line\":{\"colorbar\":{\"outlinewidth\":0,\"ticks\":\"\"}},\"marker\":{\"colorbar\":{\"outlinewidth\":0,\"ticks\":\"\"}},\"type\":\"scatter3d\"}],\"scattercarpet\":[{\"marker\":{\"colorbar\":{\"outlinewidth\":0,\"ticks\":\"\"}},\"type\":\"scattercarpet\"}],\"scattergeo\":[{\"marker\":{\"colorbar\":{\"outlinewidth\":0,\"ticks\":\"\"}},\"type\":\"scattergeo\"}],\"scattergl\":[{\"marker\":{\"colorbar\":{\"outlinewidth\":0,\"ticks\":\"\"}},\"type\":\"scattergl\"}],\"scattermapbox\":[{\"marker\":{\"colorbar\":{\"outlinewidth\":0,\"ticks\":\"\"}},\"type\":\"scattermapbox\"}],\"scatterpolar\":[{\"marker\":{\"colorbar\":{\"outlinewidth\":0,\"ticks\":\"\"}},\"type\":\"scatterpolar\"}],\"scatterpolargl\":[{\"marker\":{\"colorbar\":{\"outlinewidth\":0,\"ticks\":\"\"}},\"type\":\"scatterpolargl\"}],\"scatterternary\":[{\"marker\":{\"colorbar\":{\"outlinewidth\":0,\"ticks\":\"\"}},\"type\":\"scatterternary\"}],\"surface\":[{\"colorbar\":{\"outlinewidth\":0,\"ticks\":\"\"},\"colorscale\":[[0.0,\"#0d0887\"],[0.1111111111111111,\"#46039f\"],[0.2222222222222222,\"#7201a8\"],[0.3333333333333333,\"#9c179e\"],[0.4444444444444444,\"#bd3786\"],[0.5555555555555556,\"#d8576b\"],[0.6666666666666666,\"#ed7953\"],[0.7777777777777778,\"#fb9f3a\"],[0.8888888888888888,\"#fdca26\"],[1.0,\"#f0f921\"]],\"type\":\"surface\"}],\"table\":[{\"cells\":{\"fill\":{\"color\":\"#EBF0F8\"},\"line\":{\"color\":\"white\"}},\"header\":{\"fill\":{\"color\":\"#C8D4E3\"},\"line\":{\"color\":\"white\"}},\"type\":\"table\"}]},\"layout\":{\"annotationdefaults\":{\"arrowcolor\":\"#2a3f5f\",\"arrowhead\":0,\"arrowwidth\":1},\"autotypenumbers\":\"strict\",\"coloraxis\":{\"colorbar\":{\"outlinewidth\":0,\"ticks\":\"\"}},\"colorscale\":{\"diverging\":[[0,\"#8e0152\"],[0.1,\"#c51b7d\"],[0.2,\"#de77ae\"],[0.3,\"#f1b6da\"],[0.4,\"#fde0ef\"],[0.5,\"#f7f7f7\"],[0.6,\"#e6f5d0\"],[0.7,\"#b8e186\"],[0.8,\"#7fbc41\"],[0.9,\"#4d9221\"],[1,\"#276419\"]],\"sequential\":[[0.0,\"#0d0887\"],[0.1111111111111111,\"#46039f\"],[0.2222222222222222,\"#7201a8\"],[0.3333333333333333,\"#9c179e\"],[0.4444444444444444,\"#bd3786\"],[0.5555555555555556,\"#d8576b\"],[0.6666666666666666,\"#ed7953\"],[0.7777777777777778,\"#fb9f3a\"],[0.8888888888888888,\"#fdca26\"],[1.0,\"#f0f921\"]],\"sequentialminus\":[[0.0,\"#0d0887\"],[0.1111111111111111,\"#46039f\"],[0.2222222222222222,\"#7201a8\"],[0.3333333333333333,\"#9c179e\"],[0.4444444444444444,\"#bd3786\"],[0.5555555555555556,\"#d8576b\"],[0.6666666666666666,\"#ed7953\"],[0.7777777777777778,\"#fb9f3a\"],[0.8888888888888888,\"#fdca26\"],[1.0,\"#f0f921\"]]},\"colorway\":[\"#636efa\",\"#EF553B\",\"#00cc96\",\"#ab63fa\",\"#FFA15A\",\"#19d3f3\",\"#FF6692\",\"#B6E880\",\"#FF97FF\",\"#FECB52\"],\"font\":{\"color\":\"#2a3f5f\"},\"geo\":{\"bgcolor\":\"white\",\"lakecolor\":\"white\",\"landcolor\":\"#E5ECF6\",\"showlakes\":true,\"showland\":true,\"subunitcolor\":\"white\"},\"hoverlabel\":{\"align\":\"left\"},\"hovermode\":\"closest\",\"mapbox\":{\"style\":\"light\"},\"paper_bgcolor\":\"white\",\"plot_bgcolor\":\"#E5ECF6\",\"polar\":{\"angularaxis\":{\"gridcolor\":\"white\",\"linecolor\":\"white\",\"ticks\":\"\"},\"bgcolor\":\"#E5ECF6\",\"radialaxis\":{\"gridcolor\":\"white\",\"linecolor\":\"white\",\"ticks\":\"\"}},\"scene\":{\"xaxis\":{\"backgroundcolor\":\"#E5ECF6\",\"gridcolor\":\"white\",\"gridwidth\":2,\"linecolor\":\"white\",\"showbackground\":true,\"ticks\":\"\",\"zerolinecolor\":\"white\"},\"yaxis\":{\"backgroundcolor\":\"#E5ECF6\",\"gridcolor\":\"white\",\"gridwidth\":2,\"linecolor\":\"white\",\"showbackground\":true,\"ticks\":\"\",\"zerolinecolor\":\"white\"},\"zaxis\":{\"backgroundcolor\":\"#E5ECF6\",\"gridcolor\":\"white\",\"gridwidth\":2,\"linecolor\":\"white\",\"showbackground\":true,\"ticks\":\"\",\"zerolinecolor\":\"white\"}},\"shapedefaults\":{\"line\":{\"color\":\"#2a3f5f\"}},\"ternary\":{\"aaxis\":{\"gridcolor\":\"white\",\"linecolor\":\"white\",\"ticks\":\"\"},\"baxis\":{\"gridcolor\":\"white\",\"linecolor\":\"white\",\"ticks\":\"\"},\"bgcolor\":\"#E5ECF6\",\"caxis\":{\"gridcolor\":\"white\",\"linecolor\":\"white\",\"ticks\":\"\"}},\"title\":{\"x\":0.05},\"xaxis\":{\"automargin\":true,\"gridcolor\":\"white\",\"linecolor\":\"white\",\"ticks\":\"\",\"title\":{\"standoff\":15},\"zerolinecolor\":\"white\",\"zerolinewidth\":2},\"yaxis\":{\"automargin\":true,\"gridcolor\":\"white\",\"linecolor\":\"white\",\"ticks\":\"\",\"title\":{\"standoff\":15},\"zerolinecolor\":\"white\",\"zerolinewidth\":2}}},\"xaxis\":{\"anchor\":\"y\",\"domain\":[0.0,1.0],\"title\":{}},\"yaxis\":{\"anchor\":\"x\",\"domain\":[0.0,1.0],\"title\":{}},\"legend\":{\"tracegroupgap\":0},\"title\":{\"text\":\"Average number of predictors used in DMA\"}},                        {\"responsive\": true}                    ).then(function(){\n                            \nvar gd = document.getElementById('2978279b-7707-4bc3-983f-f39687209adb');\nvar x = new MutationObserver(function (mutations, observer) {{\n        var display = window.getComputedStyle(gd).display;\n        if (!display || display === 'none') {{\n            console.log([gd, 'removed!']);\n            Plotly.purge(gd);\n            observer.disconnect();\n        }}\n}});\n\n// Listen for the removal of the full notebook cells\nvar notebookContainer = gd.closest('#notebook-container');\nif (notebookContainer) {{\n    x.observe(notebookContainer, {childList: true});\n}}\n\n// Listen for the clearing of the current output cell\nvar outputEl = gd.closest('.output');\nif (outputEl) {{\n    x.observe(outputEl, {childList: true});\n}}\n\n                        })                };                });            </script>        </div>"
     },
     "metadata": {},
     "output_type": "display_data"
    }
   ],
   "source": [
    "dma.calc_E_size(out='plot')"
   ],
   "metadata": {
    "collapsed": false,
    "pycharm": {
     "name": "#%%\n"
    }
   }
  },
  {
   "cell_type": "code",
   "execution_count": 56,
   "outputs": [
    {
     "data": {
      "text/plain": "            intercept       CPI   CPI_t-1   CPI_t-2  Factor_0  Factor_1  \\\n1992-09-30          1  0.017066  0.038694  0.053325 -2.462712 -1.002638   \n1992-12-31          1  0.022676  0.017066  0.038694 -2.458235 -1.113425   \n1993-03-31          1  0.104876  0.022676  0.017066 -2.673165 -1.094410   \n1993-06-30          1  0.026929  0.104876  0.022676 -2.201735 -0.064266   \n1993-09-30          1  0.021613  0.026929  0.104876 -1.984462  0.385335   \n...               ...       ...       ...       ...       ...       ...   \n2020-12-31          1 -0.010073 -0.023971  0.034673  0.020260  1.925531   \n2021-03-31          1  0.067885 -0.010073 -0.023971  0.101655  2.044935   \n2021-06-30          1  0.060145  0.067885 -0.010073  0.735872  1.250376   \n2021-09-30          1  0.042699  0.060145  0.067885  0.762292 -0.094079   \n2021-12-31          1  0.037591  0.042699  0.060145  0.979946  0.290227   \n\n            Factor_2  Factor_3  Factor_4  Factor_0_lag1  Factor_1_lag1  \\\n1992-09-30 -0.687091  0.060443  0.746405      -2.311502      -0.758880   \n1992-12-31  0.810002 -0.781752 -0.406643      -2.462712      -1.002638   \n1993-03-31 -0.123217 -0.948512  1.150798      -2.458235      -1.113425   \n1993-06-30 -0.116003  0.129251  0.184679      -2.673165      -1.094410   \n1993-09-30  0.292233 -0.049718  0.062571      -2.201735      -0.064266   \n...              ...       ...       ...            ...            ...   \n2020-12-31  0.437192 -0.805446  0.433042       0.308289       1.464910   \n2021-03-31 -0.329430 -1.383907  1.370767       0.020260       1.925531   \n2021-06-30  0.079453  0.004009 -0.370191       0.101655       2.044935   \n2021-09-30 -0.655773 -0.334434  0.316848       0.735872       1.250376   \n2021-12-31  0.273913 -1.027090  3.899498       0.762292      -0.094079   \n\n            Factor_2_lag1  Factor_3_lag1  Factor_4_lag1  Factor_0_lag2  \\\n1992-09-30       0.055634      -0.172105      -0.303989      -1.954214   \n1992-12-31      -0.687091       0.060443       0.746405      -2.311502   \n1993-03-31       0.810002      -0.781752      -0.406643      -2.462712   \n1993-06-30      -0.123217      -0.948512       1.150798      -2.458235   \n1993-09-30      -0.116003       0.129251       0.184679      -2.673165   \n...                   ...            ...            ...            ...   \n2020-12-31      -0.457219       5.641957      -1.086001      -0.348249   \n2021-03-31       0.437192      -0.805446       0.433042       0.308289   \n2021-06-30      -0.329430      -1.383907       1.370767       0.020260   \n2021-09-30       0.079453       0.004009      -0.370191       0.101655   \n2021-12-31      -0.655773      -0.334434       0.316848       0.735872   \n\n            Factor_1_lag2  Factor_2_lag2  Factor_3_lag2  Factor_4_lag2  \n1992-09-30      -0.671133       1.713170       0.825333       0.010532  \n1992-12-31      -0.758880       0.055634      -0.172105      -0.303989  \n1993-03-31      -1.002638      -0.687091       0.060443       0.746405  \n1993-06-30      -1.113425       0.810002      -0.781752      -0.406643  \n1993-09-30      -1.094410      -0.123217      -0.948512       1.150798  \n...                   ...            ...            ...            ...  \n2020-12-31       0.584099      -1.973304      -6.321717      -1.803933  \n2021-03-31       1.464910      -0.457219       5.641957      -1.086001  \n2021-06-30       1.925531       0.437192      -0.805446       0.433042  \n2021-09-30       2.044935      -0.329430      -1.383907       1.370767  \n2021-12-31       1.250376       0.079453       0.004009      -0.370191  \n\n[118 rows x 19 columns]",
      "text/html": "<div>\n<style scoped>\n    .dataframe tbody tr th:only-of-type {\n        vertical-align: middle;\n    }\n\n    .dataframe tbody tr th {\n        vertical-align: top;\n    }\n\n    .dataframe thead th {\n        text-align: right;\n    }\n</style>\n<table border=\"1\" class=\"dataframe\">\n  <thead>\n    <tr style=\"text-align: right;\">\n      <th></th>\n      <th>intercept</th>\n      <th>CPI</th>\n      <th>CPI_t-1</th>\n      <th>CPI_t-2</th>\n      <th>Factor_0</th>\n      <th>Factor_1</th>\n      <th>Factor_2</th>\n      <th>Factor_3</th>\n      <th>Factor_4</th>\n      <th>Factor_0_lag1</th>\n      <th>Factor_1_lag1</th>\n      <th>Factor_2_lag1</th>\n      <th>Factor_3_lag1</th>\n      <th>Factor_4_lag1</th>\n      <th>Factor_0_lag2</th>\n      <th>Factor_1_lag2</th>\n      <th>Factor_2_lag2</th>\n      <th>Factor_3_lag2</th>\n      <th>Factor_4_lag2</th>\n    </tr>\n  </thead>\n  <tbody>\n    <tr>\n      <th>1992-09-30</th>\n      <td>1</td>\n      <td>0.017066</td>\n      <td>0.038694</td>\n      <td>0.053325</td>\n      <td>-2.462712</td>\n      <td>-1.002638</td>\n      <td>-0.687091</td>\n      <td>0.060443</td>\n      <td>0.746405</td>\n      <td>-2.311502</td>\n      <td>-0.758880</td>\n      <td>0.055634</td>\n      <td>-0.172105</td>\n      <td>-0.303989</td>\n      <td>-1.954214</td>\n      <td>-0.671133</td>\n      <td>1.713170</td>\n      <td>0.825333</td>\n      <td>0.010532</td>\n    </tr>\n    <tr>\n      <th>1992-12-31</th>\n      <td>1</td>\n      <td>0.022676</td>\n      <td>0.017066</td>\n      <td>0.038694</td>\n      <td>-2.458235</td>\n      <td>-1.113425</td>\n      <td>0.810002</td>\n      <td>-0.781752</td>\n      <td>-0.406643</td>\n      <td>-2.462712</td>\n      <td>-1.002638</td>\n      <td>-0.687091</td>\n      <td>0.060443</td>\n      <td>0.746405</td>\n      <td>-2.311502</td>\n      <td>-0.758880</td>\n      <td>0.055634</td>\n      <td>-0.172105</td>\n      <td>-0.303989</td>\n    </tr>\n    <tr>\n      <th>1993-03-31</th>\n      <td>1</td>\n      <td>0.104876</td>\n      <td>0.022676</td>\n      <td>0.017066</td>\n      <td>-2.673165</td>\n      <td>-1.094410</td>\n      <td>-0.123217</td>\n      <td>-0.948512</td>\n      <td>1.150798</td>\n      <td>-2.458235</td>\n      <td>-1.113425</td>\n      <td>0.810002</td>\n      <td>-0.781752</td>\n      <td>-0.406643</td>\n      <td>-2.462712</td>\n      <td>-1.002638</td>\n      <td>-0.687091</td>\n      <td>0.060443</td>\n      <td>0.746405</td>\n    </tr>\n    <tr>\n      <th>1993-06-30</th>\n      <td>1</td>\n      <td>0.026929</td>\n      <td>0.104876</td>\n      <td>0.022676</td>\n      <td>-2.201735</td>\n      <td>-0.064266</td>\n      <td>-0.116003</td>\n      <td>0.129251</td>\n      <td>0.184679</td>\n      <td>-2.673165</td>\n      <td>-1.094410</td>\n      <td>-0.123217</td>\n      <td>-0.948512</td>\n      <td>1.150798</td>\n      <td>-2.458235</td>\n      <td>-1.113425</td>\n      <td>0.810002</td>\n      <td>-0.781752</td>\n      <td>-0.406643</td>\n    </tr>\n    <tr>\n      <th>1993-09-30</th>\n      <td>1</td>\n      <td>0.021613</td>\n      <td>0.026929</td>\n      <td>0.104876</td>\n      <td>-1.984462</td>\n      <td>0.385335</td>\n      <td>0.292233</td>\n      <td>-0.049718</td>\n      <td>0.062571</td>\n      <td>-2.201735</td>\n      <td>-0.064266</td>\n      <td>-0.116003</td>\n      <td>0.129251</td>\n      <td>0.184679</td>\n      <td>-2.673165</td>\n      <td>-1.094410</td>\n      <td>-0.123217</td>\n      <td>-0.948512</td>\n      <td>1.150798</td>\n    </tr>\n    <tr>\n      <th>...</th>\n      <td>...</td>\n      <td>...</td>\n      <td>...</td>\n      <td>...</td>\n      <td>...</td>\n      <td>...</td>\n      <td>...</td>\n      <td>...</td>\n      <td>...</td>\n      <td>...</td>\n      <td>...</td>\n      <td>...</td>\n      <td>...</td>\n      <td>...</td>\n      <td>...</td>\n      <td>...</td>\n      <td>...</td>\n      <td>...</td>\n      <td>...</td>\n    </tr>\n    <tr>\n      <th>2020-12-31</th>\n      <td>1</td>\n      <td>-0.010073</td>\n      <td>-0.023971</td>\n      <td>0.034673</td>\n      <td>0.020260</td>\n      <td>1.925531</td>\n      <td>0.437192</td>\n      <td>-0.805446</td>\n      <td>0.433042</td>\n      <td>0.308289</td>\n      <td>1.464910</td>\n      <td>-0.457219</td>\n      <td>5.641957</td>\n      <td>-1.086001</td>\n      <td>-0.348249</td>\n      <td>0.584099</td>\n      <td>-1.973304</td>\n      <td>-6.321717</td>\n      <td>-1.803933</td>\n    </tr>\n    <tr>\n      <th>2021-03-31</th>\n      <td>1</td>\n      <td>0.067885</td>\n      <td>-0.010073</td>\n      <td>-0.023971</td>\n      <td>0.101655</td>\n      <td>2.044935</td>\n      <td>-0.329430</td>\n      <td>-1.383907</td>\n      <td>1.370767</td>\n      <td>0.020260</td>\n      <td>1.925531</td>\n      <td>0.437192</td>\n      <td>-0.805446</td>\n      <td>0.433042</td>\n      <td>0.308289</td>\n      <td>1.464910</td>\n      <td>-0.457219</td>\n      <td>5.641957</td>\n      <td>-1.086001</td>\n    </tr>\n    <tr>\n      <th>2021-06-30</th>\n      <td>1</td>\n      <td>0.060145</td>\n      <td>0.067885</td>\n      <td>-0.010073</td>\n      <td>0.735872</td>\n      <td>1.250376</td>\n      <td>0.079453</td>\n      <td>0.004009</td>\n      <td>-0.370191</td>\n      <td>0.101655</td>\n      <td>2.044935</td>\n      <td>-0.329430</td>\n      <td>-1.383907</td>\n      <td>1.370767</td>\n      <td>0.020260</td>\n      <td>1.925531</td>\n      <td>0.437192</td>\n      <td>-0.805446</td>\n      <td>0.433042</td>\n    </tr>\n    <tr>\n      <th>2021-09-30</th>\n      <td>1</td>\n      <td>0.042699</td>\n      <td>0.060145</td>\n      <td>0.067885</td>\n      <td>0.762292</td>\n      <td>-0.094079</td>\n      <td>-0.655773</td>\n      <td>-0.334434</td>\n      <td>0.316848</td>\n      <td>0.735872</td>\n      <td>1.250376</td>\n      <td>0.079453</td>\n      <td>0.004009</td>\n      <td>-0.370191</td>\n      <td>0.101655</td>\n      <td>2.044935</td>\n      <td>-0.329430</td>\n      <td>-1.383907</td>\n      <td>1.370767</td>\n    </tr>\n    <tr>\n      <th>2021-12-31</th>\n      <td>1</td>\n      <td>0.037591</td>\n      <td>0.042699</td>\n      <td>0.060145</td>\n      <td>0.979946</td>\n      <td>0.290227</td>\n      <td>0.273913</td>\n      <td>-1.027090</td>\n      <td>3.899498</td>\n      <td>0.762292</td>\n      <td>-0.094079</td>\n      <td>-0.655773</td>\n      <td>-0.334434</td>\n      <td>0.316848</td>\n      <td>0.735872</td>\n      <td>1.250376</td>\n      <td>0.079453</td>\n      <td>0.004009</td>\n      <td>-0.370191</td>\n    </tr>\n  </tbody>\n</table>\n<p>118 rows × 19 columns</p>\n</div>"
     },
     "execution_count": 56,
     "metadata": {},
     "output_type": "execute_result"
    }
   ],
   "source": [
    "dma.X"
   ],
   "metadata": {
    "collapsed": false,
    "pycharm": {
     "name": "#%%\n"
    }
   }
  },
  {
   "cell_type": "code",
   "execution_count": 56,
   "outputs": [],
   "source": [],
   "metadata": {
    "collapsed": false,
    "pycharm": {
     "name": "#%%\n"
    }
   }
  }
 ],
 "metadata": {
  "kernelspec": {
   "display_name": "Python 3",
   "language": "python",
   "name": "python3"
  },
  "language_info": {
   "codemirror_mode": {
    "name": "ipython",
    "version": 2
   },
   "file_extension": ".py",
   "mimetype": "text/x-python",
   "name": "python",
   "nbconvert_exporter": "python",
   "pygments_lexer": "ipython2",
   "version": "2.7.6"
  }
 },
 "nbformat": 4,
 "nbformat_minor": 0
}